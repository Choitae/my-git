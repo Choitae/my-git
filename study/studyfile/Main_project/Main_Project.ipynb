{
 "cells": [
  {
   "cell_type": "markdown",
   "id": "prescription-edinburgh",
   "metadata": {},
   "source": [
    "- input과 output\n",
    "- 중간에 어떤 기능들이 필요한지 정의 및 나열해보라\n",
    "- 즉,  input -> 1 -> 2 -> 3 -> output 일 때에 1,2,3에 들어가는 기술등을 나열해보라 -> 임무분담에도 좋음"
   ]
  },
  {
   "cell_type": "markdown",
   "id": "whole-lafayette",
   "metadata": {},
   "source": [
    "- 제안서 형식 \n",
    "  - 함축적으로 정렬하여, 한눈에 보기 쉽게 정리.\n",
    "  \n",
    "- 발표형 자료\n",
    "  - 한 페이지에 많은 내용 -> 보이지 않음\n",
    "  - 글자 양을 줄이고, 그림 양을 늘려 발표하는 내용을 보조하기 위한 용도. 발표할 내용을 다 집어넣지 않기."
   ]
  },
  {
   "cell_type": "markdown",
   "id": "opening-miniature",
   "metadata": {},
   "source": [
    "- 팜플릿 \n",
    "  - google에 free ppt template 검색.\n",
    "  - 프로그램이 진행되듯 ppt 만들기 "
   ]
  },
  {
   "cell_type": "markdown",
   "id": "anonymous-antarctica",
   "metadata": {},
   "source": []
  },
  {
   "cell_type": "markdown",
   "id": "legendary-change",
   "metadata": {},
   "source": []
  },
  {
   "cell_type": "markdown",
   "id": "standard-coating",
   "metadata": {},
   "source": []
  },
  {
   "cell_type": "markdown",
   "id": "adjusted-seminar",
   "metadata": {},
   "source": []
  },
  {
   "cell_type": "markdown",
   "id": "understood-modeling",
   "metadata": {},
   "source": []
  },
  {
   "cell_type": "markdown",
   "id": "meaningful-fitness",
   "metadata": {},
   "source": []
  },
  {
   "cell_type": "markdown",
   "id": "amino-sitting",
   "metadata": {},
   "source": []
  },
  {
   "cell_type": "markdown",
   "id": "listed-kennedy",
   "metadata": {},
   "source": []
  },
  {
   "cell_type": "markdown",
   "id": "polished-backup",
   "metadata": {},
   "source": []
  },
  {
   "cell_type": "markdown",
   "id": "charitable-creation",
   "metadata": {},
   "source": []
  }
 ],
 "metadata": {
  "kernelspec": {
   "display_name": "python38",
   "language": "python",
   "name": "py38"
  },
  "language_info": {
   "codemirror_mode": {
    "name": "ipython",
    "version": 3
   },
   "file_extension": ".py",
   "mimetype": "text/x-python",
   "name": "python",
   "nbconvert_exporter": "python",
   "pygments_lexer": "ipython3",
   "version": "3.8.5"
  }
 },
 "nbformat": 4,
 "nbformat_minor": 5
}
