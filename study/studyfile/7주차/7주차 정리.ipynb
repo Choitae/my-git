{
 "cells": [
  {
   "cell_type": "markdown",
   "metadata": {},
   "source": [
    "# 1일차\n",
    "### 오늘 공부 내용\n",
    "  - csv 파일 불러오기\n",
    "      - pd.read_csv()\n",
    "  - columns 확인하기\n",
    "      - 파일.columns[]\n",
    "  - columns 이름 바꾸기\n",
    "      - 파일.rename()\n",
    "  - excel 파일 불러오기\n",
    "      - pd.read_excel()\n",
    "  - 원하는 cell만 부르기\n",
    "      - pd.read_excel('',header = , usecols = '원하는 행')\n",
    "  - 불필요 행 지우기\n",
    "      - 파일.drop(, inplace=True)\n",
    "  - 파일 정렬하기\n",
    "      - 파일.sort_values(by= ,asending=False or  True)\n",
    "  - merge로 표 합치기\n",
    "      - pd.merge(a, b , on='key') key값 기준으로 표를 열 방향으로 합치는 것.\n",
    "      - pd.merge(a, b , how , on = 'key') 하나의 데이터를 ㅣ준으로 합치며, 없는 데이터는 Non. how에 outer = '모든 데이터', inner = '겹치는 데이터만'\n",
    "  - 불필요한 열 지우기\n",
    "      - del 데이터['열 이름']\n",
    "  - 하나의 열로 인덱스 지정하기\n",
    "      - datefram.set_index('')\n",
    "  - 그래프 그리기 \n",
    "      - matplotlib\n",
    "      - matplotlib.pyploy\n",
    "      - matplotlib.rcParams[] : 전역 글꼴 설정\n",
    "      - "
   ]
  },
  {
   "cell_type": "markdown",
   "metadata": {},
   "source": [
    "# 2일차\n",
    "### 오늘 공부 내용 (Exam 02 中 2021.01.12 부터)\n",
    "  - csv 파일 불러오기\n",
    "      - pd.read_csv()\n",
    "  - 데이터 재 정렬 시키기\n",
    "      - pd.pivot_table(데이터, index = '기준 잡을 내용', aggfunc='') aggfunc에는 mena = 평균, sum = 합계, min= 최솟값, median=중앙값, max='최댓값', count=개수, nunique = 중복을 제거한 후 원소 개수 가 들어갈 수 있다.\n",
    "      - 그런데, np.sum에서 어떤 데이터를 더하는 것인지가 헷갈린다. 이부분은 index 기준으로 정렬하기 때문에, 겹치는 index를 갖는 데이터의 값들을 모두 더해준다.\n",
    "      - 행 지우기 : del date이름['열 이름']\n",
    "   - 함수를 통해 정규화 시키기 \n",
    "       - from sklearn import preprocessing : #최대값, 최소값을 이용하여 정규화시키는 함수\n",
    "       - min_max_scaler = preprocessing.MinMaxScaler()\n",
    "       - x_scaled = min_max_scaler.fit_transform(x.astype(float))\n",
    "       - 열의 제일 큰 값을 기준으로 다음과 같은 예시와 함께 실행된다.\n",
    "          - 범죄 X\n",
    "          - 범죄 발생건수 Xi\n",
    "          - (Xi -min(X))/(max(X)-min(X))\n",
    "    - DataFrame 생성하기\n",
    "        - pd.DataFrame(데이터, 행= , index)\n",
    "    - matplotlib.pyplot와 seaborn 이용하여 그래프 그리기.\n",
    "        - seaborn은 matplotlib를 기본으로 해서 토계 분석을 목적으로 그래프를 더 쉽게 그릴수 있도록 래핑한 모듈. 흔히 sns로 사용\n",
    "        - sns.set_style(\"white\") #\"dark\", \"whitegrid\", \"darkgrid\"\n",
    "        - sns.despine(offset=10) # 시작 그래프를 우측으로 10만큼 이동\n",
    "        - sns.load_dataset(\"tips\") # 세팅되어있는 DataFreme 가져오기\n",
    "        - sns.boxplot(x=tips[\"total_bill\"]) #boxplot 가져오기. 중앙의 선은 중위값 (!/4)을 의미한다. \n",
    "        - sns.boxplot(x=\"day\", y=\"total_bill\", hue=\"smoker\", data=tips, palette=\"Set3\") #여기서 hue에 카테고리 변수 이름을 지정하여 카테고리 값에 따라 색상을 다르게 할 수 있다.\n",
    "        - sns.swarmplot(x=\"day\", y=\"total_bill\", data=tips,color = \".25\") # 점 형식으로 그래프를 생성\n",
    "        - sns.lmplot(x=\"total_bill\", y='tip', data=tips, height=7) #size가 height으로 변경됨. x축, y축 좌표 사이의 점으로 표시한 시각화. 도표안에는 추세선(회기선)이 표기되어 있다. \n",
    "        - lmpolt(.., palette) 와 같이 palette가 나올 때에는 level 값에 따라 다른 칼라를 쓸 수 있다. palette='Set1\" #Set2 #Set3 ...\n",
    "        - pivot table : 데이터를 요약하는 방법, 자동 취합, 정렬, 카운트, 평균 구하기 등이 가능\n",
    "        - heatmap(데이터, annot = , fmt) # data, annot : 실제값표시, fmt : 소수 몇재짜리까지\n",
    "        - sns.pairplot(iris) # 컬럼과 컬럼사이의 관계를 알 수 있는 그래프를 한번에 그리기. 막대그래프틑 히스토그램(도수 분포를 나타냄.)\n",
    "     - 지도 가져오기\n",
    "         - folium 함수 호출하기\n",
    "         - folium.Map(location=[45.5236, -122.6750]ㅡ tiles='Stamen Toner',popup='Mt. Hood Meadows', zoom_start=13, icon=folium.Icon(icon='cloud') # 경도, 위도 / tiles 화면 형태 조정 #Stamen Toner, Stamen Terrain 등 / popup 누르면 이름뜨게 설정/ zoom_start 확대하기, icon 표시 아이콘 생성\n",
    "         - folium.CircleMarker([45.5215, -122.6261], radius=50, popup='Laurelhurst Park', color='#3186cc', fill_color='#3186cc', ).add_to(map_2) #원형으로 구역 표시하기. 경도,위도 / 지름/ popup/ color 색깔 / fill_color 원 내부 색깔\n",
    "         - folium.RegularPolygonMarker([45.5318, -122.6745], popup= 'Broadway Bridge', fill_color = '#769d96', number_of_sides=8, radius=10).add_to(map_5)  #fill_color 내부 색 변경 #number_of_sides 8이면 8각형 도형 생성.\n",
    "         - folium.Choropleth(geo_data=state_geo, data = state_data,\n",
    "              columns=['State', 'Unemployment'],#데이터\n",
    "              key_on = 'feature.id',#키값\n",
    "              fill_color='YlGn',#색깔\n",
    "              legend_name='Unemployment Rate(%)').add_to(map) #데이터를 이용하여 지도에 그림만들기\n",
    "         - json : 데이터를 저장하고 교환하기 위한 구문.  dictionary와 같이 key-value 쌍으로 값을 갖는 동일한 형태.\n",
    "     - Beautifulsoap를 이용한 크롤링\n",
    "         - from bs4 import BeautifulSoup\n",
    "         - from urllib.request import urlopen\n",
    "         - url을 입력하고 urlopen(url)을 통해 열어주기\n",
    "             - ※ 특정 사이트는 크롤링 방지를 해뒀다. 그러면? \n",
    "             - hdr = {'User-Agent' : 'Mozilla/5.0'}, req = Request(url, headers = hdr) 와 같이 설정해주면 웹페이지에서 여는 효과 발동.\n",
    "         - soup = BeautifulSoup(page, 'html.parser') BeutifulSoup로 객체화.\n",
    "         - print(soup.prettify())\n",
    "         - soup.find_all('div','sammy') #soup의 find_all을 이용하여 div에서 sammy가 들어간 문자열 찾기\n",
    "         - tmp_one.find(class_=\"sammyRank\").get_text() # soup 타입의 tmp_one에서 soup 함수 find로 원하는 구문을 찾고, 그 중 text를 추출해낸다.\n",
    "         - re.split(('\\n|\\r\\w'),tmp_string) #| => (shift + \\ 로 or의 의미를 준다) # 정규표현식으로 나누기\n",
    "         - #두개의 Url을 합쳐준다 urljoin\n",
    "         - from urllib.parse import urljoin\n",
    "         "
   ]
  },
  {
   "cell_type": "code",
   "execution_count": null,
   "metadata": {},
   "outputs": [],
   "source": []
  },
  {
   "cell_type": "code",
   "execution_count": null,
   "metadata": {},
   "outputs": [],
   "source": []
  },
  {
   "cell_type": "code",
   "execution_count": null,
   "metadata": {},
   "outputs": [],
   "source": []
  },
  {
   "cell_type": "code",
   "execution_count": null,
   "metadata": {},
   "outputs": [],
   "source": []
  },
  {
   "cell_type": "code",
   "execution_count": null,
   "metadata": {},
   "outputs": [],
   "source": []
  }
 ],
 "metadata": {
  "kernelspec": {
   "display_name": "Python 3",
   "language": "python",
   "name": "python3"
  },
  "language_info": {
   "codemirror_mode": {
    "name": "ipython",
    "version": 3
   },
   "file_extension": ".py",
   "mimetype": "text/x-python",
   "name": "python",
   "nbconvert_exporter": "python",
   "pygments_lexer": "ipython3",
   "version": "3.6.12"
  }
 },
 "nbformat": 4,
 "nbformat_minor": 4
}
