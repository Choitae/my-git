{
 "cells": [
  {
   "cell_type": "code",
   "execution_count": 1,
   "metadata": {},
   "outputs": [
    {
     "name": "stdin",
     "output_type": "stream",
     "text": [
      "문장 입력 \"Hello World\"\n"
     ]
    },
    {
     "name": "stdout",
     "output_type": "stream",
     "text": [
      "\"Hello World\"\n"
     ]
    }
   ],
   "source": [
    "with open('reversed_txt.txt', 'w', encoding='utf8') as file : \n",
    "    sentence = input(\"문장 입력\")\n",
    "    file.write(sentence)\n",
    "print(sentence)"
   ]
  },
  {
   "cell_type": "code",
   "execution_count": 56,
   "metadata": {},
   "outputs": [],
   "source": [
    "# 문자 역순 함수\n",
    "def cng_wd(sen) :\n",
    "    wid = len(sen)\n",
    "    othersen = []\n",
    "    for i in range(wid):\n",
    "        othersen.append(sen[wid-1-i])\n",
    "    print_sent = \"\"\n",
    "    for i in range (len(othersen)):\n",
    "        print_sent = print_sent + othersen[i]\n",
    "    print(print_sent)"
   ]
  },
  {
   "cell_type": "code",
   "execution_count": 58,
   "metadata": {},
   "outputs": [
    {
     "name": "stdout",
     "output_type": "stream",
     "text": [
      "dlrow olleh\n"
     ]
    }
   ],
   "source": [
    "cng_wd(\"hello world\")"
   ]
  },
  {
   "cell_type": "code",
   "execution_count": 59,
   "metadata": {},
   "outputs": [],
   "source": [
    "def count_wd(sen) : \n",
    "    return len(sen.split())"
   ]
  },
  {
   "cell_type": "code",
   "execution_count": 54,
   "metadata": {},
   "outputs": [],
   "source": [
    "# 문자수 세는 함수 작성. a,b,c,d,e,f,g,h,~,z`\n",
    "def count_spel(sen) : \n",
    "    find_wd = []\n",
    "    for i in sen :\n",
    "        if i.isalpha() == True:\n",
    "            find_wd.append(i)\n",
    "    alpat = \"abcdefghijklmnopqrstuvwxyz\"        \n",
    "    cnt_wd = []\n",
    "    for i in alpat:\n",
    "        cnt = 0\n",
    "        for j in sen : \n",
    "            if i == j :\n",
    "                cnt += 1\n",
    "        print(\"{}는 {:2d}개\".format(i, cnt))\n",
    "              "
   ]
  },
  {
   "cell_type": "code",
   "execution_count": 55,
   "metadata": {},
   "outputs": [
    {
     "name": "stdout",
     "output_type": "stream",
     "text": [
      "a는  0개\n",
      "b는  0개\n",
      "c는  0개\n",
      "d는  1개\n",
      "e는  1개\n",
      "f는  0개\n",
      "g는  0개\n",
      "h는  1개\n",
      "i는  0개\n",
      "j는  0개\n",
      "k는  0개\n",
      "l는  3개\n",
      "m는  0개\n",
      "n는  0개\n",
      "o는  2개\n",
      "p는  0개\n",
      "q는  0개\n",
      "r는  1개\n",
      "s는  0개\n",
      "t는  0개\n",
      "u는  0개\n",
      "v는  0개\n",
      "w는  1개\n",
      "x는  0개\n",
      "y는  0개\n",
      "z는  0개\n"
     ]
    }
   ],
   "source": [
    "count_spel(\"hello world\")"
   ]
  },
  {
   "cell_type": "code",
   "execution_count": null,
   "metadata": {},
   "outputs": [],
   "source": []
  }
 ],
 "metadata": {
  "kernelspec": {
   "display_name": "Python 3",
   "language": "python",
   "name": "python3"
  },
  "language_info": {
   "codemirror_mode": {
    "name": "ipython",
    "version": 3
   },
   "file_extension": ".py",
   "mimetype": "text/x-python",
   "name": "python",
   "nbconvert_exporter": "python",
   "pygments_lexer": "ipython3",
   "version": "3.6.12"
  }
 },
 "nbformat": 4,
 "nbformat_minor": 4
}
