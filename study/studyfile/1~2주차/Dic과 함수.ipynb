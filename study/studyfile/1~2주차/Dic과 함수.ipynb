{
 "cells": [
  {
   "cell_type": "markdown",
   "metadata": {},
   "source": [
    "Dic"
   ]
  },
  {
   "cell_type": "code",
   "execution_count": 1,
   "metadata": {},
   "outputs": [],
   "source": [
    "score = {}"
   ]
  },
  {
   "cell_type": "code",
   "execution_count": 3,
   "metadata": {},
   "outputs": [],
   "source": [
    "scores = dict()"
   ]
  },
  {
   "cell_type": "code",
   "execution_count": 4,
   "metadata": {},
   "outputs": [
    {
     "data": {
      "text/plain": [
       "{'kor': 85, 'eng': 100, 'math': 100}"
      ]
     },
     "execution_count": 4,
     "metadata": {},
     "output_type": "execute_result"
    }
   ],
   "source": [
    "scores = {'kor':85, 'eng' : 100, 'math' : 100}\n",
    "scores"
   ]
  },
  {
   "cell_type": "code",
   "execution_count": 38,
   "metadata": {},
   "outputs": [
    {
     "data": {
      "text/plain": [
       "3"
      ]
     },
     "execution_count": 38,
     "metadata": {},
     "output_type": "execute_result"
    }
   ],
   "source": [
    "len(scores)"
   ]
  },
  {
   "cell_type": "code",
   "execution_count": 39,
   "metadata": {},
   "outputs": [
    {
     "data": {
      "text/plain": [
       "'math'"
      ]
     },
     "execution_count": 39,
     "metadata": {},
     "output_type": "execute_result"
    }
   ],
   "source": [
    "max(scores)"
   ]
  },
  {
   "cell_type": "code",
   "execution_count": 40,
   "metadata": {},
   "outputs": [
    {
     "data": {
      "text/plain": [
       "85"
      ]
     },
     "execution_count": 40,
     "metadata": {},
     "output_type": "execute_result"
    }
   ],
   "source": [
    "scores['kor']"
   ]
  },
  {
   "cell_type": "code",
   "execution_count": 10,
   "metadata": {},
   "outputs": [],
   "source": [
    "scores['kor'] = 0"
   ]
  },
  {
   "cell_type": "code",
   "execution_count": 11,
   "metadata": {},
   "outputs": [
    {
     "data": {
      "text/plain": [
       "{'kor': 0, 'eng': 100, 'math': 100}"
      ]
     },
     "execution_count": 11,
     "metadata": {},
     "output_type": "execute_result"
    }
   ],
   "source": [
    "scores"
   ]
  },
  {
   "cell_type": "code",
   "execution_count": 12,
   "metadata": {},
   "outputs": [
    {
     "data": {
      "text/plain": [
       "{'kor': 0, 'eng': 100, 'math': 100, 'test': 100}"
      ]
     },
     "execution_count": 12,
     "metadata": {},
     "output_type": "execute_result"
    }
   ],
   "source": [
    "scores['test'] = 100\n",
    "scores"
   ]
  },
  {
   "cell_type": "code",
   "execution_count": 13,
   "metadata": {},
   "outputs": [
    {
     "data": {
      "text/plain": [
       "{'kor': 0, 'eng': 100, 'math': 100, 'test': {}}"
      ]
     },
     "execution_count": 13,
     "metadata": {},
     "output_type": "execute_result"
    }
   ],
   "source": [
    "scores['test'] = {} #delete 2번째는 안됌\n",
    "scores"
   ]
  },
  {
   "cell_type": "code",
   "execution_count": 14,
   "metadata": {},
   "outputs": [
    {
     "data": {
      "text/plain": [
       "{'kor': 0, 'eng': 100, 'math': 100}"
      ]
     },
     "execution_count": 14,
     "metadata": {},
     "output_type": "execute_result"
    }
   ],
   "source": [
    "del scores['test'] #del 함수로는 삭제가 가능\n",
    "scores"
   ]
  },
  {
   "cell_type": "code",
   "execution_count": 21,
   "metadata": {},
   "outputs": [
    {
     "name": "stdout",
     "output_type": "stream",
     "text": [
      "0 kor 85\n",
      "1 eng 100\n",
      "2 math 100\n"
     ]
    }
   ],
   "source": [
    "scores = {'kor':85, 'eng' : 100, 'math' : 100}\n",
    "\n",
    "for i, key in enumerate(scores):\n",
    "    print(i, key, scores.get(key))"
   ]
  },
  {
   "cell_type": "code",
   "execution_count": 22,
   "metadata": {},
   "outputs": [
    {
     "data": {
      "text/plain": [
       "85"
      ]
     },
     "execution_count": 22,
     "metadata": {},
     "output_type": "execute_result"
    }
   ],
   "source": [
    "scores['kor'] #scores_get('kor')"
   ]
  },
  {
   "cell_type": "code",
   "execution_count": 23,
   "metadata": {},
   "outputs": [
    {
     "name": "stdout",
     "output_type": "stream",
     "text": [
      "kor 85\n",
      "eng 100\n",
      "math 100\n"
     ]
    }
   ],
   "source": [
    "for k,v in scores.items():\n",
    "    print(k,v)"
   ]
  },
  {
   "cell_type": "code",
   "execution_count": 24,
   "metadata": {},
   "outputs": [
    {
     "name": "stdout",
     "output_type": "stream",
     "text": [
      "0 1\n",
      "1 abc\n",
      "2 30\n",
      "3 40\n",
      "4 50\n"
     ]
    }
   ],
   "source": [
    "li = ['1', 'abc', 30, 40, 50]\n",
    "for i, k in enumerate(li):\n",
    "    print(i, k)"
   ]
  },
  {
   "cell_type": "code",
   "execution_count": 26,
   "metadata": {},
   "outputs": [
    {
     "name": "stdout",
     "output_type": "stream",
     "text": [
      "합계는 : 269\n",
      "평균은 : 89.67\n"
     ]
    }
   ],
   "source": [
    "scores = {'김예찬' : 90, '박영찬' : 95, '김소희' : 84}\n",
    "\n",
    "addon = 0\n",
    "cunt  = 0\n",
    "\n",
    "for k,v in scores.items():\n",
    "    addon += v\n",
    "    cunt += 1\n",
    "\n",
    "aver = addon / cunt\n",
    "print(\"합계는 : %d\" %addon)\n",
    "print(\"평균은 : %.2f\" %aver)"
   ]
  },
  {
   "cell_type": "code",
   "execution_count": 37,
   "metadata": {},
   "outputs": [
    {
     "name": "stdin",
     "output_type": "stream",
     "text": [
      "아이디를 입력하세요 :  admin\n",
      "비밀번호를 입력하세요 :  11111\n"
     ]
    },
    {
     "name": "stdout",
     "output_type": "stream",
     "text": [
      "모든 정보에 접근 가능합니다!\n"
     ]
    },
    {
     "name": "stdin",
     "output_type": "stream",
     "text": [
      "아이디를 입력하세요 :  admin\n",
      "비밀번호를 입력하세요 :  22\n"
     ]
    },
    {
     "name": "stdout",
     "output_type": "stream",
     "text": [
      "정보에 접근 권한이 없습니다!\n"
     ]
    },
    {
     "ename": "KeyboardInterrupt",
     "evalue": "Interrupted by user",
     "output_type": "error",
     "traceback": [
      "\u001b[1;31m---------------------------------------------------------------------------\u001b[0m",
      "\u001b[1;31mKeyboardInterrupt\u001b[0m                         Traceback (most recent call last)",
      "\u001b[1;32m<ipython-input-37-6b6bdf7066af>\u001b[0m in \u001b[0;36m<module>\u001b[1;34m\u001b[0m\n\u001b[0;32m      2\u001b[0m \u001b[0muser\u001b[0m \u001b[1;33m=\u001b[0m \u001b[1;33m{\u001b[0m\u001b[1;34m'id'\u001b[0m \u001b[1;33m:\u001b[0m \u001b[1;36m0\u001b[0m\u001b[1;33m,\u001b[0m \u001b[1;34m'pw'\u001b[0m \u001b[1;33m:\u001b[0m \u001b[1;36m0\u001b[0m \u001b[1;33m}\u001b[0m\u001b[1;33m\u001b[0m\u001b[1;33m\u001b[0m\u001b[0m\n\u001b[0;32m      3\u001b[0m \u001b[1;32mwhile\u001b[0m \u001b[1;32mTrue\u001b[0m\u001b[1;33m:\u001b[0m\u001b[1;33m\u001b[0m\u001b[1;33m\u001b[0m\u001b[0m\n\u001b[1;32m----> 4\u001b[1;33m     \u001b[0muser\u001b[0m\u001b[1;33m[\u001b[0m\u001b[1;34m'id'\u001b[0m\u001b[1;33m]\u001b[0m \u001b[1;33m=\u001b[0m \u001b[0minput\u001b[0m\u001b[1;33m(\u001b[0m\u001b[1;34m\"아이디를 입력하세요 : \"\u001b[0m\u001b[1;33m)\u001b[0m\u001b[1;33m\u001b[0m\u001b[1;33m\u001b[0m\u001b[0m\n\u001b[0m\u001b[0;32m      5\u001b[0m     \u001b[0muser\u001b[0m\u001b[1;33m[\u001b[0m\u001b[1;34m'pw'\u001b[0m\u001b[1;33m]\u001b[0m \u001b[1;33m=\u001b[0m \u001b[0minput\u001b[0m\u001b[1;33m(\u001b[0m\u001b[1;34m\"비밀번호를 입력하세요 : \"\u001b[0m\u001b[1;33m)\u001b[0m\u001b[1;33m\u001b[0m\u001b[1;33m\u001b[0m\u001b[0m\n\u001b[0;32m      6\u001b[0m     \u001b[1;32mif\u001b[0m \u001b[0mcor\u001b[0m\u001b[1;33m[\u001b[0m\u001b[1;34m'id'\u001b[0m\u001b[1;33m]\u001b[0m \u001b[1;33m==\u001b[0m \u001b[0muser\u001b[0m\u001b[1;33m[\u001b[0m\u001b[1;34m'id'\u001b[0m\u001b[1;33m]\u001b[0m \u001b[1;32mand\u001b[0m \u001b[0mcor\u001b[0m\u001b[1;33m[\u001b[0m\u001b[1;34m'pw'\u001b[0m\u001b[1;33m]\u001b[0m \u001b[1;33m==\u001b[0m \u001b[0muser\u001b[0m\u001b[1;33m[\u001b[0m\u001b[1;34m'pw'\u001b[0m\u001b[1;33m]\u001b[0m \u001b[1;33m:\u001b[0m\u001b[1;33m\u001b[0m\u001b[1;33m\u001b[0m\u001b[0m\n",
      "\u001b[1;32m~\\.conda\\envs\\python36\\lib\\site-packages\\ipykernel\\kernelbase.py\u001b[0m in \u001b[0;36mraw_input\u001b[1;34m(self, prompt)\u001b[0m\n\u001b[0;32m    858\u001b[0m                 \u001b[1;34m\"raw_input was called, but this frontend does not support input requests.\"\u001b[0m\u001b[1;33m\u001b[0m\u001b[1;33m\u001b[0m\u001b[0m\n\u001b[0;32m    859\u001b[0m             )\n\u001b[1;32m--> 860\u001b[1;33m         return self._input_request(str(prompt),\n\u001b[0m\u001b[0;32m    861\u001b[0m             \u001b[0mself\u001b[0m\u001b[1;33m.\u001b[0m\u001b[0m_parent_ident\u001b[0m\u001b[1;33m,\u001b[0m\u001b[1;33m\u001b[0m\u001b[1;33m\u001b[0m\u001b[0m\n\u001b[0;32m    862\u001b[0m             \u001b[0mself\u001b[0m\u001b[1;33m.\u001b[0m\u001b[0m_parent_header\u001b[0m\u001b[1;33m,\u001b[0m\u001b[1;33m\u001b[0m\u001b[1;33m\u001b[0m\u001b[0m\n",
      "\u001b[1;32m~\\.conda\\envs\\python36\\lib\\site-packages\\ipykernel\\kernelbase.py\u001b[0m in \u001b[0;36m_input_request\u001b[1;34m(self, prompt, ident, parent, password)\u001b[0m\n\u001b[0;32m    902\u001b[0m             \u001b[1;32mexcept\u001b[0m \u001b[0mKeyboardInterrupt\u001b[0m\u001b[1;33m:\u001b[0m\u001b[1;33m\u001b[0m\u001b[1;33m\u001b[0m\u001b[0m\n\u001b[0;32m    903\u001b[0m                 \u001b[1;31m# re-raise KeyboardInterrupt, to truncate traceback\u001b[0m\u001b[1;33m\u001b[0m\u001b[1;33m\u001b[0m\u001b[1;33m\u001b[0m\u001b[0m\n\u001b[1;32m--> 904\u001b[1;33m                 \u001b[1;32mraise\u001b[0m \u001b[0mKeyboardInterrupt\u001b[0m\u001b[1;33m(\u001b[0m\u001b[1;34m\"Interrupted by user\"\u001b[0m\u001b[1;33m)\u001b[0m \u001b[1;32mfrom\u001b[0m \u001b[1;32mNone\u001b[0m\u001b[1;33m\u001b[0m\u001b[1;33m\u001b[0m\u001b[0m\n\u001b[0m\u001b[0;32m    905\u001b[0m             \u001b[1;32mexcept\u001b[0m \u001b[0mException\u001b[0m \u001b[1;32mas\u001b[0m \u001b[0me\u001b[0m\u001b[1;33m:\u001b[0m\u001b[1;33m\u001b[0m\u001b[1;33m\u001b[0m\u001b[0m\n\u001b[0;32m    906\u001b[0m                 \u001b[0mself\u001b[0m\u001b[1;33m.\u001b[0m\u001b[0mlog\u001b[0m\u001b[1;33m.\u001b[0m\u001b[0mwarning\u001b[0m\u001b[1;33m(\u001b[0m\u001b[1;34m\"Invalid Message:\"\u001b[0m\u001b[1;33m,\u001b[0m \u001b[0mexc_info\u001b[0m\u001b[1;33m=\u001b[0m\u001b[1;32mTrue\u001b[0m\u001b[1;33m)\u001b[0m\u001b[1;33m\u001b[0m\u001b[1;33m\u001b[0m\u001b[0m\n",
      "\u001b[1;31mKeyboardInterrupt\u001b[0m: Interrupted by user"
     ]
    }
   ],
   "source": [
    "cor = {'id' : 'admin', 'pw' : '11111'}\n",
    "user = {'id' : 0, 'pw' : 0 }\n",
    "while True:\n",
    "    user['id'] = input(\"아이디를 입력하세요 : \")\n",
    "    user['pw'] = input(\"비밀번호를 입력하세요 : \")\n",
    "    if cor['id'] == user['id'] and cor['pw'] == user['pw'] :\n",
    "        print(\"모든 정보에 접근 가능합니다!\")\n",
    "        break\n",
    "    else : \n",
    "        print(\"정보에 접근 권한이 없습니다!\")"
   ]
  },
  {
   "cell_type": "code",
   "execution_count": null,
   "metadata": {},
   "outputs": [],
   "source": [
    "scores = {'kor':85, 'eng' : 100, 'math' : 100}\n",
    "scores.keys()"
   ]
  },
  {
   "cell_type": "code",
   "execution_count": null,
   "metadata": {},
   "outputs": [],
   "source": [
    "scores = {'kor':85, 'eng' : 100, 'math' : 100}\n",
    "scores.values()"
   ]
  },
  {
   "cell_type": "code",
   "execution_count": null,
   "metadata": {},
   "outputs": [],
   "source": [
    "#key이 있는지 확인하기\n",
    "'kor' in scores"
   ]
  },
  {
   "cell_type": "code",
   "execution_count": null,
   "metadata": {},
   "outputs": [],
   "source": [
    "type(scores.get('k'))"
   ]
  },
  {
   "cell_type": "markdown",
   "metadata": {},
   "source": [
    "연습문제"
   ]
  },
  {
   "cell_type": "code",
   "execution_count": 45,
   "metadata": {},
   "outputs": [
    {
     "name": "stdout",
     "output_type": "stream",
     "text": [
      "1 . 아이디 :  kim99 , 마일리지 :  12000\n",
      "2 . 아이디 :  lee66 , 마일리지 :  11000\n",
      "3 . 아이디 :  han55 , 마일리지 :  3000\n",
      "4 . 아이디 :  hong77 , 마일리지 :  5000\n",
      "5 . 아이디 :  hwang33 , 마일리지 :  18000\n"
     ]
    }
   ],
   "source": [
    "#Q1\n",
    "shop = {'kim99': 12000, 'lee66' : 11000, 'han55' : 3000, 'hong77' : 5000, 'hwang33' : 18000}\n",
    "for i, k in enumerate(shop):\n",
    "        print(i+1,\". 아이디 : \",k,  \", 마일리지 : \" ,shop.get(k))"
   ]
  },
  {
   "cell_type": "code",
   "execution_count": 47,
   "metadata": {},
   "outputs": [
    {
     "name": "stdout",
     "output_type": "stream",
     "text": [
      "han55님의 마일리지가 5000 점으로 수정되었습니다\n"
     ]
    }
   ],
   "source": [
    "#Q2\n",
    "shop['han55'] = 5000\n",
    "print(\"han55님의 마일리지가\", shop['han55'],\"점으로 수정되었습니다\")"
   ]
  },
  {
   "cell_type": "code",
   "execution_count": 50,
   "metadata": {},
   "outputs": [
    {
     "name": "stdout",
     "output_type": "stream",
     "text": [
      "1 . 아이디 :  kim99 , 마일리지 :  12000\n",
      "2 . 아이디 :  lee66 , 마일리지 :  11000\n",
      "3 . 아이디 :  han55 , 마일리지 :  5000\n",
      "4 . 아이디 :  hong77 , 마일리지 :  5000\n",
      "5 . 아이디 :  hwang33 , 마일리지 :  18000\n",
      "6 . 아이디 :  jang88 , 마일리지 :  7000\n",
      "jang88님의 마일리지 7000 점이 추가되었습니다\n"
     ]
    }
   ],
   "source": [
    "#Q3\n",
    "shop['jang88'] = 7000\n",
    "\n",
    "for i, k in enumerate(shop):\n",
    "        print(i+1,\". 아이디 : \",k,  \", 마일리지 : \" ,shop.get(k))\n",
    "\n",
    "print(\"jang88님의 마일리지\",shop['jang88'],\"점이 추가되었습니다\")"
   ]
  },
  {
   "cell_type": "code",
   "execution_count": 63,
   "metadata": {},
   "outputs": [
    {
     "name": "stdout",
     "output_type": "stream",
     "text": [
      "hwang33님이 제일 높은 마일리지 18000을 가지고 있습니다\n"
     ]
    }
   ],
   "source": [
    "#Q4\n",
    "\"\"\"\n",
    "a = shop.values()\n",
    "max(a)\n",
    "\n",
    "\"\"\"\n",
    "name = 0\n",
    "high=0\n",
    "for k, v in shop.items():\n",
    "    if high < v:\n",
    "        high = v\n",
    "        name = k\n",
    "print(\"%s님이 제일 높은 마일리지 %d을 가지고 있습니다\" %(name, high))\n",
    "\n",
    "\n"
   ]
  },
  {
   "cell_type": "code",
   "execution_count": 87,
   "metadata": {},
   "outputs": [
    {
     "name": "stdin",
     "output_type": "stream",
     "text": [
      "온도 :  25.5\n",
      "요일 :  월\n",
      "온도 :  28.3\n",
      "요일 :  화\n",
      "온도 :  33.2\n",
      "요일 :  수\n",
      "온도 :  32.1\n",
      "요일 :  목\n",
      "온도 :  17.3\n",
      "요일 :  금\n",
      "온도 :  35.3\n",
      "요일 :  토\n",
      "온도 :  33.3\n",
      "요일 :  일\n"
     ]
    },
    {
     "name": "stdout",
     "output_type": "stream",
     "text": [
      "------------------------------\n",
      "월 화 수 목 금 토 일 \n",
      "------------------------------\n",
      "['25.5'] ['28.3'] ['33.2'] ['32.1'] ['17.3'] ['35.3'] ['33.3'] \n",
      "------------------------------\n"
     ]
    }
   ],
   "source": [
    "# Q5\n",
    "week = {}\n",
    "while True : \n",
    "    week[input(\"요일 : \")] = [input(\"온도 : \")]\n",
    "    if (len(week) == 7):\n",
    "        print('-'*30)\n",
    "        for key in week:\n",
    "            print(key, end=\" \")\n",
    "        print()\n",
    "        print('-'*30)\n",
    "        for key in week:\n",
    "            print(week[key], end=\" \")\n",
    "        print()\n",
    "        print('-'*30)\n",
    "        break\n",
    "            "
   ]
  },
  {
   "cell_type": "code",
   "execution_count": 88,
   "metadata": {},
   "outputs": [
    {
     "name": "stdout",
     "output_type": "stream",
     "text": [
      "{'월': ['25.5'], '화': ['28.3'], '수': ['33.2'], '목': ['32.1'], '금': ['17.3'], '토': ['35.3'], '일': ['33.3']}\n"
     ]
    }
   ],
   "source": [
    "print(week)"
   ]
  },
  {
   "cell_type": "code",
   "execution_count": 73,
   "metadata": {},
   "outputs": [
    {
     "name": "stdout",
     "output_type": "stream",
     "text": [
      "\n",
      "------------------------------\n"
     ]
    }
   ],
   "source": [
    "print()\n",
    "print('-'*30)\n",
    "    "
   ]
  },
  {
   "cell_type": "markdown",
   "metadata": {},
   "source": [
    "함수"
   ]
  },
  {
   "cell_type": "code",
   "execution_count": 76,
   "metadata": {},
   "outputs": [
    {
     "name": "stdout",
     "output_type": "stream",
     "text": [
      "안녕하세요\n",
      "안녕하세요\n",
      "안녕하세요\n"
     ]
    }
   ],
   "source": [
    "def hello():\n",
    "    print(\"안녕하세요\")\n",
    "    \n",
    "hello()\n",
    "hello()\n",
    "hello()"
   ]
  },
  {
   "cell_type": "code",
   "execution_count": 79,
   "metadata": {},
   "outputs": [
    {
     "data": {
      "text/plain": [
       "function"
      ]
     },
     "execution_count": 79,
     "metadata": {},
     "output_type": "execute_result"
    }
   ],
   "source": [
    "type(hello)"
   ]
  },
  {
   "cell_type": "code",
   "execution_count": 80,
   "metadata": {},
   "outputs": [
    {
     "data": {
      "text/plain": [
       "builtin_function_or_method"
      ]
     },
     "execution_count": 80,
     "metadata": {},
     "output_type": "execute_result"
    }
   ],
   "source": [
    "type(print)"
   ]
  },
  {
   "cell_type": "code",
   "execution_count": 81,
   "metadata": {},
   "outputs": [],
   "source": [
    "def world():\n",
    "    print(\"헬로 월..드\")"
   ]
  },
  {
   "cell_type": "code",
   "execution_count": 82,
   "metadata": {},
   "outputs": [
    {
     "name": "stdout",
     "output_type": "stream",
     "text": [
      "헬로 월..드\n"
     ]
    }
   ],
   "source": [
    "world()"
   ]
  },
  {
   "cell_type": "code",
   "execution_count": 85,
   "metadata": {},
   "outputs": [
    {
     "name": "stdout",
     "output_type": "stream",
     "text": [
      "1 11 1.0\n"
     ]
    }
   ],
   "source": [
    "def hello(a,b,c):\n",
    "    print(a,b,c)"
   ]
  },
  {
   "cell_type": "code",
   "execution_count": 86,
   "metadata": {},
   "outputs": [
    {
     "name": "stdout",
     "output_type": "stream",
     "text": [
      "[1, 2, 3] {'key': 'value'} (2, 3, 4, 5)\n"
     ]
    }
   ],
   "source": [
    "hello([1,2,3], {\"key\" :  \"value\"}, (2,3,4,5))"
   ]
  },
  {
   "cell_type": "code",
   "execution_count": 93,
   "metadata": {},
   "outputs": [],
   "source": [
    "#짝수 홀수 나누는 함수 만들기\n",
    "def even_odd(num) : \n",
    "    if num % 2 == 0:\n",
    "        print(\"%d는 짝수\" %num)\n",
    "    elif num % 2 !=0:\n",
    "        print(\"%d는 홀수\" %num)\n",
    "    else : \n",
    "        print(num,\"은 숫자가 아닙니다\")\n",
    "\n"
   ]
  },
  {
   "cell_type": "code",
   "execution_count": 94,
   "metadata": {},
   "outputs": [
    {
     "name": "stdout",
     "output_type": "stream",
     "text": [
      "7는 홀수\n",
      "6는 짝수\n"
     ]
    }
   ],
   "source": [
    "even_odd(7)\n",
    "even_odd(6)"
   ]
  },
  {
   "cell_type": "code",
   "execution_count": 3,
   "metadata": {},
   "outputs": [
    {
     "name": "stdout",
     "output_type": "stream",
     "text": [
      "3 과목의 합은 170 이며 평균은 57입니다\n",
      "6 과목의 합은 458 이며 평균은 76입니다\n",
      "7 과목의 합은 524 이며 평균은 75입니다\n"
     ]
    }
   ],
   "source": [
    "def average(*scores) : \n",
    "    addon = 0\n",
    "    for x in range (len(scores)):\n",
    "        addon += scores[x]\n",
    "        \n",
    "    aver = addon / len(scores)\n",
    "    print(\"%d 과목의 합은 %d 이며 평균은 %.f입니다\" %(len(scores), addon, aver))\n",
    "\n",
    "average(80,70,20)\n",
    "average(90,80,70,50,70,98)\n",
    "average(98,87,54,87,21,87,90)"
   ]
  },
  {
   "cell_type": "code",
   "execution_count": 4,
   "metadata": {},
   "outputs": [],
   "source": [
    "#입력값이 없을 땐? return\n",
    "def average(*scores) : \n",
    "    if len(scores) <= 0:\n",
    "        return\n",
    "    addon = 0\n",
    "    for x in range (len(scores)):\n",
    "        addon += scores[x]\n",
    "        \n",
    "    aver = addon / len(scores)\n",
    "    print(\"%d 과목의 합은 %d 이며 평균은 %.f입니다\" %(len(scores), addon, aver))"
   ]
  },
  {
   "cell_type": "code",
   "execution_count": 5,
   "metadata": {},
   "outputs": [],
   "source": [
    "average()"
   ]
  },
  {
   "cell_type": "code",
   "execution_count": 8,
   "metadata": {},
   "outputs": [],
   "source": [
    "def hello(*args) :\n",
    "    print(args)"
   ]
  },
  {
   "cell_type": "code",
   "execution_count": 9,
   "metadata": {},
   "outputs": [
    {
     "name": "stdout",
     "output_type": "stream",
     "text": [
      "(3, 5, 6)\n"
     ]
    }
   ],
   "source": [
    "hello(3,5,6)"
   ]
  },
  {
   "cell_type": "code",
   "execution_count": 10,
   "metadata": {},
   "outputs": [
    {
     "name": "stdout",
     "output_type": "stream",
     "text": [
      "([1, 4, 7], [2, 7, 0])\n"
     ]
    }
   ],
   "source": [
    "hello([1,4,7], [2,7,0])"
   ]
  },
  {
   "cell_type": "code",
   "execution_count": 24,
   "metadata": {},
   "outputs": [],
   "source": [
    "def func(x):\n",
    "    x = 100\n",
    "    print('func() : x= ', x, ', id = ',id(x))"
   ]
  },
  {
   "cell_type": "code",
   "execution_count": 25,
   "metadata": {},
   "outputs": [
    {
     "name": "stdout",
     "output_type": "stream",
     "text": [
      "메인 : x =  10 ,id =  140713475123264\n"
     ]
    }
   ],
   "source": [
    "x = 10\n",
    "print('메인 : x = ',x, ',id = ', id(x) )"
   ]
  },
  {
   "cell_type": "code",
   "execution_count": 26,
   "metadata": {},
   "outputs": [
    {
     "name": "stdout",
     "output_type": "stream",
     "text": [
      "func() : x=  100 , id =  140713475126144\n"
     ]
    }
   ],
   "source": [
    "func(x)"
   ]
  },
  {
   "cell_type": "code",
   "execution_count": 28,
   "metadata": {},
   "outputs": [],
   "source": [
    "\n",
    "def func(x):\n",
    "    x[0] = 100\n",
    "    print('func() : x= ', x, ', id = ',id(x))"
   ]
  },
  {
   "cell_type": "code",
   "execution_count": 31,
   "metadata": {},
   "outputs": [
    {
     "name": "stdout",
     "output_type": "stream",
     "text": [
      "메인 : x =  [1, 2, 3] ,id =  1425603016512\n"
     ]
    }
   ],
   "source": [
    "x = [1,2,3]\n",
    "print('메인 : x = ',x, ',id = ', id(x) )"
   ]
  },
  {
   "cell_type": "code",
   "execution_count": 32,
   "metadata": {},
   "outputs": [
    {
     "name": "stdout",
     "output_type": "stream",
     "text": [
      "func() : x=  [100, 2, 3] , id =  1425603016512\n",
      "메인 : x =  [100, 2, 3] ,id =  1425603016512\n"
     ]
    }
   ],
   "source": [
    "func(x)\n",
    "print('메인 : x = ',x, ',id = ', id(x) )"
   ]
  },
  {
   "cell_type": "code",
   "execution_count": 36,
   "metadata": {},
   "outputs": [
    {
     "name": "stdin",
     "output_type": "stream",
     "text": [
      "원의 반지름은 :  4\n"
     ]
    },
    {
     "name": "stdout",
     "output_type": "stream",
     "text": [
      "반지름 4인 원의 넓이는 50.27 이다\n"
     ]
    },
    {
     "name": "stdin",
     "output_type": "stream",
     "text": [
      "원의 반지름은 :  5\n"
     ]
    },
    {
     "name": "stdout",
     "output_type": "stream",
     "text": [
      "반지름 5인 원의 넓이는 78.54\n"
     ]
    }
   ],
   "source": [
    "def circle(r):\n",
    "    area = r*r*3.141592\n",
    "    return area\n",
    "\n",
    "r_a = int(input(\"원의 반지름은 : \"))\n",
    "print(\"반지름 %d인 원의 넓이는 %.2f 이다\" %(r_a, circle(r_a)))\n",
    "\n",
    "r_b = int(input(\"원의 반지름은 : \"))\n",
    "print(\"반지름 %d인 원의 넓이는 %.2f\" %(r_b, circle(r_b)))"
   ]
  },
  {
   "cell_type": "code",
   "execution_count": 43,
   "metadata": {},
   "outputs": [],
   "source": [
    "#Q7-1\n",
    "def addon(start, end):\n",
    "    retnum = 0\n",
    "    for i in range (start, end +1):\n",
    "        retnum += i\n",
    "    print(\"정수 합계  : %d\" %retnum)"
   ]
  },
  {
   "cell_type": "code",
   "execution_count": 45,
   "metadata": {},
   "outputs": [
    {
     "name": "stdout",
     "output_type": "stream",
     "text": [
      "정수 합계  : 5005\n"
     ]
    }
   ],
   "source": [
    "addon(10, 100)"
   ]
  },
  {
   "cell_type": "code",
   "execution_count": 46,
   "metadata": {},
   "outputs": [
    {
     "name": "stdout",
     "output_type": "stream",
     "text": [
      "정수 합계  : 495550\n"
     ]
    }
   ],
   "source": [
    "addon(100, 1000)"
   ]
  },
  {
   "cell_type": "code",
   "execution_count": 48,
   "metadata": {},
   "outputs": [
    {
     "name": "stdout",
     "output_type": "stream",
     "text": [
      "정수 합계  : 49505500\n"
     ]
    }
   ],
   "source": [
    "addon(1000, 10000)"
   ]
  },
  {
   "cell_type": "code",
   "execution_count": 85,
   "metadata": {},
   "outputs": [],
   "source": [
    "#Q7-2\n",
    "#시작 수 입력, 끝 수 입력, 합계를 구할 배수 입력, 시작수 ~ 끝수 의 정수 중 x배수의 합 : 결과\n",
    "\n",
    "def othersum(*args):\n",
    "    startnum = int(input(\"시작 수 : \"))\n",
    "    endnum = int(input(\"끝 수 : \"))\n",
    "    width = int(input(\"배수 : \"))\n",
    "    result = 0\n",
    "    for x in range(startnum, endnum +1):\n",
    "        if x % width == 0:\n",
    "            result += x\n",
    "        \n",
    "    print(\"%d부터 %d의 정수 중 %d 배수의 합은 %d이다\" %(startnum, endnum, width, result))\n",
    "    \n",
    "    \n",
    "    \n"
   ]
  },
  {
   "cell_type": "code",
   "execution_count": 86,
   "metadata": {},
   "outputs": [
    {
     "name": "stdin",
     "output_type": "stream",
     "text": [
      "시작 수 :  2\n",
      "끝 수 :  30\n",
      "배수 :  5\n"
     ]
    },
    {
     "name": "stdout",
     "output_type": "stream",
     "text": [
      "2부터 30의 정수 중 5 배수의 합은 105이다\n"
     ]
    }
   ],
   "source": [
    "othersum(3)"
   ]
  },
  {
   "cell_type": "code",
   "execution_count": null,
   "metadata": {},
   "outputs": [],
   "source": []
  },
  {
   "cell_type": "code",
   "execution_count": 66,
   "metadata": {},
   "outputs": [],
   "source": [
    "def func(x):\n",
    "    x = 0\n",
    "    print(id(x))\n",
    "    if 10> 1:\n",
    "        x = 100\n",
    "        print(id(x))"
   ]
  },
  {
   "cell_type": "code",
   "execution_count": 67,
   "metadata": {},
   "outputs": [
    {
     "name": "stdout",
     "output_type": "stream",
     "text": [
      "140713475122944\n",
      "140713475126144\n"
     ]
    }
   ],
   "source": [
    "func(1)"
   ]
  },
  {
   "cell_type": "code",
   "execution_count": 68,
   "metadata": {},
   "outputs": [
    {
     "name": "stdout",
     "output_type": "stream",
     "text": [
      "10\n",
      "140713475123264\n"
     ]
    }
   ],
   "source": [
    "x = 10\n",
    "print(x)\n",
    "print(id(x))"
   ]
  },
  {
   "cell_type": "code",
   "execution_count": 69,
   "metadata": {},
   "outputs": [
    {
     "name": "stdout",
     "output_type": "stream",
     "text": [
      "140713475122944\n",
      "140713475126144\n"
     ]
    }
   ],
   "source": [
    "func(x)"
   ]
  },
  {
   "cell_type": "code",
   "execution_count": 80,
   "metadata": {},
   "outputs": [],
   "source": [
    "def func():\n",
    "    global x\n",
    "    x = 100\n",
    "    print(x)\n",
    "    print(id(x))"
   ]
  },
  {
   "cell_type": "code",
   "execution_count": 81,
   "metadata": {},
   "outputs": [
    {
     "name": "stdout",
     "output_type": "stream",
     "text": [
      "10\n",
      "140713475123264\n"
     ]
    }
   ],
   "source": [
    "x= 10\n",
    "print(x)\n",
    "print(id(x))"
   ]
  },
  {
   "cell_type": "code",
   "execution_count": 82,
   "metadata": {},
   "outputs": [
    {
     "name": "stdout",
     "output_type": "stream",
     "text": [
      "100\n",
      "140713475126144\n"
     ]
    }
   ],
   "source": [
    "func()"
   ]
  },
  {
   "cell_type": "code",
   "execution_count": 83,
   "metadata": {},
   "outputs": [
    {
     "name": "stdout",
     "output_type": "stream",
     "text": [
      "100\n"
     ]
    }
   ],
   "source": [
    "print(x)"
   ]
  },
  {
   "cell_type": "code",
   "execution_count": 84,
   "metadata": {},
   "outputs": [
    {
     "name": "stdout",
     "output_type": "stream",
     "text": [
      "140713475126144\n"
     ]
    }
   ],
   "source": [
    "print(id(x))\n"
   ]
  },
  {
   "cell_type": "code",
   "execution_count": null,
   "metadata": {},
   "outputs": [],
   "source": []
  }
 ],
 "metadata": {
  "kernelspec": {
   "display_name": "Python 3",
   "language": "python",
   "name": "python3"
  },
  "language_info": {
   "codemirror_mode": {
    "name": "ipython",
    "version": 3
   },
   "file_extension": ".py",
   "mimetype": "text/x-python",
   "name": "python",
   "nbconvert_exporter": "python",
   "pygments_lexer": "ipython3",
   "version": "3.6.12"
  }
 },
 "nbformat": 4,
 "nbformat_minor": 4
}
