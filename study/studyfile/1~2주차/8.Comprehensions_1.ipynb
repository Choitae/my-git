{
 "cells": [
  {
   "cell_type": "markdown",
   "metadata": {},
   "source": [
    "# Comprehensions\n",
    "\n",
    "Comprehensions는 다른 시퀀스로 부터 새로운 시퀀스를 구성하도록 해준다. Python2.0 에서 List comprehensions가 도입된 후에 Python3.0 에서 dictionary 와  set comprehensions를 도입했다.\n",
    "\n",
    "- https://docs.python.org/3/tutorial/datastructures.html#list-comprehensions\n",
    "- https://www.python.org/dev/peps/pep-0202/\n",
    "- https://www.python.org/dev/peps/pep-0274/\n",
    "- https://python-3-patterns-idioms-test.readthedocs.io/en/latest/Comprehensions.html\n",
    "- https://wikidocs.net/22797 참조해 볼 것!"
   ]
  },
  {
   "cell_type": "markdown",
   "metadata": {},
   "source": [
    "## List Comprehensions\n",
    "\n",
    "A list comprehension consists of the following parts:\n",
    "\n",
    "- An Input Sequence. 입력 시퀀스\n",
    "- A Variable representing members of the input sequence : 변수가 입력 시퀀스의 멤버를 표현\n",
    "- An Optional Predicate expression. : 선택한 함축 표현\n",
    "- An Output Expression producing elements of the output list from members of the Input Sequence that satisfy the predicate\n",
    "\n",
    "<img src=\"https://python-3-patterns-idioms-test.readthedocs.io/en/latest/_images/listComprehensions.gif\" width=\"450\">"
   ]
  },
  {
   "cell_type": "code",
   "execution_count": null,
   "metadata": {},
   "outputs": [],
   "source": [
    "# 일반적 리스트\n",
    "results = []\n",
    "for num in [1, 2, 3, 4, 5, 6, 7, 8]:\n",
    "    result = num * num\n",
    "    results.append(result)"
   ]
  },
  {
   "cell_type": "code",
   "execution_count": 4,
   "metadata": {},
   "outputs": [
    {
     "data": {
      "text/plain": [
       "[1, 4, 9, 16, 25, 36, 49, 64]"
      ]
     },
     "execution_count": 4,
     "metadata": {},
     "output_type": "execute_result"
    }
   ],
   "source": [
    "# 컴프리헨션\n",
    "results = [num*num for num in [1,2,3,4,5,6,7,8]]\n",
    "results"
   ]
  },
  {
   "cell_type": "code",
   "execution_count": 5,
   "metadata": {},
   "outputs": [
    {
     "data": {
      "text/plain": [
       "[1, 4, 9, 16, 25, 36, 49, 64]"
      ]
     },
     "execution_count": 5,
     "metadata": {},
     "output_type": "execute_result"
    }
   ],
   "source": [
    "# 컴프리헨션\n",
    "results = [num*num for num in [1,2,3,4,5,6,6.2,7,8] if type(num) == int]\n",
    "results"
   ]
  },
  {
   "cell_type": "code",
   "execution_count": 7,
   "metadata": {},
   "outputs": [],
   "source": [
    "# 일반적 리스트\n",
    "results = []\n",
    "for num in [1, 2, 3, 4, 5, 6,6.2, 7, 8]:\n",
    "    if type(num) == int :\n",
    "         result = num * num\n",
    "         results.append(result)"
   ]
  },
  {
   "cell_type": "markdown",
   "metadata": {},
   "source": [
    "#### 조건문"
   ]
  },
  {
   "cell_type": "code",
   "execution_count": 8,
   "metadata": {},
   "outputs": [
    {
     "data": {
      "text/plain": [
       "['a', 'as']"
      ]
     },
     "execution_count": 8,
     "metadata": {},
     "output_type": "execute_result"
    }
   ],
   "source": [
    "# 문자열 리스트에서 길이가 2 이하인 문자열 리스트 만들기\n",
    "strings = ['a', 'as', 'bat', 'car', 'dove', 'python']\n",
    "lent = [s for s in strings if len(s)<=2]\n",
    "lent"
   ]
  },
  {
   "cell_type": "code",
   "execution_count": 16,
   "metadata": {},
   "outputs": [
    {
     "data": {
      "text/plain": [
       "[2,\n",
       " 4,\n",
       " 6,\n",
       " 8,\n",
       " 10,\n",
       " 12,\n",
       " 14,\n",
       " 16,\n",
       " 18,\n",
       " 20,\n",
       " 22,\n",
       " 24,\n",
       " 26,\n",
       " 28,\n",
       " 30,\n",
       " 32,\n",
       " 34,\n",
       " 36,\n",
       " 38,\n",
       " 40,\n",
       " 42,\n",
       " 44,\n",
       " 46,\n",
       " 48,\n",
       " 50,\n",
       " 52,\n",
       " 54,\n",
       " 56,\n",
       " 58,\n",
       " 60,\n",
       " 62,\n",
       " 64,\n",
       " 66,\n",
       " 68,\n",
       " 70,\n",
       " 72,\n",
       " 74,\n",
       " 76,\n",
       " 78,\n",
       " 80,\n",
       " 82,\n",
       " 84,\n",
       " 86,\n",
       " 88,\n",
       " 90,\n",
       " 92,\n",
       " 94,\n",
       " 96,\n",
       " 98,\n",
       " 100]"
      ]
     },
     "execution_count": 16,
     "metadata": {},
     "output_type": "execute_result"
    }
   ],
   "source": [
    "# 1~100 사이의 수중에 짝수 리스트 만들기\n",
    "twist = [i for i in range (1,101) if i % 2 == 0]\n",
    "twist"
   ]
  },
  {
   "cell_type": "markdown",
   "metadata": {},
   "source": [
    "`[실습] ` 1~100 사이에 3, 6, 9 가 있는 수 리스트 만들기"
   ]
  },
  {
   "cell_type": "code",
   "execution_count": 20,
   "metadata": {},
   "outputs": [
    {
     "name": "stdout",
     "output_type": "stream",
     "text": [
      "[3, 6, 10, 13, 16, 20, 23, 26, 30, 31, 32, 33, 34, 35, 36, 37, 38, 39, 40, 43, 46, 50, 53, 56, 60, 61, 62, 63, 64, 65, 66, 67, 68, 69, 70, 73, 76, 80, 83, 86, 90, 93, 96, 100]\n"
     ]
    }
   ],
   "source": [
    "r = [number for number in range (1, 101) if str(number).count('3')>0 or str(number).count('6')>0 or str(number).count('0') >0]\n",
    "print(r)"
   ]
  },
  {
   "cell_type": "code",
   "execution_count": 21,
   "metadata": {},
   "outputs": [
    {
     "data": {
      "text/plain": [
       "[1, 2, 3, 3, 4, 6]"
      ]
     },
     "execution_count": 21,
     "metadata": {},
     "output_type": "execute_result"
    }
   ],
   "source": [
    "# 문자열 리스트에서 문자열 길이를 순차 자료형으로 저장해 보자\n",
    "strings = ['a', 'as', 'bat', 'car', 'dove', 'python']\n",
    "\n",
    "lens = [len(s) for s in strings ]\n",
    "lens"
   ]
  },
  {
   "cell_type": "code",
   "execution_count": 22,
   "metadata": {},
   "outputs": [
    {
     "data": {
      "text/plain": [
       "[1, 16, 100, 64]"
      ]
     },
     "execution_count": 22,
     "metadata": {},
     "output_type": "execute_result"
    }
   ],
   "source": [
    "# 제곱\n",
    "foo = [1, 4, '5', 10, True, '10', 8]\n",
    "lenb = [num * num for num in foo if type(num) == int]\n",
    "lenb"
   ]
  },
  {
   "cell_type": "markdown",
   "metadata": {},
   "source": [
    "이 결과는 **map**,**filter** 그리고 **lambda** function으로 구현 할 수 있다."
   ]
  },
  {
   "cell_type": "markdown",
   "metadata": {},
   "source": [
    "### Nested Comprehensions\n",
    "\n",
    "크기 n인 단위행렬(identity matrix)는 대각이 1이고 나머지는 0으로 채워진 n X n  매드릭스이다.\n",
    "\n",
    "파이썬에서 리스트의 리스트로서 행을 리스트로 이런 단위행렬을 표현할 수 있다.\n",
    "\n",
    "```python\n",
    "[ [1,0,0],\n",
    "  [0,1,0],\n",
    "  [0,0,1] ]\n",
    "```\n",
    "\n",
    "이 행렬을 아래같은 중첩된 컴프리헨션 표현식으로 포함할 수 있다.\n"
   ]
  },
  {
   "cell_type": "code",
   "execution_count": 24,
   "metadata": {},
   "outputs": [
    {
     "data": {
      "text/plain": [
       "[[1, 0, 0], [0, 1, 0], [0, 0, 1], [0, 0, 0]]"
      ]
     },
     "execution_count": 24,
     "metadata": {},
     "output_type": "execute_result"
    }
   ],
   "source": [
    "# 3x3 행렬 #중첩된 컴프랜션의 경우 조건이 앞에 온다.\n",
    "[[1 if item_idx == row_idx else 0 \\\n",
    "        for item_idx in range(0,3)]\\\n",
    "        for row_idx in range(0,4)]\n"
   ]
  },
  {
   "cell_type": "markdown",
   "metadata": {},
   "source": [
    "디렉토리 구조에서 .py 로 끝나는 자료:\n",
    " - os.walk():\n",
    "\n",
    "```python\n",
    "# Comprehensions/os_walk_comprehension.py\n",
    "import os\n",
    "restFiles = [os.path.join(d[0], f) for d in os.walk(\".\")\n",
    "             for f in d[2] if f.endswith(\".py\")] #d[0]=='.' , d[2] == 내부 파일\n",
    "for r in restFiles:\n",
    "    print(r)\n",
    "```   "
   ]
  },
  {
   "cell_type": "code",
   "execution_count": 27,
   "metadata": {
    "collapsed": true,
    "jupyter": {
     "outputs_hidden": true
    }
   },
   "outputs": [
    {
     "name": "stdout",
     "output_type": "stream",
     "text": [
      "['268 269 281 282.ipynb', '8.Comprehensions_1.ipynb', 'class.ipynb', 'day4_과제.ipynb', 'Dic과 함수.ipynb', 'even_number.txt', 'even_number_2.txt', 'ex_GuessNumber.ipynb', 'hello.py', 'homework.ipynb', 'hospital.ipynb', 'hospital_2019.csv', 'hospital_2019.csv.txt', 'input.py', 'input_stdin.py', 'list_review.ipynb', 'load_hangul_fonts.py', 'logo_cpy.png', 'odd_number.txt', 'odd_number_2.txt', 'python testing.py.ipynb', 'quiz(01204).ipynb', 'reversed_txt.txt', 'sample.py', 'sample.txt', 'sampling.txt', 'sampling2.txt', 'tensflow.png', 'tensflow_cpy_ascil.png', 'test.bin', 'test.md', 'test.py', 'testing.py', 'text_cp949.txt', 'text_utf8.txt', 'tuple.ipynb', 'Underscore.ipynb', 'untitled', '데코레이터.ipynb', '모듈과 패키지.ipynb', '바이너리모드.ipynb', '반복문.py.ipynb', '오류방지 Try -Except.ipynb', '인코딩문제.ipynb', '조건문부터.py.ipynb', '파일쓰기.ipynb', '함수, 매개변수~ .ipynb']\n",
      "['268 269 281 282-checkpoint.ipynb', '8.Comprehensions_1-checkpoint.ipynb', 'class-checkpoint.ipynb', 'day4_과제-checkpoint.ipynb', 'Dic과 함수-checkpoint.ipynb', 'even_number-checkpoint.txt', 'even_number_2-checkpoint.txt', 'ex_GuessNumber-checkpoint.ipynb', 'hello-checkpoint.py', 'homework-checkpoint.ipynb', 'hospital-checkpoint.ipynb', 'hospital_2019-checkpoint.csv', 'hospital_2019.csv-checkpoint.txt', 'input-checkpoint.py', 'input_stdin-checkpoint.py', 'list_review-checkpoint.ipynb', 'logo_cpy-checkpoint.png', 'odd_number-checkpoint.txt', 'odd_number_2-checkpoint.txt', 'python testing.py-checkpoint.ipynb', 'quiz(01204)-checkpoint.ipynb', 'sample-checkpoint.py', 'sample-checkpoint.txt', 'sampling-checkpoint.txt', 'sampling2-checkpoint.txt', 'tensflow_cpy_ascil-checkpoint.png', 'text_utf8-checkpoint.txt', 'tuple-checkpoint.ipynb', 'Underscore-checkpoint.ipynb', '데코레이터-checkpoint.ipynb', '모듈과 패키지-checkpoint.ipynb', '바이너리모드-checkpoint.ipynb', '반복문.py-checkpoint.ipynb', '오류방지 Try -Except-checkpoint.ipynb', '인코딩문제-checkpoint.ipynb', '조건문부터.py-checkpoint.ipynb', '파일쓰기-checkpoint.ipynb', '함수, 매개변수~ -checkpoint.ipynb']\n",
      "[]\n",
      "[]\n",
      "['run.py', 'test.py', '__init__.py']\n",
      "['run-checkpoint.py', 'test-checkpoint.py', '__init__-checkpoint.py']\n",
      "['__init__.cpython-38.pyc']\n",
      "['echo.py', 'wav.py', '__init__.py']\n",
      "['echo-checkpoint.py', 'wav-checkpoint.py', '__init__-checkpoint.py']\n",
      "['mod1.py']\n",
      "['mod1-checkpoint.py']\n",
      "['--init__.py']\n",
      "['--init__-checkpoint.py']\n",
      "['render.py', 'screen.py', '__init__.py']\n",
      "['render-checkpoint.py', 'screen-checkpoint.py', '__init__-checkpoint.py']\n",
      "['run.py', 'test.py', '__init__.py']\n",
      "['run-checkpoint.py', 'test-checkpoint.py', '__init__-checkpoint.py']\n",
      "['echo.py', 'wav.py', '__init__.py']\n",
      "['echo-checkpoint.py', 'wav-checkpoint.py', '__init__-checkpoint.py']\n",
      "['mod1.cpython-38.pyc']\n",
      "[]\n",
      "['day6_옥서연.ipynb', 'hospital-김태훈.ipynb', 'hospital_김현준.ipynb', 'hostpital_박고등_과제.ipynb', 'hostpital_한상근_6일차 제출용-2.ipynb']\n",
      "['day6_옥서연-checkpoint.ipynb', 'hospital-김태훈-checkpoint.ipynb', 'hospital_김현준-checkpoint.ipynb', 'hostpital_박고등_과제-checkpoint.ipynb', 'hostpital_한상근_6일차 제출용-2-checkpoint.ipynb']\n",
      "['mod1.cpython-38.pyc']\n",
      "['strig.ipynb']\n",
      "['strig-checkpoint.ipynb']\n"
     ]
    }
   ],
   "source": [
    "# 현재 디렉토리에서 .ipynb 확장자를 가진 파일!!\n",
    "import os\n",
    "for d in os.walk('.'):\n",
    "    print(d[2])"
   ]
  },
  {
   "cell_type": "code",
   "execution_count": 32,
   "metadata": {},
   "outputs": [
    {
     "data": {
      "text/plain": [
       "['.\\\\hello.py',\n",
       " '.\\\\input.py',\n",
       " '.\\\\input_stdin.py',\n",
       " '.\\\\load_hangul_fonts.py',\n",
       " '.\\\\sample.py',\n",
       " '.\\\\test.py',\n",
       " '.\\\\testing.py',\n",
       " '.\\\\.ipynb_checkpoints\\\\hello-checkpoint.py',\n",
       " '.\\\\.ipynb_checkpoints\\\\input-checkpoint.py',\n",
       " '.\\\\.ipynb_checkpoints\\\\input_stdin-checkpoint.py',\n",
       " '.\\\\.ipynb_checkpoints\\\\sample-checkpoint.py',\n",
       " '.\\\\game\\\\play\\\\run.py',\n",
       " '.\\\\game\\\\play\\\\test.py',\n",
       " '.\\\\game\\\\play\\\\__init__.py',\n",
       " '.\\\\game\\\\play\\\\.ipynb_checkpoints\\\\run-checkpoint.py',\n",
       " '.\\\\game\\\\play\\\\.ipynb_checkpoints\\\\test-checkpoint.py',\n",
       " '.\\\\game\\\\play\\\\.ipynb_checkpoints\\\\__init__-checkpoint.py',\n",
       " '.\\\\game\\\\sound\\\\echo.py',\n",
       " '.\\\\game\\\\sound\\\\wav.py',\n",
       " '.\\\\game\\\\sound\\\\__init__.py',\n",
       " '.\\\\game\\\\sound\\\\.ipynb_checkpoints\\\\echo-checkpoint.py',\n",
       " '.\\\\game\\\\sound\\\\.ipynb_checkpoints\\\\wav-checkpoint.py',\n",
       " '.\\\\game\\\\sound\\\\.ipynb_checkpoints\\\\__init__-checkpoint.py',\n",
       " '.\\\\mymodule\\\\mod1.py',\n",
       " '.\\\\mymodule\\\\.ipynb_checkpoints\\\\mod1-checkpoint.py',\n",
       " '.\\\\mymodule\\\\game\\\\--init__.py',\n",
       " '.\\\\mymodule\\\\game\\\\.ipynb_checkpoints\\\\--init__-checkpoint.py',\n",
       " '.\\\\mymodule\\\\game\\\\graphic\\\\render.py',\n",
       " '.\\\\mymodule\\\\game\\\\graphic\\\\screen.py',\n",
       " '.\\\\mymodule\\\\game\\\\graphic\\\\__init__.py',\n",
       " '.\\\\mymodule\\\\game\\\\graphic\\\\.ipynb_checkpoints\\\\render-checkpoint.py',\n",
       " '.\\\\mymodule\\\\game\\\\graphic\\\\.ipynb_checkpoints\\\\screen-checkpoint.py',\n",
       " '.\\\\mymodule\\\\game\\\\graphic\\\\.ipynb_checkpoints\\\\__init__-checkpoint.py',\n",
       " '.\\\\mymodule\\\\game\\\\play\\\\run.py',\n",
       " '.\\\\mymodule\\\\game\\\\play\\\\test.py',\n",
       " '.\\\\mymodule\\\\game\\\\play\\\\__init__.py',\n",
       " '.\\\\mymodule\\\\game\\\\play\\\\.ipynb_checkpoints\\\\run-checkpoint.py',\n",
       " '.\\\\mymodule\\\\game\\\\play\\\\.ipynb_checkpoints\\\\test-checkpoint.py',\n",
       " '.\\\\mymodule\\\\game\\\\play\\\\.ipynb_checkpoints\\\\__init__-checkpoint.py',\n",
       " '.\\\\mymodule\\\\game\\\\sound\\\\echo.py',\n",
       " '.\\\\mymodule\\\\game\\\\sound\\\\wav.py',\n",
       " '.\\\\mymodule\\\\game\\\\sound\\\\__init__.py',\n",
       " '.\\\\mymodule\\\\game\\\\sound\\\\.ipynb_checkpoints\\\\echo-checkpoint.py',\n",
       " '.\\\\mymodule\\\\game\\\\sound\\\\.ipynb_checkpoints\\\\wav-checkpoint.py',\n",
       " '.\\\\mymodule\\\\game\\\\sound\\\\.ipynb_checkpoints\\\\__init__-checkpoint.py']"
      ]
     },
     "execution_count": 32,
     "metadata": {},
     "output_type": "execute_result"
    }
   ],
   "source": [
    "import os\n",
    "restFiles = [os.path.join(d[0],f) for d in os.walk(\".\")\n",
    "            for f in d[2] if f.endswith(\".py\")]\n",
    "restFiles"
   ]
  },
  {
   "cell_type": "markdown",
   "metadata": {},
   "source": [
    "### zip과 Comprehension으로 리스트 생성\n",
    "\n",
    "zip()을 이용해 두 리스트의 열 결합을 통해 새 리스트로 생성하는데 유용하다.\n",
    "\n",
    "`zip()`을 사용해 한 번에 둘 이상의 요소를 다룰 수 있다"
   ]
  },
  {
   "cell_type": "markdown",
   "metadata": {},
   "source": [
    "Multiple types (auto unpacking of a tuple):\n",
    "\n",
    "```python\n",
    "[f(v) for (n, f), v in zip(cls.all_slots, values)]\n",
    "```\n",
    "\n"
   ]
  },
  {
   "cell_type": "code",
   "execution_count": null,
   "metadata": {},
   "outputs": [],
   "source": [
    "#2018/12/13 현재 2018: 2018/9\n",
    "celtrion_profits = {\n",
    "    \"영업이익\": [2590, 2497, 5220, 2947],  # 2015~2018\n",
    "    \"영업현금흐름\": [594, 2614, 5238, 2518]\n",
    "}"
   ]
  },
  {
   "cell_type": "markdown",
   "metadata": {},
   "source": [
    "for 반복"
   ]
  },
  {
   "cell_type": "code",
   "execution_count": null,
   "metadata": {},
   "outputs": [],
   "source": [
    "for x, y in zip(celtrion_profits['영업현금흐름'], celtrion_profits['영업이익']):\n",
    "    print(int(x)/int(y))"
   ]
  },
  {
   "cell_type": "markdown",
   "metadata": {},
   "source": [
    "컴프리헨션"
   ]
  },
  {
   "cell_type": "code",
   "execution_count": null,
   "metadata": {},
   "outputs": [],
   "source": [
    "# comprehension\n",
    "\n"
   ]
  },
  {
   "cell_type": "code",
   "execution_count": null,
   "metadata": {},
   "outputs": [],
   "source": [
    "# zip & comprehension\n",
    "celtrion_profits['영업이익대비현금흐름'] = [\n",
    "    \n",
    "    \n",
    "    \n",
    "]"
   ]
  },
  {
   "cell_type": "code",
   "execution_count": 9,
   "metadata": {},
   "outputs": [
    {
     "data": {
      "text/plain": [
       "{'영업이익': [2590, 2497, 5220, 2947],\n",
       " '영업현금흐름': [594, 2614, 5238, 2518],\n",
       " '영업이익대비현금흐름': [0.22934362934362934,\n",
       "  1.0468562274729676,\n",
       "  1.0034482758620689,\n",
       "  0.8544282321004412]}"
      ]
     },
     "execution_count": 9,
     "metadata": {},
     "output_type": "execute_result"
    }
   ],
   "source": [
    "celtrion_profits"
   ]
  },
  {
   "cell_type": "markdown",
   "metadata": {},
   "source": [
    "## Set Comprehensions\n",
    "\n",
    "Set에 리스트 같은 포함 표현식을 사용해 구성할 수 있다.\n",
    "\n",
    "이름을 포함한 리스트가 있을 때:\n",
    "\n",
    "```python\n",
    "names = [ 'Bob', 'JOHN', 'alice', 'bob', 'ALICE', 'J', 'Bob' ]\n",
    "```\n",
    "다음 같이 첫 문자를 대문자로한 세트를 원한다:\n",
    "\n",
    "```python\n",
    "{ 'Bob', 'John', 'Alice' }\n",
    "```"
   ]
  },
  {
   "cell_type": "markdown",
   "metadata": {},
   "source": [
    "## set"
   ]
  },
  {
   "cell_type": "code",
   "execution_count": 33,
   "metadata": {},
   "outputs": [
    {
     "data": {
      "text/plain": [
       "dict"
      ]
     },
     "execution_count": 33,
     "metadata": {},
     "output_type": "execute_result"
    }
   ],
   "source": [
    "s = {} #set의 특성 : 순서가 없다.\n",
    "type(s)"
   ]
  },
  {
   "cell_type": "code",
   "execution_count": 35,
   "metadata": {},
   "outputs": [
    {
     "data": {
      "text/plain": [
       "set"
      ]
     },
     "execution_count": 35,
     "metadata": {},
     "output_type": "execute_result"
    }
   ],
   "source": [
    "s = set()\n",
    "type(s)"
   ]
  },
  {
   "cell_type": "code",
   "execution_count": 36,
   "metadata": {},
   "outputs": [
    {
     "data": {
      "text/plain": [
       "{4, 5, 6, 7, 8, 9, 10, 110}"
      ]
     },
     "execution_count": 36,
     "metadata": {},
     "output_type": "execute_result"
    }
   ],
   "source": [
    "s = {4,5,6,6,8,9,10,110,7,8,9}\n",
    "s"
   ]
  },
  {
   "cell_type": "code",
   "execution_count": 39,
   "metadata": {},
   "outputs": [],
   "source": [
    "li = [4,5,6,6,8,9,10,110,7,8,9]"
   ]
  },
  {
   "cell_type": "code",
   "execution_count": 40,
   "metadata": {},
   "outputs": [
    {
     "data": {
      "text/plain": [
       "{4, 5, 6, 7, 8, 9, 10, 110}"
      ]
     },
     "execution_count": 40,
     "metadata": {},
     "output_type": "execute_result"
    }
   ],
   "source": [
    "set(li)"
   ]
  },
  {
   "cell_type": "markdown",
   "metadata": {},
   "source": [
    "## Set Comprehensions\n",
    "\n",
    "Set에 리스트 같은 포함 표현식을 사용해 구성할 수 있다.\n",
    "\n",
    "이름을 포함한 리스트가 있을 때:\n",
    "\n",
    "```python\n",
    "names = [ 'Bob', 'JOHN', 'alice', 'bob', 'ALICE', 'J', 'Bob' ]\n",
    "```\n",
    "다음 같이 첫 문자를 대문자로한 세트를 원한다:\n",
    "\n",
    "```python\n",
    "{ 'Bob', 'John', 'Alice' }\n",
    "```"
   ]
  },
  {
   "cell_type": "code",
   "execution_count": 44,
   "metadata": {},
   "outputs": [
    {
     "data": {
      "text/plain": [
       "{'Alice', 'Bob', 'John'}"
      ]
     },
     "execution_count": 44,
     "metadata": {},
     "output_type": "execute_result"
    }
   ],
   "source": [
    "names = [ 'Bob', 'JOHN', 'alice', 'bob', 'ALICE', 'J', 'Bob' ]\n",
    "\n",
    "{name[0].upper() + name[1:].lower() for name in names if len(name)>1}"
   ]
  },
  {
   "cell_type": "code",
   "execution_count": null,
   "metadata": {},
   "outputs": [],
   "source": [
    "# Set\n"
   ]
  },
  {
   "cell_type": "code",
   "execution_count": 47,
   "metadata": {},
   "outputs": [
    {
     "data": {
      "text/plain": [
       "{'Bat', 'Car', 'Dove', 'Python'}"
      ]
     },
     "execution_count": 47,
     "metadata": {},
     "output_type": "execute_result"
    }
   ],
   "source": [
    "strings = ['a', 'as', 'as','as','as', 'bat', 'car', 'dove', 'python', 'Python']\n",
    "# 2글자 이상\n",
    "{name[0].upper() + name[1:].lower() for name in strings if len(name) >=3}\n"
   ]
  },
  {
   "cell_type": "markdown",
   "metadata": {},
   "source": [
    "## Dictionary Comprehensions\n"
   ]
  },
  {
   "cell_type": "code",
   "execution_count": 49,
   "metadata": {},
   "outputs": [
    {
     "data": {
      "text/plain": [
       "{'a': 1, 'as': 2, 'bat': 3, 'car': 3, 'dove': 4, 'python': 6}"
      ]
     },
     "execution_count": 49,
     "metadata": {},
     "output_type": "execute_result"
    }
   ],
   "source": [
    "strings = ['a', 'as', 'bat', 'car', 'dove', 'python']\n",
    "d = { s : len(s) for s in strings}\n",
    "d"
   ]
  },
  {
   "cell_type": "code",
   "execution_count": null,
   "metadata": {},
   "outputs": [],
   "source": []
  },
  {
   "cell_type": "code",
   "execution_count": null,
   "metadata": {},
   "outputs": [],
   "source": [
    "{ }"
   ]
  }
 ],
 "metadata": {
  "kernelspec": {
   "display_name": "Python 3",
   "language": "python",
   "name": "python3"
  },
  "language_info": {
   "codemirror_mode": {
    "name": "ipython",
    "version": 3
   },
   "file_extension": ".py",
   "mimetype": "text/x-python",
   "name": "python",
   "nbconvert_exporter": "python",
   "pygments_lexer": "ipython3",
   "version": "3.6.12"
  }
 },
 "nbformat": 4,
 "nbformat_minor": 4
}
