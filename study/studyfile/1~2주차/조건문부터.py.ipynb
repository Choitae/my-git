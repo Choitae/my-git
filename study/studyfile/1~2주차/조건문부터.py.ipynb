{
 "cells": [
  {
   "cell_type": "markdown",
   "metadata": {},
   "source": [
    "조건문\n",
    "-True or False 값을 판단! \n",
    "-크냐, 작느냐, 같으냐 \n",
    "    - 조건/비교 연산자\n",
    "    - <, >. <=, >=, ==, != "
   ]
  },
  {
   "cell_type": "code",
   "execution_count": 3,
   "metadata": {},
   "outputs": [
    {
     "name": "stdout",
     "output_type": "stream",
     "text": [
      "숫자  : 4\n",
      "숫자  : 5\n",
      "b가 a보다 크다\n"
     ]
    }
   ],
   "source": [
    "a = int(input(\"숫자  : \"))\n",
    "b = int(input(\"숫자  : \"))\n",
    "if a > b:\n",
    "    print(\"a가 b보다 크다\")\n",
    "\n",
    "elif a == b :\n",
    "    print(\"a와 b가 같다\")\n",
    "    \n",
    "else :\n",
    "    print(\"b가 a보다 크다\")"
   ]
  },
  {
   "cell_type": "markdown",
   "metadata": {},
   "source": [
    "논리 연산자 : and, or, not"
   ]
  },
  {
   "cell_type": "code",
   "execution_count": 7,
   "metadata": {},
   "outputs": [
    {
     "name": "stdout",
     "output_type": "stream",
     "text": [
      "숫자를 입력 : 0\n",
      "a는 0\n"
     ]
    }
   ],
   "source": [
    "a = int(input(\"숫자를 입력 : \"))\n",
    "if a > 0 :\n",
    "    print(\"a는 양수\")\n",
    "elif a == 0:\n",
    "    print(\"a는 0\")\n",
    "    \n",
    "else : \n",
    "    print(\"a는 음수\")"
   ]
  },
  {
   "cell_type": "code",
   "execution_count": 9,
   "metadata": {},
   "outputs": [
    {
     "name": "stdout",
     "output_type": "stream",
     "text": [
      "나이 : 60\n",
      "입장료는 3000원입니다\n"
     ]
    }
   ],
   "source": [
    "age = int(input(\"나이 : \"))\n",
    "pay = 3000\n",
    "if age > 65 or age<7:\n",
    "    print(\"무료입니다\")\n",
    "else :\n",
    "    print(\"입장료는 %d원입니다\"%pay)"
   ]
  },
  {
   "cell_type": "code",
   "execution_count": 11,
   "metadata": {},
   "outputs": [
    {
     "name": "stdout",
     "output_type": "stream",
     "text": [
      "이름 : 빙고\n",
      "이름은 : 빙고\n"
     ]
    }
   ],
   "source": [
    "name = input(\"이름 : \")\n",
    "if not name :\n",
    "    print(\"입력되지 않았습니다\")\n",
    "else : \n",
    "    print(\"이름은 : %s\"%name)"
   ]
  },
  {
   "cell_type": "markdown",
   "metadata": {},
   "source": [
    "중첩된 조건문 elif\n",
    "if 조건문 1:\n",
    "\n",
    "elif 조건문 2:\n",
    "\n",
    "elif 조건문 3:\n",
    "\n",
    "else:\n",
    "\n"
   ]
  },
  {
   "cell_type": "code",
   "execution_count": 15,
   "metadata": {},
   "outputs": [
    {
     "name": "stdout",
     "output_type": "stream",
     "text": [
      "영어 : 50\n",
      "수학 : 60\n",
      "불합격\n"
     ]
    }
   ],
   "source": [
    "eng = int(input(\"영어 : \"))\n",
    "math = int(input(\"수학 : \"))\n",
    "\n",
    "if eng >= 80 and math>=80:\n",
    "    print(\"합격\")\n",
    "elif eng <80 and math<80 :\n",
    "    print(\"불합격\")\n",
    "else :\n",
    "    print(\"재시험 기회 제공\")"
   ]
  },
  {
   "cell_type": "code",
   "execution_count": null,
   "metadata": {},
   "outputs": [],
   "source": []
  },
  {
   "cell_type": "code",
   "execution_count": null,
   "metadata": {},
   "outputs": [],
   "source": []
  },
  {
   "cell_type": "code",
   "execution_count": null,
   "metadata": {},
   "outputs": [],
   "source": []
  }
 ],
 "metadata": {
  "kernelspec": {
   "display_name": "Python 3",
   "language": "python",
   "name": "python3"
  },
  "language_info": {
   "codemirror_mode": {
    "name": "ipython",
    "version": 3
   },
   "file_extension": ".py",
   "mimetype": "text/x-python",
   "name": "python",
   "nbconvert_exporter": "python",
   "pygments_lexer": "ipython3",
   "version": "3.6.12"
  }
 },
 "nbformat": 4,
 "nbformat_minor": 4
}
