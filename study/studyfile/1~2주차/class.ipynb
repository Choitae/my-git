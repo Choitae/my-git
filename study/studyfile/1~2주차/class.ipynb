{
 "cells": [
  {
   "cell_type": "markdown",
   "metadata": {},
   "source": [
    "# 객체지향-Class"
   ]
  },
  {
   "cell_type": "code",
   "execution_count": 9,
   "metadata": {},
   "outputs": [
    {
     "name": "stdout",
     "output_type": "stream",
     "text": [
      "10 + 20 = 30\n",
      "100 + 200 = 300\n"
     ]
    }
   ],
   "source": [
    "class Calculator : \n",
    "    def set(self, x, y):\n",
    "        self.first = x\n",
    "        self.second = y\n",
    "    def add(self):\n",
    "        result = self.first + self.second \n",
    "        return result\n",
    "    \n",
    "cal1 = Calculator()\n",
    "\n"
   ]
  },
  {
   "cell_type": "code",
   "execution_count": 11,
   "metadata": {},
   "outputs": [
    {
     "data": {
      "text/plain": [
       "<__main__.Calculator at 0x24a86f16908>"
      ]
     },
     "execution_count": 11,
     "metadata": {},
     "output_type": "execute_result"
    }
   ],
   "source": [
    "cal1 = Calculator() #여기서 self 는 cal1을 의미한다.\n",
    "cal1"
   ]
  },
  {
   "cell_type": "code",
   "execution_count": null,
   "metadata": {},
   "outputs": [],
   "source": [
    "cal1.set(10,20)\n",
    "print(\"%d + %d = %d\" %(cal1.first, cal1.second, cal1.add()))\n",
    "\n",
    "cal1.set(100,200)\n",
    "print(\"%d + %d = %d\" %(cal1.first, cal1.second, cal1.add()))\n"
   ]
  },
  {
   "cell_type": "code",
   "execution_count": null,
   "metadata": {},
   "outputs": [],
   "source": []
  },
  {
   "cell_type": "markdown",
   "metadata": {},
   "source": [
    "Hospital - 이름, 주소, 의사수"
   ]
  },
  {
   "cell_type": "code",
   "execution_count": 18,
   "metadata": {},
   "outputs": [],
   "source": [
    "class Hospital :\n",
    "    def setname(self, name):\n",
    "        self.name = name\n",
    "    \n",
    "    def setaddress(self, addr):\n",
    "        self.address = addr"
   ]
  },
  {
   "cell_type": "code",
   "execution_count": 19,
   "metadata": {},
   "outputs": [],
   "source": [
    "jejuhospital = Hospital()\n",
    "seoulhospital = Hospital()"
   ]
  },
  {
   "cell_type": "code",
   "execution_count": 20,
   "metadata": {},
   "outputs": [],
   "source": [
    "jejuhospital.setname(\"제주병원\")\n",
    "jejuhospital.setaddress(\"제주시 제주동\")\n"
   ]
  },
  {
   "cell_type": "code",
   "execution_count": null,
   "metadata": {},
   "outputs": [],
   "source": []
  },
  {
   "cell_type": "code",
   "execution_count": 31,
   "metadata": {},
   "outputs": [],
   "source": [
    "class Hospital :\n",
    "    def __init__(self, name, addr):\n",
    "        self.name = name\n",
    "        self.address = addr\n",
    "        \n",
    "    def setname(self, name):\n",
    "        self.name = name  # self.__name  비 가시성으로 변환이 가능.\n",
    "    \n",
    "    def setaddress(self, addr):\n",
    "        self.address = addr\n",
    "    def info(self):\n",
    "        print(self.name, self.address)\n",
    "    def ___del__(self) : \n",
    "        print(\"im Quting ..\", )"
   ]
  },
  {
   "cell_type": "code",
   "execution_count": 32,
   "metadata": {},
   "outputs": [],
   "source": [
    "seoulhospital = Hospital(\"서울병원\", '서울시 종로구 관찰도')\n",
    "jejuhospital  = Hospital(\"제주시 제주동\", \"제주시 제주동\")"
   ]
  },
  {
   "cell_type": "code",
   "execution_count": 33,
   "metadata": {},
   "outputs": [
    {
     "data": {
      "text/plain": [
       "<bound method Hospital.info of <__main__.Hospital object at 0x0000024A88066128>>"
      ]
     },
     "execution_count": 33,
     "metadata": {},
     "output_type": "execute_result"
    }
   ],
   "source": [
    "seoulhospital.info\n",
    "\n"
   ]
  },
  {
   "cell_type": "markdown",
   "metadata": {},
   "source": [
    "# 클래스 속성"
   ]
  },
  {
   "cell_type": "markdown",
   "metadata": {},
   "source": [
    "## mutable한 속성 이용"
   ]
  },
  {
   "cell_type": "code",
   "execution_count": 36,
   "metadata": {},
   "outputs": [],
   "source": [
    "class person : \n",
    "    bag = []\n",
    "    def put_bag (self, stuff):\n",
    "        self.bag.append(stuff)"
   ]
  },
  {
   "cell_type": "code",
   "execution_count": 40,
   "metadata": {},
   "outputs": [],
   "source": [
    "james = person()\n",
    "james.put_bag('책')"
   ]
  },
  {
   "cell_type": "code",
   "execution_count": 42,
   "metadata": {},
   "outputs": [],
   "source": [
    "maira = person()\n",
    "maira.put_bag(\"공책\")"
   ]
  },
  {
   "cell_type": "code",
   "execution_count": 38,
   "metadata": {},
   "outputs": [
    {
     "data": {
      "text/plain": [
       "['__class__',\n",
       " '__delattr__',\n",
       " '__dict__',\n",
       " '__dir__',\n",
       " '__doc__',\n",
       " '__eq__',\n",
       " '__format__',\n",
       " '__ge__',\n",
       " '__getattribute__',\n",
       " '__gt__',\n",
       " '__hash__',\n",
       " '__init__',\n",
       " '__init_subclass__',\n",
       " '__le__',\n",
       " '__lt__',\n",
       " '__module__',\n",
       " '__ne__',\n",
       " '__new__',\n",
       " '__reduce__',\n",
       " '__reduce_ex__',\n",
       " '__repr__',\n",
       " '__setattr__',\n",
       " '__sizeof__',\n",
       " '__str__',\n",
       " '__subclasshook__',\n",
       " '__weakref__',\n",
       " 'bag',\n",
       " 'put_bag']"
      ]
     },
     "execution_count": 38,
     "metadata": {},
     "output_type": "execute_result"
    }
   ],
   "source": [
    "dir(person)"
   ]
  },
  {
   "cell_type": "code",
   "execution_count": 43,
   "metadata": {},
   "outputs": [
    {
     "data": {
      "text/plain": [
       "['책', '공책']"
      ]
     },
     "execution_count": 43,
     "metadata": {},
     "output_type": "execute_result"
    }
   ],
   "source": [
    "james.bag"
   ]
  },
  {
   "cell_type": "code",
   "execution_count": 45,
   "metadata": {},
   "outputs": [
    {
     "data": {
      "text/plain": [
       "['책', '공책']"
      ]
     },
     "execution_count": 45,
     "metadata": {},
     "output_type": "execute_result"
    }
   ],
   "source": [
    "maira.bag"
   ]
  },
  {
   "cell_type": "markdown",
   "metadata": {},
   "source": [
    "## immutable한 특성 이용"
   ]
  },
  {
   "cell_type": "code",
   "execution_count": 49,
   "metadata": {},
   "outputs": [],
   "source": [
    "class person : \n",
    "    bag = str()\n",
    "    def put_bag (self, stuff):\n",
    "        self.bag = (stuff)"
   ]
  },
  {
   "cell_type": "code",
   "execution_count": 50,
   "metadata": {},
   "outputs": [],
   "source": [
    "james = person()\n",
    "james.put_bag('책')"
   ]
  },
  {
   "cell_type": "code",
   "execution_count": 51,
   "metadata": {},
   "outputs": [],
   "source": [
    "maria = person()\n",
    "maria.put_bag('공책')"
   ]
  },
  {
   "cell_type": "code",
   "execution_count": 52,
   "metadata": {},
   "outputs": [
    {
     "data": {
      "text/plain": [
       "'책'"
      ]
     },
     "execution_count": 52,
     "metadata": {},
     "output_type": "execute_result"
    }
   ],
   "source": [
    "james.bag"
   ]
  },
  {
   "cell_type": "code",
   "execution_count": 53,
   "metadata": {},
   "outputs": [
    {
     "data": {
      "text/plain": [
       "'공책'"
      ]
     },
     "execution_count": 53,
     "metadata": {},
     "output_type": "execute_result"
    }
   ],
   "source": [
    "maria.bag"
   ]
  },
  {
   "cell_type": "code",
   "execution_count": 54,
   "metadata": {},
   "outputs": [],
   "source": [
    "#class는 mutalble 한 특성을 사용하기를 더 권장한다."
   ]
  },
  {
   "cell_type": "markdown",
   "metadata": {},
   "source": [
    "## 인스턴스 속성 \n",
    "해당 객체 안에서만 그 값이 유효하다"
   ]
  },
  {
   "cell_type": "code",
   "execution_count": 55,
   "metadata": {},
   "outputs": [],
   "source": [
    "class Person:\n",
    "    \n",
    "    def __init__(self):\n",
    "        self.bag = []\n",
    "    \n",
    "    def put_bag(self, stuff):\n",
    "        self.bag.append(stuff)"
   ]
  },
  {
   "cell_type": "code",
   "execution_count": 56,
   "metadata": {},
   "outputs": [],
   "source": [
    "james = person()\n",
    "james.put_bag('책')"
   ]
  },
  {
   "cell_type": "code",
   "execution_count": 57,
   "metadata": {},
   "outputs": [],
   "source": [
    "maria = person()\n",
    "maria.put_bag(\"공책\")"
   ]
  },
  {
   "cell_type": "code",
   "execution_count": 60,
   "metadata": {},
   "outputs": [
    {
     "data": {
      "text/plain": [
       "'책'"
      ]
     },
     "execution_count": 60,
     "metadata": {},
     "output_type": "execute_result"
    }
   ],
   "source": [
    "james.bag"
   ]
  },
  {
   "cell_type": "code",
   "execution_count": 61,
   "metadata": {},
   "outputs": [
    {
     "data": {
      "text/plain": [
       "'공책'"
      ]
     },
     "execution_count": 61,
     "metadata": {},
     "output_type": "execute_result"
    }
   ],
   "source": [
    "maria.bag"
   ]
  },
  {
   "cell_type": "code",
   "execution_count": null,
   "metadata": {},
   "outputs": [],
   "source": [
    "class Myclass : \n",
    "    def __init_(self, number) :\n",
    "        self.number = number\n",
    "    def inc_10(self):\n",
    "        self.number += 10\n",
    "    def inc_20(self):\n",
    "        self.number += 20\n",
    "\n",
    "obj1 = MyClass(100)\n",
    "obj1.inc_10()\n",
    "obj1.inc_2"
   ]
  },
  {
   "cell_type": "markdown",
   "metadata": {},
   "source": [
    "## 클래스 상속"
   ]
  },
  {
   "cell_type": "code",
   "execution_count": 68,
   "metadata": {},
   "outputs": [],
   "source": [
    "class Person :\n",
    "    def greeting():\n",
    "        print(\"Hello\")"
   ]
  },
  {
   "cell_type": "code",
   "execution_count": 69,
   "metadata": {},
   "outputs": [],
   "source": [
    "class Student(Person):\n",
    "    def study(self):\n",
    "        print(\"공부하기\")"
   ]
  },
  {
   "cell_type": "code",
   "execution_count": 74,
   "metadata": {},
   "outputs": [
    {
     "name": "stdout",
     "output_type": "stream",
     "text": [
      "공부하기\n"
     ]
    }
   ],
   "source": [
    "james = Student()\n",
    "james.greeting\n",
    "james.study()"
   ]
  },
  {
   "cell_type": "code",
   "execution_count": 87,
   "metadata": {},
   "outputs": [
    {
     "name": "stdout",
     "output_type": "stream",
     "text": [
      "행복이\n",
      "멍멍\n"
     ]
    }
   ],
   "source": [
    "class Animal:\n",
    "    def __init__(self, name):\n",
    "        self.name = name\n",
    "    \n",
    "    def printName(self):\n",
    "        print(self.name)\n",
    "class Doglist():\n",
    "    def __init__(self) :\n",
    "        self.animal_list = []\n",
    "        \n",
    "    def append_animal(self, animal):\n",
    "        self.animal_list.append(animal)\n",
    "class Dog(Animal):\n",
    "    def __init__(self, name, sound):\n",
    "        super().__init__(name) #부모 class의 객체를 받기 위함.\n",
    "        self.sound = sound\n",
    "        \n",
    "    def printSound(self) :\n",
    "        print(self.sound)\n",
    "    \n",
    "dog1 = Dog('행복이', '멍멍')\n",
    "dog1.printName()\n",
    "dog1.printSound()"
   ]
  },
  {
   "cell_type": "code",
   "execution_count": 88,
   "metadata": {},
   "outputs": [
    {
     "name": "stdout",
     "output_type": "stream",
     "text": [
      "['진돌이', '슛돌이', '아람이']\n"
     ]
    }
   ],
   "source": [
    "dg_list = Doglist()\n",
    "dg_list.append_animal(\"진돌이\")\n",
    "dg_list.append_animal(\"슛돌이\")\n",
    "dg_list.append_animal(\"아람이\")\n",
    "print(dg_list.animal_list)"
   ]
  },
  {
   "cell_type": "markdown",
   "metadata": {},
   "source": [
    "303~307, 310"
   ]
  },
  {
   "cell_type": "code",
   "execution_count": 94,
   "metadata": {},
   "outputs": [
    {
     "name": "stdout",
     "output_type": "stream",
     "text": [
      "반지름 : 10\n",
      "원의 면적 : 314.16\n",
      "원주의 길이 : 62.83\n"
     ]
    }
   ],
   "source": [
    "#303\n",
    "import math\n",
    "\n",
    "class Circle :\n",
    "    def __init__(self, radius):\n",
    "        self.radius = radius\n",
    "        \n",
    "    def getArea(self):\n",
    "        area = math.pi*self.radius*self.radius\n",
    "        return area\n",
    "    \n",
    "    def getCircum(self):\n",
    "        circum = 2*3.141592*self.radius\n",
    "        return circum\n",
    "    \n",
    "cir = Circle(10)\n",
    "\n",
    "print('반지름 : %d' %cir.radius)\n",
    "print(\"원의 면적 : %.2f\" %cir.getArea())\n",
    "print(\"원주의 길이 : %.2f\" %cir.getCircum())"
   ]
  },
  {
   "cell_type": "code",
   "execution_count": 96,
   "metadata": {},
   "outputs": [
    {
     "name": "stdout",
     "output_type": "stream",
     "text": [
      "-3과목 합계와 평균\n",
      "이름: 김성윤\n",
      "국어: 85, 영어: 90, 수학: 83\n",
      "합계: 258, 평균: 86.0\n"
     ]
    }
   ],
   "source": [
    "#304\n",
    "class SumAvg :\n",
    "    title = '-3과목 합계와 평균'\n",
    "    def __init__(self, name, kor, eng, math): \n",
    "        self.name = name\n",
    "        self.kor = kor\n",
    "        self.eng = eng\n",
    "        self.math = math\n",
    "        \n",
    "    def getSum(self):\n",
    "        sum = self.kor + self.eng + self.math\n",
    "        return sum\n",
    "    \n",
    "s1 = SumAvg('김성윤', 85, 90, 83)\n",
    "\n",
    "print(SumAvg.title)\n",
    "print('이름: %s' %s1.name)\n",
    "print('국어: %d, 영어: %d, 수학: %d' %(s1.kor, s1.eng, s1.math))\n",
    "print('합계: %d, 평균: %.1f' %(s1.getSum(), s1.getSum()/3))"
   ]
  },
  {
   "cell_type": "code",
   "execution_count": 97,
   "metadata": {},
   "outputs": [
    {
     "name": "stdin",
     "output_type": "stream",
     "text": [
      "첫 번째 수 :  4\n",
      "두 번째 수 :  2\n"
     ]
    },
    {
     "name": "stdout",
     "output_type": "stream",
     "text": [
      "4 - 2 = 2\n",
      "4 / 2 = 2.0\n"
     ]
    }
   ],
   "source": [
    "#305\n",
    "class Calcualaotr :\n",
    "    def __init__(self, num1, num2):\n",
    "        self.num1 = num1\n",
    "        self.num2 = num2\n",
    "        \n",
    "    def add(self):\n",
    "        return self.num1 + self.num2\n",
    "    \n",
    "    def sub(self):\n",
    "        return self.num1 - self.num2\n",
    "    \n",
    "    def mul(self):\n",
    "        return self.num1 * self.num2\n",
    "    \n",
    "    def div(self):\n",
    "        return self.num1 / self.num2\n",
    "    \n",
    "a = int(input(\"첫 번째 수 : \"))\n",
    "b = int(input(\"두 번째 수 : \"))\n",
    "cal = Calcualaotr(a, b)\n",
    "print(F'{cal.num1} - {cal.num2} = {cal.sub()}')\n",
    "print(F'{cal.num1} / {cal.num2} = {cal.div()}')"
   ]
  },
  {
   "cell_type": "code",
   "execution_count": 99,
   "metadata": {},
   "outputs": [
    {
     "name": "stdout",
     "output_type": "stream",
     "text": [
      "성명 : 김지혜\n",
      "이메일 : rubato@hanmail.net\n",
      "전화번호 : 010-1234--5678\n"
     ]
    }
   ],
   "source": [
    "#306\n",
    "\n",
    "class Person : \n",
    "    def __init__ (self, info):\n",
    "        self.info = info\n",
    "    def getName(self):\n",
    "        return self.info[0]\n",
    "    def getEmail(self):\n",
    "        return self.info[1]\n",
    "    def getPhoneNumber(self):\n",
    "        return self.info[2]\n",
    "    \n",
    "info = ['김지혜', 'rubato@hanmail.net', '010-1234--5678']\n",
    "person = Person(info)\n",
    "\n",
    "print(f'성명 : {person.getName()}')\n",
    "print(f'이메일 : {person.getEmail()}')\n",
    "print(f'전화번호 : {person.getPhoneNumber()}')"
   ]
  },
  {
   "cell_type": "code",
   "execution_count": 105,
   "metadata": {},
   "outputs": [
    {
     "name": "stdout",
     "output_type": "stream",
     "text": [
      "역순 : snoipmahc eht era eW\n",
      "하이픈(-) 삽입 : We-are-the-champions\n"
     ]
    }
   ],
   "source": [
    "#307\n",
    "class EngSentence:\n",
    "    def __init__ (self, sentence):\n",
    "        self.sentence = sentence\n",
    "        self.length = len(self.sentence)\n",
    "    \n",
    "    def reverse(self) :\n",
    "        tmp = ''\n",
    "        for i in range (self.length):\n",
    "              tmp += self.sentence[self.length - i -1]\n",
    "        return tmp\n",
    "    \n",
    "    def insertHypen(self) :\n",
    "        tmp = ''\n",
    "        for i in range(self.length):\n",
    "            if self.sentence[i] == \" \":\n",
    "                tmp += '-'\n",
    "            else : \n",
    "                tmp += self.sentence[i]\n",
    "        return tmp\n",
    "    \n",
    "a = 'We are the champions'\n",
    "eng1 = EngSentence(a)\n",
    "print(f'역순 : {eng1.reverse()}')\n",
    "print(f'하이픈(-) 삽입 : {eng1.insertHypen()}')"
   ]
  },
  {
   "cell_type": "code",
   "execution_count": null,
   "metadata": {},
   "outputs": [],
   "source": []
  },
  {
   "cell_type": "code",
   "execution_count": null,
   "metadata": {},
   "outputs": [],
   "source": []
  },
  {
   "cell_type": "code",
   "execution_count": null,
   "metadata": {},
   "outputs": [],
   "source": []
  },
  {
   "cell_type": "code",
   "execution_count": null,
   "metadata": {},
   "outputs": [],
   "source": []
  },
  {
   "cell_type": "code",
   "execution_count": null,
   "metadata": {},
   "outputs": [],
   "source": []
  },
  {
   "cell_type": "code",
   "execution_count": null,
   "metadata": {},
   "outputs": [],
   "source": []
  },
  {
   "cell_type": "code",
   "execution_count": null,
   "metadata": {},
   "outputs": [],
   "source": []
  },
  {
   "cell_type": "code",
   "execution_count": null,
   "metadata": {},
   "outputs": [],
   "source": []
  },
  {
   "cell_type": "code",
   "execution_count": null,
   "metadata": {},
   "outputs": [],
   "source": []
  },
  {
   "cell_type": "code",
   "execution_count": null,
   "metadata": {},
   "outputs": [],
   "source": []
  },
  {
   "cell_type": "code",
   "execution_count": null,
   "metadata": {},
   "outputs": [],
   "source": []
  },
  {
   "cell_type": "code",
   "execution_count": null,
   "metadata": {},
   "outputs": [],
   "source": []
  },
  {
   "cell_type": "code",
   "execution_count": null,
   "metadata": {},
   "outputs": [],
   "source": []
  },
  {
   "cell_type": "code",
   "execution_count": null,
   "metadata": {},
   "outputs": [],
   "source": []
  },
  {
   "cell_type": "code",
   "execution_count": null,
   "metadata": {},
   "outputs": [],
   "source": []
  },
  {
   "cell_type": "code",
   "execution_count": null,
   "metadata": {},
   "outputs": [],
   "source": []
  },
  {
   "cell_type": "code",
   "execution_count": null,
   "metadata": {},
   "outputs": [],
   "source": []
  },
  {
   "cell_type": "code",
   "execution_count": null,
   "metadata": {},
   "outputs": [],
   "source": []
  },
  {
   "cell_type": "code",
   "execution_count": null,
   "metadata": {},
   "outputs": [],
   "source": []
  },
  {
   "cell_type": "code",
   "execution_count": null,
   "metadata": {},
   "outputs": [],
   "source": []
  }
 ],
 "metadata": {
  "kernelspec": {
   "display_name": "Python 3",
   "language": "python",
   "name": "python3"
  },
  "language_info": {
   "codemirror_mode": {
    "name": "ipython",
    "version": 3
   },
   "file_extension": ".py",
   "mimetype": "text/x-python",
   "name": "python",
   "nbconvert_exporter": "python",
   "pygments_lexer": "ipython3",
   "version": "3.6.12"
  }
 },
 "nbformat": 4,
 "nbformat_minor": 4
}
