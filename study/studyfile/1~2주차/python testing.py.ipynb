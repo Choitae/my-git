{
 "cells": [
  {
   "cell_type": "code",
   "execution_count": null,
   "metadata": {},
   "outputs": [],
   "source": [
    "x = 10\n",
    "x"
   ]
  },
  {
   "cell_type": "code",
   "execution_count": null,
   "metadata": {},
   "outputs": [],
   "source": [
    "a = '호'\n",
    "a"
   ]
  },
  {
   "cell_type": "code",
   "execution_count": 4,
   "metadata": {},
   "outputs": [
    {
     "data": {
      "text/plain": [
       "'호10'"
      ]
     },
     "execution_count": 4,
     "metadata": {},
     "output_type": "execute_result"
    }
   ],
   "source": [
    "a + str(10)"
   ]
  },
  {
   "cell_type": "code",
   "execution_count": null,
   "metadata": {},
   "outputs": [],
   "source": [
    "name = '홍길동'"
   ]
  },
  {
   "cell_type": "code",
   "execution_count": 8,
   "metadata": {},
   "outputs": [
    {
     "name": "stdout",
     "output_type": "stream",
     "text": [
      "내 이름은 홍길동 입니다\n"
     ]
    }
   ],
   "source": [
    "name = '홍길동'\n",
    "print(\"내 이름은 %s 입니다\" %name)\n"
   ]
  },
  {
   "cell_type": "code",
   "execution_count": 10,
   "metadata": {},
   "outputs": [
    {
     "name": "stdout",
     "output_type": "stream",
     "text": [
      "내 이름은 둘리 입니다. 번호는 호이 입니다\n"
     ]
    }
   ],
   "source": [
    "name = '둘리'\n",
    "code = '호이'\n",
    "\n",
    "print(\"내 이름은 %s 입니다. 번호는 %s 입니다\" %(name, code))"
   ]
  },
  {
   "cell_type": "code",
   "execution_count": 14,
   "metadata": {},
   "outputs": [
    {
     "name": "stdout",
     "output_type": "stream",
     "text": [
      "내이름은 둘리, 서울에 살지. 호이는 나의 번호다\n"
     ]
    }
   ],
   "source": [
    "name = '둘리'\n",
    "code = '호이'\n",
    "addr = '서울'\n",
    "print(\"내이름은 {0}, {2}에 살지. {1}는 나의 번호다\".format(name, code, addr))"
   ]
  },
  {
   "cell_type": "code",
   "execution_count": 22,
   "metadata": {},
   "outputs": [
    {
     "name": "stdout",
     "output_type": "stream",
     "text": [
      "Jack : 4098, Sjoerd : 4127, Dcab :8637678\n"
     ]
    }
   ],
   "source": [
    "table = {'Sjoerd': 4127, 'Jack': 4098, 'Dcab': 8637678}\n",
    "print(\"Jack : {Jack:d}, Sjoerd : {Sjoerd:d}, Dcab :{Dcab:d}\".format(**table))"
   ]
  },
  {
   "cell_type": "code",
   "execution_count": 24,
   "metadata": {},
   "outputs": [
    {
     "data": {
      "text/plain": [
       "' abc suppermarket'"
      ]
     },
     "execution_count": 24,
     "metadata": {},
     "output_type": "execute_result"
    }
   ],
   "source": [
    "\" abc suppermarket \".rstrip()"
   ]
  },
  {
   "cell_type": "code",
   "execution_count": 25,
   "metadata": {},
   "outputs": [
    {
     "data": {
      "text/plain": [
       "'abc sskefttft'"
      ]
     },
     "execution_count": 25,
     "metadata": {},
     "output_type": "execute_result"
    }
   ],
   "source": [
    "\"abc kkkefttft\".replace('kk', 'ss')"
   ]
  },
  {
   "cell_type": "markdown",
   "metadata": {},
   "source": []
  },
  {
   "cell_type": "code",
   "execution_count": 36,
   "metadata": {},
   "outputs": [
    {
     "name": "stdout",
     "output_type": "stream",
     "text": [
      "010-1111-2222\n"
     ]
    }
   ],
   "source": [
    "print(\"010\",\"1111\",\"2222\", sep=(\"-\"))"
   ]
  },
  {
   "cell_type": "code",
   "execution_count": 1,
   "metadata": {},
   "outputs": [
    {
     "name": "stdout",
     "output_type": "stream",
     "text": [
      "안녕\n",
      "반가워\n",
      "아직 화요일\n",
      "\n",
      "\n",
      "망\n"
     ]
    }
   ],
   "source": [
    "print(\"안녕\")\n",
    "print(\"반가워\")\n",
    "print(\"아직 화요일\", end=\"\\n\\n\\n\")\n",
    "print(\"망\")"
   ]
  },
  {
   "cell_type": "code",
   "execution_count": 3,
   "metadata": {},
   "outputs": [
    {
     "name": "stdout",
     "output_type": "stream",
     "text": [
      "숫자를 입력하세요3\n",
      "숫자를 입력하세요6\n"
     ]
    }
   ],
   "source": [
    "a=(input(\"숫자를 입력하세요\"))\n",
    "b=(input(\"숫자를 입력하세요\"))"
   ]
  },
  {
   "cell_type": "code",
   "execution_count": 5,
   "metadata": {},
   "outputs": [
    {
     "data": {
      "text/plain": [
       "9"
      ]
     },
     "execution_count": 5,
     "metadata": {},
     "output_type": "execute_result"
    }
   ],
   "source": [
    "c = int(a)+int(b)\n",
    "c"
   ]
  },
  {
   "cell_type": "code",
   "execution_count": 1,
   "metadata": {},
   "outputs": [
    {
     "name": "stdout",
     "output_type": "stream",
     "text": [
      "인치를 입력하세요3\n",
      "7.62센티미터\n"
     ]
    }
   ],
   "source": [
    "inch = float(input(\"인치를 입력하세요\"))\n",
    "cm = inch * 2.54\n",
    "print(\"%.2f센티미터\"%cm)"
   ]
  },
  {
   "cell_type": "code",
   "execution_count": 6,
   "metadata": {},
   "outputs": [
    {
     "name": "stdout",
     "output_type": "stream",
     "text": [
      "학생의 이름을 입력하세요태현\n",
      "국어 점수 : 90\n",
      "영어 점수 : 59\n",
      "수학 점수 : 86\n",
      "이름 : 태현, 국어 : 90, 영어 : 59, 수학 : 86, 합계 : 235, 평균 78.33\n"
     ]
    }
   ],
   "source": [
    "name = input(\"학생의 이름을 입력하세요\")\n",
    "kor = int(input(\"국어 점수 : \"))\n",
    "eng = int(input(\"영어 점수 : \"))\n",
    "math = int(input(\"수학 점수 : \"))\n",
    "total = kor + eng + math\n",
    "average = float(total/3)\n",
    "print(\"이름 : %s, 국어 : %d, 영어 : %d, 수학 : %d, 합계 : %d, 평균 %.2f\"%(name, kor, eng, math, total, average))"
   ]
  },
  {
   "cell_type": "code",
   "execution_count": null,
   "metadata": {},
   "outputs": [],
   "source": [
    "# 한 줄 주석 땡\n",
    "# 여러 줄 주석 하기 docstring\n",
    "\"\"\"\n",
    "줄바꿈 까지도 주석으로 한다\n",
    "독 스트링 문자열이다 \n",
    "\"\"\""
   ]
  },
  {
   "cell_type": "code",
   "execution_count": 11,
   "metadata": {},
   "outputs": [
    {
     "name": "stdout",
     "output_type": "stream",
     "text": [
      "\n",
      "독 스트링 이용하기\n",
      "\n"
     ]
    }
   ],
   "source": [
    "mystr = \"\"\"\n",
    "독 스트링 이용하기\n",
    "주석으로 쓰거나 사용할 수 있다.\n",
    ".__doc__ 메소드로 이용도 가능\n",
    "\"\"\"\n",
    "print(mystr)"
   ]
  },
  {
   "cell_type": "code",
   "execution_count": 12,
   "metadata": {},
   "outputs": [
    {
     "name": "stdout",
     "output_type": "stream",
     "text": [
      "Help on built-in function print in module builtins:\n",
      "\n",
      "print(...)\n",
      "    print(value, ..., sep=' ', end='\\n', file=sys.stdout, flush=False)\n",
      "    \n",
      "    Prints the values to a stream, or to sys.stdout by default.\n",
      "    Optional keyword arguments:\n",
      "    file:  a file-like object (stream); defaults to the current sys.stdout.\n",
      "    sep:   string inserted between values, default a space.\n",
      "    end:   string appended after the last value, default a newline.\n",
      "    flush: whether to forcibly flush the stream.\n",
      "\n"
     ]
    }
   ],
   "source": [
    "help(print)"
   ]
  },
  {
   "cell_type": "code",
   "execution_count": 13,
   "metadata": {},
   "outputs": [
    {
     "data": {
      "text/plain": [
       "\"print(value, ..., sep=' ', end='\\\\n', file=sys.stdout, flush=False)\\n\\nPrints the values to a stream, or to sys.stdout by default.\\nOptional keyword arguments:\\nfile:  a file-like object (stream); defaults to the current sys.stdout.\\nsep:   string inserted between values, default a space.\\nend:   string appended after the last value, default a newline.\\nflush: whether to forcibly flush the stream.\""
      ]
     },
     "execution_count": 13,
     "metadata": {},
     "output_type": "execute_result"
    }
   ],
   "source": [
    "print.__doc__"
   ]
  },
  {
   "cell_type": "code",
   "execution_count": null,
   "metadata": {},
   "outputs": [],
   "source": []
  }
 ],
 "metadata": {
  "kernelspec": {
   "display_name": "Python 3",
   "language": "python",
   "name": "python3"
  },
  "language_info": {
   "codemirror_mode": {
    "name": "ipython",
    "version": 3
   },
   "file_extension": ".py",
   "mimetype": "text/x-python",
   "name": "python",
   "nbconvert_exporter": "python",
   "pygments_lexer": "ipython3",
   "version": "3.6.12"
  }
 },
 "nbformat": 4,
 "nbformat_minor": 4
}
