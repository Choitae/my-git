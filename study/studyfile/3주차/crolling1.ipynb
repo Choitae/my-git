{
 "cells": [
  {
   "cell_type": "markdown",
   "metadata": {},
   "source": [
    "## urllib"
   ]
  },
  {
   "cell_type": "code",
   "execution_count": 24,
   "metadata": {},
   "outputs": [],
   "source": [
    "    from urllib.request import urlopen\n",
    "res = urlopen('http://wwwfacebook.com')\n",
    "html = res.read()"
   ]
  },
  {
   "cell_type": "code",
   "execution_count": 25,
   "metadata": {},
   "outputs": [
    {
     "data": {
      "text/plain": [
       "b'<!DOCTYPE html>\\n<html lang=\"ko\" id=\"facebook\" class=\"no_js\">\\n<head><meta charset=\"utf-8\" /><meta name=\"referrer\" content=\"default\" id=\"meta_referrer\" /><script nonce=\"iwsEyEty\">window._cstart=+new Date();</script><script nonce=\"iwsEyEty\">function envFlush(a){function b(b){for(var c in a)b[c]=a[c]}window.requireLazy?window.requireLazy([\"Env\"],b):(window.Env=window.Env||{},b(window.Env))}envFlush({\"ajaxpipe_token\":\"AXhC6tP46j4QS8OZt2I\",\"timeslice_heartbeat_config\":{\"pollIntervalMs\":33,\"idleGapThresholdMs\":60,\"ignoredTimesliceNames\":{\"requestAnimationFrame\":true,\"Event listenHandler mousemove\":true,\"Event listenHandler mouseover\":true,\"Event listenHandler mouseout\":true,\"Event listenHandler scroll\":true},\"isHeartbeatEnabled\":true,\"isArtilleryOn\":false},\"shouldLogCounters\":true,\"timeslice_categories\":{\"react_render\":true,\"reflow\":true},\"sample_continuation_stacktraces\":true,\"dom_mutation_flag\":true,\"stack_trace_limit\":30,\"timesliceBufferSize\":5000,\"show_invariant_decoder\":false,\"compat_ifr'"
      ]
     },
     "execution_count": 25,
     "metadata": {},
     "output_type": "execute_result"
    }
   ],
   "source": [
    "html[:1000]"
   ]
  },
  {
   "cell_type": "code",
   "execution_count": 26,
   "metadata": {},
   "outputs": [],
   "source": [
    "from urllib.parse import urlparse"
   ]
  },
  {
   "cell_type": "code",
   "execution_count": 29,
   "metadata": {},
   "outputs": [
    {
     "data": {
      "text/plain": [
       "ParseResult(scheme='http', netloc='www.ppomppu.co.kr', path='/recent_main_article.php', params='', query='type=event', fragment='')"
      ]
     },
     "execution_count": 29,
     "metadata": {},
     "output_type": "execute_result"
    }
   ],
   "source": [
    "url = \"http://www.ppomppu.co.kr/recent_main_article.php?type=event\"\n",
    "result = urlparse(url)\n",
    "result"
   ]
  },
  {
   "cell_type": "code",
   "execution_count": null,
   "metadata": {},
   "outputs": [],
   "source": [
    "panada.get_location()\n",
    "panada.set_date()\n",
    "panada.delete()"
   ]
  },
  {
   "cell_type": "markdown",
   "metadata": {},
   "source": [
    "## requests"
   ]
  },
  {
   "cell_type": "code",
   "execution_count": 30,
   "metadata": {},
   "outputs": [],
   "source": [
    "import requests"
   ]
  },
  {
   "cell_type": "code",
   "execution_count": 38,
   "metadata": {},
   "outputs": [
    {
     "data": {
      "text/plain": [
       "200"
      ]
     },
     "execution_count": 38,
     "metadata": {},
     "output_type": "execute_result"
    }
   ],
   "source": [
    "res = requests.get('https://github.com/qkboo')\n",
    "res.status_code"
   ]
  },
  {
   "cell_type": "code",
   "execution_count": 37,
   "metadata": {},
   "outputs": [
    {
     "data": {
      "text/plain": [
       "404"
      ]
     },
     "execution_count": 37,
     "metadata": {},
     "output_type": "execute_result"
    }
   ],
   "source": [
    "res = requests.get('https://github.com/qkboo/aaaaaaaaaaa')\n",
    "res.status_code #없으면 400대"
   ]
  },
  {
   "cell_type": "code",
   "execution_count": 40,
   "metadata": {},
   "outputs": [
    {
     "data": {
      "text/plain": [
       "'\\n\\n<!DOCTYPE html>\\n<html lang=\"en\">\\n  <head>\\n    <meta charset=\"utf-8\">\\n  <link rel=\"dns-prefetch\" href=\"https://github.githubassets.com\">\\n  <link rel=\"dns-prefetch\" href=\"https://avatars0.githubusercontent.com\">\\n  <link rel=\"dns-prefetch\" href=\"https://avatars1.githubusercontent.com\">\\n  <link rel=\"dns-prefetch\" href=\"https://avatars2.githubusercontent.com\">\\n  <link rel=\"dns-prefetch\" href=\"https://avatars3.githubusercontent.com\">\\n  <link rel=\"dns-prefetch\" href=\"https://github-cloud.s3.amazonaws.com\">\\n  <link rel=\"dns-prefetch\" href=\"https://user-images.githubusercontent.com/\">\\n\\n\\n\\n  <link crossorigin=\"anonymous\" media=\"all\" integrity=\"sha512-JAYW/5ReZVW/t4LQKcWixDD5nn/o0KV2p+VV2bD+l4QYPT4AJJ7QwRJ5P3D0HKbeYiO+bYd47C/R89NRPWZEmg==\" rel=\"stylesheet\" href=\"https://github.githubassets.com/assets/frameworks-240616ff945e6555bfb782d029c5a2c4.css\" />\\n  <link crossorigin=\"anonymous\" media=\"all\" integrity=\"sha512-dcx0ttMp0W9FtvBt1cKOKCcZJaSxKzrzuTx7BhR23b/nPlJ/zPb6k4E4xrnl1NnWZtUfRoLBUAJ1W8323EkY'"
      ]
     },
     "execution_count": 40,
     "metadata": {},
     "output_type": "execute_result"
    }
   ],
   "source": [
    "res.text[:1000]"
   ]
  },
  {
   "cell_type": "code",
   "execution_count": 41,
   "metadata": {},
   "outputs": [
    {
     "data": {
      "text/plain": [
       "'utf-8'"
      ]
     },
     "execution_count": 41,
     "metadata": {},
     "output_type": "execute_result"
    }
   ],
   "source": [
    "res.encoding"
   ]
  },
  {
   "cell_type": "code",
   "execution_count": 43,
   "metadata": {},
   "outputs": [
    {
     "data": {
      "text/plain": [
       "b'\\n\\n<!DOCTYPE html>\\n<html lang=\"en\">\\n  <head>\\n    <meta charset=\"utf-8\">\\n  <link rel=\"dns-prefetch\" href=\"https://github.githubassets.com\">\\n  <link rel=\"dns-prefetch\" href=\"https://avatars0.githubusercontent.com\">\\n  <link rel=\"dns-prefetch\" href=\"https://avatars1.githubusercontent.com\">\\n  <link rel=\"dns-prefetch\" href=\"https://avatars2.githubusercontent.com\">\\n  <link rel=\"dns-prefetch\" href=\"https://avatars3.githubusercontent.com\">\\n  <link rel=\"dns-prefetch\" href=\"https://github-cloud.s3.amazonaws.com\">\\n  <link rel=\"dns-prefetch\" href=\"https://user-images.githubusercontent.com/\">\\n\\n\\n\\n  <link crossorigin=\"anonymous\" media=\"all\" integrity=\"sha512-JAYW/5ReZVW/t4LQKcWixDD5nn/o0KV2p+VV2bD+l4QYPT4AJJ7QwRJ5P3D0HKbeYiO+bYd47C/R89NRPWZEmg==\" rel=\"stylesheet\" href=\"https://github.githubassets.com/assets/frameworks-240616ff945e6555bfb782d029c5a2c4.css\" />\\n  <link crossorigin=\"anonymous\" media=\"all\" integrity=\"sha512-dcx0ttMp0W9FtvBt1cKOKCcZJaSxKzrzuTx7BhR23b/nPlJ/zPb6k4E4xrnl1NnWZtUfRoLBUAJ1W8323EkY'"
      ]
     },
     "execution_count": 43,
     "metadata": {},
     "output_type": "execute_result"
    }
   ],
   "source": [
    "res.content[:1000]"
   ]
  },
  {
   "cell_type": "code",
   "execution_count": 44,
   "metadata": {},
   "outputs": [],
   "source": [
    "import requests\n",
    "url ='https://www.w3schools.com/css/default.asp'\n",
    "res = requests.get(url)\n",
    "with open('w3school.html', 'w') as file:\n",
    "    file.write(res.text)"
   ]
  },
  {
   "cell_type": "code",
   "execution_count": 45,
   "metadata": {},
   "outputs": [],
   "source": [
    "url ='https://postfiles.pstatic.net/20151011_57/bom2om_1444551610311dIHP6_JPEG/%BE%C6%C0%CC%C0%AF_%B9%D9%C5%C1%C8%AD%B8%E9_01.jpg?type=w1'\n",
    "res = requests.get(url)\n",
    "with open('아이유.jpg', 'wb') as file:\n",
    "    file.write(res.content) "
   ]
  },
  {
   "cell_type": "markdown",
   "metadata": {},
   "source": [
    "# beautifulsoup"
   ]
  },
  {
   "cell_type": "code",
   "execution_count": 47,
   "metadata": {},
   "outputs": [],
   "source": [
    "from bs4 import BeautifulSoup"
   ]
  },
  {
   "cell_type": "code",
   "execution_count": 48,
   "metadata": {},
   "outputs": [],
   "source": [
    "with open('w3school.html') as file:\n",
    "    soup = BeautifulSoup(file)"
   ]
  },
  {
   "cell_type": "code",
   "execution_count": 49,
   "metadata": {},
   "outputs": [
    {
     "data": {
      "text/plain": [
       "bs4.BeautifulSoup"
      ]
     },
     "execution_count": 49,
     "metadata": {},
     "output_type": "execute_result"
    }
   ],
   "source": [
    "type(soup)"
   ]
  },
  {
   "cell_type": "code",
   "execution_count": 50,
   "metadata": {
    "collapsed": true,
    "jupyter": {
     "outputs_hidden": true
    }
   },
   "outputs": [
    {
     "data": {
      "text/plain": [
       "['ASCII_SPACES',\n",
       " 'DEFAULT_BUILDER_FEATURES',\n",
       " 'NO_PARSER_SPECIFIED_WARNING',\n",
       " 'ROOT_TAG_NAME',\n",
       " '__bool__',\n",
       " '__call__',\n",
       " '__class__',\n",
       " '__contains__',\n",
       " '__copy__',\n",
       " '__delattr__',\n",
       " '__delitem__',\n",
       " '__dict__',\n",
       " '__dir__',\n",
       " '__doc__',\n",
       " '__eq__',\n",
       " '__format__',\n",
       " '__ge__',\n",
       " '__getattr__',\n",
       " '__getattribute__',\n",
       " '__getitem__',\n",
       " '__getstate__',\n",
       " '__gt__',\n",
       " '__hash__',\n",
       " '__init__',\n",
       " '__init_subclass__',\n",
       " '__iter__',\n",
       " '__le__',\n",
       " '__len__',\n",
       " '__lt__',\n",
       " '__module__',\n",
       " '__ne__',\n",
       " '__new__',\n",
       " '__reduce__',\n",
       " '__reduce_ex__',\n",
       " '__repr__',\n",
       " '__setattr__',\n",
       " '__setitem__',\n",
       " '__sizeof__',\n",
       " '__str__',\n",
       " '__subclasshook__',\n",
       " '__unicode__',\n",
       " '__weakref__',\n",
       " '_all_strings',\n",
       " '_check_markup_is_url',\n",
       " '_decode_markup',\n",
       " '_feed',\n",
       " '_find_all',\n",
       " '_find_one',\n",
       " '_is_xml',\n",
       " '_lastRecursiveChild',\n",
       " '_last_descendant',\n",
       " '_linkage_fixer',\n",
       " '_most_recent_element',\n",
       " '_namespaces',\n",
       " '_popToTag',\n",
       " '_should_pretty_print',\n",
       " 'append',\n",
       " 'attrs',\n",
       " 'builder',\n",
       " 'can_be_empty_element',\n",
       " 'cdata_list_attributes',\n",
       " 'childGenerator',\n",
       " 'children',\n",
       " 'clear',\n",
       " 'contains_replacement_characters',\n",
       " 'contents',\n",
       " 'currentTag',\n",
       " 'current_data',\n",
       " 'declared_html_encoding',\n",
       " 'decode',\n",
       " 'decode_contents',\n",
       " 'decompose',\n",
       " 'decomposed',\n",
       " 'descendants',\n",
       " 'element_classes',\n",
       " 'encode',\n",
       " 'encode_contents',\n",
       " 'endData',\n",
       " 'extend',\n",
       " 'extract',\n",
       " 'fetchNextSiblings',\n",
       " 'fetchParents',\n",
       " 'fetchPrevious',\n",
       " 'fetchPreviousSiblings',\n",
       " 'find',\n",
       " 'findAll',\n",
       " 'findAllNext',\n",
       " 'findAllPrevious',\n",
       " 'findChild',\n",
       " 'findChildren',\n",
       " 'findNext',\n",
       " 'findNextSibling',\n",
       " 'findNextSiblings',\n",
       " 'findParent',\n",
       " 'findParents',\n",
       " 'findPrevious',\n",
       " 'findPreviousSibling',\n",
       " 'findPreviousSiblings',\n",
       " 'find_all',\n",
       " 'find_all_next',\n",
       " 'find_all_previous',\n",
       " 'find_next',\n",
       " 'find_next_sibling',\n",
       " 'find_next_siblings',\n",
       " 'find_parent',\n",
       " 'find_parents',\n",
       " 'find_previous',\n",
       " 'find_previous_sibling',\n",
       " 'find_previous_siblings',\n",
       " 'format_string',\n",
       " 'formatter_for_name',\n",
       " 'get',\n",
       " 'getText',\n",
       " 'get_attribute_list',\n",
       " 'get_text',\n",
       " 'handle_data',\n",
       " 'handle_endtag',\n",
       " 'handle_starttag',\n",
       " 'has_attr',\n",
       " 'has_key',\n",
       " 'hidden',\n",
       " 'index',\n",
       " 'insert',\n",
       " 'insert_after',\n",
       " 'insert_before',\n",
       " 'isSelfClosing',\n",
       " 'is_empty_element',\n",
       " 'is_xml',\n",
       " 'known_xml',\n",
       " 'markup',\n",
       " 'name',\n",
       " 'namespace',\n",
       " 'new_string',\n",
       " 'new_tag',\n",
       " 'next',\n",
       " 'nextGenerator',\n",
       " 'nextSibling',\n",
       " 'nextSiblingGenerator',\n",
       " 'next_element',\n",
       " 'next_elements',\n",
       " 'next_sibling',\n",
       " 'next_siblings',\n",
       " 'object_was_parsed',\n",
       " 'open_tag_counter',\n",
       " 'original_encoding',\n",
       " 'parent',\n",
       " 'parentGenerator',\n",
       " 'parents',\n",
       " 'parse_only',\n",
       " 'parserClass',\n",
       " 'parser_class',\n",
       " 'popTag',\n",
       " 'prefix',\n",
       " 'preserve_whitespace_tag_stack',\n",
       " 'preserve_whitespace_tags',\n",
       " 'prettify',\n",
       " 'previous',\n",
       " 'previousGenerator',\n",
       " 'previousSibling',\n",
       " 'previousSiblingGenerator',\n",
       " 'previous_element',\n",
       " 'previous_elements',\n",
       " 'previous_sibling',\n",
       " 'previous_siblings',\n",
       " 'pushTag',\n",
       " 'recursiveChildGenerator',\n",
       " 'renderContents',\n",
       " 'replaceWith',\n",
       " 'replaceWithChildren',\n",
       " 'replace_with',\n",
       " 'replace_with_children',\n",
       " 'reset',\n",
       " 'select',\n",
       " 'select_one',\n",
       " 'setup',\n",
       " 'smooth',\n",
       " 'string',\n",
       " 'string_container',\n",
       " 'string_container_stack',\n",
       " 'strings',\n",
       " 'stripped_strings',\n",
       " 'tagStack',\n",
       " 'text',\n",
       " 'unwrap',\n",
       " 'wrap']"
      ]
     },
     "execution_count": 50,
     "metadata": {},
     "output_type": "execute_result"
    }
   ],
   "source": [
    "dir(soup)"
   ]
  },
  {
   "cell_type": "code",
   "execution_count": 51,
   "metadata": {},
   "outputs": [
    {
     "data": {
      "text/plain": [
       "<p style=\"margin-top:12px\"><b style=\"position:relative;left:17px;font-size:25px;font-family:Arial Black, Verdana, serif\">CSS</b><br/>\n",
       "<i class=\"fa fa-css3\" style=\"position:relative;left:-10px;font-size:100px;color:dodgerblue\"></i></p>"
      ]
     },
     "execution_count": 51,
     "metadata": {},
     "output_type": "execute_result"
    }
   ],
   "source": [
    "soup.p"
   ]
  },
  {
   "cell_type": "code",
   "execution_count": 52,
   "metadata": {},
   "outputs": [
    {
     "data": {
      "text/plain": [
       "<img alt=\"W3Schools Certification\" src=\"/images/w3certified_logo_250.png\" style=\"max-width:100%;\"/>"
      ]
     },
     "execution_count": 52,
     "metadata": {},
     "output_type": "execute_result"
    }
   ],
   "source": [
    "soup.img"
   ]
  },
  {
   "cell_type": "code",
   "execution_count": 53,
   "metadata": {},
   "outputs": [
    {
     "data": {
      "text/plain": [
       "<h1>CSS <span class=\"color_h1\">Tutorial</span></h1>"
      ]
     },
     "execution_count": 53,
     "metadata": {},
     "output_type": "execute_result"
    }
   ],
   "source": [
    "soup.h1"
   ]
  },
  {
   "cell_type": "code",
   "execution_count": 54,
   "metadata": {},
   "outputs": [],
   "source": [
    "soup.h1.string"
   ]
  },
  {
   "cell_type": "code",
   "execution_count": 55,
   "metadata": {
    "collapsed": true,
    "jupyter": {
     "outputs_hidden": true
    }
   },
   "outputs": [
    {
     "data": {
      "text/plain": [
       "<div class=\"w3-col l10 m12\" id=\"main\">\n",
       "<div id=\"mainLeaderboard\" style=\"overflow:hidden;\">\n",
       "<!-- MainLeaderboard-->\n",
       "<!--<pre>main_leaderboard, all: [728,90][970,90][320,50][468,60]</pre>-->\n",
       "<div id=\"snhb-main_leaderboard-0\"></div>\n",
       "<!-- adspace leaderboard -->\n",
       "</div>\n",
       "<h1>CSS <span class=\"color_h1\">Tutorial</span></h1>\n",
       "<div class=\"w3-clear nextprev\">\n",
       "<a class=\"w3-left w3-btn\" href=\"/default.asp\">❮ Home</a>\n",
       "<a class=\"w3-right w3-btn\" href=\"css_intro.asp\">Next ❯</a>\n",
       "</div>\n",
       "<div class=\"w3-panel w3-info intro\">\n",
       "<div class=\"w3-row-padding\">\n",
       "<div class=\"w3-col w3-hide-small\" style=\"width:140px\">\n",
       "<p style=\"margin-top:12px\"><b style=\"position:relative;left:17px;font-size:25px;font-family:Arial Black, Verdana, serif\">CSS</b><br/>\n",
       "<i class=\"fa fa-css3\" style=\"position:relative;left:-10px;font-size:100px;color:dodgerblue\"></i></p>\n",
       "</div>\n",
       "<div class=\"w3-rest\">\n",
       "<p>CSS is the language we use to style an HTML document.</p>\n",
       "<p>CSS describes how HTML elements should be displayed.</p>\n",
       "<p>This tutorial will teach you CSS from basic to advanced.</p>\n",
       "<a class=\"w3-btn w3-margin-bottom\" href=\"css_intro.asp\">Start learning CSS now »</a>\n",
       "</div>\n",
       "</div>\n",
       "</div>\n",
       "<hr/>\n",
       "<h2>Examples in Each Chapter</h2>\n",
       "<p>This CSS tutorial contains hundreds of CSS examples.</p>\n",
       "<p>With our online editor, you can edit the CSS, and click on a button to view the result.</p>\n",
       "<div class=\"w3-example\">\n",
       "<h3>CSS Example</h3>\n",
       "<div class=\"w3-code notranslate cssHigh\">\n",
       "\n",
       "body\n",
       "\n",
       "{<br/>  background-color: lightblue;<br/>}<br/>\n",
       "<br/>h1\n",
       "\n",
       "{<br/>\n",
       "\n",
       "  color: white;<br/>\n",
       "\n",
       "  text-align: center;<br/>\n",
       "\n",
       "}<br/><br/>\n",
       "\n",
       "p\n",
       "\n",
       "{<br/>\n",
       "\n",
       "   \n",
       "\n",
       "font-family: verdana;<br/>\n",
       "\n",
       "  font-size: 20px;<br/>\n",
       "\n",
       "}</div>\n",
       "<a class=\"w3-btn w3-margin-bottom\" href=\"tryit.asp?filename=trycss_default\" target=\"_blank\">Try it Yourself »</a></div>\n",
       "<p><b>Click on the \"Try it Yourself\" button to see how it works.</b></p>\n",
       "<hr/>\n",
       "<h2>CSS Examples</h2>\n",
       "<p>Learn from over 300 examples! With our editor, you can edit the CSS, and click on a\n",
       "\n",
       "button to view the result.</p>\n",
       "<p><a href=\"css_examples.asp\">Go to CSS Examples!</a></p>\n",
       "<hr/>\n",
       "<h2>Use the Menu</h2>\n",
       "<p>We recommend reading this tutorial, in the sequence listed in the menu.</p>\n",
       "<p>If you have a large screen, the menu will always be present on the left.</p>\n",
       "<p>If you have a small screen, open the menu by clicking the top menu sign <span class=\"w3-xlarge\">☰</span>.</p>\n",
       "<hr/><h2>CSS Templates</h2>\n",
       "<p>We have created some responsive W3.CSS templates for you to use.</p>\n",
       "<p>You are free to modify, save, share, and use them in all your projects.</p>\n",
       "<p><a href=\"css_rwd_templates.asp\">Free CSS Templates!</a></p>\n",
       "<hr/>\n",
       "<div id=\"midcontentadcontainer\" style=\"overflow:auto;text-align:center\">\n",
       "<!-- MidContent -->\n",
       "<!-- <p class=\"adtext\">Advertisement</p> -->\n",
       "<!--<pre>mid_content, all: [300,250][336,280][728,90][970,250][970,90][320,50][468,60]</pre>-->\n",
       "<div id=\"snhb-mid_content-0\"></div>\n",
       "</div>\n",
       "<hr/>\n",
       "<h2>CSS Exercises and Quiz Test</h2>\n",
       "<p>Test your CSS skills at W3Schools!</p>\n",
       "<p><a class=\"w3-btn\" href=\"css_exercises.asp\" style=\"width:200px\">Start CSS Exercises!</a></p>\n",
       "<p><a class=\"w3-btn w3-blue\" href=\"css_quiz.asp\" style=\"width:200px\">Start CSS Quiz!</a></p>\n",
       "<hr/>\n",
       "<h2>CSS References</h2>\n",
       "<p>At W3Schools you will find complete CSS references of all properties and selectors with syntax, examples, browser support, and more.</p>\n",
       "<div style=\"width:230px\">\n",
       "<p><a href=\"/cssref/default.asp\">CSS Properties Reference</a></p>\n",
       "<p><a href=\"/cssref/css_selectors.asp\">CSS Selectors Reference</a></p>\n",
       "<p><a href=\"/cssref/css_functions.asp\">CSS Functions Reference</a></p>\n",
       "<p><a href=\"/cssref/css_animatable.asp\">CSS Animatable Reference</a></p>\n",
       "<p><a href=\"/cssref/css_ref_aural.asp\">CSS Aural Reference</a></p>\n",
       "<p><a href=\"/cssref/css_units.asp\">CSS Units</a></p>\n",
       "<p><a href=\"/cssref/css_colors.asp\">CSS Color Reference</a></p>\n",
       "<p><a href=\"/cssref/css_default_values.asp\">CSS Default Values</a></p>\n",
       "<p><a href=\"/cssref/css3_browsersupport.asp\">CSS Browser Support</a></p>\n",
       "</div>\n",
       "<hr/><h2>CSS Exam - Get Your Diploma!</h2>\n",
       "<div class=\"w3-row\">\n",
       "<div class=\"w3-third w3-container w3-padding-24\"><a href=\"/cert/default.asp\"><img alt=\"W3Schools Certification\" src=\"/images/w3certified_logo_250.png\" style=\"max-width:100%;\"/></a> </div>\n",
       "<div class=\"w3-twothird w3-container\"><h2>W3Schools' Online Certification</h2>\n",
       "<p>The perfect solution for professionals who need to balance work, family, and career building.</p>\n",
       "<p>More than 25 000 certificates already issued!</p>\n",
       "</div>\n",
       "</div>\n",
       "<p><a class=\"w3-btn\" href=\"/cert/default.asp\">Get Your Certificate »</a></p>\n",
       "<p style=\"clear:both;\">The <a href=\"/cert/default.asp\">HTML Certificate</a> documents your knowledge of HTML.</p>\n",
       "<p>The <a href=\"/cert/default.asp\">CSS Certificate</a> documents your knowledge of advanced CSS.</p>\n",
       "<p>The <a href=\"/cert/default.asp\">JavaScript Certificate</a> documents your knowledge of JavaScript and HTML DOM.</p>\n",
       "<p>The <a href=\"/cert/default.asp\">Python Certificate</a> documents your knowledge of Python.</p>\n",
       "<p>The <a href=\"/cert/default.asp\">jQuery Certificate</a> documents your knowledge of jQuery.</p>\n",
       "<p>The <a href=\"/cert/default.asp\">SQL Certificate</a> documents your knowledge of SQL.</p>\n",
       "<p>The <a href=\"/cert/default.asp\">PHP Certificate</a> documents your knowledge of PHP and MySQL.</p>\n",
       "<p>The <a href=\"/cert/default.asp\">XML Certificate</a> documents your knowledge of XML, XML DOM and XSLT.</p>\n",
       "<p>The <a href=\"/cert/default.asp\">Bootstrap Certificate</a> documents your knowledge of the Bootstrap framework.</p>\n",
       "<br/>\n",
       "<div class=\"w3-clear nextprev\">\n",
       "<a class=\"w3-left w3-btn\" href=\"/default.asp\">❮ Home</a>\n",
       "<a class=\"w3-right w3-btn\" href=\"css_intro.asp\">Next ❯</a>\n",
       "</div>\n",
       "<div id=\"mypagediv2\" style=\"position:relative;text-align:center;\"></div>\n",
       "<br/>\n",
       "</div>"
      ]
     },
     "execution_count": 55,
     "metadata": {},
     "output_type": "execute_result"
    }
   ],
   "source": [
    "soup.h1.parent"
   ]
  },
  {
   "cell_type": "code",
   "execution_count": 56,
   "metadata": {},
   "outputs": [
    {
     "data": {
      "text/plain": [
       "[<img alt=\"W3Schools Certification\" src=\"/images/w3certified_logo_250.png\" style=\"max-width:100%;\"/>,\n",
       " <img alt=\"colorpicker\" src=\"/images/colorpicker.gif\"/>,\n",
       " <img src=\"/images/tshirt.jpg\" style=\"max-width:100%;\"/>,\n",
       " <img alt=\"W3Schools.com\" src=\"/images/w3schoolscom_gray.gif\" style=\"width:150px;height:28px;border:0\"/>]"
      ]
     },
     "execution_count": 56,
     "metadata": {},
     "output_type": "execute_result"
    }
   ],
   "source": [
    "soup.find_all('img')"
   ]
  },
  {
   "cell_type": "code",
   "execution_count": 59,
   "metadata": {},
   "outputs": [
    {
     "name": "stdout",
     "output_type": "stream",
     "text": [
      "/images/w3certified_logo_250.png\n",
      "/images/colorpicker.gif\n",
      "/images/tshirt.jpg\n",
      "/images/w3schoolscom_gray.gif\n"
     ]
    }
   ],
   "source": [
    "for i in soup.find_all('img'):\n",
    "    print(i['src']) #딕셔너리 형태"
   ]
  },
  {
   "cell_type": "markdown",
   "metadata": {},
   "source": [
    "## url"
   ]
  },
  {
   "cell_type": "code",
   "execution_count": 63,
   "metadata": {},
   "outputs": [],
   "source": [
    "with requests.get( 'https://www.hanbit.co.kr/') as res:\n",
    "    soup=BeautifulSoup(res.text)\n"
   ]
  },
  {
   "cell_type": "code",
   "execution_count": 64,
   "metadata": {},
   "outputs": [
    {
     "data": {
      "text/plain": [
       "'\\n\\n\\n\\n\\n한빛출판네트워크\\n\\n\\n\\n\\n\\n\\n\\n\\n\\n\\n\\n\\n\\n\\n\\n\\n\\n\\n\\n\\n\\n\\n\\n\\n\\n\\n\\n\\n\\n\\n\\n\\n\\n\\n\\n\\n\\n\\n\\n\\n\\n\\n\\n\\n\\n\\n\\n\\n\\n\\n\\n메뉴 바로가기\\n검색 및 카테고리 바로가기\\n프로모션 바로가기\\n책 '"
      ]
     },
     "execution_count": 64,
     "metadata": {},
     "output_type": "execute_result"
    }
   ],
   "source": [
    "soup.text[:100]"
   ]
  },
  {
   "cell_type": "code",
   "execution_count": 65,
   "metadata": {},
   "outputs": [
    {
     "data": {
      "text/plain": [
       "<a href=\"#gnb\" onclick=\"document.getElementById('gnb').tabIndex = -1;document.getElementById('gnb').focus();return false;\"><span>메뉴 바로가기</span></a>"
      ]
     },
     "execution_count": 65,
     "metadata": {},
     "output_type": "execute_result"
    }
   ],
   "source": [
    "soup.a"
   ]
  },
  {
   "cell_type": "code",
   "execution_count": 66,
   "metadata": {},
   "outputs": [
    {
     "data": {
      "text/plain": [
       "<img height=\"1\" src=\"https://www.facebook.com/tr?id=406459623338891&amp;ev=PageView&amp;noscript=1\" style=\"display:none\" width=\"1\"/>"
      ]
     },
     "execution_count": 66,
     "metadata": {},
     "output_type": "execute_result"
    }
   ],
   "source": [
    "soup.img"
   ]
  },
  {
   "cell_type": "code",
   "execution_count": 76,
   "metadata": {},
   "outputs": [
    {
     "name": "stdout",
     "output_type": "stream",
     "text": [
      "#gnb\n",
      "#top_search\n",
      "#main_top_box\n",
      "#main_book_area\n",
      "#main_network_area\n",
      "https://www.hanbit.co.kr/index.html\n",
      "https://www.hanbit.co.kr/media/\n",
      "https://www.hanbit.co.kr/academy/\n",
      "https://www.hanbit.co.kr/biz/\n",
      "https://www.hanbit.co.kr/life/\n",
      "https://www.hanbit.co.kr/edu/\n",
      "https://www.hanbit.co.kr/realtime/\n",
      "https://www.hanbit.co.kr/textbook/\n",
      "https://www.hanbit.co.kr/rent/\n",
      "https://www.hanbit.co.kr/member/login.html\n",
      "https://www.hanbit.co.kr/member/member_agree.html\n",
      "https://www.hanbit.co.kr/myhanbit/myhanbit.html\n",
      "https://www.hanbit.co.kr/myhanbit/cart.html\n",
      "https://www.hanbit.co.kr/publisher/foreignrights.html?lang=e\n",
      "https://www.hanbit.co.kr/index.html\n",
      "https://www.hanbit.co.kr/brand/brand_submain.html\n",
      "https://www.hanbit.co.kr/channel/channel_submain.html\n",
      "https://www.hanbit.co.kr/store/store_submain.html\n",
      "https://www.hanbit.co.kr/support/help_info.html\n",
      "https://www.hanbit.co.kr/event/current/current_event_list.html\n",
      "https://www.hanbit.co.kr/publisher/foreignrights.html?lang=e\n",
      "javascript:;\n"
     ]
    },
    {
     "ename": "KeyError",
     "evalue": "'href'",
     "output_type": "error",
     "traceback": [
      "\u001b[1;31m---------------------------------------------------------------------------\u001b[0m",
      "\u001b[1;31mKeyError\u001b[0m                                  Traceback (most recent call last)",
      "\u001b[1;32m<ipython-input-76-24a09f2f54bd>\u001b[0m in \u001b[0;36m<module>\u001b[1;34m\u001b[0m\n\u001b[0;32m      1\u001b[0m \u001b[1;32mfor\u001b[0m \u001b[0mi\u001b[0m \u001b[1;32min\u001b[0m \u001b[0msoup\u001b[0m\u001b[1;33m.\u001b[0m\u001b[0mfind_all\u001b[0m\u001b[1;33m(\u001b[0m\u001b[1;34m'a'\u001b[0m\u001b[1;33m)\u001b[0m\u001b[1;33m:\u001b[0m\u001b[1;33m\u001b[0m\u001b[1;33m\u001b[0m\u001b[0m\n\u001b[1;32m----> 2\u001b[1;33m     \u001b[0mprint\u001b[0m\u001b[1;33m(\u001b[0m\u001b[0mi\u001b[0m\u001b[1;33m[\u001b[0m\u001b[1;34m'href'\u001b[0m\u001b[1;33m]\u001b[0m\u001b[1;33m)\u001b[0m\u001b[1;33m\u001b[0m\u001b[1;33m\u001b[0m\u001b[0m\n\u001b[0m",
      "\u001b[1;32m~\\.conda\\envs\\python\\lib\\site-packages\\bs4\\element.py\u001b[0m in \u001b[0;36m__getitem__\u001b[1;34m(self, key)\u001b[0m\n\u001b[0;32m   1404\u001b[0m         \"\"\"tag[key] returns the value of the 'key' attribute for the Tag,\n\u001b[0;32m   1405\u001b[0m         and throws an exception if it's not there.\"\"\"\n\u001b[1;32m-> 1406\u001b[1;33m         \u001b[1;32mreturn\u001b[0m \u001b[0mself\u001b[0m\u001b[1;33m.\u001b[0m\u001b[0mattrs\u001b[0m\u001b[1;33m[\u001b[0m\u001b[0mkey\u001b[0m\u001b[1;33m]\u001b[0m\u001b[1;33m\u001b[0m\u001b[1;33m\u001b[0m\u001b[0m\n\u001b[0m\u001b[0;32m   1407\u001b[0m \u001b[1;33m\u001b[0m\u001b[0m\n\u001b[0;32m   1408\u001b[0m     \u001b[1;32mdef\u001b[0m \u001b[0m__iter__\u001b[0m\u001b[1;33m(\u001b[0m\u001b[0mself\u001b[0m\u001b[1;33m)\u001b[0m\u001b[1;33m:\u001b[0m\u001b[1;33m\u001b[0m\u001b[1;33m\u001b[0m\u001b[0m\n",
      "\u001b[1;31mKeyError\u001b[0m: 'href'"
     ]
    }
   ],
   "source": [
    "for i in soup.find_all('a'):\n",
    "    print(i['href'])"
   ]
  },
  {
   "cell_type": "code",
   "execution_count": 80,
   "metadata": {},
   "outputs": [
    {
     "ename": "SyntaxError",
     "evalue": "invalid syntax (<ipython-input-80-a2189a194204>, line 1)",
     "output_type": "error",
     "traceback": [
      "\u001b[1;36m  File \u001b[1;32m\"<ipython-input-80-a2189a194204>\"\u001b[1;36m, line \u001b[1;32m1\u001b[0m\n\u001b[1;33m    soup.find_all(div a)\u001b[0m\n\u001b[1;37m                      ^\u001b[0m\n\u001b[1;31mSyntaxError\u001b[0m\u001b[1;31m:\u001b[0m invalid syntax\n"
     ]
    }
   ],
   "source": [
    "soup.find_all(div a)"
   ]
  },
  {
   "cell_type": "code",
   "execution_count": null,
   "metadata": {},
   "outputs": [],
   "source": []
  },
  {
   "cell_type": "code",
   "execution_count": null,
   "metadata": {},
   "outputs": [],
   "source": []
  }
 ],
 "metadata": {
  "kernelspec": {
   "display_name": "Python 3",
   "language": "python",
   "name": "python3"
  },
  "language_info": {
   "codemirror_mode": {
    "name": "ipython",
    "version": 3
   },
   "file_extension": ".py",
   "mimetype": "text/x-python",
   "name": "python",
   "nbconvert_exporter": "python",
   "pygments_lexer": "ipython3",
   "version": "3.7.9"
  }
 },
 "nbformat": 4,
 "nbformat_minor": 4
}
