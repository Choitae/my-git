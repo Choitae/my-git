{
 "cells": [
  {
   "cell_type": "code",
   "execution_count": 2,
   "metadata": {},
   "outputs": [],
   "source": [
    "import pymysql\n",
    "conn = pymysql.connect(host='localhost', user='user3', password = 'xogusdl1234!',\n",
    "                        db='play', charset='utf8')\n",
    "\n",
    "# Connection 으로부터 Cursor 생성\n",
    "curs=conn.cursor()\n",
    "\n",
    "# SQL문 실행\n"
   ]
  },
  {
   "cell_type": "code",
   "execution_count": 4,
   "metadata": {},
   "outputs": [
    {
     "name": "stdout",
     "output_type": "stream",
     "text": [
      "0명의 학생 정보가 있습니다\n",
      "--------------------------------------------------\n",
      "1. 학생정보 입력\n",
      "2. 학생정보 검색\n",
      "3. 학생정보 출력\n",
      "4. 학생정보 파일 저장 및 불러오기\n",
      "5. 종료\n",
      "--------------------------------------------------\n"
     ]
    },
    {
     "name": "stdin",
     "output_type": "stream",
     "text": [
      "학생정보 관리. 메뉴를 선택하세요:  1\n"
     ]
    },
    {
     "name": "stdout",
     "output_type": "stream",
     "text": [
      "--------------------------------------------------\n"
     ]
    },
    {
     "name": "stdin",
     "output_type": "stream",
     "text": [
      "1. 이름:  이름\n",
      "2. 나이:  23\n",
      "3. 전화번호('-'를 붙여서):  2ㅎ\n",
      "4. 주소:  서ㅜㄹ\n",
      "5. 전공:  아\n"
     ]
    },
    {
     "name": "stdout",
     "output_type": "stream",
     "text": [
      "--------------------------------------------------\n"
     ]
    },
    {
     "ename": "TypeError",
     "evalue": "unhashable type: 'slice'",
     "output_type": "error",
     "traceback": [
      "\u001b[1;31m---------------------------------------------------------------------------\u001b[0m",
      "\u001b[1;31mTypeError\u001b[0m                                 Traceback (most recent call last)",
      "\u001b[1;32m<ipython-input-4-90f6cf4e9d95>\u001b[0m in \u001b[0;36m<module>\u001b[1;34m\u001b[0m\n\u001b[0;32m    113\u001b[0m     \u001b[0mchoice\u001b[0m \u001b[1;33m=\u001b[0m \u001b[0mMenu\u001b[0m\u001b[1;33m(\u001b[0m\u001b[1;33m)\u001b[0m\u001b[1;33m\u001b[0m\u001b[1;33m\u001b[0m\u001b[0m\n\u001b[0;32m    114\u001b[0m     \u001b[1;32mif\u001b[0m \u001b[0mchoice\u001b[0m \u001b[1;33m==\u001b[0m \u001b[1;36m1\u001b[0m\u001b[1;33m:\u001b[0m\u001b[1;33m\u001b[0m\u001b[1;33m\u001b[0m\u001b[0m\n\u001b[1;32m--> 115\u001b[1;33m         \u001b[0mStudent_Resister\u001b[0m\u001b[1;33m(\u001b[0m\u001b[1;33m)\u001b[0m\u001b[1;33m\u001b[0m\u001b[1;33m\u001b[0m\u001b[0m\n\u001b[0m\u001b[0;32m    116\u001b[0m     \u001b[1;32melif\u001b[0m \u001b[0mchoice\u001b[0m \u001b[1;33m==\u001b[0m \u001b[1;36m2\u001b[0m\u001b[1;33m:\u001b[0m\u001b[1;33m\u001b[0m\u001b[1;33m\u001b[0m\u001b[0m\n\u001b[0;32m    117\u001b[0m         \u001b[0mStudent_Search\u001b[0m\u001b[1;33m(\u001b[0m\u001b[1;33m)\u001b[0m\u001b[1;33m\u001b[0m\u001b[1;33m\u001b[0m\u001b[0m\n",
      "\u001b[1;32m<ipython-input-4-90f6cf4e9d95>\u001b[0m in \u001b[0;36mStudent_Resister\u001b[1;34m()\u001b[0m\n\u001b[0;32m     34\u001b[0m     \u001b[0mprint\u001b[0m\u001b[1;33m(\u001b[0m\u001b[1;34m'-'\u001b[0m\u001b[1;33m*\u001b[0m\u001b[1;36m50\u001b[0m\u001b[1;33m)\u001b[0m\u001b[1;33m\u001b[0m\u001b[1;33m\u001b[0m\u001b[0m\n\u001b[0;32m     35\u001b[0m     \u001b[0msql\u001b[0m \u001b[1;33m=\u001b[0m \u001b[1;33m(\u001b[0m\u001b[1;34m\"insert into student(name, age, phone, address, major) value (%s, %d, %s, %s, %s);\"\u001b[0m\u001b[1;33m)\u001b[0m\u001b[1;33m\u001b[0m\u001b[1;33m\u001b[0m\u001b[0m\n\u001b[1;32m---> 36\u001b[1;33m     \u001b[0mcurs\u001b[0m\u001b[1;33m.\u001b[0m\u001b[0mexecute\u001b[0m\u001b[1;33m(\u001b[0m\u001b[1;33m{\u001b[0m\u001b[0mStudent\u001b[0m\u001b[1;33m.\u001b[0m\u001b[0mstudent_number\u001b[0m \u001b[1;33m:\u001b[0m \u001b[1;33m(\u001b[0m\u001b[0msql\u001b[0m\u001b[1;33m,\u001b[0m\u001b[1;33m(\u001b[0m\u001b[0mname\u001b[0m\u001b[1;33m,\u001b[0m\u001b[0mage\u001b[0m\u001b[1;33m,\u001b[0m\u001b[0mphone\u001b[0m\u001b[1;33m,\u001b[0m\u001b[0maddress\u001b[0m\u001b[1;33m,\u001b[0m \u001b[0mmajor\u001b[0m\u001b[1;33m)\u001b[0m\u001b[1;33m)\u001b[0m\u001b[1;33m}\u001b[0m\u001b[1;33m)\u001b[0m\u001b[1;33m\u001b[0m\u001b[1;33m\u001b[0m\u001b[0m\n\u001b[0m\u001b[0;32m     37\u001b[0m     \u001b[0mstudent_dict\u001b[0m\u001b[1;33m.\u001b[0m\u001b[0mupdate\u001b[0m\u001b[1;33m(\u001b[0m\u001b[1;33m{\u001b[0m\u001b[0mStudent\u001b[0m\u001b[1;33m.\u001b[0m\u001b[0mstudent_number\u001b[0m\u001b[1;33m:\u001b[0m\u001b[0mStudent\u001b[0m\u001b[1;33m(\u001b[0m\u001b[0mname\u001b[0m\u001b[1;33m,\u001b[0m \u001b[0mage\u001b[0m\u001b[1;33m,\u001b[0m \u001b[0mphone\u001b[0m\u001b[1;33m,\u001b[0m \u001b[0maddress\u001b[0m\u001b[1;33m,\u001b[0m \u001b[0mmajor\u001b[0m\u001b[1;33m)\u001b[0m\u001b[1;33m}\u001b[0m\u001b[1;33m)\u001b[0m\u001b[1;33m\u001b[0m\u001b[1;33m\u001b[0m\u001b[0m\n\u001b[0;32m     38\u001b[0m \u001b[1;33m\u001b[0m\u001b[0m\n",
      "\u001b[1;32m~\\.conda\\envs\\python\\lib\\site-packages\\pymysql\\cursors.py\u001b[0m in \u001b[0;36mexecute\u001b[1;34m(self, query, args)\u001b[0m\n\u001b[0;32m    161\u001b[0m         \u001b[0mquery\u001b[0m \u001b[1;33m=\u001b[0m \u001b[0mself\u001b[0m\u001b[1;33m.\u001b[0m\u001b[0mmogrify\u001b[0m\u001b[1;33m(\u001b[0m\u001b[0mquery\u001b[0m\u001b[1;33m,\u001b[0m \u001b[0margs\u001b[0m\u001b[1;33m)\u001b[0m\u001b[1;33m\u001b[0m\u001b[1;33m\u001b[0m\u001b[0m\n\u001b[0;32m    162\u001b[0m \u001b[1;33m\u001b[0m\u001b[0m\n\u001b[1;32m--> 163\u001b[1;33m         \u001b[0mresult\u001b[0m \u001b[1;33m=\u001b[0m \u001b[0mself\u001b[0m\u001b[1;33m.\u001b[0m\u001b[0m_query\u001b[0m\u001b[1;33m(\u001b[0m\u001b[0mquery\u001b[0m\u001b[1;33m)\u001b[0m\u001b[1;33m\u001b[0m\u001b[1;33m\u001b[0m\u001b[0m\n\u001b[0m\u001b[0;32m    164\u001b[0m         \u001b[0mself\u001b[0m\u001b[1;33m.\u001b[0m\u001b[0m_executed\u001b[0m \u001b[1;33m=\u001b[0m \u001b[0mquery\u001b[0m\u001b[1;33m\u001b[0m\u001b[1;33m\u001b[0m\u001b[0m\n\u001b[0;32m    165\u001b[0m         \u001b[1;32mreturn\u001b[0m \u001b[0mresult\u001b[0m\u001b[1;33m\u001b[0m\u001b[1;33m\u001b[0m\u001b[0m\n",
      "\u001b[1;32m~\\.conda\\envs\\python\\lib\\site-packages\\pymysql\\cursors.py\u001b[0m in \u001b[0;36m_query\u001b[1;34m(self, q)\u001b[0m\n\u001b[0;32m    319\u001b[0m         \u001b[0mself\u001b[0m\u001b[1;33m.\u001b[0m\u001b[0m_last_executed\u001b[0m \u001b[1;33m=\u001b[0m \u001b[0mq\u001b[0m\u001b[1;33m\u001b[0m\u001b[1;33m\u001b[0m\u001b[0m\n\u001b[0;32m    320\u001b[0m         \u001b[0mself\u001b[0m\u001b[1;33m.\u001b[0m\u001b[0m_clear_result\u001b[0m\u001b[1;33m(\u001b[0m\u001b[1;33m)\u001b[0m\u001b[1;33m\u001b[0m\u001b[1;33m\u001b[0m\u001b[0m\n\u001b[1;32m--> 321\u001b[1;33m         \u001b[0mconn\u001b[0m\u001b[1;33m.\u001b[0m\u001b[0mquery\u001b[0m\u001b[1;33m(\u001b[0m\u001b[0mq\u001b[0m\u001b[1;33m)\u001b[0m\u001b[1;33m\u001b[0m\u001b[1;33m\u001b[0m\u001b[0m\n\u001b[0m\u001b[0;32m    322\u001b[0m         \u001b[0mself\u001b[0m\u001b[1;33m.\u001b[0m\u001b[0m_do_get_result\u001b[0m\u001b[1;33m(\u001b[0m\u001b[1;33m)\u001b[0m\u001b[1;33m\u001b[0m\u001b[1;33m\u001b[0m\u001b[0m\n\u001b[0;32m    323\u001b[0m         \u001b[1;32mreturn\u001b[0m \u001b[0mself\u001b[0m\u001b[1;33m.\u001b[0m\u001b[0mrowcount\u001b[0m\u001b[1;33m\u001b[0m\u001b[1;33m\u001b[0m\u001b[0m\n",
      "\u001b[1;32m~\\.conda\\envs\\python\\lib\\site-packages\\pymysql\\connections.py\u001b[0m in \u001b[0;36mquery\u001b[1;34m(self, sql, unbuffered)\u001b[0m\n\u001b[0;32m    502\u001b[0m             \u001b[1;32melse\u001b[0m\u001b[1;33m:\u001b[0m\u001b[1;33m\u001b[0m\u001b[1;33m\u001b[0m\u001b[0m\n\u001b[0;32m    503\u001b[0m                 \u001b[0msql\u001b[0m \u001b[1;33m=\u001b[0m \u001b[0msql\u001b[0m\u001b[1;33m.\u001b[0m\u001b[0mencode\u001b[0m\u001b[1;33m(\u001b[0m\u001b[0mself\u001b[0m\u001b[1;33m.\u001b[0m\u001b[0mencoding\u001b[0m\u001b[1;33m,\u001b[0m \u001b[1;34m'surrogateescape'\u001b[0m\u001b[1;33m)\u001b[0m\u001b[1;33m\u001b[0m\u001b[1;33m\u001b[0m\u001b[0m\n\u001b[1;32m--> 504\u001b[1;33m         \u001b[0mself\u001b[0m\u001b[1;33m.\u001b[0m\u001b[0m_execute_command\u001b[0m\u001b[1;33m(\u001b[0m\u001b[0mCOMMAND\u001b[0m\u001b[1;33m.\u001b[0m\u001b[0mCOM_QUERY\u001b[0m\u001b[1;33m,\u001b[0m \u001b[0msql\u001b[0m\u001b[1;33m)\u001b[0m\u001b[1;33m\u001b[0m\u001b[1;33m\u001b[0m\u001b[0m\n\u001b[0m\u001b[0;32m    505\u001b[0m         \u001b[0mself\u001b[0m\u001b[1;33m.\u001b[0m\u001b[0m_affected_rows\u001b[0m \u001b[1;33m=\u001b[0m \u001b[0mself\u001b[0m\u001b[1;33m.\u001b[0m\u001b[0m_read_query_result\u001b[0m\u001b[1;33m(\u001b[0m\u001b[0munbuffered\u001b[0m\u001b[1;33m=\u001b[0m\u001b[0munbuffered\u001b[0m\u001b[1;33m)\u001b[0m\u001b[1;33m\u001b[0m\u001b[1;33m\u001b[0m\u001b[0m\n\u001b[0;32m    506\u001b[0m         \u001b[1;32mreturn\u001b[0m \u001b[0mself\u001b[0m\u001b[1;33m.\u001b[0m\u001b[0m_affected_rows\u001b[0m\u001b[1;33m\u001b[0m\u001b[1;33m\u001b[0m\u001b[0m\n",
      "\u001b[1;32m~\\.conda\\envs\\python\\lib\\site-packages\\pymysql\\connections.py\u001b[0m in \u001b[0;36m_execute_command\u001b[1;34m(self, command, sql)\u001b[0m\n\u001b[0;32m    760\u001b[0m         \u001b[1;31m# calling self..write_packet()\u001b[0m\u001b[1;33m\u001b[0m\u001b[1;33m\u001b[0m\u001b[1;33m\u001b[0m\u001b[0m\n\u001b[0;32m    761\u001b[0m         \u001b[0mprelude\u001b[0m \u001b[1;33m=\u001b[0m \u001b[0mstruct\u001b[0m\u001b[1;33m.\u001b[0m\u001b[0mpack\u001b[0m\u001b[1;33m(\u001b[0m\u001b[1;34m'<iB'\u001b[0m\u001b[1;33m,\u001b[0m \u001b[0mpacket_size\u001b[0m\u001b[1;33m,\u001b[0m \u001b[0mcommand\u001b[0m\u001b[1;33m)\u001b[0m\u001b[1;33m\u001b[0m\u001b[1;33m\u001b[0m\u001b[0m\n\u001b[1;32m--> 762\u001b[1;33m         \u001b[0mpacket\u001b[0m \u001b[1;33m=\u001b[0m \u001b[0mprelude\u001b[0m \u001b[1;33m+\u001b[0m \u001b[0msql\u001b[0m\u001b[1;33m[\u001b[0m\u001b[1;33m:\u001b[0m\u001b[0mpacket_size\u001b[0m\u001b[1;33m-\u001b[0m\u001b[1;36m1\u001b[0m\u001b[1;33m]\u001b[0m\u001b[1;33m\u001b[0m\u001b[1;33m\u001b[0m\u001b[0m\n\u001b[0m\u001b[0;32m    763\u001b[0m         \u001b[0mself\u001b[0m\u001b[1;33m.\u001b[0m\u001b[0m_write_bytes\u001b[0m\u001b[1;33m(\u001b[0m\u001b[0mpacket\u001b[0m\u001b[1;33m)\u001b[0m\u001b[1;33m\u001b[0m\u001b[1;33m\u001b[0m\u001b[0m\n\u001b[0;32m    764\u001b[0m         \u001b[1;32mif\u001b[0m \u001b[0mDEBUG\u001b[0m\u001b[1;33m:\u001b[0m \u001b[0mdump_packet\u001b[0m\u001b[1;33m(\u001b[0m\u001b[0mpacket\u001b[0m\u001b[1;33m)\u001b[0m\u001b[1;33m\u001b[0m\u001b[1;33m\u001b[0m\u001b[0m\n",
      "\u001b[1;31mTypeError\u001b[0m: unhashable type: 'slice'"
     ]
    }
   ],
   "source": [
    "import re\n",
    "\n",
    "class Student:\n",
    "    student_number = 1\n",
    "    def __init__(self, name, age, phone, address, major):\n",
    "        self.name = name\n",
    "        self.age = age\n",
    "        self.phone = phone\n",
    "        self.address = address\n",
    "        self.major = major\n",
    "        Student.student_number += 1\n",
    "        \n",
    "        \n",
    "def Menu():\n",
    "    print(f'{Student.student_number - 1}명의 학생 정보가 있습니다')\n",
    "    print('-'*50)\n",
    "    print('1. 학생정보 입력')\n",
    "    print('2. 학생정보 검색')\n",
    "    print('3. 학생정보 출력')\n",
    "    print('4. 학생정보 파일 저장 및 불러오기')\n",
    "    print('5. 종료')\n",
    "    print('-'*50)\n",
    "    choice = int(input('학생정보 관리. 메뉴를 선택하세요: '))\n",
    "    print('-'*50)\n",
    "    return choice\n",
    "\n",
    "\n",
    "def Student_Resister():\n",
    "    name = input('1. 이름: ')\n",
    "    age = input('2. 나이: ')\n",
    "    phone = input('3. 전화번호(\\'-\\'를 붙여서): ')\n",
    "    address = input('4. 주소: ')\n",
    "    major = input('5. 전공: ')\n",
    "    print('-'*50)\n",
    "    sql = (\"insert into student(num, name, age, phone, address, major) value (%d, %s, %d, %s, %s, %s);\")\n",
    "    curs.execute(sql,(Student.student_number, name,age,phone,address, major))\n",
    "    \n",
    "def Student_Search():\n",
    "    method = 0\n",
    "    while method != 3:\n",
    "        method = int(input('검색 선택(1 번호, 2 이름, 3 이전으로 돌아가기): '))\n",
    "        print('-'*50)\n",
    "        if method == 1:\n",
    "            stu_num = int(input('학생 번호를 입력하세요: '))\n",
    "            sql = \"select * from student where \"\n",
    "            if stu_num in student_dict.keys():\n",
    "                print(f'{stu_num}: 이름: {student_dict[stu_num].name}, 나이: {student_dict[stu_num].age}세, 전화번호: {student_dict[stu_num].phone}, 주소: {student_dict[stu_num].address}, 전공: {student_dict[stu_num].major}')\n",
    "                print('-'*50)\n",
    "            else:\n",
    "                print('없는 학생 번호 입니다')\n",
    "                print('-'*50)\n",
    "                \n",
    "        elif method == 2:\n",
    "            stu_name = input('학생 이름을 입력하세요: ')\n",
    "            count = 1\n",
    "            for key in student_dict:\n",
    "                if stu_name == student_dict[key].name:\n",
    "                    print(f'{key}: 이름: {student_dict[key].name}, 나이: {student_dict[key].age}세, 전화번호: {student_dict[key].phone}, 주소: {student_dict[key].address}, 전공: {student_dict[key].major}')\n",
    "                    print('-'*50)\n",
    "                else:\n",
    "                    if count == Student.student_number:\n",
    "                        print('해당 학생을 찾을 수 없었습니다')\n",
    "                        print('-'*50)\n",
    "                    count += 1\n",
    "        \n",
    "        elif method == 3:\n",
    "            pass\n",
    "        else:\n",
    "            print('잘못된 입력입니다')\n",
    "\n",
    "                    \n",
    "def Student_Print():\n",
    "    for key in student_dict:\n",
    "        print(f'{key}: 이름: {student_dict[key].name}, 나이: {student_dict[key].age}세, 전화번호: {student_dict[key].phone}, 주소: {student_dict[key].address}, 전공: {student_dict[key].major}')\n",
    "        print('-'*50)\n",
    "        \n",
    "        \n",
    "def Student_File():\n",
    "    method = 0\n",
    "    while method != 3:\n",
    "        method = int(input('검색 선택(1 저장, 2 불러오기, 3 이전으로 돌아가기): '))\n",
    "        print('-'*50)\n",
    "        if method == 1:\n",
    "            file = open('db.txt', 'wt')\n",
    "            file.write('번호,이름,나이,전공,전화번호,주소\\n')\n",
    "            file.write('------------------------------------\\n')\n",
    "            for key, value in student_dict.items():\n",
    "                file.write(f'{key},{value.name},{value.age},{value.phone},{value.address},{value.major}\\n')\n",
    "            file.close()\n",
    "        \n",
    "        elif method == 2:\n",
    "            file = open('db.txt', 'rt')\n",
    "            strings = file.read()\n",
    "            \n",
    "            string = re.split(',|\\n', strings)\n",
    "            student_total = int((len(string) - 8) / 6)\n",
    "            for i in range(student_total):\n",
    "                student_dict[int(string[7 + 6 * i])] = Student(string[8 + 6 * i],string[9 + 6 * i],string[10 + 6 * i],string[11 + 6 * i],string[12 + 6 * i])\n",
    "            Student.student_number = student_total + 1\n",
    "            file.close()\n",
    "            \n",
    "        elif method == 3:\n",
    "            pass\n",
    "        else:\n",
    "            print('잘못된 입력입니다')\n",
    "            \n",
    "            \n",
    "        \n",
    "student_dict ={}\n",
    "choice = 1\n",
    "while choice != 5:\n",
    "    choice = Menu()\n",
    "    if choice == 1:\n",
    "        Student_Resister()\n",
    "    elif choice == 2:\n",
    "        Student_Search()\n",
    "    elif choice == 3:\n",
    "        Student_Print()\n",
    "    elif choice == 4:\n",
    "        Student_File()\n",
    "    elif choice == 5:\n",
    "        pass\n",
    "    else:\n",
    "        print('잘못된 입력입니다')"
   ]
  },
  {
   "cell_type": "code",
   "execution_count": 2,
   "metadata": {},
   "outputs": [],
   "source": [
    "import pymysql\n",
    "conn = pymysql.connect(host='localhost', user='user3', password = 'xogusdl1234!',\n",
    "                        db='play', charset='utf8')\n",
    "\n",
    "# Connection 으로부터 Cursor 생성\n",
    "curs=conn.cursor()\n",
    "\n",
    "# SQL문 실행\n"
   ]
  }
 ],
 "metadata": {
  "kernelspec": {
   "display_name": "Python 3",
   "language": "python",
   "name": "python3"
  },
  "language_info": {
   "codemirror_mode": {
    "name": "ipython",
    "version": 3
   },
   "file_extension": ".py",
   "mimetype": "text/x-python",
   "name": "python",
   "nbconvert_exporter": "python",
   "pygments_lexer": "ipython3",
   "version": "3.6.12"
  }
 },
 "nbformat": 4,
 "nbformat_minor": 4
}
