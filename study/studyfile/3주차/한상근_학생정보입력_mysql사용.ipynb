{
 "cells": [
  {
   "cell_type": "code",
   "execution_count": 6,
   "metadata": {},
   "outputs": [
    {
     "name": "stdout",
     "output_type": "stream",
     "text": [
      "0명의 학생 정보가 있습니다\n",
      "--------------------------------------------------\n",
      "1. 학생정보 입력\n",
      "2. 학생정보 검색\n",
      "3. 학생정보 출력\n",
      "4. 학생정보 파일 저장 및 불러오기\n",
      "5. 종료\n",
      "--------------------------------------------------\n"
     ]
    },
    {
     "name": "stdin",
     "output_type": "stream",
     "text": [
      "학생정보 관리. 메뉴를 선택하세요:  1\n"
     ]
    },
    {
     "name": "stdout",
     "output_type": "stream",
     "text": [
      "--------------------------------------------------\n"
     ]
    },
    {
     "name": "stdin",
     "output_type": "stream",
     "text": [
      "1. 이름:  태현\n",
      "2. 나이:  2\n",
      "3. 전화번호('-'를 붙여서):  32032\n",
      "4. 주소:  노원\n",
      "5. 전공:  전자공\n"
     ]
    },
    {
     "name": "stdout",
     "output_type": "stream",
     "text": [
      "--------------------------------------------------\n",
      "1명의 학생 정보가 있습니다\n",
      "--------------------------------------------------\n",
      "1. 학생정보 입력\n",
      "2. 학생정보 검색\n",
      "3. 학생정보 출력\n",
      "4. 학생정보 파일 저장 및 불러오기\n",
      "5. 종료\n",
      "--------------------------------------------------\n"
     ]
    },
    {
     "name": "stdin",
     "output_type": "stream",
     "text": [
      "학생정보 관리. 메뉴를 선택하세요:  4\n"
     ]
    },
    {
     "name": "stdout",
     "output_type": "stream",
     "text": [
      "--------------------------------------------------\n"
     ]
    },
    {
     "name": "stdin",
     "output_type": "stream",
     "text": [
      "검색 선택(1 저장, 2 불러오기, 3 이전으로 돌아가기):  2\n"
     ]
    },
    {
     "name": "stdout",
     "output_type": "stream",
     "text": [
      "--------------------------------------------------\n",
      "저장 파일이 없습니다\n",
      "--------------------------------------------------\n",
      "1명의 학생 정보가 있습니다\n",
      "--------------------------------------------------\n",
      "1. 학생정보 입력\n",
      "2. 학생정보 검색\n",
      "3. 학생정보 출력\n",
      "4. 학생정보 파일 저장 및 불러오기\n",
      "5. 종료\n",
      "--------------------------------------------------\n"
     ]
    },
    {
     "name": "stdin",
     "output_type": "stream",
     "text": [
      "학생정보 관리. 메뉴를 선택하세요:  4\n"
     ]
    },
    {
     "name": "stdout",
     "output_type": "stream",
     "text": [
      "--------------------------------------------------\n"
     ]
    },
    {
     "name": "stdin",
     "output_type": "stream",
     "text": [
      "검색 선택(1 저장, 2 불러오기, 3 이전으로 돌아가기):  1\n"
     ]
    },
    {
     "name": "stdout",
     "output_type": "stream",
     "text": [
      "--------------------------------------------------\n"
     ]
    },
    {
     "ename": "OperationalError",
     "evalue": "(1045, \"Access denied for user 'root'@'localhost' (using password: YES)\")",
     "output_type": "error",
     "traceback": [
      "\u001b[1;31m---------------------------------------------------------------------------\u001b[0m",
      "\u001b[1;31mOperationalError\u001b[0m                          Traceback (most recent call last)",
      "\u001b[1;32m<ipython-input-6-b67ceb2692a6>\u001b[0m in \u001b[0;36m<module>\u001b[1;34m\u001b[0m\n\u001b[0;32m    152\u001b[0m             \u001b[0mStudent_Print\u001b[0m\u001b[1;33m(\u001b[0m\u001b[1;33m)\u001b[0m\u001b[1;33m\u001b[0m\u001b[1;33m\u001b[0m\u001b[0m\n\u001b[0;32m    153\u001b[0m         \u001b[1;32melif\u001b[0m \u001b[0mchoice\u001b[0m \u001b[1;33m==\u001b[0m \u001b[1;36m4\u001b[0m\u001b[1;33m:\u001b[0m\u001b[1;33m\u001b[0m\u001b[1;33m\u001b[0m\u001b[0m\n\u001b[1;32m--> 154\u001b[1;33m             \u001b[0mStudent_File\u001b[0m\u001b[1;33m(\u001b[0m\u001b[1;33m)\u001b[0m\u001b[1;33m\u001b[0m\u001b[1;33m\u001b[0m\u001b[0m\n\u001b[0m\u001b[0;32m    155\u001b[0m         \u001b[1;32melif\u001b[0m \u001b[0mchoice\u001b[0m \u001b[1;33m==\u001b[0m \u001b[1;36m5\u001b[0m\u001b[1;33m:\u001b[0m\u001b[1;33m\u001b[0m\u001b[1;33m\u001b[0m\u001b[0m\n\u001b[0;32m    156\u001b[0m             \u001b[1;32mpass\u001b[0m\u001b[1;33m\u001b[0m\u001b[1;33m\u001b[0m\u001b[0m\n",
      "\u001b[1;32m<ipython-input-6-b67ceb2692a6>\u001b[0m in \u001b[0;36mStudent_File\u001b[1;34m()\u001b[0m\n\u001b[0;32m     85\u001b[0m \u001b[1;33m\u001b[0m\u001b[0m\n\u001b[0;32m     86\u001b[0m         \u001b[1;32mif\u001b[0m \u001b[0mmethod\u001b[0m \u001b[1;33m==\u001b[0m \u001b[1;36m1\u001b[0m\u001b[1;33m:\u001b[0m\u001b[1;33m\u001b[0m\u001b[1;33m\u001b[0m\u001b[0m\n\u001b[1;32m---> 87\u001b[1;33m             \u001b[0mcon\u001b[0m \u001b[1;33m=\u001b[0m \u001b[0mpymysql\u001b[0m\u001b[1;33m.\u001b[0m\u001b[0mconnect\u001b[0m\u001b[1;33m(\u001b[0m\u001b[0mhost\u001b[0m \u001b[1;33m=\u001b[0m \u001b[1;34m'localhost'\u001b[0m\u001b[1;33m,\u001b[0m \u001b[0muser\u001b[0m \u001b[1;33m=\u001b[0m \u001b[1;34m'root'\u001b[0m\u001b[1;33m,\u001b[0m \u001b[0mpassword\u001b[0m \u001b[1;33m=\u001b[0m \u001b[1;34m'#####'\u001b[0m\u001b[1;33m,\u001b[0m \u001b[0mdb\u001b[0m \u001b[1;33m=\u001b[0m \u001b[1;34m'sys'\u001b[0m\u001b[1;33m,\u001b[0m \u001b[0mcharset\u001b[0m \u001b[1;33m=\u001b[0m \u001b[1;34m'utf8'\u001b[0m \u001b[1;33m)\u001b[0m\u001b[1;33m\u001b[0m\u001b[1;33m\u001b[0m\u001b[0m\n\u001b[0m\u001b[0;32m     88\u001b[0m             \u001b[0mcur\u001b[0m \u001b[1;33m=\u001b[0m \u001b[0mcon\u001b[0m\u001b[1;33m.\u001b[0m\u001b[0mcursor\u001b[0m\u001b[1;33m(\u001b[0m\u001b[1;33m)\u001b[0m\u001b[1;33m\u001b[0m\u001b[1;33m\u001b[0m\u001b[0m\n\u001b[0;32m     89\u001b[0m \u001b[1;33m\u001b[0m\u001b[0m\n",
      "\u001b[1;32m~\\.conda\\envs\\python\\lib\\site-packages\\pymysql\\__init__.py\u001b[0m in \u001b[0;36mConnect\u001b[1;34m(*args, **kwargs)\u001b[0m\n\u001b[0;32m     92\u001b[0m     \"\"\"\n\u001b[0;32m     93\u001b[0m     \u001b[1;32mfrom\u001b[0m \u001b[1;33m.\u001b[0m\u001b[0mconnections\u001b[0m \u001b[1;32mimport\u001b[0m \u001b[0mConnection\u001b[0m\u001b[1;33m\u001b[0m\u001b[1;33m\u001b[0m\u001b[0m\n\u001b[1;32m---> 94\u001b[1;33m     \u001b[1;32mreturn\u001b[0m \u001b[0mConnection\u001b[0m\u001b[1;33m(\u001b[0m\u001b[1;33m*\u001b[0m\u001b[0margs\u001b[0m\u001b[1;33m,\u001b[0m \u001b[1;33m**\u001b[0m\u001b[0mkwargs\u001b[0m\u001b[1;33m)\u001b[0m\u001b[1;33m\u001b[0m\u001b[1;33m\u001b[0m\u001b[0m\n\u001b[0m\u001b[0;32m     95\u001b[0m \u001b[1;33m\u001b[0m\u001b[0m\n\u001b[0;32m     96\u001b[0m \u001b[1;32mfrom\u001b[0m \u001b[1;33m.\u001b[0m \u001b[1;32mimport\u001b[0m \u001b[0mconnections\u001b[0m \u001b[1;32mas\u001b[0m \u001b[0m_orig_conn\u001b[0m\u001b[1;33m\u001b[0m\u001b[1;33m\u001b[0m\u001b[0m\n",
      "\u001b[1;32m~\\.conda\\envs\\python\\lib\\site-packages\\pymysql\\connections.py\u001b[0m in \u001b[0;36m__init__\u001b[1;34m(self, host, user, password, database, port, unix_socket, charset, sql_mode, read_default_file, conv, use_unicode, client_flag, cursorclass, init_command, connect_timeout, ssl, read_default_group, compress, named_pipe, autocommit, db, passwd, local_infile, max_allowed_packet, defer_connect, auth_plugin_map, read_timeout, write_timeout, bind_address, binary_prefix, program_name, server_public_key)\u001b[0m\n\u001b[0;32m    325\u001b[0m             \u001b[0mself\u001b[0m\u001b[1;33m.\u001b[0m\u001b[0m_sock\u001b[0m \u001b[1;33m=\u001b[0m \u001b[1;32mNone\u001b[0m\u001b[1;33m\u001b[0m\u001b[1;33m\u001b[0m\u001b[0m\n\u001b[0;32m    326\u001b[0m         \u001b[1;32melse\u001b[0m\u001b[1;33m:\u001b[0m\u001b[1;33m\u001b[0m\u001b[1;33m\u001b[0m\u001b[0m\n\u001b[1;32m--> 327\u001b[1;33m             \u001b[0mself\u001b[0m\u001b[1;33m.\u001b[0m\u001b[0mconnect\u001b[0m\u001b[1;33m(\u001b[0m\u001b[1;33m)\u001b[0m\u001b[1;33m\u001b[0m\u001b[1;33m\u001b[0m\u001b[0m\n\u001b[0m\u001b[0;32m    328\u001b[0m \u001b[1;33m\u001b[0m\u001b[0m\n\u001b[0;32m    329\u001b[0m     \u001b[1;32mdef\u001b[0m \u001b[0m_create_ssl_ctx\u001b[0m\u001b[1;33m(\u001b[0m\u001b[0mself\u001b[0m\u001b[1;33m,\u001b[0m \u001b[0msslp\u001b[0m\u001b[1;33m)\u001b[0m\u001b[1;33m:\u001b[0m\u001b[1;33m\u001b[0m\u001b[1;33m\u001b[0m\u001b[0m\n",
      "\u001b[1;32m~\\.conda\\envs\\python\\lib\\site-packages\\pymysql\\connections.py\u001b[0m in \u001b[0;36mconnect\u001b[1;34m(self, sock)\u001b[0m\n\u001b[0;32m    586\u001b[0m \u001b[1;33m\u001b[0m\u001b[0m\n\u001b[0;32m    587\u001b[0m             \u001b[0mself\u001b[0m\u001b[1;33m.\u001b[0m\u001b[0m_get_server_information\u001b[0m\u001b[1;33m(\u001b[0m\u001b[1;33m)\u001b[0m\u001b[1;33m\u001b[0m\u001b[1;33m\u001b[0m\u001b[0m\n\u001b[1;32m--> 588\u001b[1;33m             \u001b[0mself\u001b[0m\u001b[1;33m.\u001b[0m\u001b[0m_request_authentication\u001b[0m\u001b[1;33m(\u001b[0m\u001b[1;33m)\u001b[0m\u001b[1;33m\u001b[0m\u001b[1;33m\u001b[0m\u001b[0m\n\u001b[0m\u001b[0;32m    589\u001b[0m \u001b[1;33m\u001b[0m\u001b[0m\n\u001b[0;32m    590\u001b[0m             \u001b[1;32mif\u001b[0m \u001b[0mself\u001b[0m\u001b[1;33m.\u001b[0m\u001b[0msql_mode\u001b[0m \u001b[1;32mis\u001b[0m \u001b[1;32mnot\u001b[0m \u001b[1;32mNone\u001b[0m\u001b[1;33m:\u001b[0m\u001b[1;33m\u001b[0m\u001b[1;33m\u001b[0m\u001b[0m\n",
      "\u001b[1;32m~\\.conda\\envs\\python\\lib\\site-packages\\pymysql\\connections.py\u001b[0m in \u001b[0;36m_request_authentication\u001b[1;34m(self)\u001b[0m\n\u001b[0;32m    872\u001b[0m             \u001b[1;31m# https://dev.mysql.com/doc/internals/en/successful-authentication.html\u001b[0m\u001b[1;33m\u001b[0m\u001b[1;33m\u001b[0m\u001b[1;33m\u001b[0m\u001b[0m\n\u001b[0;32m    873\u001b[0m             \u001b[1;32mif\u001b[0m \u001b[0mself\u001b[0m\u001b[1;33m.\u001b[0m\u001b[0m_auth_plugin_name\u001b[0m \u001b[1;33m==\u001b[0m \u001b[1;34m\"caching_sha2_password\"\u001b[0m\u001b[1;33m:\u001b[0m\u001b[1;33m\u001b[0m\u001b[1;33m\u001b[0m\u001b[0m\n\u001b[1;32m--> 874\u001b[1;33m                 \u001b[0mauth_packet\u001b[0m \u001b[1;33m=\u001b[0m \u001b[0m_auth\u001b[0m\u001b[1;33m.\u001b[0m\u001b[0mcaching_sha2_password_auth\u001b[0m\u001b[1;33m(\u001b[0m\u001b[0mself\u001b[0m\u001b[1;33m,\u001b[0m \u001b[0mauth_packet\u001b[0m\u001b[1;33m)\u001b[0m\u001b[1;33m\u001b[0m\u001b[1;33m\u001b[0m\u001b[0m\n\u001b[0m\u001b[0;32m    875\u001b[0m             \u001b[1;32melif\u001b[0m \u001b[0mself\u001b[0m\u001b[1;33m.\u001b[0m\u001b[0m_auth_plugin_name\u001b[0m \u001b[1;33m==\u001b[0m \u001b[1;34m\"sha256_password\"\u001b[0m\u001b[1;33m:\u001b[0m\u001b[1;33m\u001b[0m\u001b[1;33m\u001b[0m\u001b[0m\n\u001b[0;32m    876\u001b[0m                 \u001b[0mauth_packet\u001b[0m \u001b[1;33m=\u001b[0m \u001b[0m_auth\u001b[0m\u001b[1;33m.\u001b[0m\u001b[0msha256_password_auth\u001b[0m\u001b[1;33m(\u001b[0m\u001b[0mself\u001b[0m\u001b[1;33m,\u001b[0m \u001b[0mauth_packet\u001b[0m\u001b[1;33m)\u001b[0m\u001b[1;33m\u001b[0m\u001b[1;33m\u001b[0m\u001b[0m\n",
      "\u001b[1;32m~\\.conda\\envs\\python\\lib\\site-packages\\pymysql\\_auth.py\u001b[0m in \u001b[0;36mcaching_sha2_password_auth\u001b[1;34m(conn, pkt)\u001b[0m\n\u001b[0;32m    325\u001b[0m \u001b[1;33m\u001b[0m\u001b[0m\n\u001b[0;32m    326\u001b[0m     \u001b[0mdata\u001b[0m \u001b[1;33m=\u001b[0m \u001b[0msha2_rsa_encrypt\u001b[0m\u001b[1;33m(\u001b[0m\u001b[0mconn\u001b[0m\u001b[1;33m.\u001b[0m\u001b[0mpassword\u001b[0m\u001b[1;33m,\u001b[0m \u001b[0mconn\u001b[0m\u001b[1;33m.\u001b[0m\u001b[0msalt\u001b[0m\u001b[1;33m,\u001b[0m \u001b[0mconn\u001b[0m\u001b[1;33m.\u001b[0m\u001b[0mserver_public_key\u001b[0m\u001b[1;33m)\u001b[0m\u001b[1;33m\u001b[0m\u001b[1;33m\u001b[0m\u001b[0m\n\u001b[1;32m--> 327\u001b[1;33m     \u001b[0mpkt\u001b[0m \u001b[1;33m=\u001b[0m \u001b[0m_roundtrip\u001b[0m\u001b[1;33m(\u001b[0m\u001b[0mconn\u001b[0m\u001b[1;33m,\u001b[0m \u001b[0mdata\u001b[0m\u001b[1;33m)\u001b[0m\u001b[1;33m\u001b[0m\u001b[1;33m\u001b[0m\u001b[0m\n\u001b[0m",
      "\u001b[1;32m~\\.conda\\envs\\python\\lib\\site-packages\\pymysql\\_auth.py\u001b[0m in \u001b[0;36m_roundtrip\u001b[1;34m(conn, send_data)\u001b[0m\n\u001b[0;32m    179\u001b[0m \u001b[1;32mdef\u001b[0m \u001b[0m_roundtrip\u001b[0m\u001b[1;33m(\u001b[0m\u001b[0mconn\u001b[0m\u001b[1;33m,\u001b[0m \u001b[0msend_data\u001b[0m\u001b[1;33m)\u001b[0m\u001b[1;33m:\u001b[0m\u001b[1;33m\u001b[0m\u001b[1;33m\u001b[0m\u001b[0m\n\u001b[0;32m    180\u001b[0m     \u001b[0mconn\u001b[0m\u001b[1;33m.\u001b[0m\u001b[0mwrite_packet\u001b[0m\u001b[1;33m(\u001b[0m\u001b[0msend_data\u001b[0m\u001b[1;33m)\u001b[0m\u001b[1;33m\u001b[0m\u001b[1;33m\u001b[0m\u001b[0m\n\u001b[1;32m--> 181\u001b[1;33m     \u001b[0mpkt\u001b[0m \u001b[1;33m=\u001b[0m \u001b[0mconn\u001b[0m\u001b[1;33m.\u001b[0m\u001b[0m_read_packet\u001b[0m\u001b[1;33m(\u001b[0m\u001b[1;33m)\u001b[0m\u001b[1;33m\u001b[0m\u001b[1;33m\u001b[0m\u001b[0m\n\u001b[0m\u001b[0;32m    182\u001b[0m     \u001b[0mpkt\u001b[0m\u001b[1;33m.\u001b[0m\u001b[0mcheck_error\u001b[0m\u001b[1;33m(\u001b[0m\u001b[1;33m)\u001b[0m\u001b[1;33m\u001b[0m\u001b[1;33m\u001b[0m\u001b[0m\n\u001b[0;32m    183\u001b[0m     \u001b[1;32mreturn\u001b[0m \u001b[0mpkt\u001b[0m\u001b[1;33m\u001b[0m\u001b[1;33m\u001b[0m\u001b[0m\n",
      "\u001b[1;32m~\\.conda\\envs\\python\\lib\\site-packages\\pymysql\\connections.py\u001b[0m in \u001b[0;36m_read_packet\u001b[1;34m(self, packet_type)\u001b[0m\n\u001b[0;32m    674\u001b[0m             \u001b[1;32mif\u001b[0m \u001b[0mself\u001b[0m\u001b[1;33m.\u001b[0m\u001b[0m_result\u001b[0m \u001b[1;32mis\u001b[0m \u001b[1;32mnot\u001b[0m \u001b[1;32mNone\u001b[0m \u001b[1;32mand\u001b[0m \u001b[0mself\u001b[0m\u001b[1;33m.\u001b[0m\u001b[0m_result\u001b[0m\u001b[1;33m.\u001b[0m\u001b[0munbuffered_active\u001b[0m \u001b[1;32mis\u001b[0m \u001b[1;32mTrue\u001b[0m\u001b[1;33m:\u001b[0m\u001b[1;33m\u001b[0m\u001b[1;33m\u001b[0m\u001b[0m\n\u001b[0;32m    675\u001b[0m                 \u001b[0mself\u001b[0m\u001b[1;33m.\u001b[0m\u001b[0m_result\u001b[0m\u001b[1;33m.\u001b[0m\u001b[0munbuffered_active\u001b[0m \u001b[1;33m=\u001b[0m \u001b[1;32mFalse\u001b[0m\u001b[1;33m\u001b[0m\u001b[1;33m\u001b[0m\u001b[0m\n\u001b[1;32m--> 676\u001b[1;33m             \u001b[0mpacket\u001b[0m\u001b[1;33m.\u001b[0m\u001b[0mraise_for_error\u001b[0m\u001b[1;33m(\u001b[0m\u001b[1;33m)\u001b[0m\u001b[1;33m\u001b[0m\u001b[1;33m\u001b[0m\u001b[0m\n\u001b[0m\u001b[0;32m    677\u001b[0m         \u001b[1;32mreturn\u001b[0m \u001b[0mpacket\u001b[0m\u001b[1;33m\u001b[0m\u001b[1;33m\u001b[0m\u001b[0m\n\u001b[0;32m    678\u001b[0m \u001b[1;33m\u001b[0m\u001b[0m\n",
      "\u001b[1;32m~\\.conda\\envs\\python\\lib\\site-packages\\pymysql\\protocol.py\u001b[0m in \u001b[0;36mraise_for_error\u001b[1;34m(self)\u001b[0m\n\u001b[0;32m    221\u001b[0m         \u001b[0merrno\u001b[0m \u001b[1;33m=\u001b[0m \u001b[0mself\u001b[0m\u001b[1;33m.\u001b[0m\u001b[0mread_uint16\u001b[0m\u001b[1;33m(\u001b[0m\u001b[1;33m)\u001b[0m\u001b[1;33m\u001b[0m\u001b[1;33m\u001b[0m\u001b[0m\n\u001b[0;32m    222\u001b[0m         \u001b[1;32mif\u001b[0m \u001b[0mDEBUG\u001b[0m\u001b[1;33m:\u001b[0m \u001b[0mprint\u001b[0m\u001b[1;33m(\u001b[0m\u001b[1;34m\"errno =\"\u001b[0m\u001b[1;33m,\u001b[0m \u001b[0merrno\u001b[0m\u001b[1;33m)\u001b[0m\u001b[1;33m\u001b[0m\u001b[1;33m\u001b[0m\u001b[0m\n\u001b[1;32m--> 223\u001b[1;33m         \u001b[0merr\u001b[0m\u001b[1;33m.\u001b[0m\u001b[0mraise_mysql_exception\u001b[0m\u001b[1;33m(\u001b[0m\u001b[0mself\u001b[0m\u001b[1;33m.\u001b[0m\u001b[0m_data\u001b[0m\u001b[1;33m)\u001b[0m\u001b[1;33m\u001b[0m\u001b[1;33m\u001b[0m\u001b[0m\n\u001b[0m\u001b[0;32m    224\u001b[0m \u001b[1;33m\u001b[0m\u001b[0m\n\u001b[0;32m    225\u001b[0m     \u001b[1;32mdef\u001b[0m \u001b[0mdump\u001b[0m\u001b[1;33m(\u001b[0m\u001b[0mself\u001b[0m\u001b[1;33m)\u001b[0m\u001b[1;33m:\u001b[0m\u001b[1;33m\u001b[0m\u001b[1;33m\u001b[0m\u001b[0m\n",
      "\u001b[1;32m~\\.conda\\envs\\python\\lib\\site-packages\\pymysql\\err.py\u001b[0m in \u001b[0;36mraise_mysql_exception\u001b[1;34m(data)\u001b[0m\n\u001b[0;32m    105\u001b[0m     \u001b[1;32mif\u001b[0m \u001b[0merrorclass\u001b[0m \u001b[1;32mis\u001b[0m \u001b[1;32mNone\u001b[0m\u001b[1;33m:\u001b[0m\u001b[1;33m\u001b[0m\u001b[1;33m\u001b[0m\u001b[0m\n\u001b[0;32m    106\u001b[0m         \u001b[0merrorclass\u001b[0m \u001b[1;33m=\u001b[0m \u001b[0mInternalError\u001b[0m \u001b[1;32mif\u001b[0m \u001b[0merrno\u001b[0m \u001b[1;33m<\u001b[0m \u001b[1;36m1000\u001b[0m \u001b[1;32melse\u001b[0m \u001b[0mOperationalError\u001b[0m\u001b[1;33m\u001b[0m\u001b[1;33m\u001b[0m\u001b[0m\n\u001b[1;32m--> 107\u001b[1;33m     \u001b[1;32mraise\u001b[0m \u001b[0merrorclass\u001b[0m\u001b[1;33m(\u001b[0m\u001b[0merrno\u001b[0m\u001b[1;33m,\u001b[0m \u001b[0merrval\u001b[0m\u001b[1;33m)\u001b[0m\u001b[1;33m\u001b[0m\u001b[1;33m\u001b[0m\u001b[0m\n\u001b[0m",
      "\u001b[1;31mOperationalError\u001b[0m: (1045, \"Access denied for user 'root'@'localhost' (using password: YES)\")"
     ]
    }
   ],
   "source": [
    "###db에 올리는 방식으로\n",
    "\n",
    "import re\n",
    "import pymysql\n",
    "\n",
    "class Student:\n",
    "    student_number = 1\n",
    "    def __init__(self, name, age, phone, address, major):\n",
    "        self.name = name\n",
    "        self.age = age\n",
    "        self.phone = phone\n",
    "        self.address = address\n",
    "        self.major = major\n",
    "        Student.student_number += 1\n",
    "        \n",
    "        \n",
    "def Menu():\n",
    "    print(f'{Student.student_number - 1}명의 학생 정보가 있습니다')\n",
    "    print('-'*50)\n",
    "    print('1. 학생정보 입력')\n",
    "    print('2. 학생정보 검색')\n",
    "    print('3. 학생정보 출력')\n",
    "    print('4. 학생정보 파일 저장 및 불러오기')\n",
    "    print('5. 종료')\n",
    "    print('-'*50)\n",
    "    choice = int(input('학생정보 관리. 메뉴를 선택하세요: '))\n",
    "    print('-'*50)\n",
    "    return choice\n",
    "\n",
    "\n",
    "def Student_Resister():\n",
    "    name = input('1. 이름: ')\n",
    "    age = input('2. 나이: ')\n",
    "    phone = input('3. 전화번호(\\'-\\'를 붙여서): ')\n",
    "    address = input('4. 주소: ')\n",
    "    major = input('5. 전공: ')\n",
    "    print('-'*50)\n",
    "    student_dict.update({Student.student_number:Student(name, age, phone, address, major)})\n",
    "\n",
    "    \n",
    "def Student_Search():\n",
    "    method = 0\n",
    "    while method != 3:\n",
    "        method = int(input('검색 선택(1 번호, 2 이름, 3 이전으로 돌아가기): '))\n",
    "        print('-'*50)\n",
    "        if method == 1:\n",
    "            stu_num = int(input('학생 번호를 입력하세요: '))\n",
    "            if stu_num in student_dict.keys():\n",
    "                print(f'{stu_num}: 이름: {student_dict[stu_num].name}, 나이: {student_dict[stu_num].age}세, 전화번호: {student_dict[stu_num].phone}, 주소: {student_dict[stu_num].address}, 전공: {student_dict[stu_num].major}')\n",
    "                print('-'*50)\n",
    "            else:\n",
    "                print('없는 학생 번호 입니다')\n",
    "                print('-'*50)\n",
    "                \n",
    "        elif method == 2:\n",
    "            stu_name = input('학생 이름을 입력하세요: ')\n",
    "            count = 1\n",
    "            for key in student_dict:\n",
    "                if stu_name == student_dict[key].name:\n",
    "                    print(f'{key}: 이름: {student_dict[key].name}, 나이: {student_dict[key].age}세, 전화번호: {student_dict[key].phone}, 주소: {student_dict[key].address}, 전공: {student_dict[key].major}')\n",
    "                    print('-'*50)\n",
    "                else:\n",
    "                    if count == Student.student_number:\n",
    "                        print('해당 학생을 찾을 수 없었습니다')\n",
    "                        print('-'*50)\n",
    "                    count += 1\n",
    "        \n",
    "        elif method == 3:\n",
    "            pass\n",
    "        else:\n",
    "            print('잘못된 입력입니다')\n",
    "\n",
    "                    \n",
    "def Student_Print():\n",
    "    for key in student_dict:\n",
    "        print(f'{key}: 이름: {student_dict[key].name}, 나이: {student_dict[key].age}세, 전화번호: {student_dict[key].phone}, 주소: {student_dict[key].address}, 전공: {student_dict[key].major}')\n",
    "        print('-'*50)\n",
    "        \n",
    "        \n",
    "def Student_File():\n",
    "    method = 0\n",
    "    while method != 3:\n",
    "        method = int(input('검색 선택(1 저장, 2 불러오기, 3 이전으로 돌아가기): '))\n",
    "        print('-'*50)\n",
    "        \n",
    "        if method == 1:\n",
    "            con = pymysql.connect(host = 'localhost', user = 'root', password = '#####', db = 'sys', charset = 'utf8' )\n",
    "            cur = con.cursor()\n",
    "\n",
    "            # 데이터 입력\n",
    "            sql = \"insert into info (student_number, student_name, student_age, student_phone, student_address, student_major) values (%s, %s, %s, %s, %s, %s)\"\n",
    "            for key, value in student_dict.items():\n",
    "                data_for_input = (key, value.name, value.age, value.phone, value.address, value.major)\n",
    "                cur.execute(sql, data_for_input)\n",
    "                \n",
    "            con.commit()\n",
    "            con.close()\n",
    "            print(\"파일을 저장하였습니다\")\n",
    "            print('-'*50)\n",
    "        \n",
    "        elif method == 2:\n",
    "            #파일 불러오기\n",
    "            try:\n",
    "                con = pymysql.connect(host = 'localhost', user = 'root', password = '#####', db = 'student_info', charset = 'utf8' )\n",
    "                cur = con.cursor()\n",
    "            except:\n",
    "                print('저장 파일이 없습니다')\n",
    "                print('-'*50)\n",
    "                break\n",
    "            \n",
    "            # 데이터 불러오기\n",
    "            cur.execute(\"select * from info\")\n",
    "            \n",
    "            #데이터를 학생정보프로그램에 입력하기\n",
    "            while True:\n",
    "                row = cur.fetchone()\n",
    "                if row == None:\n",
    "                    break\n",
    "                student_dict[row[0]] = Student(row[1], row[2], row[3], row[4], row[5])\n",
    "                Student.student_number = row[0] + 1\n",
    "                \n",
    "            con.close()            \n",
    "            print(\"저장 파일을 불러왔습니다\")\n",
    "            print('-'*50)\n",
    "            \n",
    "        elif method == 3:\n",
    "            pass\n",
    "        else:\n",
    "            print('잘못된 입력입니다')\n",
    "            print('-'*50)\n",
    "            \n",
    "            \n",
    "if __name__ == '__main__':\n",
    "    con = pymysql.connect(host = 'localhost', user = 'user3', password = 'xogusdl1234!', db = 'test', charset = 'utf8' )\n",
    "    cur = con.cursor()\n",
    "\n",
    "    cur.execute(\"DROP DATABASE IF EXISTS student_info;\")\n",
    "    cur.execute(\"create database student_info;\")\n",
    "    cur.execute(\"USE student_info;\")\n",
    "    cur.execute('create table info (student_number int primary key, student_name varchar(20), student_age varchar(20), student_phone varchar(20), student_address varchar(50), student_major varchar(20));')\n",
    "\n",
    "\n",
    "    student_dict ={}\n",
    "    choice = 1\n",
    "    while choice != 5:\n",
    "        choice = Menu()\n",
    "        if choice == 1:\n",
    "            Student_Resister()\n",
    "        elif choice == 2:\n",
    "            Student_Search()\n",
    "        elif choice == 3:\n",
    "            Student_Print()\n",
    "        elif choice == 4:\n",
    "            Student_File()\n",
    "        elif choice == 5:\n",
    "            pass\n",
    "        else:\n",
    "            print('잘못된 입력입니다')"
   ]
  },
  {
   "cell_type": "code",
   "execution_count": null,
   "metadata": {},
   "outputs": [],
   "source": []
  }
 ],
 "metadata": {
  "kernelspec": {
   "display_name": "Python 3",
   "language": "python",
   "name": "python3"
  },
  "language_info": {
   "codemirror_mode": {
    "name": "ipython",
    "version": 3
   },
   "file_extension": ".py",
   "mimetype": "text/x-python",
   "name": "python",
   "nbconvert_exporter": "python",
   "pygments_lexer": "ipython3",
   "version": "3.6.12"
  }
 },
 "nbformat": 4,
 "nbformat_minor": 4
}
