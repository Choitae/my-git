{
 "cells": [
  {
   "cell_type": "markdown",
   "id": "macro-apartment",
   "metadata": {},
   "source": [
    "# 퍼셉트론 \n",
    "- 퍼셉트론 : 최초 인공세포\n",
    "- 단층 / 다층 -> 다층 : 할수 있는 일을 다양하게 만들수있다\n",
    "- 멀티 레이어 퍼셉트론(다층) -> 시그모이드가 들어간 여러 일을 처리할 수 있는 (a달린) -> 뉴런 네트워크\n",
    "- 편향 : \n",
    "- 일반적인 퍼셉트론 : 임계값 $\\theta $을 넘으면 1, 넘지 못하면 0 -> $W_1X_1 - \\theta <= 0 $\n",
    "- 퍼셉트론의 계단함수 or 활성화 함수 : $U(z) = W_1X_1 - \\theta $ 값은 0 or 1 \n",
    "- $\\theta = -b$로 치환하면 $y = W_1X_1 + W_2X_2 + b $"
   ]
  },
  {
   "cell_type": "markdown",
   "id": "native-conviction",
   "metadata": {},
   "source": [
    "# 활성화 함수\n",
    "- 인공 신경망을 다양하게 표현하기 위한 \n",
    "- sigmoid : 신호의 세기. 0에 가까울 수록 작고, 1에 가까울 수록 강함.  중앙값은 쓸모없는 값\n",
    "- tahn (Hyperblic Tangent) : 데이터의 방향성. 유사도. 1에 가까울수록 유사한 데이터, -1은 반대 데이터\n",
    "- relu : 음수 또는 불필요한 데이터는 0, 양수나 사용할 데이터는 그대로, 이미지 분류에 사용.\n",
    "- softmax (identity function-회귀문제): 일부데이터(k) / 전체데이터 --> softmax의 합은 무조건 1 -->  확률.\n"
   ]
  },
  {
   "cell_type": "markdown",
   "id": "crude-kentucky",
   "metadata": {},
   "source": [
    "# 행렬 내적\n",
    "- 행렬 내적 시 $A\\cdot B$이면 모양이(x, y), (z, o)이면 y와 z의 값은 같아야한다\n",
    "- 교환 법칙은 성립하지 않음"
   ]
  },
  {
   "cell_type": "markdown",
   "id": "minimal-aggregate",
   "metadata": {},
   "source": [
    "# 행렬과 신경망\n",
    "\n",
    "입력층 ($x_1, x_2, x_3$), 은닉층(1층) 2개\n",
    "\n",
    "$W^{to_1}_{(to_2)(from_3)}$ = 1 : ~번째 은닉층의 / 2 : 뉴런으로 가는, 3 : 가중치\n",
    "\n",
    "input -> 은닉층\n",
    "x = (x_1, x_2, x_3),  (1, 3) or (3,)\n",
    "w = $\\begin{bmatrix}\n",
    "w^{(1)}_{11}& w^{(1)}_{12}\\\\\n",
    "w^{(1)}_{12} &w^{(1)}_{22}\\\\\n",
    "w^{(1)}_{13} &w^{(1)}_{23}\n",
    "\\end{bmatrix}$\n",
    "\n",
    "$B = \\begin{bmatrix}b^{(1)}_1 & b^{(1)}_2\\end{bmatrix}$\n",
    "\n",
    "A= a(z) (시그모이드 , relu, tanh...)\n",
    "$A^{(1)}$ = (a_1, a_2) \n",
    "활성화 함수 개수 = 마지막 뉴런의 개수\n",
    "\n",
    "활성화 함수는 일반적으로 한층 모두 동일하게 사용한다. 각 출력 뉴런마다 역할이 있기 때문에.\n",
    "\n",
    "\n",
    "\n",
    "- 하이퍼 파라미터\n",
    "\n",
    "\n",
    "\n",
    "\n",
    "- 모델 파라미터"
   ]
  },
  {
   "cell_type": "markdown",
   "id": "organizational-review",
   "metadata": {},
   "source": [
    "- axis = 방향\n",
    "- [1, 2, 3] -> max axis = 0\n",
    "- axis = n -> arr 자체에 데이터가 추가되는 방향\n",
    "- arr = [[1,2,3],[4,5,6]] 일떄 arr = 0이면 [4,5,6]아래에 [4,5,6] 형식으로 구성\n",
    "\n"
   ]
  },
  {
   "cell_type": "code",
   "execution_count": 2,
   "id": "sublime-cabinet",
   "metadata": {},
   "outputs": [],
   "source": [
    "import numpy as np"
   ]
  },
  {
   "cell_type": "code",
   "execution_count": 34,
   "id": "instrumental-style",
   "metadata": {},
   "outputs": [
    {
     "data": {
      "text/plain": [
       "array([0, 1, 2, 3, 4, 5])"
      ]
     },
     "execution_count": 34,
     "metadata": {},
     "output_type": "execute_result"
    }
   ],
   "source": [
    "arr = np.arange(6)\n",
    "arr"
   ]
  },
  {
   "cell_type": "code",
   "execution_count": 35,
   "id": "beneficial-calculation",
   "metadata": {},
   "outputs": [
    {
     "data": {
      "text/plain": [
       "5"
      ]
     },
     "execution_count": 35,
     "metadata": {},
     "output_type": "execute_result"
    }
   ],
   "source": [
    "arr.max(axis=0) # 1차원 행렬에서, 가장 마지막 원소의 값을 도출. 이 방향으로 데이터가 추가 될 예정"
   ]
  },
  {
   "cell_type": "code",
   "execution_count": 30,
   "id": "genetic-tiffany",
   "metadata": {},
   "outputs": [
    {
     "data": {
      "text/plain": [
       "array([[0, 1, 2],\n",
       "       [3, 4, 5]])"
      ]
     },
     "execution_count": 30,
     "metadata": {},
     "output_type": "execute_result"
    }
   ],
   "source": [
    "arr = np.arange(6).reshape(2,3)\n",
    "arr"
   ]
  },
  {
   "cell_type": "code",
   "execution_count": 31,
   "id": "heard-irrigation",
   "metadata": {
    "scrolled": true
   },
   "outputs": [
    {
     "data": {
      "text/plain": [
       "array([3, 4, 5])"
      ]
     },
     "execution_count": 31,
     "metadata": {},
     "output_type": "execute_result"
    }
   ],
   "source": [
    "arr.max(axis=0) # 2차원 행렬에서, 가장 첫차원인 1차원 행렬의 값을 도출. 이 방향으로 데이터가 추가 될 예정"
   ]
  },
  {
   "cell_type": "code",
   "execution_count": 33,
   "id": "tamil-milwaukee",
   "metadata": {},
   "outputs": [
    {
     "data": {
      "text/plain": [
       "array([2, 5])"
      ]
     },
     "execution_count": 33,
     "metadata": {},
     "output_type": "execute_result"
    }
   ],
   "source": [
    "arr.max(axis=1) # 2차원 행렬에서, 각 1차원의 가장 마지막 원소의 값을 도출. 이 방향으로 데이터가 추가 될 예정"
   ]
  },
  {
   "cell_type": "code",
   "execution_count": 37,
   "id": "capable-importance",
   "metadata": {},
   "outputs": [
    {
     "data": {
      "text/plain": [
       "array([[[ 0,  1],\n",
       "        [ 2,  3],\n",
       "        [ 4,  5]],\n",
       "\n",
       "       [[ 6,  7],\n",
       "        [ 8,  9],\n",
       "        [10, 11]]])"
      ]
     },
     "execution_count": 37,
     "metadata": {},
     "output_type": "execute_result"
    }
   ],
   "source": [
    "arr = np.arange(12).reshape(2,3,2) #\n",
    "arr"
   ]
  },
  {
   "cell_type": "code",
   "execution_count": 38,
   "id": "foreign-bolivia",
   "metadata": {},
   "outputs": [
    {
     "data": {
      "text/plain": [
       "array([[ 6,  7],\n",
       "       [ 8,  9],\n",
       "       [10, 11]])"
      ]
     },
     "execution_count": 38,
     "metadata": {},
     "output_type": "execute_result"
    }
   ],
   "source": [
    "arr.max(axis=0)  # 3차원 행렬에서, 가장 첫차원인 2차원의 행렬의 값을 도출. 이 방향으로 데이터가 추가 될 예정"
   ]
  },
  {
   "cell_type": "code",
   "execution_count": 39,
   "id": "asian-routine",
   "metadata": {},
   "outputs": [
    {
     "data": {
      "text/plain": [
       "array([[ 4,  5],\n",
       "       [10, 11]])"
      ]
     },
     "execution_count": 39,
     "metadata": {},
     "output_type": "execute_result"
    }
   ],
   "source": [
    "arr.max(axis=1) # 3차원 행렬에서, 각 2차원의 원소 중 가장 마지막 1차원의 행렬 값을 도출.  이 방향으로 데이터가 추가 될 예정"
   ]
  },
  {
   "cell_type": "code",
   "execution_count": 41,
   "id": "relevant-possibility",
   "metadata": {},
   "outputs": [
    {
     "data": {
      "text/plain": [
       "array([[ 1,  3,  5],\n",
       "       [ 7,  9, 11]])"
      ]
     },
     "execution_count": 41,
     "metadata": {},
     "output_type": "execute_result"
    }
   ],
   "source": [
    "arr.max(axis=2)  # 3차원 행렬에서, 각 2차원의 원소의 각 1차원의 가장 마지막 1차원의 행렬 값을 도출.  이 방향으로 데이터가 추가 될 예정"
   ]
  },
  {
   "cell_type": "code",
   "execution_count": 44,
   "id": "separate-orange",
   "metadata": {},
   "outputs": [
    {
     "data": {
      "text/plain": [
       "array([[[[ 0,  1],\n",
       "         [ 2,  3]],\n",
       "\n",
       "        [[ 4,  5],\n",
       "         [ 6,  7]],\n",
       "\n",
       "        [[ 8,  9],\n",
       "         [10, 11]]],\n",
       "\n",
       "\n",
       "       [[[12, 13],\n",
       "         [14, 15]],\n",
       "\n",
       "        [[16, 17],\n",
       "         [18, 19]],\n",
       "\n",
       "        [[20, 21],\n",
       "         [22, 23]]],\n",
       "\n",
       "\n",
       "       [[[24, 25],\n",
       "         [26, 27]],\n",
       "\n",
       "        [[28, 29],\n",
       "         [30, 31]],\n",
       "\n",
       "        [[32, 33],\n",
       "         [34, 35]]],\n",
       "\n",
       "\n",
       "       [[[36, 37],\n",
       "         [38, 39]],\n",
       "\n",
       "        [[40, 41],\n",
       "         [42, 43]],\n",
       "\n",
       "        [[44, 45],\n",
       "         [46, 47]]]])"
      ]
     },
     "execution_count": 44,
     "metadata": {},
     "output_type": "execute_result"
    }
   ],
   "source": [
    "arr = np.arange(48).reshape(4,3,2,2) #\n",
    "arr"
   ]
  },
  {
   "cell_type": "code",
   "execution_count": 46,
   "id": "permanent-sword",
   "metadata": {},
   "outputs": [
    {
     "data": {
      "text/plain": [
       "array([[[36, 37],\n",
       "        [38, 39]],\n",
       "\n",
       "       [[40, 41],\n",
       "        [42, 43]],\n",
       "\n",
       "       [[44, 45],\n",
       "        [46, 47]]])"
      ]
     },
     "execution_count": 46,
     "metadata": {},
     "output_type": "execute_result"
    }
   ],
   "source": [
    "arr.max(axis=0)# [[[36, 37], [38, 39]], [[40, 41], [42, 43]], [[44, 45], [46, 47]]] #"
   ]
  },
  {
   "cell_type": "code",
   "execution_count": 47,
   "id": "bibliographic-packet",
   "metadata": {},
   "outputs": [
    {
     "data": {
      "text/plain": [
       "array([[[ 8,  9],\n",
       "        [10, 11]],\n",
       "\n",
       "       [[20, 21],\n",
       "        [22, 23]],\n",
       "\n",
       "       [[32, 33],\n",
       "        [34, 35]],\n",
       "\n",
       "       [[44, 45],\n",
       "        [46, 47]]])"
      ]
     },
     "execution_count": 47,
     "metadata": {},
     "output_type": "execute_result"
    }
   ],
   "source": [
    "arr.max(axis=1)#"
   ]
  },
  {
   "cell_type": "code",
   "execution_count": 48,
   "id": "resident-conviction",
   "metadata": {
    "scrolled": true
   },
   "outputs": [
    {
     "data": {
      "text/plain": [
       "array([[[ 2,  3],\n",
       "        [ 6,  7],\n",
       "        [10, 11]],\n",
       "\n",
       "       [[14, 15],\n",
       "        [18, 19],\n",
       "        [22, 23]],\n",
       "\n",
       "       [[26, 27],\n",
       "        [30, 31],\n",
       "        [34, 35]],\n",
       "\n",
       "       [[38, 39],\n",
       "        [42, 43],\n",
       "        [46, 47]]])"
      ]
     },
     "execution_count": 48,
     "metadata": {},
     "output_type": "execute_result"
    }
   ],
   "source": [
    "arr.max(axis=2)"
   ]
  },
  {
   "cell_type": "code",
   "execution_count": 49,
   "id": "eastern-testing",
   "metadata": {},
   "outputs": [
    {
     "data": {
      "text/plain": [
       "array([[[ 1,  3],\n",
       "        [ 5,  7],\n",
       "        [ 9, 11]],\n",
       "\n",
       "       [[13, 15],\n",
       "        [17, 19],\n",
       "        [21, 23]],\n",
       "\n",
       "       [[25, 27],\n",
       "        [29, 31],\n",
       "        [33, 35]],\n",
       "\n",
       "       [[37, 39],\n",
       "        [41, 43],\n",
       "        [45, 47]]])"
      ]
     },
     "execution_count": 49,
     "metadata": {},
     "output_type": "execute_result"
    }
   ],
   "source": [
    "arr.max(axis=3)"
   ]
  },
  {
   "cell_type": "markdown",
   "id": "improving-mirror",
   "metadata": {},
   "source": [
    "- softmax : 지수 함수로, 크기가 너무 커지는 것을 막고자, log함수 log(C)를 더함. 이는 함수로 -c로 사용한다.\n",
    "- softmax 함수는 단조함수, 즉, 정의역 원소 a,b의 값의 크기가 a<b일 때, 함수 값도 f(a) < f(b)이다. 입력 값의 크기 순에 따라 출력 값 크기 순서도 동일하게 나온다. -> 예측에는 사용되지 않고, 그 값이 나올 확률만 알 수 있다."
   ]
  },
  {
   "cell_type": "markdown",
   "id": "prompt-shadow",
   "metadata": {},
   "source": [
    "- 배치 : 1장씩 또는 10장씩 나누는 단위\n",
    "- 애폭 : 전체 1회 도는 횟수\n",
    "- 미니배치 : ~개 중에 ~개를 랜덤으로 뽑아내는것. -> SGD"
   ]
  },
  {
   "cell_type": "markdown",
   "id": "brazilian-assist",
   "metadata": {},
   "source": [
    "- 학습 : 가중치와 bias의 최적값을 찾기 위함이며 '미분'이라는 도구를 사용\n",
    "\n",
    "- 머신러닝 전 : 사람이 알고리즘을 생각해서 컴퓨터는 결과만.\n",
    "- 머신러닝 후 : 사람이 데이터에 대한 특징을 생각해내고, 머신러닝(SVM, KNN등)이 결과를 내었다.\n",
    "- 레이블링 없이 하면 대표적인 비지도 학습"
   ]
  },
  {
   "cell_type": "markdown",
   "id": "official-color",
   "metadata": {},
   "source": [
    "## loss \n",
    "- loss는 손실. 그렇기 떄문에 못했다를 현재의 상태, '지표' 로 둔다. \n",
    "- 잘됐다를 지표로 두면, 100%인 목표를 따라 편향될 수 있고, loss를 지표로 두면, 0에 가까운 여러 값을 나타낼 수 있다.\n",
    "- 그리고 수학적으로 loss 함수를 미분하는 것이 cost 함수로 값을 구하는 것 보다 더 좋다.\n",
    "- MSE : 공부용. 1/2 또한 이차함수라고 가정하는 MSE를 미분 했을 때, 곱해지는 값을 없애기 위해. 공부하기 쉽기 위해.\n",
    "- 실제 사용: cross entropy 크로스 엔트로피. :  MSE보다 오차를 더 확실하게 인지 할 수 있다. 0을 내려가지 않는 로그 그래프\n",
    "- 오차가 크면 loss가 크다. "
   ]
  },
  {
   "cell_type": "markdown",
   "id": "collected-scheme",
   "metadata": {},
   "source": [
    "## 경사하강법을 위한 미분\n",
    "- 속도에서의 미분 : 한 순간의 변화량\n",
    "- 함수에서의 미분 : 기울기. y값의 변화량 / x값의 변화량 = $\\frac {f(x+\\Delta x) - f(x)}{x + \\Delta x - x}$.\n",
    "- $\\Delta x$ 값을 최소한으로 줄이기 위해 limit로 $\\Delta$ x를 0에 수렴하게 한다\n",
    "- 분모의 값이 너무 작을 경우 0에 수렴하게 된다. 분모는 0이면 안되기 때문에 정방차분과 중앙차분을 이용해서,\n",
    "  x를 기준으로 $x + \\Delta x$ 와  $(x - \\Delta x)$를 나누어, 이 값을 정의역으로 하여 기울기를 구한다.\n",
    "- 이는 기울기는 동일하며 평행이동으로 이동할 수 있다는 것을 가정하기 때문에 문제가 없다."
   ]
  },
  {
   "cell_type": "markdown",
   "id": "extreme-assembly",
   "metadata": {},
   "source": [
    "## 편미분\n",
    "- 특정 x값에 대한 미분을 구한다, 즉 $x_0$의 편미분을 구한다면 $x_1$을 무시하고 구하겠다.\n",
    "    - 삭제하겠다는 것이 아닌 $x_1$ = 3일때의 $x_2$ = 3일 때 미분 값\n",
    "    - 가중치를 구할 때 1번 가중치에 대한 loss율, 2번 가중치에 대한 loss율을 각각 구해야 하기 때문에 $W_1X_1$의 기울기 값을 구할 때는 $W_2X_2$를 무시하고, 반대의 경우도 동일하게 실행한다"
   ]
  },
  {
   "cell_type": "markdown",
   "id": "accessory-charter",
   "metadata": {},
   "source": [
    "##\n",
    "- smapl_weight.pkl\n",
    "    - MNIST 손글씨 데이터 셋을 분류하기 위한 가중치, 편향이 학습되어 있는 상태\n",
    "    - MNIST 손글씨 데이터셋\n",
    "       - 세로 28px, 가로 28px\n",
    "       - 784 (28 * 28) 개의 입력값이 있다.\n",
    "    - 은닉층 2개 층이 존재한다.\n",
    "        - 1층 은닉층(W1) : (784, 50)\n",
    "        - 2층 은닉층(W2) : (50, 100)\n",
    "        \n",
    "    - 숫자 10개를 분류 해야하기 때문에 출력층의 유닛은 10개"
   ]
  },
  {
   "cell_type": "code",
   "execution_count": 1,
   "id": "persistent-waters",
   "metadata": {},
   "outputs": [],
   "source": [
    "import numpy as np"
   ]
  },
  {
   "cell_type": "code",
   "execution_count": null,
   "id": "democratic-creator",
   "metadata": {},
   "outputs": [],
   "source": []
  },
  {
   "cell_type": "code",
   "execution_count": null,
   "id": "brilliant-edgar",
   "metadata": {},
   "outputs": [],
   "source": []
  },
  {
   "cell_type": "code",
   "execution_count": null,
   "id": "diagnostic-headquarters",
   "metadata": {},
   "outputs": [],
   "source": []
  },
  {
   "cell_type": "code",
   "execution_count": null,
   "id": "formal-civilian",
   "metadata": {},
   "outputs": [],
   "source": []
  },
  {
   "cell_type": "code",
   "execution_count": null,
   "id": "fallen-transsexual",
   "metadata": {},
   "outputs": [],
   "source": []
  },
  {
   "cell_type": "markdown",
   "id": "close-assembly",
   "metadata": {},
   "source": [
    " "
   ]
  },
  {
   "cell_type": "markdown",
   "id": "better-mistress",
   "metadata": {},
   "source": []
  },
  {
   "cell_type": "markdown",
   "id": "global-italy",
   "metadata": {},
   "source": []
  },
  {
   "cell_type": "markdown",
   "id": "municipal-renewal",
   "metadata": {},
   "source": []
  },
  {
   "cell_type": "markdown",
   "id": "proud-sauce",
   "metadata": {},
   "source": []
  },
  {
   "cell_type": "markdown",
   "id": "jewish-greek",
   "metadata": {},
   "source": []
  },
  {
   "cell_type": "markdown",
   "id": "champion-stretch",
   "metadata": {},
   "source": []
  },
  {
   "cell_type": "markdown",
   "id": "known-devil",
   "metadata": {},
   "source": []
  },
  {
   "cell_type": "markdown",
   "id": "raising-harvey",
   "metadata": {},
   "source": []
  },
  {
   "cell_type": "markdown",
   "id": "removable-clearing",
   "metadata": {},
   "source": []
  },
  {
   "cell_type": "markdown",
   "id": "collect-article",
   "metadata": {},
   "source": []
  },
  {
   "cell_type": "markdown",
   "id": "rapid-president",
   "metadata": {},
   "source": []
  },
  {
   "cell_type": "markdown",
   "id": "fatal-florist",
   "metadata": {},
   "source": []
  },
  {
   "cell_type": "markdown",
   "id": "static-penalty",
   "metadata": {},
   "source": []
  },
  {
   "cell_type": "markdown",
   "id": "vulnerable-fifty",
   "metadata": {},
   "source": []
  }
 ],
 "metadata": {
  "kernelspec": {
   "display_name": "Python 3",
   "language": "python",
   "name": "python3"
  },
  "language_info": {
   "codemirror_mode": {
    "name": "ipython",
    "version": 3
   },
   "file_extension": ".py",
   "mimetype": "text/x-python",
   "name": "python",
   "nbconvert_exporter": "python",
   "pygments_lexer": "ipython3",
   "version": "3.7.9"
  }
 },
 "nbformat": 4,
 "nbformat_minor": 5
}
