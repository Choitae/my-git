{
 "cells": [
  {
   "cell_type": "markdown",
   "id": "every-monthly",
   "metadata": {},
   "source": [
    "# 퍼셉트론 \n",
    "- 퍼셉트론 : 최초 인공세포\n",
    "- 단층 / 다층 -> 다층 : 출력은 1과 0으로 동일하지만, 하나의 퍼셉트론으로 구현하지 못하는 NOR 같은 경우를 다층 퍼셉트론으로 구현할 수 있다.\n",
    "- 멀티 레이어 퍼셉트론(다층) -> 시그모이드가 들어간 여러 일을 처리할 수 있는 (a달린) -> 뉴런 네트워크\n",
    "- 편향 : \n",
    "- 일반적인 퍼셉트론 : 임계값 $\\theta $을 넘으면 1, 넘지 못하면 0 -> $W_1X_1 - \\theta <= 0 $\n",
    "- 퍼셉트론의 계단함수 or 활성화 함수 : $U(z) = W_1X_1 - \\theta $ 값은 0 or 1 \n",
    "- $\\theta = -b$로 치환하면 $y = W_1X_1 + W_2X_2 + b $\n"
   ]
  },
  {
   "cell_type": "markdown",
   "id": "trained-hughes",
   "metadata": {},
   "source": [
    "# 활성화 함수\n",
    "- 인공 신경망을 다양하게 표현하기 위한 \n",
    "- sigmoid : 신호의 세기. 0에 가까울 수록 작고, 1에 가까울 수록 강함.  중앙값은 쓸모없는 값\n",
    "- tahn (Hyperblic Tangent) : 데이터의 방향성. 유사도. 1에 가까울수록 유사한 데이터, -1은 반대 데이터\n",
    "- relu : 음수 또는 불필요한 데이터는 0, 양수나 사용할 데이터는 그대로, 이미지 분류에 사용.\n",
    "- softmax : \n",
    "- \n",
    "- "
   ]
  },
  {
   "cell_type": "markdown",
   "id": "grateful-millennium",
   "metadata": {},
   "source": [
    "# 행렬 내적\n",
    "- 행렬 내적 시 $A\\cdot B$이면 모양이(x, y), (z, o)이면 y와 z의 값은 같아야한다\n",
    "- 교환 법칙은 성립하지 않음"
   ]
  },
  {
   "cell_type": "markdown",
   "id": "hired-shield",
   "metadata": {},
   "source": [
    "# 행렬과 신경망\n",
    "\n",
    "입력층 ($x_1, x_2, x_3$), 은닉층(1층) 2개\n",
    "\n",
    "$W^{to_1}_{(to_2)(from_3)}$ = 1 : ~번째 은닉층의 / 2 : 뉴런으로 가는, 3 : 가중치\n",
    "\n",
    "input -> 은닉층\n",
    "x = (x_1, x_2, x_3),  (1, 3) or (3,)\n",
    "w = $\\bmatrix\n",
    "w^{(1)}_{11} w_12\n",
    "w_12 w_22\n",
    "w_13 w_23\n",
    "\\ematrix$\n",
    "\n",
    "$B = (b^{1}_1 b^{1}_2)$\n",
    "\n",
    "A= a(z) (시그모이드 , relu, tanh...)\n",
    "A^{(1)} = (a_1, a_2) \n",
    "활성화 함수 개수 = 마지막 뉴런의 개수\n",
    "\n",
    "활성화 함수는 일반적으로 한층 모두 동일하게 사용한다. 각 출력 뉴런마다 역할이 있기 때문에.\n",
    "\n",
    "\n",
    "\n",
    "- 하이퍼 파라미터\n",
    "\n",
    "\n",
    "\n",
    "\n",
    "- 모델 파라미터"
   ]
  },
  {
   "cell_type": "markdown",
   "id": "finite-logic",
   "metadata": {},
   "source": [
    "- axis = 방향\n",
    "- [1, 2, 3] -> max axis = 0\n",
    "- axis = n -> arr 자체에 데이터가 추가되는 방향\n",
    "- arr = [[1,2,3],[4,5,6]] 일떄 arr = 0이면 [4,5,6]아래에 [4,5,6] 형식으로 구성"
   ]
  },
  {
   "cell_type": "markdown",
   "id": "useful-given",
   "metadata": {},
   "source": []
  },
  {
   "cell_type": "markdown",
   "id": "ranging-sellers",
   "metadata": {},
   "source": []
  },
  {
   "cell_type": "code",
   "execution_count": 2,
   "id": "heard-alias",
   "metadata": {},
   "outputs": [
    {
     "ename": "ModuleNotFoundError",
     "evalue": "No module named 'numpy'",
     "output_type": "error",
     "traceback": [
      "\u001b[1;31m---------------------------------------------------------------------------\u001b[0m",
      "\u001b[1;31mModuleNotFoundError\u001b[0m                       Traceback (most recent call last)",
      "\u001b[1;32m<ipython-input-2-d4cdadb62aa7>\u001b[0m in \u001b[0;36m<module>\u001b[1;34m\u001b[0m\n\u001b[1;32m----> 1\u001b[1;33m \u001b[1;32mimport\u001b[0m \u001b[0mnumpy\u001b[0m\u001b[1;33m\u001b[0m\u001b[1;33m\u001b[0m\u001b[0m\n\u001b[0m",
      "\u001b[1;31mModuleNotFoundError\u001b[0m: No module named 'numpy'"
     ]
    }
   ],
   "source": [
    "import numpy"
   ]
  },
  {
   "cell_type": "code",
   "execution_count": null,
   "id": "attached-rover",
   "metadata": {},
   "outputs": [],
   "source": []
  },
  {
   "cell_type": "code",
   "execution_count": null,
   "id": "egyptian-restriction",
   "metadata": {},
   "outputs": [],
   "source": []
  },
  {
   "cell_type": "code",
   "execution_count": null,
   "id": "magnetic-paragraph",
   "metadata": {},
   "outputs": [],
   "source": []
  },
  {
   "cell_type": "code",
   "execution_count": null,
   "id": "mediterranean-hawaii",
   "metadata": {},
   "outputs": [],
   "source": []
  },
  {
   "cell_type": "code",
   "execution_count": null,
   "id": "photographic-mainland",
   "metadata": {},
   "outputs": [],
   "source": []
  },
  {
   "cell_type": "markdown",
   "id": "subsequent-sample",
   "metadata": {},
   "source": []
  },
  {
   "cell_type": "markdown",
   "id": "temporal-directory",
   "metadata": {},
   "source": []
  },
  {
   "cell_type": "markdown",
   "id": "copyrighted-rider",
   "metadata": {},
   "source": []
  },
  {
   "cell_type": "markdown",
   "id": "expensive-passing",
   "metadata": {},
   "source": []
  }
 ],
 "metadata": {
  "kernelspec": {
   "display_name": "python38",
   "language": "python",
   "name": "py38"
  },
  "language_info": {
   "codemirror_mode": {
    "name": "ipython",
    "version": 3
   },
   "file_extension": ".py",
   "mimetype": "text/x-python",
   "name": "python",
   "nbconvert_exporter": "python",
   "pygments_lexer": "ipython3",
   "version": "3.8.5"
  }
 },
 "nbformat": 4,
 "nbformat_minor": 5
}
