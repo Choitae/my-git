{
 "cells": [
  {
   "cell_type": "markdown",
   "metadata": {},
   "source": [
    "## 전이 학습\n",
    "  - 뇌 사진과 관련없는 수백만 장의 이미지넷 학습 정보가 큰 역할을 하는 이유는, ‘형태’를 구분하는 기본적인 학습이 되어 있기 때문\n",
    "  - 사전에 학습한 층을 앞에(하위 층), 추가로 학습할 층(상위 층)을 뒤측에 두는데, 이를 바꾸게 되면 안될까?\n",
    "  - 특정 합성곱 층에서 추출한 표현의 일반성(그리고 재사용성), 수준은 모델에 있는 층의 깊이에 달려있습니다. 모델의 하위층은 지역적이고 매우 일반적인 특성 맵(에지, 색깔, 질감 등)을 추출하며, 반면에 상위 층은 좀 더 추상적인 개념(강아지 눈이나 고양이 귀 처럼)을 추출합니다. \n",
    "  - 분류기 - 활성화 함수"
   ]
  },
  {
   "cell_type": "code",
   "execution_count": 1,
   "metadata": {},
   "outputs": [
    {
     "name": "stdout",
     "output_type": "stream",
     "text": [
      "1 Physical GPUs, 1 Logical GPUs\n"
     ]
    }
   ],
   "source": [
    "import tensorflow as tf\n",
    "\n",
    "gpus = tf.config.experimental.list_physical_devices('GPU')\n",
    "if gpus:\n",
    "  try:\n",
    "    # Currently, memory growth needs to be the same across GPUs\n",
    "    for gpu in gpus:\n",
    "      tf.config.experimental.set_memory_growth(gpu, True)\n",
    "    logical_gpus = tf.config.experimental.list_logical_devices('GPU')\n",
    "    print(len(gpus), \"Physical GPUs,\", len(logical_gpus), \"Logical GPUs\")\n",
    "  except RuntimeError as e:\n",
    "    # Memory growth must be set before GPUs have been initialized\n",
    "    print(e)"
   ]
  },
  {
   "cell_type": "code",
   "execution_count": 2,
   "metadata": {},
   "outputs": [],
   "source": [
    "from tensorflow.keras.preprocessing.image import ImageDataGenerator\n",
    "from tensorflow.keras import Input, models, layers, optimizers, metrics\n",
    "from tensorflow.keras.layers import Dense, Flatten\n",
    "from tensorflow.keras.applications import VGG16\n",
    "\n",
    "import tensorflow as tf\n",
    "import numpy as np\n",
    "import matplotlib.pyplot as plt"
   ]
  },
  {
   "cell_type": "code",
   "execution_count": 3,
   "metadata": {},
   "outputs": [
    {
     "name": "stdout",
     "output_type": "stream",
     "text": [
      "Found 160 images belonging to 2 classes.\n",
      "Found 120 images belonging to 2 classes.\n"
     ]
    }
   ],
   "source": [
    "\n",
    "train_datagen = ImageDataGenerator(rescale=1./255,\n",
    "                                  horizontal_flip=True,\n",
    "                                  width_shift_range=0.1,\n",
    "                                  height_shift_range=0.1,\n",
    "                                  fill_mode='nearest')\n",
    "\n",
    "train_generator = train_datagen.flow_from_directory(\n",
    "       'example/080228-master/deeplearning/run_project/train',\n",
    "       target_size=(150, 150),\n",
    "       batch_size=5,\n",
    "       class_mode='binary')\n",
    "\n",
    "test_datagen = ImageDataGenerator(rescale=1./255)\n",
    "\n",
    "test_generator = test_datagen.flow_from_directory(\n",
    "       'example/080228-master/deeplearning/run_project/test',\n",
    "       target_size=(150, 150),\n",
    "       batch_size=5,\n",
    "       class_mode='binary')"
   ]
  },
  {
   "cell_type": "code",
   "execution_count": 4,
   "metadata": {},
   "outputs": [
    {
     "name": "stdout",
     "output_type": "stream",
     "text": [
      "Downloading data from https://github.com/fchollet/deep-learning-models/releases/download/v0.1/vgg16_weights_tf_dim_ordering_tf_kernels_notop.h5\n",
      "58892288/58889256 [==============================] - 15s 0us/step\n",
      "Model: \"vgg16\"\n",
      "_________________________________________________________________\n",
      "Layer (type)                 Output Shape              Param #   \n",
      "=================================================================\n",
      "input_1 (InputLayer)         [(None, 150, 150, 3)]     0         \n",
      "_________________________________________________________________\n",
      "block1_conv1 (Conv2D)        (None, 150, 150, 64)      1792      \n",
      "_________________________________________________________________\n",
      "block1_conv2 (Conv2D)        (None, 150, 150, 64)      36928     \n",
      "_________________________________________________________________\n",
      "block1_pool (MaxPooling2D)   (None, 75, 75, 64)        0         \n",
      "_________________________________________________________________\n",
      "block2_conv1 (Conv2D)        (None, 75, 75, 128)       73856     \n",
      "_________________________________________________________________\n",
      "block2_conv2 (Conv2D)        (None, 75, 75, 128)       147584    \n",
      "_________________________________________________________________\n",
      "block2_pool (MaxPooling2D)   (None, 37, 37, 128)       0         \n",
      "_________________________________________________________________\n",
      "block3_conv1 (Conv2D)        (None, 37, 37, 256)       295168    \n",
      "_________________________________________________________________\n",
      "block3_conv2 (Conv2D)        (None, 37, 37, 256)       590080    \n",
      "_________________________________________________________________\n",
      "block3_conv3 (Conv2D)        (None, 37, 37, 256)       590080    \n",
      "_________________________________________________________________\n",
      "block3_pool (MaxPooling2D)   (None, 18, 18, 256)       0         \n",
      "_________________________________________________________________\n",
      "block4_conv1 (Conv2D)        (None, 18, 18, 512)       1180160   \n",
      "_________________________________________________________________\n",
      "block4_conv2 (Conv2D)        (None, 18, 18, 512)       2359808   \n",
      "_________________________________________________________________\n",
      "block4_conv3 (Conv2D)        (None, 18, 18, 512)       2359808   \n",
      "_________________________________________________________________\n",
      "block4_pool (MaxPooling2D)   (None, 9, 9, 512)         0         \n",
      "_________________________________________________________________\n",
      "block5_conv1 (Conv2D)        (None, 9, 9, 512)         2359808   \n",
      "_________________________________________________________________\n",
      "block5_conv2 (Conv2D)        (None, 9, 9, 512)         2359808   \n",
      "_________________________________________________________________\n",
      "block5_conv3 (Conv2D)        (None, 9, 9, 512)         2359808   \n",
      "_________________________________________________________________\n",
      "block5_pool (MaxPooling2D)   (None, 4, 4, 512)         0         \n",
      "=================================================================\n",
      "Total params: 14,714,688\n",
      "Trainable params: 0\n",
      "Non-trainable params: 14,714,688\n",
      "_________________________________________________________________\n"
     ]
    }
   ],
   "source": [
    "\n",
    "transfer_model = VGG16(weights='imagenet', include_top=False, input_shape=(150, 150, 3))\n",
    "transfer_model.trainable = False\n",
    "transfer_model.summary()# 분류기는 우리 것을 쓸 것이기 때문에, include_top=False"
   ]
  },
  {
   "cell_type": "code",
   "execution_count": 5,
   "metadata": {
    "scrolled": true
   },
   "outputs": [
    {
     "name": "stdout",
     "output_type": "stream",
     "text": [
      "Model: \"sequential\"\n",
      "_________________________________________________________________\n",
      "Layer (type)                 Output Shape              Param #   \n",
      "=================================================================\n",
      "vgg16 (Model)                (None, 4, 4, 512)         14714688  \n",
      "_________________________________________________________________\n",
      "flatten (Flatten)            (None, 8192)              0         \n",
      "_________________________________________________________________\n",
      "dense (Dense)                (None, 64)                524352    \n",
      "_________________________________________________________________\n",
      "dense_1 (Dense)              (None, 2)                 130       \n",
      "=================================================================\n",
      "Total params: 15,239,170\n",
      "Trainable params: 524,482\n",
      "Non-trainable params: 14,714,688\n",
      "_________________________________________________________________\n"
     ]
    }
   ],
   "source": [
    "finetune_model = models.Sequential()\n",
    "finetune_model.add(transfer_model)# 4 * 4로 들어오는 모델을 받아서, 1차원으로 변경\n",
    "finetune_model.add(Flatten())\n",
    "finetune_model.add(Dense(64, activation='relu'))\n",
    "finetune_model.add(Dense(2, activation = 'softmax'))\n",
    "finetune_model.summary()"
   ]
  },
  {
   "cell_type": "code",
   "execution_count": 6,
   "metadata": {},
   "outputs": [],
   "source": [
    "finetune_model.compile(loss='sparse_categorical_crossentropy',\n",
    "                       optimizer=optimizers.Adam(learning_rate=0.0002), metrics=['accuracy'])"
   ]
  },
  {
   "cell_type": "code",
   "execution_count": 7,
   "metadata": {},
   "outputs": [
    {
     "name": "stdout",
     "output_type": "stream",
     "text": [
      "WARNING:tensorflow:From <ipython-input-7-8b0c0b7fd7f8>:6: Model.fit_generator (from tensorflow.python.keras.engine.training) is deprecated and will be removed in a future version.\n",
      "Instructions for updating:\n",
      "Please use Model.fit, which supports generators.\n",
      "WARNING:tensorflow:sample_weight modes were coerced from\n",
      "  ...\n",
      "    to  \n",
      "  ['...']\n",
      "WARNING:tensorflow:sample_weight modes were coerced from\n",
      "  ...\n",
      "    to  \n",
      "  ['...']\n",
      "Train for 32 steps, validate for 24 steps\n",
      "Epoch 1/20\n",
      "32/32 [==============================] - 6s 194ms/step - loss: 0.5743 - accuracy: 0.7188 - val_loss: 0.3874 - val_accuracy: 0.8750\n",
      "Epoch 2/20\n",
      "32/32 [==============================] - 2s 75ms/step - loss: 0.3139 - accuracy: 0.9000 - val_loss: 0.2776 - val_accuracy: 0.9250\n",
      "Epoch 3/20\n",
      "32/32 [==============================] - 2s 74ms/step - loss: 0.2524 - accuracy: 0.9500 - val_loss: 0.2278 - val_accuracy: 0.9333\n",
      "Epoch 4/20\n",
      "32/32 [==============================] - 2s 75ms/step - loss: 0.1733 - accuracy: 0.9688 - val_loss: 0.2203 - val_accuracy: 0.9083\n",
      "Epoch 5/20\n",
      "32/32 [==============================] - 2s 74ms/step - loss: 0.1901 - accuracy: 0.9312 - val_loss: 0.1881 - val_accuracy: 0.9417\n",
      "Epoch 6/20\n",
      "32/32 [==============================] - 2s 74ms/step - loss: 0.1912 - accuracy: 0.9312 - val_loss: 0.1786 - val_accuracy: 0.9250\n",
      "Epoch 7/20\n",
      "32/32 [==============================] - 2s 75ms/step - loss: 0.1690 - accuracy: 0.9500 - val_loss: 0.1555 - val_accuracy: 0.9500\n",
      "Epoch 8/20\n",
      "32/32 [==============================] - 2s 75ms/step - loss: 0.1391 - accuracy: 0.9625 - val_loss: 0.1444 - val_accuracy: 0.9500\n",
      "Epoch 9/20\n",
      "32/32 [==============================] - 2s 75ms/step - loss: 0.1057 - accuracy: 0.9750 - val_loss: 0.1295 - val_accuracy: 0.9667\n",
      "Epoch 10/20\n",
      "32/32 [==============================] - 2s 75ms/step - loss: 0.1028 - accuracy: 0.9750 - val_loss: 0.1360 - val_accuracy: 0.9500\n",
      "Epoch 11/20\n",
      "32/32 [==============================] - 2s 75ms/step - loss: 0.1109 - accuracy: 0.9812 - val_loss: 0.1252 - val_accuracy: 0.9500\n",
      "Epoch 12/20\n",
      "32/32 [==============================] - 2s 75ms/step - loss: 0.1140 - accuracy: 0.9563 - val_loss: 0.1097 - val_accuracy: 0.9583\n",
      "Epoch 13/20\n",
      "32/32 [==============================] - 2s 75ms/step - loss: 0.0781 - accuracy: 0.9875 - val_loss: 0.1039 - val_accuracy: 0.9750\n",
      "Epoch 14/20\n",
      "32/32 [==============================] - 2s 74ms/step - loss: 0.0881 - accuracy: 0.9750 - val_loss: 0.0967 - val_accuracy: 0.9750\n",
      "Epoch 15/20\n",
      "32/32 [==============================] - 2s 75ms/step - loss: 0.0864 - accuracy: 0.9625 - val_loss: 0.1092 - val_accuracy: 0.9750\n",
      "Epoch 16/20\n",
      "32/32 [==============================] - 2s 75ms/step - loss: 0.0889 - accuracy: 0.9750 - val_loss: 0.2723 - val_accuracy: 0.9000\n",
      "Epoch 17/20\n",
      "32/32 [==============================] - 2s 75ms/step - loss: 0.0927 - accuracy: 0.9688 - val_loss: 0.1013 - val_accuracy: 0.9667\n",
      "Epoch 18/20\n",
      "32/32 [==============================] - 2s 75ms/step - loss: 0.0757 - accuracy: 0.9812 - val_loss: 0.1871 - val_accuracy: 0.9333\n",
      "Epoch 19/20\n",
      "32/32 [==============================] - 2s 76ms/step - loss: 0.0711 - accuracy: 0.9750 - val_loss: 0.0923 - val_accuracy: 0.9667\n",
      "Epoch 20/20\n",
      "32/32 [==============================] - 2s 75ms/step - loss: 0.0552 - accuracy: 0.9812 - val_loss: 0.1152 - val_accuracy: 0.9583\n"
     ]
    }
   ],
   "source": [
    "history = finetune_model.fit_generator(\n",
    "       train_generator,\n",
    "       steps_per_epoch=len(train_generator),\n",
    "       epochs=20, # 학습된 가중치를 가져오기 떄문에, 20번도 상관 없음\n",
    "       validation_data=test_generator,\n",
    "       validation_steps=len(test_generator))\n"
   ]
  },
  {
   "cell_type": "code",
   "execution_count": 8,
   "metadata": {},
   "outputs": [],
   "source": [
    "acc = history.history['accuracy']\n",
    "val_acc = history.history['val_accuracy']\n",
    "y_vloss = history.history['val_loss']\n",
    "y_loss = history.history['loss']"
   ]
  },
  {
   "cell_type": "code",
   "execution_count": 9,
   "metadata": {
    "scrolled": true
   },
   "outputs": [
    {
     "data": {
      "image/png": "[encoded data removed]",
      "text/plain": [
       "<Figure size 432x288 with 1 Axes>"
      ]
     },
     "metadata": {
      "needs_background": "light"
     },
     "output_type": "display_data"
    }
   ],
   "source": [
    "# 그래프로 표현\n",
    "x_len = np.arange(len(y_loss))\n",
    "plt.plot(x_len, acc, marker='.', c=\"red\", label='Trainset_acc')\n",
    "plt.plot(x_len, val_acc, marker='.', c=\"lightcoral\", label='Testset_acc')\n",
    "plt.plot(x_len, y_vloss, marker='.', c=\"cornflowerblue\", label='Testset_loss')\n",
    "plt.plot(x_len, y_loss, marker='.', c=\"blue\", label='Trainset_loss')\n",
    "\n",
    "# 그래프에 그리드를 주고 레이블을 표시\n",
    "plt.legend(loc='upper right')\n",
    "plt.grid()\n",
    "plt.xlabel('epoch')\n",
    "plt.ylabel('loss/acc')\n",
    "plt.show()\n"
   ]
  },
  {
   "cell_type": "code",
   "execution_count": null,
   "metadata": {},
   "outputs": [],
   "source": []
  },
  {
   "cell_type": "code",
   "execution_count": null,
   "metadata": {},
   "outputs": [],
   "source": []
  },
  {
   "cell_type": "code",
   "execution_count": null,
   "metadata": {},
   "outputs": [],
   "source": []
  },
  {
   "cell_type": "code",
   "execution_count": null,
   "metadata": {},
   "outputs": [],
   "source": []
  },
  {
   "cell_type": "code",
   "execution_count": null,
   "metadata": {},
   "outputs": [],
   "source": []
  },
  {
   "cell_type": "code",
   "execution_count": null,
   "metadata": {},
   "outputs": [],
   "source": []
  },
  {
   "cell_type": "code",
   "execution_count": null,
   "metadata": {},
   "outputs": [],
   "source": []
  },
  {
   "cell_type": "code",
   "execution_count": null,
   "metadata": {},
   "outputs": [],
   "source": []
  },
  {
   "cell_type": "code",
   "execution_count": null,
   "metadata": {},
   "outputs": [],
   "source": []
  },
  {
   "cell_type": "code",
   "execution_count": null,
   "metadata": {},
   "outputs": [],
   "source": []
  },
  {
   "cell_type": "code",
   "execution_count": null,
   "metadata": {},
   "outputs": [],
   "source": []
  },
  {
   "cell_type": "code",
   "execution_count": null,
   "metadata": {},
   "outputs": [],
   "source": []
  }
 ],
 "metadata": {
  "kernelspec": {
   "display_name": "Python 3",
   "language": "python",
   "name": "python3"
  },
  "language_info": {
   "codemirror_mode": {
    "name": "ipython",
    "version": 3
   },
   "file_extension": ".py",
   "mimetype": "text/x-python",
   "name": "python",
   "nbconvert_exporter": "python",
   "pygments_lexer": "ipython3",
   "version": "3.6.12"
  }
 },
 "nbformat": 4,
 "nbformat_minor": 4
}
