{
 "cells": [
  {
   "cell_type": "markdown",
   "metadata": {
    "id": "sqIdKvWohlFz"
   },
   "source": [
    "#함수\n",
    "## ImgGenerator()\n",
    "```python\n",
    "ImgGenerator(path,save_path,num,total_img)\n",
    "  #path # 원래 파일 위치\n",
    "  #save_path # 저장할 파일 위치\n",
    "  #num # 파일 내 이미지 수\n",
    "  #total_img # 한장당 증가시킬 수\n",
    "```\n",
    "\n",
    "## file_rename()\n",
    "```python\n",
    "file_rename(path)\n",
    "  #path # 파일위치\n",
    "```"
   ]
  },
  {
   "cell_type": "markdown",
   "metadata": {
    "id": "qKx-gpBeh1TS"
   },
   "source": [
    "# 구글드라이브 경로 예시\n",
    "```python\n",
    "drive.mount('/content/drive',force_remount=True) # 구글 드라이브를 처음 경로로 설정\n",
    "main_path = '/content/drive/My Drive/Colab Notebooks/0226/' # 구글드라이브/Colab Notebboks/0226(자신의 파일명)\n",
    " \n",
    "path = main_path + 'data_dog_eating/' # 파일경로 # 구글드라이브/Colab Notebboks/0226/data_dog_eating(데이터셋 파일명)\n",
    "save_path = main_path + 'save_path' # 저장할 파일경로 # 구글드라이브/Colab Notebboks/0226/save_path(저장시킬 파일명)\n",
    "```"
   ]
  },
  {
   "cell_type": "code",
   "execution_count": 31,
   "metadata": {
    "executionInfo": {
     "elapsed": 819,
     "status": "ok",
     "timestamp": 1614330338403,
     "user": {
      "displayName": "seo yeon",
      "photoUrl": "https://lh3.googleusercontent.com/a-/AOh14Gidb4PzO8RtxmDqk8gf0jiVX8NjnYeqxD3s0PNaWg=s64",
      "userId": "02899263857554445198"
     },
     "user_tz": -540
    },
    "id": "L035MKfEepvM"
   },
   "outputs": [],
   "source": [
    "from google.colab import drive\n",
    "from google.colab.patches import cv2_imshow\n",
    "import numpy as np\n",
    "from keras.preprocessing.image import ImageDataGenerator\n",
    "from keras.preprocessing.image import img_to_array, load_img\n",
    "import os\n",
    "#import cv2"
   ]
  },
  {
   "cell_type": "code",
   "execution_count": 32,
   "metadata": {
    "executionInfo": {
     "elapsed": 688,
     "status": "ok",
     "timestamp": 1614330338751,
     "user": {
      "displayName": "seo yeon",
      "photoUrl": "https://lh3.googleusercontent.com/a-/AOh14Gidb4PzO8RtxmDqk8gf0jiVX8NjnYeqxD3s0PNaWg=s64",
      "userId": "02899263857554445198"
     },
     "user_tz": -540
    },
    "id": "tf5AXNQOeonN"
   },
   "outputs": [],
   "source": [
    "def ImgGenerator(path,save_path,num,total_img) : # 함수\n",
    "\n",
    "  #path # 원래 파일 위치\n",
    "  #save_path # 저장할 파일 위치\n",
    "  #num # 파일 내 이미지 수\n",
    "  #total_img # 한장당 증가시킬 수\n",
    "\n",
    "  path_list = []\n",
    "  for i in range(0,num):\n",
    "    path_list.append(path + str(i) + '.jpg')\n",
    "\n",
    "  # 이미지제네레이터\n",
    "  aug = ImageDataGenerator(\n",
    "    rotation_range = 90,\n",
    "    zoom_range = 0.15,\n",
    "    width_shift_range = 0.2,\n",
    "    height_shift_range = 0.2,\n",
    "    shear_range = 0.15,\n",
    "    horizontal_flip = True,\n",
    "    fill_mode = \"nearest\"\n",
    "  )\n",
    "   \n",
    "   # 파일에 변형된 이미지 추가\n",
    "  for i in range(0,num):\n",
    "\n",
    "    image = load_img(path_list[i])\n",
    "    image = img_to_array(image)\n",
    "    image = np.expand_dims(image,axis = 0)\n",
    "\n",
    "    imageGen = aug.flow(image,batch_size = 1,save_to_dir=save_path,save_prefix=\"image\",save_format=\"jpg\")\n",
    "\n",
    "    total_image = total_img\n",
    "    k = 0\n",
    "    for e in imageGen:\n",
    "      if(k == total_image):\n",
    "        break\n",
    "      k = k+1\n",
    "\n",
    "\n",
    "  "
   ]
  },
  {
   "cell_type": "code",
   "execution_count": 33,
   "metadata": {
    "executionInfo": {
     "elapsed": 830,
     "status": "ok",
     "timestamp": 1614330341629,
     "user": {
      "displayName": "seo yeon",
      "photoUrl": "https://lh3.googleusercontent.com/a-/AOh14Gidb4PzO8RtxmDqk8gf0jiVX8NjnYeqxD3s0PNaWg=s64",
      "userId": "02899263857554445198"
     },
     "user_tz": -540
    },
    "id": "J0of-ezFgMLi"
   },
   "outputs": [],
   "source": [
    "def file_rename(path):\n",
    "  data_path = path\n",
    "  files_list = os.listdir(data_path)\n",
    "\n",
    "  # 파일명에 번호 추가하기 (중복 방지)\n",
    "  count = 0 \n",
    "  name = 'slide '\n",
    "\n",
    "  for file in files_list: \n",
    "      name = file\n",
    "      new_name = str(count) +'.jpg'\n",
    "\n",
    "      # name과 new_name path 붙혀주기\n",
    "      name = os.path.join(data_path, name)\n",
    "      new_name = os.path.join(data_path, new_name)\n",
    "\n",
    "      # 파일명 변경\n",
    "      os.rename(name,new_name) \n",
    "      count += 1\n",
    "\n",
    "  # 파일에있는 이미지 100장의 이름을 0.jpg~99.jpg 로 변경"
   ]
  },
  {
   "cell_type": "code",
   "execution_count": null,
   "metadata": {
    "id": "n5Fok5gGkZSY"
   },
   "outputs": [],
   "source": []
  }
 ],
 "metadata": {
  "colab": {
   "authorship_tag": "ABX9TyOjqGaON3diOIiJ/bTjMSiz",
   "collapsed_sections": [],
   "name": "ImageDataGenerator.ipynb",
   "provenance": []
  },
  "kernelspec": {
   "display_name": "Python 3",
   "language": "python",
   "name": "python3"
  },
  "language_info": {
   "codemirror_mode": {
    "name": "ipython",
    "version": 3
   },
   "file_extension": ".py",
   "mimetype": "text/x-python",
   "name": "python",
   "nbconvert_exporter": "python",
   "pygments_lexer": "ipython3",
   "version": "3.6.12"
  }
 },
 "nbformat": 4,
 "nbformat_minor": 1
}
