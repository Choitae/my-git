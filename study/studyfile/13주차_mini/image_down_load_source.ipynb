{
 "cells": [
  {
   "cell_type": "markdown",
   "id": "awful-stomach",
   "metadata": {},
   "source": [
    "# 이미지 다운로드 소스"
   ]
  },
  {
   "cell_type": "markdown",
   "id": "hazardous-wilson",
   "metadata": {},
   "source": [
    "## 특정 사이트에만 될 지도 모르겠습니다. 필요한 부분은 수정하셔서 쓰시면 될 듯 합니다 ^^;\n",
    "\n",
    "\n",
    "\n",
    "## class : image_down_load : 이미지 다운로드 함수\n",
    "  - image_down_load.folder : 다운로드 폴더 만들기\n",
    "  - image_down_load.img : 이미지 다운로드 함수\n",
    "\n",
    "## 변수 \n",
    "- url : 홈페이지 주소\n",
    "- page : 사용할 총 페이지 (하위페이지가 없을 경우 0을 입력)\n",
    "- name: 이미지를 저장할 폴더의 이름\n",
    "- class_source : soup한 정보 중 img가 담긴 class 이름 ex)\"gallery-asset__thumb gallery-mosaic-asset__thumb\"\n",
    "- img_source : class 내 img의 url이 담겨진 속성값 이름 ex) \"src\"\n",
    "- number : 저장할 이미지 순번(1씩 증가하여 저장)\n"
   ]
  },
  {
   "cell_type": "code",
   "execution_count": null,
   "id": "italic-surfing",
   "metadata": {},
   "outputs": [],
   "source": [
    "class image_down_load :\n",
    "    \n",
    "    def __init__(self, url, page, name, class_source, img_source, number) :\n",
    "        self.name = name\n",
    "        self.page = int(page)\n",
    "        self.url = url\n",
    "        self.class_source = class_source\n",
    "        self.img_source = img_source\n",
    "        self.number = number\n",
    "        \n",
    "    def folder(self):\n",
    "        os.mkdir(self.name)\n",
    "\n",
    "    def img(self) : \n",
    "\n",
    "        #number의 int화\n",
    "        number = int(self.number)\n",
    "        \n",
    "        #저장 폴더 위치 정하기 \n",
    "        place = \"./\" + self.name + \"/\"\n",
    "\n",
    "        # 하위 페이지가 없는 경우\n",
    "        if number == 0:\n",
    "            #BeauifulSoup를 이용해서 URL에 담긴 정보 담아오기\n",
    "            with requests.get(self.url) as res:\n",
    "                soup = BeautifulSoup(res.text, 'html.parser')\n",
    "\n",
    "            #불러온 정보에서 원하는 이미지 class 내 정보찾기\n",
    "            inpo_class = soup.find_all(\"img\", class_=self.class_source)\n",
    "\n",
    "            #이미지 저장하기\n",
    "            #enumerate 함수에 자료형을 입력하면 인덱스와 값을 포함하는 enumerate(열거) 객체를 리턴 받는다\n",
    "            for i, link in enumerate(inpo_class):\n",
    "\n",
    "                #img 정보가 담긴 속성값 찾기\n",
    "                src = link.get(self.img_source)\n",
    "                print(\"number == 0\")\n",
    "\n",
    "                #이미지 다운로드하기 urllib.request.urlretrieve 함수 사용 (url, 파일위치 + 이름)\n",
    "                urllib.request.urlretrieve(src, place + \"{}.jpg\".format(number))\n",
    "\n",
    "        else : \n",
    "            for p in range(self.page + 1) : \n",
    "                new_url = self.url + \"&page={}\".format(p)\n",
    "                        #BeauifulSoup를 이용해서 URL에 담긴 정보 담아오기\n",
    "                with requests.get(new_url) as res:\n",
    "                    soup = BeautifulSoup(res.text, 'html.parser')\n",
    "\n",
    "                #불러온 정보에서 원하는 이미지 class 내 정보찾기\n",
    "                inpo_class = soup.find_all(\"img\", class_=self.class_source)\n",
    "\n",
    "                #이미지 저장하기\n",
    "                #enumerate 함수에 자료형을 입력하면 인덱스와 값을 포함하는 enumerate(열거) 객체를 리턴 받는다\n",
    "                for i, link in enumerate(inpo_class):\n",
    "\n",
    "                    #img 정보가 담긴 속성값 찾기\n",
    "                    src = link.get(self.img_source)\n",
    "                   \n",
    "\n",
    "                    #이미지 다운로드하기 urllib.request.urlretrieve 함수 사용 (url, 파일위치 + 이름)\n",
    "                    urllib.request.urlretrieve(src, place + \"{}.jpg\".format(number))\n",
    "                    \n",
    "                    number += 1\n",
    "\n",
    "    "
   ]
  },
  {
   "cell_type": "code",
   "execution_count": null,
   "id": "retained-remains",
   "metadata": {},
   "outputs": [],
   "source": [
    "import os\n",
    "import requests\n",
    "from bs4 import BeautifulSoup\n",
    "import urllib.request\n",
    "\n",
    "url =\n",
    "page = \n",
    "name = str()\n",
    "class_source = str()\n",
    "img_source = str()\n",
    "number = \n",
    "\n",
    "#함수_변수 설정\n",
    "\"  \" = image_down_load(url, page, name, class_source, img_source, number)\n",
    "\n",
    "#폴더 생성\n",
    "\"  \".folder()\n",
    "\n",
    "#이미지 다운로드\n",
    "\"  \".img()\n"
   ]
  },
  {
   "cell_type": "markdown",
   "id": "listed-greece",
   "metadata": {},
   "source": [
    "# 예시"
   ]
  },
  {
   "cell_type": "code",
   "execution_count": null,
   "id": "comfortable-gamma",
   "metadata": {},
   "outputs": [],
   "source": [
    "import os\n",
    "import requests\n",
    "from bs4 import BeautifulSoup\n",
    "import urllib.request\n",
    "\n",
    "url = 'https://www.istockphoto.com/kr/search/more-like-this/147877485?assettype=image&family=creative&mediatype=photography'\n",
    "page = 3\n",
    "name = \"dogs\"\n",
    "class_source = \"gallery-asset__thumb gallery-mosaic-asset__thumb\"\n",
    "img_source = \"src\"\n",
    "number = 1\n",
    "\n",
    "down = image_down_load(url, page, name, class_source, img_source, number)\n",
    "#down.folder()\n",
    "down.img()"
   ]
  },
  {
   "cell_type": "code",
   "execution_count": null,
   "id": "acknowledged-stamp",
   "metadata": {},
   "outputs": [],
   "source": []
  }
 ],
 "metadata": {
  "kernelspec": {
   "display_name": "Python 3",
   "language": "python",
   "name": "python3"
  },
  "language_info": {
   "codemirror_mode": {
    "name": "ipython",
    "version": 3
   },
   "file_extension": ".py",
   "mimetype": "text/x-python",
   "name": "python",
   "nbconvert_exporter": "python",
   "pygments_lexer": "ipython3",
   "version": "3.7.9"
  }
 },
 "nbformat": 4,
 "nbformat_minor": 5
}
