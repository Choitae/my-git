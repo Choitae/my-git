{
 "cells": [
  {
   "cell_type": "markdown",
   "metadata": {},
   "source": [
    "### 2.3 행렬의 성질 - 정부호와 준정부호\n",
    "  - 연립 방정식의 해가 행렬일 때, 그 행렬이 양인지, 음수인지, 크기는 어떻게 되는지 알고자 하여 알고자 하는 성질\n",
    "  - 영 벡터가 아닌 모든 백터 $x$에 대하여 다음을 성립하면 행렬 A는 $\\text {양의 정부호}$ 라고 한다\n",
    "  - 행렬의 양인지, 음인지 판단하는 것\n",
    "$$\n",
    "x^TAx>0\n",
    "$$\n",
    "  - 만약 식이 등호를 포함한다면, $\\text {양의 준정부호}$ 라고 한다\n",
    "  \n",
    "$$\n",
    "x^TAx\\geqq 0\n",
    "$$"
   ]
  },
  {
   "cell_type": "code",
   "execution_count": 65,
   "metadata": {},
   "outputs": [
    {
     "data": {
      "text/plain": [
       "(3, 3)"
      ]
     },
     "execution_count": 65,
     "metadata": {},
     "output_type": "execute_result"
    }
   ],
   "source": [
    "import numpy as np\n",
    "A = np.array([[2,-1,0],[-1,2,-1],[0,-1,2]])\n",
    "A.shape"
   ]
  },
  {
   "cell_type": "code",
   "execution_count": 66,
   "metadata": {},
   "outputs": [
    {
     "data": {
      "text/plain": [
       "array([[ True, False, False],\n",
       "       [False,  True, False],\n",
       "       [False, False,  True]])"
      ]
     },
     "execution_count": 66,
     "metadata": {},
     "output_type": "execute_result"
    }
   ],
   "source": [
    "A > 0"
   ]
  },
  {
   "cell_type": "code",
   "execution_count": 67,
   "metadata": {},
   "outputs": [],
   "source": [
    "def is_pos_def(x): #정부호, 준정부호를 확인하는 함수 np.linalg.eigvals(x)\n",
    "    return np.all(np.linalg.eigvals(x)>0) #numpy.all 배열의 모든 데이터가 조건과 일치하면 True, 1개라도 다르면 False"
   ]
  },
  {
   "cell_type": "code",
   "execution_count": 68,
   "metadata": {},
   "outputs": [
    {
     "data": {
      "text/plain": [
       "True"
      ]
     },
     "execution_count": 68,
     "metadata": {},
     "output_type": "execute_result"
    }
   ],
   "source": [
    "is_pos_def(A)"
   ]
  },
  {
   "cell_type": "code",
   "execution_count": 71,
   "metadata": {},
   "outputs": [
    {
     "data": {
      "text/plain": [
       "array([3.41421356, 2.        , 0.58578644])"
      ]
     },
     "execution_count": 71,
     "metadata": {},
     "output_type": "execute_result"
    }
   ],
   "source": [
    "np.linalg.eigvals(A)"
   ]
  },
  {
   "cell_type": "code",
   "execution_count": 70,
   "metadata": {},
   "outputs": [
    {
     "data": {
      "text/plain": [
       "True"
      ]
     },
     "execution_count": 70,
     "metadata": {},
     "output_type": "execute_result"
    }
   ],
   "source": [
    "np.all(np.linalg.eigvals(A) >0)"
   ]
  },
  {
   "cell_type": "markdown",
   "metadata": {},
   "source": [
    "### 2.3 - 행렬 놈\n",
    "  - 행렬의 크기를 인지하기 위해 서용하는 용법이며 $\\Vert A \\Vert _p$로 표기하며  이 식 $a_{ij}$는 행렬 A의 i번쨰 행, ㅓ번째 열의 원소다. 행렬 놈에도 여러가지 정의가 있으며 여기에서는 $\\text {요소별 행렬 놈}$의 정의를 따름\n",
    "  - 보통 $p$ 는 1, 2 또는 무한대가 사용되며 p=2인 경우가 대부분이다. 이를 프로베니우스 놈이라고 하며 $\\Vert A \\Vert_F$ 라고 표기하기도 한다 \n",
    "$$\n",
    "\\begin{align}\n",
    "\\Vert A \\Vert _p = \\Vert A \\Vert _2 = \\Vert A \\Vert _F = \\sqrt{\\sum_{i=1}^N\\sum_{j=1}^M{a_{ij}^2}}\n",
    "\\end{align}\n",
    "$$\n",
    "\n",
    "  - 행렬의 놈은 numpy에서 linalg의 norm() 명령으로 계산할 수 있다."
   ]
  },
  {
   "cell_type": "code",
   "execution_count": 11,
   "metadata": {},
   "outputs": [
    {
     "data": {
      "text/plain": [
       "array([-4, -3, -2, -1,  0,  1,  2,  3,  4])"
      ]
     },
     "execution_count": 11,
     "metadata": {},
     "output_type": "execute_result"
    }
   ],
   "source": [
    "A = (np.arange(9)-4)\n",
    "A"
   ]
  },
  {
   "cell_type": "code",
   "execution_count": 15,
   "metadata": {},
   "outputs": [
    {
     "data": {
      "text/plain": [
       "array([[-4, -3, -2],\n",
       "       [-1,  0,  1],\n",
       "       [ 2,  3,  4]])"
      ]
     },
     "execution_count": 15,
     "metadata": {},
     "output_type": "execute_result"
    }
   ],
   "source": [
    "A_ = A.reshape((3,3))\n",
    "A_"
   ]
  },
  {
   "cell_type": "code",
   "execution_count": 16,
   "metadata": {},
   "outputs": [
    {
     "data": {
      "text/plain": [
       "7.745966692414834"
      ]
     },
     "execution_count": 16,
     "metadata": {},
     "output_type": "execute_result"
    }
   ],
   "source": [
    "np.linalg.norm(A_)"
   ]
  },
  {
   "cell_type": "markdown",
   "metadata": {},
   "source": [
    "  - 정확한 놈의 정의는 다음 4가지 성질이 성립하는 행렬 연산을 말한다. 이러한 연산이 여러개 존재하기 때문에 놈의 정의도 다양하다.\n",
    "     - 놈의 값은 0 이상이다. 영행렬일 때만 놈의 값이 0이 된다.\n",
    "     $$\n",
    "     \\Vert A \\Vert \\ge 0\n",
    "     $$\n",
    "     \n",
    "     - 행렬에 스칼라를 곱하면 놈의 값도 그 스칼라의 절댓값을 곱한 것과 같다.\n",
    "     $$\n",
    "     \\Vert \\alpha A \\Vert = \\vert \\alpha \\vert \\Vert A \\Vert\n",
    "     $$\n",
    "     \n",
    "     - 행렬의 합의 놈은 각 행렬의 놈의 합보다 작거나 같다.\n",
    "     $$\n",
    "     \\Vert A + B \\Vert \\le \\Vert A \\Vert + \\Vert B \\Vert\n",
    "     $$\n",
    "     \n",
    "     - 정방행렬의 곱의 놈은 각 정방행렬의 놈의 곱보다 작거나 같다.\n",
    "     $$\n",
    "     \\Vert AB \\Vert \\le \\Vert A \\Vert \\Vert B \\Vert\n",
    "     $$"
   ]
  },
  {
   "cell_type": "markdown",
   "metadata": {},
   "source": [
    "  # 2.3 - 대각합\n",
    "  - 대각합(trace)은정방행렬에서만 정의 되며 대각원소의 합으로 계산된다. 이를 $tr()$로 표기한다\n",
    "  $$\n",
    "  tr(A) = a_{11} + a_{22} + \\cdots + a_{NN} = \\sum_{i=1}^{N}a_{ii}\n",
    "  $$\n",
    "  \n",
    "  - N차원의 항등행렬의 대각합은 N이다\n",
    "  $$\n",
    "  tr(I_N)=N\n",
    "  $$\n",
    "  \n",
    "  - 대각합의 값은 놈과 달리 음수가 될 수도 있다. 5가지의 성질이 있다.\n",
    "    - 스칼라를 곱하면 대각합은 스칼라와 원ㄹ의 대각합의 곱이다.\n",
    "    $$\n",
    "    tr(cA)=c\\cdot tr(A)\n",
    "    $$\n",
    "    \n",
    "    - 전치 연산을 해도 대각합이 달라지지 않는다.\n",
    "    $$\n",
    "    tr(A^T) = tr(A)\n",
    "    $$\n",
    "    \n",
    "    - 두 행렬의 합의 대각합은 두 행렬의 대각합의 합이다.\n",
    "    $$\n",
    "    tr(A+B) = tr(A)+tr(B)\n",
    "    $$\n",
    "    \n",
    "    - 두 행렬의 곱의 대각합은 행렬의 순서를 바꾸어도 달라지지 않는다.\n",
    "    $$\n",
    "    tr(AB) = tr(BA)\n",
    "    $$\n",
    "    \n",
    "    - 세 행렬의 곱의 대각합은 다음과 같이 순서를 순환시켜도 달라지지 않는다.\n",
    "    $$\n",
    "    tr(ABC) = tr(BCA) = tr(CAB)\n",
    "    $$\n",
    "  - numpy에서는 trace()명령어로 대각합을 계산할 수 있다.\n",
    "  - np.trace(np.eye(3))"
   ]
  },
  {
   "cell_type": "code",
   "execution_count": 17,
   "metadata": {},
   "outputs": [
    {
     "data": {
      "text/plain": [
       "array([[ 1,  0,  0,  0,  0,  0],\n",
       "       [ 0, 10,  0,  0,  0,  0],\n",
       "       [ 0,  0,  4,  0,  0,  0],\n",
       "       [ 0,  0,  0, -4,  0,  0],\n",
       "       [ 0,  0,  0,  0,  9,  0],\n",
       "       [ 0,  0,  0,  0,  0,  8]])"
      ]
     },
     "execution_count": 17,
     "metadata": {},
     "output_type": "execute_result"
    }
   ],
   "source": [
    "A = np.diag([1,10,4,-4,9,8])\n",
    "A"
   ]
  },
  {
   "cell_type": "code",
   "execution_count": 18,
   "metadata": {},
   "outputs": [
    {
     "data": {
      "text/plain": [
       "28"
      ]
     },
     "execution_count": 18,
     "metadata": {},
     "output_type": "execute_result"
    }
   ],
   "source": [
    "np.trace(A)"
   ]
  },
  {
   "cell_type": "markdown",
   "metadata": {},
   "source": [
    "### 2.3 - 행렬식\n",
    "  - 행렬(주로 정방행렬)을 하나의 수 로서 대응시킴.\n",
    "  - 행렬식은?\n",
    "     - 작은 규모의 연립 방정식의 해를 구하거나\n",
    "     - 가역행렬이기 위한 필요충분조건 $det(A) \\not = 0$\n",
    "     - 연립방정식 해의 존재성을 살피려고 할 때 등에 쓰여짐\n",
    "     \n",
    "  - 표기\n",
    "  $$\n",
    "  det([a]) = a\n",
    "  $$\n",
    "  \n",
    "  - numpy안의 linalg의 det() 명령으로 행렬식을 계산할 수 있다."
   ]
  },
  {
   "cell_type": "markdown",
   "metadata": {},
   "source": [
    "  - 표기\n",
    "  \n",
    "![이미지](http://www.ktword.co.kr/img_data/4650_1.JPG)\n",
    "\n",
    "  - 1차 행렬식 \n",
    "  $det(A)=a_{11}$\n",
    "  \n",
    "  - 2차 행렬식\n",
    "  ![이미지](http://www.ktword.co.kr/img_data/4650_3.JPG)\n",
    "  \n",
    "  - 3차 행렬식\n",
    "  ![이미지](http://www.ktword.co.kr/img_data/4650_4.JPG)\n",
    "  \n",
    "  - 즉 고유의 해를 가지는 다음 같은 선형방정식에서 \n",
    "  $$\n",
    "  a_1x+a_2y+a_3z = 0\\\\\n",
    "  b_1x+b_2y+b_3z = 0\\\\\n",
    "  c_1x+c_2y+c_3z = 0\n",
    "  $$\n",
    "  에서 x, y, z의 값을 제거하면 다믕과 같이 표현이 된다.\n",
    "  $$\n",
    "  a_{11}a_{22}a_{33}-a_{11}a_{23}a_{32}+a_{12}a_{23}a_{31}-a_{12}a_{21}a_{33}+a_{13}a_{21}a_{32}-a_{13}a_{22}a_{31} = 0\n",
    "  $$\n",
    "\n",
    "  - 이것을 이 방정식의 $행렬식$이라고 하고 행렬식은 항상 정방행렬이다. 행렬의 행렬식이 0이면 그 행렬은 singular이라고 하고 행렬식이 1인 행렬을 unimodular라고 한다."
   ]
  },
  {
   "cell_type": "code",
   "execution_count": 5,
   "metadata": {},
   "outputs": [
    {
     "data": {
      "text/plain": [
       "(3, 3)"
      ]
     },
     "execution_count": 5,
     "metadata": {},
     "output_type": "execute_result"
    }
   ],
   "source": [
    "# 연습문제 2.3.7 - 풀어보기\n",
    "A = np.array([[2,-1,0],[-1,2,-1],[0,-1,2]])\n",
    "A.shape"
   ]
  },
  {
   "cell_type": "code",
   "execution_count": 6,
   "metadata": {},
   "outputs": [
    {
     "data": {
      "text/plain": [
       "4.0"
      ]
     },
     "execution_count": 6,
     "metadata": {},
     "output_type": "execute_result"
    }
   ],
   "source": [
    "np.linalg.det(A)"
   ]
  },
  {
   "cell_type": "markdown",
   "metadata": {},
   "source": [
    "  - 행렬식의 성질\n",
    "      - 전치 행렬의 행렬식은 원래의 행렬식과 같다.\n",
    "      $$\n",
    "      det(A^T)=det(A)\n",
    "      $$\n",
    "      \n",
    "      - 항등 행렬의 행렬식은 1이다.\n",
    "      $$\n",
    "      det(I) = 1\n",
    "      $$\n",
    "      \n",
    "      - 두 행렬의 곱의 행렬식은 각 행렬의 행렬식의 곱과 같다.\n",
    "      $$\n",
    "      det(AB)=det(A)det(B)\n",
    "      $$\n",
    "      \n",
    "      - $역행렬 A^{-1}$은 원래의 행렬 A와 다음 관계를 만족하는 정방행렬을 말한다. $I$는 항등 행렬이다.\n",
    "      $$\n",
    "      A^{-1}A=AA^{-1}=I\n",
    "      $$\n",
    "      \n",
    "      - 역행렬의 행렬식은 운래의 행렬의 행렬식의 역수와 같다.\n",
    "      $$\n",
    "      det(A^{-1})=\\frac {1}{det(A)}\n",
    "      $$"
   ]
  },
  {
   "cell_type": "code",
   "execution_count": null,
   "metadata": {},
   "outputs": [],
   "source": []
  },
  {
   "cell_type": "code",
   "execution_count": null,
   "metadata": {},
   "outputs": [],
   "source": []
  },
  {
   "cell_type": "markdown",
   "metadata": {},
   "source": [
    "# 2.4 선형 연립방정식과 역행렬\n",
    "  - 복수의 미지수를 포함하는 복수의 선형 방정식을 선형 연립 방정식 또는 연립 일차방정식이라고 한다,\n",
    "  - A는 계수행렬 또는 가중치 행렬이라고 할 수 있으며 \n",
    "  - 행렬을 이용한 연립방정식 $Ax=b$ 로 표기할 수 있다\n",
    "$$\n",
    "x_1 + x_2 \\qquad = 2\\\\\n",
    "\\qquad x_2 + x_3 =2\\\\\n",
    "x_1 + x_2 + x_3 = 3\n",
    "$$\n",
    "이는\n",
    "$$\n",
    "A=\n",
    "\\begin{bmatrix}\n",
    "1  & 1 & 0\\\\\n",
    "0 & 1 & 1\\\\\n",
    "1 & 1 &1\n",
    "\\end{bmatrix}\n",
    ",\n",
    "x=\n",
    "\\begin{bmatrix}\n",
    "x_1\\\\\n",
    "x_2\\\\\n",
    "x_3\n",
    "\\end{bmatrix}\n",
    ",\n",
    "b=\n",
    "\\begin{bmatrix}\n",
    "2\\\\\n",
    "2\\\\\n",
    "3\n",
    "\\end{bmatrix}\n",
    "$$\n",
    "로 나타낸다."
   ]
  },
  {
   "cell_type": "markdown",
   "metadata": {},
   "source": [
    "## 2.4 - 역행렬\n",
    "  - 행렬 A, B가 있을 때 아래의 식을 성립한다면 B는 $A^{-1}$이며 이를 'B는 A의 역행렬이다' 라고 한다.\n",
    "  \n",
    "  \n",
    "  $$\n",
    "  AA^{-1}=A^{-1}A=I\\\\\n",
    "  AB=BA =I\\text { 일 때 } B = A^{-1}\n",
    "  $$\n",
    "  \n",
    "  \n",
    "  \n",
    "  $$\n",
    "  A=\n",
    "  \\begin{pmatrix}\n",
    "  a_{11} & a_{12}\\\\\n",
    "  a_{21} & a_{22}\n",
    "  \\end{pmatrix}\n",
    "  \\text { 일 때 }\n",
    "  $$\n",
    "  \n",
    "  \n",
    " \n",
    "  $$\n",
    "  A^{-1} = \\frac {1}{a_{11}a_{22}-a_{12}a_{21}}\n",
    "  \\begin{pmatrix}\n",
    "  a_{22} & -a_{12}\\\\\n",
    "  -a_{21} & a_{11}\n",
    "  \\end{pmatrix}\n",
    "  $$\n",
    "  - 역행렬을 구할 때에는 우선 ${a_{11}a_{22}-a_{12}a_{21}} \\not = 0$ 인지를 확인해야 한다.\n",
    "  - numpy에서 linalg.inv()를 사용한다."
   ]
  },
  {
   "cell_type": "code",
   "execution_count": 1,
   "metadata": {},
   "outputs": [],
   "source": [
    "import numpy as np"
   ]
  },
  {
   "cell_type": "code",
   "execution_count": 25,
   "metadata": {},
   "outputs": [],
   "source": [
    "A = np.array([[5,3],[2,1]])"
   ]
  },
  {
   "cell_type": "code",
   "execution_count": 26,
   "metadata": {},
   "outputs": [
    {
     "data": {
      "text/plain": [
       "-1.0000000000000002"
      ]
     },
     "execution_count": 26,
     "metadata": {},
     "output_type": "execute_result"
    }
   ],
   "source": [
    "np.linalg.det(A) #연립방정식의 해가 0이 아닌 경우에만 성립하기 때문에, 이것을 확인해야 한다."
   ]
  },
  {
   "cell_type": "code",
   "execution_count": 27,
   "metadata": {},
   "outputs": [
    {
     "data": {
      "text/plain": [
       "array([[-1.,  3.],\n",
       "       [ 2., -5.]])"
      ]
     },
     "execution_count": 27,
     "metadata": {},
     "output_type": "execute_result"
    }
   ],
   "source": [
    "A_ = np.linalg.inv(A)\n",
    "A_"
   ]
  },
  {
   "cell_type": "code",
   "execution_count": 29,
   "metadata": {},
   "outputs": [
    {
     "data": {
      "text/plain": [
       "array([[1.00000000e+00, 1.77635684e-15],\n",
       "       [2.22044605e-16, 1.00000000e+00]])"
      ]
     },
     "execution_count": 29,
     "metadata": {},
     "output_type": "execute_result"
    }
   ],
   "source": [
    "A @ A_ "
   ]
  },
  {
   "cell_type": "code",
   "execution_count": 30,
   "metadata": {},
   "outputs": [
    {
     "data": {
      "text/plain": [
       "array([[1, 0],\n",
       "       [0, 1]], dtype=int16)"
      ]
     },
     "execution_count": 30,
     "metadata": {},
     "output_type": "execute_result"
    }
   ],
   "source": [
    "(A @ A_).astype(np.int16)"
   ]
  },
  {
   "cell_type": "code",
   "execution_count": 2,
   "metadata": {},
   "outputs": [],
   "source": [
    "B = np.array([[1,1],[2,2]])"
   ]
  },
  {
   "cell_type": "code",
   "execution_count": 3,
   "metadata": {},
   "outputs": [
    {
     "data": {
      "text/plain": [
       "0.0"
      ]
     },
     "execution_count": 3,
     "metadata": {},
     "output_type": "execute_result"
    }
   ],
   "source": [
    "np.linalg.det(B)"
   ]
  },
  {
   "cell_type": "code",
   "execution_count": 4,
   "metadata": {},
   "outputs": [
    {
     "ename": "LinAlgError",
     "evalue": "Singular matrix",
     "output_type": "error",
     "traceback": [
      "\u001b[1;31m---------------------------------------------------------------------------\u001b[0m",
      "\u001b[1;31mLinAlgError\u001b[0m                               Traceback (most recent call last)",
      "\u001b[1;32m<ipython-input-4-00814caa9d89>\u001b[0m in \u001b[0;36m<module>\u001b[1;34m\u001b[0m\n\u001b[1;32m----> 1\u001b[1;33m \u001b[0mB_\u001b[0m \u001b[1;33m=\u001b[0m \u001b[0mnp\u001b[0m\u001b[1;33m.\u001b[0m\u001b[0mlinalg\u001b[0m\u001b[1;33m.\u001b[0m\u001b[0minv\u001b[0m\u001b[1;33m(\u001b[0m\u001b[0mB\u001b[0m\u001b[1;33m)\u001b[0m\u001b[1;33m\u001b[0m\u001b[1;33m\u001b[0m\u001b[0m\n\u001b[0m",
      "\u001b[1;32m<__array_function__ internals>\u001b[0m in \u001b[0;36minv\u001b[1;34m(*args, **kwargs)\u001b[0m\n",
      "\u001b[1;32m~\\.conda\\envs\\python\\lib\\site-packages\\numpy\\linalg\\linalg.py\u001b[0m in \u001b[0;36minv\u001b[1;34m(a)\u001b[0m\n\u001b[0;32m    544\u001b[0m     \u001b[0msignature\u001b[0m \u001b[1;33m=\u001b[0m \u001b[1;34m'D->D'\u001b[0m \u001b[1;32mif\u001b[0m \u001b[0misComplexType\u001b[0m\u001b[1;33m(\u001b[0m\u001b[0mt\u001b[0m\u001b[1;33m)\u001b[0m \u001b[1;32melse\u001b[0m \u001b[1;34m'd->d'\u001b[0m\u001b[1;33m\u001b[0m\u001b[1;33m\u001b[0m\u001b[0m\n\u001b[0;32m    545\u001b[0m     \u001b[0mextobj\u001b[0m \u001b[1;33m=\u001b[0m \u001b[0mget_linalg_error_extobj\u001b[0m\u001b[1;33m(\u001b[0m\u001b[0m_raise_linalgerror_singular\u001b[0m\u001b[1;33m)\u001b[0m\u001b[1;33m\u001b[0m\u001b[1;33m\u001b[0m\u001b[0m\n\u001b[1;32m--> 546\u001b[1;33m     \u001b[0mainv\u001b[0m \u001b[1;33m=\u001b[0m \u001b[0m_umath_linalg\u001b[0m\u001b[1;33m.\u001b[0m\u001b[0minv\u001b[0m\u001b[1;33m(\u001b[0m\u001b[0ma\u001b[0m\u001b[1;33m,\u001b[0m \u001b[0msignature\u001b[0m\u001b[1;33m=\u001b[0m\u001b[0msignature\u001b[0m\u001b[1;33m,\u001b[0m \u001b[0mextobj\u001b[0m\u001b[1;33m=\u001b[0m\u001b[0mextobj\u001b[0m\u001b[1;33m)\u001b[0m\u001b[1;33m\u001b[0m\u001b[1;33m\u001b[0m\u001b[0m\n\u001b[0m\u001b[0;32m    547\u001b[0m     \u001b[1;32mreturn\u001b[0m \u001b[0mwrap\u001b[0m\u001b[1;33m(\u001b[0m\u001b[0mainv\u001b[0m\u001b[1;33m.\u001b[0m\u001b[0mastype\u001b[0m\u001b[1;33m(\u001b[0m\u001b[0mresult_t\u001b[0m\u001b[1;33m,\u001b[0m \u001b[0mcopy\u001b[0m\u001b[1;33m=\u001b[0m\u001b[1;32mFalse\u001b[0m\u001b[1;33m)\u001b[0m\u001b[1;33m)\u001b[0m\u001b[1;33m\u001b[0m\u001b[1;33m\u001b[0m\u001b[0m\n\u001b[0;32m    548\u001b[0m \u001b[1;33m\u001b[0m\u001b[0m\n",
      "\u001b[1;32m~\\.conda\\envs\\python\\lib\\site-packages\\numpy\\linalg\\linalg.py\u001b[0m in \u001b[0;36m_raise_linalgerror_singular\u001b[1;34m(err, flag)\u001b[0m\n\u001b[0;32m     86\u001b[0m \u001b[1;33m\u001b[0m\u001b[0m\n\u001b[0;32m     87\u001b[0m \u001b[1;32mdef\u001b[0m \u001b[0m_raise_linalgerror_singular\u001b[0m\u001b[1;33m(\u001b[0m\u001b[0merr\u001b[0m\u001b[1;33m,\u001b[0m \u001b[0mflag\u001b[0m\u001b[1;33m)\u001b[0m\u001b[1;33m:\u001b[0m\u001b[1;33m\u001b[0m\u001b[1;33m\u001b[0m\u001b[0m\n\u001b[1;32m---> 88\u001b[1;33m     \u001b[1;32mraise\u001b[0m \u001b[0mLinAlgError\u001b[0m\u001b[1;33m(\u001b[0m\u001b[1;34m\"Singular matrix\"\u001b[0m\u001b[1;33m)\u001b[0m\u001b[1;33m\u001b[0m\u001b[1;33m\u001b[0m\u001b[0m\n\u001b[0m\u001b[0;32m     89\u001b[0m \u001b[1;33m\u001b[0m\u001b[0m\n\u001b[0;32m     90\u001b[0m \u001b[1;32mdef\u001b[0m \u001b[0m_raise_linalgerror_nonposdef\u001b[0m\u001b[1;33m(\u001b[0m\u001b[0merr\u001b[0m\u001b[1;33m,\u001b[0m \u001b[0mflag\u001b[0m\u001b[1;33m)\u001b[0m\u001b[1;33m:\u001b[0m\u001b[1;33m\u001b[0m\u001b[1;33m\u001b[0m\u001b[0m\n",
      "\u001b[1;31mLinAlgError\u001b[0m: Singular matrix"
     ]
    }
   ],
   "source": [
    "B_ = np.linalg.inv(B)"
   ]
  },
  {
   "cell_type": "markdown",
   "metadata": {},
   "source": [
    "## 역행렬과 선형연립방정식의 해\n",
    "  - 역행렬과 연립방정식\n",
    "  - 역행렬, SymPy 이용\n",
    "  \n",
    "  - 아래와 같은 연립 방정식은 행렬로 표현할 수 있다.\n",
    "  $$\n",
    "  5x + 3y = 9\\\\\n",
    "  2x + 1y = 4\n",
    "  $$\n",
    "  \n",
    "  \n",
    "  \n",
    "  $$\n",
    "  \\begin{pmatrix}\n",
    "  5&3\\\\\n",
    "  2&1\n",
    "  \\end{pmatrix}\n",
    "  \\begin{pmatrix}\n",
    "  x\\\\\n",
    "  y\n",
    "  \\end{pmatrix}\n",
    "  =\n",
    "  \\begin{pmatrix}\n",
    "  9\\\\\n",
    "  4\n",
    "  \\end{pmatrix}\n",
    "  $$"
   ]
  },
  {
   "cell_type": "markdown",
   "metadata": {},
   "source": [
    "  - 계수행렬, 또는 가중치 행렬을 A라고 하면"
   ]
  },
  {
   "cell_type": "code",
   "execution_count": 40,
   "metadata": {},
   "outputs": [],
   "source": [
    "A = np.array([[5,3],[2,1]])\n",
    "B = np.array([[9],[4]])"
   ]
  },
  {
   "cell_type": "code",
   "execution_count": 41,
   "metadata": {},
   "outputs": [
    {
     "data": {
      "text/plain": [
       "array([[-1.,  3.],\n",
       "       [ 2., -5.]])"
      ]
     },
     "execution_count": 41,
     "metadata": {},
     "output_type": "execute_result"
    }
   ],
   "source": [
    "A_ = np.linalg.inv(A)\n",
    "A_"
   ]
  },
  {
   "cell_type": "code",
   "execution_count": 43,
   "metadata": {},
   "outputs": [
    {
     "data": {
      "text/plain": [
       "array([[1.00000000e+00, 1.77635684e-15],\n",
       "       [2.22044605e-16, 1.00000000e+00]])"
      ]
     },
     "execution_count": 43,
     "metadata": {},
     "output_type": "execute_result"
    }
   ],
   "source": [
    "A @ A_"
   ]
  },
  {
   "cell_type": "code",
   "execution_count": 44,
   "metadata": {},
   "outputs": [
    {
     "data": {
      "text/plain": [
       "array([[1.00000000e+00, 0.00000000e+00],\n",
       "       [1.77635684e-15, 1.00000000e+00]])"
      ]
     },
     "execution_count": 44,
     "metadata": {},
     "output_type": "execute_result"
    }
   ],
   "source": [
    "A_ @ A"
   ]
  },
  {
   "cell_type": "code",
   "execution_count": 45,
   "metadata": {},
   "outputs": [
    {
     "data": {
      "text/plain": [
       "array([[ 3.],\n",
       "       [-2.]])"
      ]
     },
     "execution_count": 45,
     "metadata": {},
     "output_type": "execute_result"
    }
   ],
   "source": [
    "A_ @ B #x,y의 해 "
   ]
  },
  {
   "cell_type": "code",
   "execution_count": 46,
   "metadata": {},
   "outputs": [
    {
     "data": {
      "text/plain": [
       "array([[1, 0],\n",
       "       [0, 1]], dtype=int16)"
      ]
     },
     "execution_count": 46,
     "metadata": {},
     "output_type": "execute_result"
    }
   ],
   "source": [
    "(A_@A).astype(np.int16)"
   ]
  },
  {
   "cell_type": "markdown",
   "metadata": {},
   "source": []
  },
  {
   "cell_type": "markdown",
   "metadata": {},
   "source": [
    "### 매트릭스 객체를 이용하여 계산하기"
   ]
  },
  {
   "cell_type": "code",
   "execution_count": 47,
   "metadata": {},
   "outputs": [],
   "source": [
    "# 전용 매트릭스 객체를 이용.\n",
    "A = np.matrix([[5,3],[2,1]])\n",
    "B = np.matrix([[9],[4]])"
   ]
  },
  {
   "cell_type": "code",
   "execution_count": 48,
   "metadata": {},
   "outputs": [
    {
     "data": {
      "text/plain": [
       "matrix([[-1.,  3.],\n",
       "        [ 2., -5.]])"
      ]
     },
     "execution_count": 48,
     "metadata": {},
     "output_type": "execute_result"
    }
   ],
   "source": [
    "A_ = np.linalg.inv(A)\n",
    "A_"
   ]
  },
  {
   "cell_type": "code",
   "execution_count": 49,
   "metadata": {},
   "outputs": [
    {
     "data": {
      "text/plain": [
       "matrix([[1.00000000e+00, 0.00000000e+00],\n",
       "        [1.77635684e-15, 1.00000000e+00]])"
      ]
     },
     "execution_count": 49,
     "metadata": {},
     "output_type": "execute_result"
    }
   ],
   "source": [
    "A_ * A"
   ]
  },
  {
   "cell_type": "code",
   "execution_count": 50,
   "metadata": {},
   "outputs": [
    {
     "data": {
      "text/plain": [
       "matrix([[ 3.],\n",
       "        [-2.]])"
      ]
     },
     "execution_count": 50,
     "metadata": {},
     "output_type": "execute_result"
    }
   ],
   "source": [
    "A_ * B"
   ]
  },
  {
   "cell_type": "markdown",
   "metadata": {},
   "source": []
  },
  {
   "cell_type": "markdown",
   "metadata": {},
   "source": [
    "### sympy를 이용하여 계산하기"
   ]
  },
  {
   "cell_type": "code",
   "execution_count": 53,
   "metadata": {},
   "outputs": [],
   "source": [
    "from sympy import Symbol, solve\n",
    "#Symbol은 미지수 이름을 나타낸다. \n",
    "#solve는 자동으로 꼐산을 해준다.\n",
    "x, y  = Symbol('x'), Symbol('y')\n",
    "\n"
   ]
  },
  {
   "cell_type": "code",
   "execution_count": 54,
   "metadata": {},
   "outputs": [
    {
     "data": {
      "text/plain": [
       "(x, y, sympy.core.symbol.Symbol)"
      ]
     },
     "execution_count": 54,
     "metadata": {},
     "output_type": "execute_result"
    }
   ],
   "source": [
    "x,y,type(x)"
   ]
  },
  {
   "cell_type": "code",
   "execution_count": 55,
   "metadata": {},
   "outputs": [],
   "source": [
    "ex1 = 5*x + 3*y - 9\n",
    "ex2 = 2*x + y -4"
   ]
  },
  {
   "cell_type": "code",
   "execution_count": 56,
   "metadata": {},
   "outputs": [
    {
     "data": {
      "text/plain": [
       "(5*x + 3*y - 9, 2*x + y - 4)"
      ]
     },
     "execution_count": 56,
     "metadata": {},
     "output_type": "execute_result"
    }
   ],
   "source": [
    "ex1, ex2"
   ]
  },
  {
   "cell_type": "code",
   "execution_count": 57,
   "metadata": {},
   "outputs": [
    {
     "data": {
      "text/plain": [
       "{x: 3, y: -2}"
      ]
     },
     "execution_count": 57,
     "metadata": {},
     "output_type": "execute_result"
    }
   ],
   "source": [
    "solve((ex1,ex2))"
   ]
  },
  {
   "cell_type": "markdown",
   "metadata": {},
   "source": [
    "# 3. 고급 선형대수\n",
    "   - 데이터 분석에 필요한 도구로써 선형대수를 공부하는 것.\n",
    "   - 어떻게 이동하는지, 어떤 방향으로 가는 지 등에 대해 공부할것.\n",
    "   - 3.1 선형대수와 해석기하의 기초\n",
    "   - 3.2 좌표화 변환"
   ]
  },
  {
   "cell_type": "markdown",
   "metadata": {},
   "source": [
    "## 3.1 선형대수와 해석기하의 기초\n",
    "  - 벡터 : 방향성을 나타냄.\n",
    "  - 데이터 차원에서는 데이터의 가감에 따라 감정이 강조되거나 약화되는 것과 같은 데이터의 변화를 의미.\n",
    "  $$\n",
    "  a=\n",
    "  \\begin{bmatrix}\n",
    "  a_1\\\\\n",
    "  a_2\n",
    "  \\end{bmatrix}\n",
    "  $$\n",
    "  - x 좌표가 $a_1$, y좌표가 $a_2$인 점으로 생각하거나 화살표로 생각할 수도 있다. "
   ]
  },
  {
   "cell_type": "code",
   "execution_count": 1,
   "metadata": {},
   "outputs": [],
   "source": [
    "import numpy as np\n",
    "import matplotlib.pylab as plt\n",
    "\n",
    "plt.rc(\"font\", size=18)  # 그림의 폰트 크기를 18로 고정\n",
    "gray = {\"facecolor\": \"gray\"}\n",
    "black = {\"facecolor\": \"black\"}\n",
    "red = {\"facecolor\": \"red\"}\n",
    "green = {\"facecolor\": \"green\"}\n",
    "blue = {\"facecolor\": \"blue\"}"
   ]
  },
  {
   "cell_type": "code",
   "execution_count": 2,
   "metadata": {},
   "outputs": [
    {
     "name": "stderr",
     "output_type": "stream",
     "text": [
      "C:\\Users\\thcho\\.conda\\envs\\python\\lib\\site-packages\\matplotlib\\backends\\backend_agg.py:238: RuntimeWarning: Glyph 54217 missing from current font.\n",
      "  font.set_text(s, 0.0, flags=flags)\n",
      "C:\\Users\\thcho\\.conda\\envs\\python\\lib\\site-packages\\matplotlib\\backends\\backend_agg.py:238: RuntimeWarning: Glyph 54665 missing from current font.\n",
      "  font.set_text(s, 0.0, flags=flags)\n",
      "C:\\Users\\thcho\\.conda\\envs\\python\\lib\\site-packages\\matplotlib\\backends\\backend_agg.py:238: RuntimeWarning: Glyph 51060 missing from current font.\n",
      "  font.set_text(s, 0.0, flags=flags)\n",
      "C:\\Users\\thcho\\.conda\\envs\\python\\lib\\site-packages\\matplotlib\\backends\\backend_agg.py:238: RuntimeWarning: Glyph 46041 missing from current font.\n",
      "  font.set_text(s, 0.0, flags=flags)\n",
      "C:\\Users\\thcho\\.conda\\envs\\python\\lib\\site-packages\\matplotlib\\backends\\backend_agg.py:201: RuntimeWarning: Glyph 54217 missing from current font.\n",
      "  font.set_text(s, 0, flags=flags)\n",
      "C:\\Users\\thcho\\.conda\\envs\\python\\lib\\site-packages\\matplotlib\\backends\\backend_agg.py:201: RuntimeWarning: Glyph 54665 missing from current font.\n",
      "  font.set_text(s, 0, flags=flags)\n",
      "C:\\Users\\thcho\\.conda\\envs\\python\\lib\\site-packages\\matplotlib\\backends\\backend_agg.py:201: RuntimeWarning: Glyph 51060 missing from current font.\n",
      "  font.set_text(s, 0, flags=flags)\n",
      "C:\\Users\\thcho\\.conda\\envs\\python\\lib\\site-packages\\matplotlib\\backends\\backend_agg.py:201: RuntimeWarning: Glyph 46041 missing from current font.\n",
      "  font.set_text(s, 0, flags=flags)\n"
     ]
    },
    {
     "data": {
      "image/png": "[encoded data removed]",
      "text/plain": [
       "<Figure size 432x288 with 1 Axes>"
      ]
     },
     "metadata": {
      "needs_background": "light"
     },
     "output_type": "display_data"
    }
   ],
   "source": [
    "a = np.array([1, 2])\n",
    "plt.plot(0, 0, 'kP', ms=20)\n",
    "plt.plot(a[0], a[1], 'ro', ms=20)\n",
    "plt.annotate('', xy=[-0.6, 1.6], xytext=(0.2, 0.7), arrowprops=gray)\n",
    "plt.annotate('', xy=a, xytext=(0, 0), arrowprops=black)\n",
    "plt.annotate('', xy=a + [-1, 1], xytext=(-1, 1), arrowprops=black)\n",
    "plt.text(0.35, 1.15, \"$a$\")\n",
    "plt.text(1.15, 2.25, \"$(1,2)$\")\n",
    "plt.text(-0.7, 2.1, \"$a$\")\n",
    "plt.text(-0.9, 0.6, \"평행이동\")\n",
    "plt.xticks(np.arange(-2, 4))\n",
    "plt.yticks(np.arange(-1, 4))\n",
    "plt.xlim(-2.4, 3.4)\n",
    "plt.ylim(-0.8, 3.4)\n",
    "plt.show()"
   ]
  },
  {
   "cell_type": "markdown",
   "metadata": {},
   "source": [
    "### 벡터의 길이\n",
    "  - 벡터의 길이는 놈(norm)으로 정의한다. \n",
    "  - 벡터의 길이에 스칼라 값이 가해지면, 벡터의 길이 변화가 이루어진다."
   ]
  },
  {
   "cell_type": "code",
   "execution_count": 7,
   "metadata": {},
   "outputs": [
    {
     "data": {
      "image/png": "[encoded data removed]",
      "text/plain": [
       "<Figure size 432x288 with 1 Axes>"
      ]
     },
     "metadata": {
      "needs_background": "light"
     },
     "output_type": "display_data"
    }
   ],
   "source": [
    "a = np.array([1, 2])\n",
    "b = 2 * a\n",
    "c = -a\n",
    "plt.annotate('', xy=b, xytext=(0, 0), arrowprops=red)\n",
    "plt.text(0.8, 3.1, \"$2a$\")\n",
    "plt.text(2.2, 3.8, \"$(2, 4)$\")\n",
    "plt.annotate('', xy=a, xytext=(0, 0), arrowprops=gray)\n",
    "plt.text(0.1, 1.3, \"$a$\")\n",
    "plt.text(1.1, 1.4, \"$(1, 2)$\")\n",
    "plt.plot(c[0], c[1], 'ro', ms=10)\n",
    "plt.annotate('', xy=c, xytext=(0, 0), arrowprops=blue)\n",
    "plt.text(-1.3, -0.8, \"$-a$\")\n",
    "plt.text(-3, -2.5, \"$(-1, -2)$\")\n",
    "plt.plot(0, 0, 'kP', ms=20)\n",
    "plt.xticks(np.arange(-5, 6))\n",
    "plt.yticks(np.arange(-5, 6))\n",
    "plt.xlim(-4.4, 5.4)\n",
    "plt.ylim(-3.2, 5.2)\n",
    "plt.show()"
   ]
  },
  {
   "cell_type": "code",
   "execution_count": 3,
   "metadata": {},
   "outputs": [
    {
     "data": {
      "text/plain": [
       "2.23606797749979"
      ]
     },
     "execution_count": 3,
     "metadata": {},
     "output_type": "execute_result"
    }
   ],
   "source": [
    "a = np.array([1, 2])\n",
    "np.linalg.norm(a)"
   ]
  },
  {
   "cell_type": "markdown",
   "metadata": {},
   "source": [
    "### 단위 벡터\n",
    "  - 크기가 1인 벡터"
   ]
  },
  {
   "cell_type": "code",
   "execution_count": 4,
   "metadata": {},
   "outputs": [
    {
     "data": {
      "text/plain": [
       "(1.0, 1.0, 0.9999999999999999)"
      ]
     },
     "execution_count": 4,
     "metadata": {},
     "output_type": "execute_result"
    }
   ],
   "source": [
    "a = np.array([1, 0])\n",
    "b = np.array([0, 1])\n",
    "c = np.array([1/np.sqrt(2), 1/np.sqrt(2)])\n",
    "np.linalg.norm(a), np.linalg.norm(b), np.linalg.norm(c)"
   ]
  },
  {
   "cell_type": "markdown",
   "metadata": {},
   "source": [
    "### 벡터의 합\n",
    "  - 두 벡터의 합은 두 벡터를 이웃하는 변으로 가지는 평행사변형의 대각선 벡터가 된다.\n",
    "  - 두 벡터의 합으로 나온 벡터는, 원래 있던 각각의 두 벡터의 절대값의 합보다 작다 --> 최단 거리 구하는 것에 응용 가능."
   ]
  },
  {
   "cell_type": "markdown",
   "metadata": {},
   "source": [
    "### 벡터의 선형조합\n",
    "  - 여러개의 벡터를 스칼라 곱을 한 후 더한 것을 선형조합이라고 한다."
   ]
  },
  {
   "cell_type": "code",
   "execution_count": 5,
   "metadata": {},
   "outputs": [
    {
     "data": {
      "image/png": "[encoded data removed]",
      "text/plain": [
       "<Figure size 432x288 with 1 Axes>"
      ]
     },
     "metadata": {
      "needs_background": "light"
     },
     "output_type": "display_data"
    }
   ],
   "source": [
    "x1 = np.array([1, 2])\n",
    "x2 = np.array([2, 1])\n",
    "x3 = 0.5 * x1 + x2\n",
    "plt.annotate('', xy=0.5*x1, xytext=(0, 0), arrowprops=gray)\n",
    "plt.annotate('', xy=x2, xytext=(0, 0), arrowprops=gray)\n",
    "plt.annotate('', xy=x3, xytext=(0, 0), arrowprops=black)\n",
    "plt.plot(0, 0, 'kP', ms=10)\n",
    "plt.plot(x1[0], x1[1], 'ro', ms=10)\n",
    "plt.plot(x2[0], x2[1], 'ro', ms=10)\n",
    "plt.plot(x3[0], x3[1], 'ro', ms=10)\n",
    "plt.plot([x1[0], 0], [x1[1], 0], 'k--')\n",
    "plt.text(0.6, 2.0, \"$x_1$\")\n",
    "plt.text(-0.5, 0.5, \"$0.5x_1$\")\n",
    "plt.text(1.15, 0.25, \"$x_2$\")\n",
    "plt.text(2.5, 1.6, \"$0.5x_1 + x_2$\")\n",
    "plt.xticks(np.arange(-2, 5))\n",
    "plt.yticks(np.arange(-1, 4))\n",
    "plt.xlim(-1.4, 4.4)\n",
    "plt.ylim(-0.6, 3.8)\n",
    "plt.show()"
   ]
  },
  {
   "cell_type": "markdown",
   "metadata": {},
   "source": [
    "### 벡터의 차\n",
    "  - 벡터의 차 $a-b=c$는 $b$가 가리키는 점으로 부터 벡터 $a$가 가르키는 방향을 가르키는 벡터가 나온다."
   ]
  },
  {
   "cell_type": "code",
   "execution_count": 6,
   "metadata": {},
   "outputs": [
    {
     "data": {
      "image/png": "[encoded data removed]",
      "text/plain": [
       "<Figure size 432x288 with 1 Axes>"
      ]
     },
     "metadata": {
      "needs_background": "light"
     },
     "output_type": "display_data"
    }
   ],
   "source": [
    "a = np.array([1, 2])\n",
    "b = np.array([2, 1])\n",
    "c = a - b\n",
    "plt.annotate('', xy=a, xytext=(0, 0), arrowprops=gray)\n",
    "plt.annotate('', xy=b, xytext=(0, 0), arrowprops=gray)\n",
    "plt.annotate('', xy=a, xytext=b, arrowprops=black)\n",
    "plt.plot(0, 0, 'kP', ms=10)\n",
    "plt.plot(a[0], a[1], 'ro', ms=10)\n",
    "plt.plot(b[0], b[1], 'ro', ms=10)\n",
    "plt.text(0.35, 1.15, \"$a$\")\n",
    "plt.text(1.15, 0.25, \"$b$\")\n",
    "plt.text(1.55, 1.65, \"$a-b$\")\n",
    "plt.xticks(np.arange(-2, 5))\n",
    "plt.yticks(np.arange(-1, 4))\n",
    "plt.xlim(-0.8, 2.8)\n",
    "plt.ylim(-0.8, 2.8)\n",
    "plt.show()"
   ]
  },
  {
   "cell_type": "markdown",
   "metadata": {},
   "source": [
    "### Word2Vec\n",
    "  - word2Vec를 이용하면 단어 word를 공간에서 점 또는 벡터로 표현할 수 있다."
   ]
  },
  {
   "cell_type": "code",
   "execution_count": 9,
   "metadata": {},
   "outputs": [
    {
     "data": {
      "image/png": "[encoded data removed]",
      "text/plain": [
       "<Figure size 432x288 with 1 Axes>"
      ]
     },
     "metadata": {
      "needs_background": "light"
     },
     "output_type": "display_data"
    }
   ],
   "source": [
    "a = np.array([2, 2])\n",
    "b = np.array([3, 4])\n",
    "c = np.array([4, 1])\n",
    "d = a + (c - a)\n",
    "e = b + (c - a)\n",
    "plt.annotate('', xy=b, xytext=a, arrowprops=black)\n",
    "plt.annotate('', xy=e, xytext=d, arrowprops=black)\n",
    "plt.annotate('', xy=c, xytext=[0, 0], arrowprops=gray)\n",
    "plt.plot(0, 0, 'kP', ms=10)\n",
    "plt.plot(a[0], a[1], 'ro', ms=10)\n",
    "plt.plot(b[0], b[1], 'ro', ms=10)\n",
    "plt.plot(c[0], c[1], 'ro', ms=10)\n",
    "plt.text(1.6, 1.5, \"Seoul\")\n",
    "plt.text(2.5, 4.3, \"Korea\")\n",
    "plt.text(3.5, 0.5, \"Tokyo\")\n",
    "plt.text(4.9, 3.2, \"Japan\")\n",
    "plt.xticks(np.arange(-2, 7))\n",
    "plt.yticks(np.arange(-1, 6))\n",
    "plt.xlim(-1.4, 6.4)\n",
    "plt.ylim(-0.6, 5.8)\n",
    "plt.show()"
   ]
  },
  {
   "cell_type": "markdown",
   "metadata": {},
   "source": [
    "### 유클리드 거리\n",
    "  - 두 벡터가 가리키는 점 사이의 거리를 유클리드 거리라고 한다.\n",
    "  $$\n",
    "  \\Vert a-b\\Vert ^2 = \\Vert a \\Vert ^2 + \\Vert b \\Vert ^2 - 2a^Tb\n",
    "  $$"
   ]
  },
  {
   "cell_type": "markdown",
   "metadata": {},
   "source": [
    "![이미지](data:image/png;base64,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)"
   ]
  },
  {
   "cell_type": "markdown",
   "metadata": {},
   "source": [
    "### 벡터의 내적과 함수\n",
    "  - 벡터의 길이 $\\Vert a \\Vert$ , $\\Vert b \\Vert$ 와 두 벡터 사이의 각도 $\\theta$의 코사인 함수값으로 계산이 가능하다.\n",
    "  $$\n",
    "  a^Tb=\\Vert a \\Vert\\Vert b \\Vert cos\\theta\n",
    "  $$"
   ]
  },
  {
   "cell_type": "markdown",
   "metadata": {},
   "source": [
    "  - $cos\\theta=0$ 인 경우는, $\\theta=90$ 이기 때문에 두 벡터가 '직교'하는 경우이며 내적은 0이 된다.\n",
    "  "
   ]
  },
  {
   "cell_type": "code",
   "execution_count": 10,
   "metadata": {},
   "outputs": [
    {
     "data": {
      "text/plain": [
       "0"
      ]
     },
     "execution_count": 10,
     "metadata": {},
     "output_type": "execute_result"
    }
   ],
   "source": [
    "a = np.array([1, 1])\n",
    "b = np.array([-1, 1])\n",
    "a @ b"
   ]
  },
  {
   "cell_type": "code",
   "execution_count": 12,
   "metadata": {},
   "outputs": [
    {
     "data": {
      "text/plain": [
       "array([[1],\n",
       "       [0]])"
      ]
     },
     "execution_count": 12,
     "metadata": {},
     "output_type": "execute_result"
    }
   ],
   "source": [
    "# 연습 문제 3.1.3\n",
    "x= np.array([[1],[0]])\n",
    "x"
   ]
  },
  {
   "cell_type": "markdown",
   "metadata": {},
   "source": [
    "## 코사인 유사도\n",
    "  - 코사인 값은 각도가 0일 때 가장 커지므로, 두 벡터가 같은 방향을 가리키고 있으면 코사인 유사도가 최댓값 1을 가진다.\n",
    "  - 문장의 비교를 할 때에, 무기를 시험 발사할 때에도 응용할 수 있다.\n",
    "  $$\n",
    "  \\text {cosine similarity} = cos\\theta = \\frac {x^Ty}{\\Vert x \\Vert \\Vert y \\Vert}\n",
    "  $$\n",
    "  - 추후 공부할 추천시스템에서 사용자의 취향이 얼마나 비슷한지를 계산할 때 사용된다.\n",
    "  - 코사인 유사도를 이용하면 다음처럼 코사인 거리도 정의할 수 있다.\n",
    "  $$\n",
    "  \\text {cosine distance} = 1-\\text {cosine similarity} = 1- \\frac {x^Ty}{\\Vert x \\Vert \\Vert y \\Vert}\n",
    "  $$\n",
    "  "
   ]
  },
  {
   "cell_type": "markdown",
   "metadata": {},
   "source": [
    "### 투영성분과 직교성분\n",
    "  - 벡터 a가 다른 벡터 b에 직교하는 성분 : 직교 성분 $a^{\\Vert b}$\n",
    "\n",
    "  - 벡터 a가 다른 벡터 b에 평행하는 성분 : 투영 성분  $a^{\\perp b}$\n",
    "    $$\n",
    "  \\Vert a^{\\Vert b}\\Vert = \\Vert a \\Vert cos\\theta = \\frac {\\Vert a \\Vert \\Vert b \\Vert cos\\theta}{\\Vert b\\Vert} = \\frac {a^Tb}{\\Vert b\\Vert} = \\frac {b^Ta}{\\Vert b \\Vert} = a^T \\frac {b}{\\Vert b \\Vert} \n",
    "  $$"
   ]
  },
  {
   "cell_type": "markdown",
   "metadata": {},
   "source": [
    "### 직선의 방정식\n",
    "  - 어떤 벡터 w가 있을 때\n",
    "    - 원점에서 출발한 벡터 w가 가리키는 점을 지나면서\n",
    "    - 벡터 w에 수직인\n",
    "  - 직선의 방정식을 구해보면\n",
    "  $$\n",
    "  w^T(x-w)=0\n",
    "  $$\n",
    "  이는 다음과 같다. \n",
    "  $$\n",
    "  w^T(x-w) = w^Tx-w^Tw = w^Tx-\\Vert w \\Vert ^2\n",
    "  $$"
   ]
  },
  {
   "cell_type": "markdown",
   "metadata": {},
   "source": []
  },
  {
   "cell_type": "markdown",
   "metadata": {},
   "source": [
    "# 3.2 좌표와 변환\n",
    "  - 공간상에서 좌표를 정의하기 위해 필요한 개념을 살펴본다. 기저벡터와 좌표변환이 선형대수와 어떻게 연관이 있는지 공부한다.\n",
    "  - 좌표 변환은 이미지 처리 작업 뿐 아니라 다변수 확률변수를 분석하는데도 사용된다.\n",
    "\n",
    "### 선형종속과 선형독립\n",
    "#### 선형종속\n",
    "  - 벡터 집합을 이루는 벡터의 선형조합이 영벡터가 되도록 하는 스칼라 계수가 존재하면(단, 스칼라 계수가 모두 0인 경우는 제외한다), 이 벡터들을 $\\text {'선형종속'}$ 이라고 한다\n",
    "  $$\n",
    "  c_1x_1+c_2x_2+\\cdots+c_nx_n=0\n",
    "  $$\n",
    "  - 벡터가 선형종속이 되는 대표적인 세가지 경우\n",
    "    - 벡터의 개수가 벡터의 차원보다 크면 선형 종속이다\n",
    "    - 값이 같은 벡터가 있으면 반드시 선형종속이다.\n",
    "    - 어떤 벡터가 다른 벡터의 선형조합이면 반드시 선형종속이다.\n",
    "  \n",
    "#### 선형독립\n",
    "  - 선형 조합을 영벡터가 되도록 하는 스칼라 계수가 0밖에 존재하지 않는 선형 조합을, $\\text {'선형독립'}$ 이라고 한다. 즉 , 선형 연립방정식을 풀었을 때, 연립 방정식의 해가 영벡터 밖에 없으면 선형 독립이다.\n",
    "  - 벡터 $x_1,x_2,\\cdots,x_n$이 선형독립이라는 것을 논리기호로 나타내면 다음과 같다.\n",
    "  $$\n",
    "  X_c=0\\qquad \\rightarrow \\qquad c=0\n",
    "  $$\n",
    "  또는\n",
    "  $$\n",
    "  X_c=0\\qquad \\leftrightarrow \\qquad c=0\n",
    "  $$"
   ]
  },
  {
   "cell_type": "markdown",
   "metadata": {},
   "source": [
    "#### 랭크 \n",
    "  - 행렬에서는 하나의 행을 '행벡터', 하나의 열을 '열벡터'로 이야기 한다.\n",
    "  - 행렬의 열벡터 중 서로 독립인 열벡터의 최대 개수를 열랭크, 행벡터 중 서로 독립인 행벡터의 최대 개수를 행랭크라고 한다.\n",
    "  - 행랭크와 열랭크는 항상 같다.\n",
    "  - 따라서 이들 모두 랭크라고 하기도 하며 행렬 A의 랭크는 기호로 $rankA$와 같이 표현한다\n",
    "  - 행의 개수가 N이고, 열의 개수가 M인 행렬에서, 행랭크 $\\le$"
   ]
  },
  {
   "cell_type": "markdown",
   "metadata": {},
   "source": []
  },
  {
   "cell_type": "markdown",
   "metadata": {},
   "source": []
  },
  {
   "cell_type": "markdown",
   "metadata": {},
   "source": []
  },
  {
   "cell_type": "markdown",
   "metadata": {},
   "source": []
  },
  {
   "cell_type": "markdown",
   "metadata": {},
   "source": []
  },
  {
   "cell_type": "markdown",
   "metadata": {},
   "source": []
  },
  {
   "cell_type": "markdown",
   "metadata": {},
   "source": []
  }
 ],
 "metadata": {
  "kernelspec": {
   "display_name": "Python 3",
   "language": "python",
   "name": "python3"
  },
  "language_info": {
   "codemirror_mode": {
    "name": "ipython",
    "version": 3
   },
   "file_extension": ".py",
   "mimetype": "text/x-python",
   "name": "python",
   "nbconvert_exporter": "python",
   "pygments_lexer": "ipython3",
   "version": "3.7.9"
  }
 },
 "nbformat": 4,
 "nbformat_minor": 4
}
