{
 "cells": [
  {
   "cell_type": "markdown",
   "metadata": {},
   "source": [
    "# 마크다운 - Mathjax\n",
    "  - 위키백과에 있는 대부분의 수식이 적용 가능하다\n",
    "수학수식\n",
    " - 인라인 : '문장 \\$$ 사이\\$$'\n",
    " - 단락 : 어디서나 '\\$$ 수식 \\$$'\n",
    " \n",
    " ※공백이 생기면 라텍스가 안된다."
   ]
  },
  {
   "cell_type": "markdown",
   "metadata": {},
   "source": [
    "# 그리스 문자\n",
    "  - 알파, alpha : $A$, $\\alpha$\n",
    "  - 베타, beta : $B$, $\\beta$\n",
    "  - 감마, gamma : $Γ$, $\\gamma$\n",
    "  - 델타, delta : $Δ$, $\\delta$\n",
    "  - 엡실론, elpsilon : $Ε$, $\\epsilon$\n",
    "  - 제타, zeta : $Ζ$, $\\zeta$\n",
    "  - 에타, eta : $Η$, $\\eta$"
   ]
  },
  {
   "cell_type": "markdown",
   "metadata": {},
   "source": [
    "즙합의 합은 $\\sum_{i}"
   ]
  },
  {
   "cell_type": "markdown",
   "metadata": {},
   "source": [
    "$$ \\text {문장을  쓰세요} $$"
   ]
  },
  {
   "cell_type": "markdown",
   "metadata": {},
   "source": [
    "도트!!!\n",
    "\n",
    "'''  \n",
    "\\cdot   도트 하나  \n",
    "\\cdots  도트 3개...  \n",
    "\\vdots  수직 3개   \n",
    "\\ddots  사선  \n",
    "\n",
    "\n",
    "'''"
   ]
  },
  {
   "cell_type": "markdown",
   "metadata": {},
   "source": [
    "정렬! (식을 열에 맞춰 정리하기)/ \n",
    "  \n",
    "$$ \n",
    "\\begin{aligned}  \n",
    "\n",
    "&=  \n",
    "=&  \n",
    "  \n",
    "\\end{aligned}  \n",
    "$$"
   ]
  },
  {
   "cell_type": "markdown",
   "metadata": {},
   "source": [
    "$$\n",
    "\\begin{aligned}\\\\\n",
    "a^x + y =\n",
    "a^xa^y\\\\\n",
    "=&a^xa^y\\\\\n",
    "=&\\\\\n",
    "\\end {aligned}\n",
    "$$"
   ]
  },
  {
   "cell_type": "markdown",
   "metadata": {},
   "source": [
    "\\begin{align}\n",
    "a_1 &= \\beta_0 \\\\\n",
    "b_1 &= \\beta_1 \\\\\n",
    "c_1 &= \\beta_2 \\\\\n",
    "d_1 &= \\beta_3\n",
    "\\end{align}"
   ]
  },
  {
   "cell_type": "markdown",
   "metadata": {},
   "source": [
    "# 2.1. 수열과 집합의 합/곱\n",
    "1픽셀 : 8bit(256), 3원색"
   ]
  },
  {
   "cell_type": "code",
   "execution_count": null,
   "metadata": {},
   "outputs": [],
   "source": []
  },
  {
   "cell_type": "markdown",
   "metadata": {},
   "source": [
    "수열\n",
    "\n",
    "$$\n",
    "x_1, x_2, x_3, \\cdots, x_n\n",
    "$$"
   ]
  },
  {
   "cell_type": "markdown",
   "metadata": {},
   "source": [
    "집합으로 나타내라\n",
    "\n",
    "$$\n",
    "{1,2,3, \\cdots, N}\\\\\n",
    "{ x_{1}, x_{2}, x_{3}, \\cdots, x_{n}}\n",
    "$$"
   ]
  },
  {
   "cell_type": "markdown",
   "metadata": {},
   "source": [
    "$$\n",
    "x_1:N \\qquad \\text{1.2.7}\\\\\n",
    "\\{x_i\\}N \\qquad \\text{1.2.8}\n",
    "$$"
   ]
  },
  {
   "cell_type": "markdown",
   "metadata": {},
   "source": [
    "$$\n",
    "{x} \\in {R}\\\\\n",
    "(x_1,x_2) \\in R \\times R\n",
    "$$"
   ]
  },
  {
   "cell_type": "markdown",
   "metadata": {},
   "source": [
    "# 집합의 합과 곱\n",
    "\n",
    "     \\sum_{i}^{n}"
   ]
  },
  {
   "cell_type": "markdown",
   "metadata": {},
   "source": [
    "$$\n",
    "\\begin{aligned}\\\\\n",
    "\\sum_{i=0}^Nx_i\n",
    "&= {x_1+ x_2 + x_3 + \\cdots + x_n} \\qquad \\text{(1.2.12)}\n",
    "\\end {aligned}\n",
    "$$"
   ]
  },
  {
   "cell_type": "markdown",
   "metadata": {},
   "source": [
    "$$\n",
    "\\begin{aligned}\\\\\n",
    "\\prod_{i=0}^Nx_i\n",
    "&= {x_1 \\cdot x_2 \\cdot x_3 \\cdot \\cdots \\cdot x_n}  \\qquad \\text{(1.2.13)}\n",
    "\\end {aligned}\n",
    "$$"
   ]
  },
  {
   "cell_type": "markdown",
   "metadata": {},
   "source": [
    "$$\n",
    "\\begin{aligned}\\\\\n",
    "\\sum_{i=1}^4i\n",
    "&= {1+ 2 + 3 + 4} \\qquad \\text{(1.2.14)}\n",
    "\\end {aligned}\n",
    "$$"
   ]
  },
  {
   "cell_type": "markdown",
   "metadata": {},
   "source": [
    "$$\n",
    "\\begin{aligned}\\\\\n",
    "\\sum_{i=1}^N(\\sum_{j=1}^Mx_{ij})\n",
    "&= \\sum_{i=1}^N\\sum_{j=1}^Mx_{ij} \\qquad \\text{(1.2.17)}\n",
    "\\end {aligned}\n",
    "$$"
   ]
  },
  {
   "cell_type": "markdown",
   "metadata": {},
   "source": [
    "$$\n",
    "\\begin{aligned}\\\\\n",
    "\\sum_{i=1}^2\\sum_{j=1}^3({i+j})\n",
    "&= \\sum_{i=1}^2(\\sum_{j=1}^3{(i+j)}) \\\\\n",
    "&= \\sum_{i=1}^2((i+1)+(i+2)+(i+3))\\qquad \\qquad \\qquad \\text{(1.2.18)} \\\\\n",
    "&= ((1+1)+(1+2)+(1+3))+((2+1)+(2+2)+(2+3))\n",
    "\\end {aligned}\n",
    "$$"
   ]
  },
  {
   "cell_type": "markdown",
   "metadata": {},
   "source": [
    "$$\n",
    "\\begin{aligned}\\\\\n",
    "\\prod_{m=1}^3\\prod_{n=1}^2(m+2n)\n",
    "&= \\prod_{m=1}^3(\\prod_{n=1}^2(m+2n))\\\\\n",
    "&= \\prod_{m=1}^3((m+2\\cdot1)\\cdot(m+2\\cdot2))\\qquad \\qquad \\qquad \\text{(1.2.19)}\\\\\n",
    "&= ((1+2\\cdot1)\\cdot(1+2\\cdot2)\\cdot((2+2\\cdot1)\\cdot(2+2\\cdot2))\\cdot((3+2\\cdot1)\\cdot(3+2\\cdot2))\n",
    "\\end {aligned}\n",
    "$$"
   ]
  },
  {
   "cell_type": "markdown",
   "metadata": {},
   "source": [
    "### 서포트 벡터 머신\n",
    "$$\n",
    "\\begin{aligned}\\\\\n",
    "&\\sum_{i=1}^{3}\\sum_{j=1}^{3} a_ia_jy_iy_jx_ix_j \\qquad\\qquad\\text {(1.2.20)}\\\\\n",
    "&= (a_1a_1+y_1y_1+x_1x_1)+(a_1a_2+y_1y_2+x_1x_2)+(a_1a_3+y_1y_3+x_1x_3)\\\\\n",
    "&+ (a_2a_1+y_2y_1+x_2x_2)+(a_2a_2+y_2y_2+x_2x_2)+(a_2a_3+y_2y_3+x_2x_3)\\\\\n",
    "&+ (a_3a_1+y_3y_1+x_3x_1)+(a_3a_2+y_3y_2+x_3x_2)+(a_3a_3+y_3y_3+x_3x_3)\n",
    "\\end {aligned}\n",
    "$$"
   ]
  },
  {
   "cell_type": "markdown",
   "metadata": {},
   "source": [
    "#### 특잇값 분해\n",
    "$$\n",
    "\\sum_{k=1}^3\\sum_{i=1}^3\\sigma^2_i(v_iw_k)^2\n",
    "$$"
   ]
  },
  {
   "cell_type": "markdown",
   "metadata": {},
   "source": [
    "#### 카테고리분포\n",
    "$$\n",
    "\\begin{aligned}\\\\\n",
    "&\\prod_{i=1}^{4}\\prod_{k=1}^{4}\\theta_x^{x_i,k}\\\\\n",
    "&= \\theta_1^{x1,1}\\cdot\\theta_2^{x_1,2}\\cdot\\theta_3^{x_1,3}\\cdot\\theta_4^{x_1,4}\\\\\n",
    "&+\n",
    "\\end{aligned}\n",
    "$$"
   ]
  },
  {
   "cell_type": "markdown",
   "metadata": {},
   "source": [
    "## 연습문제 1.2.2\n",
    "수열의 곱은 여러개의 값 중 하나를 선택하는 경우에도 사용이 가능하다.\n",
    "$$x_i : x_1, x_2, x_3, x_4$$\n",
    "이고 이 값 중 모두 0이고 하나만 1인 수열 $$y_i = 0,1,0,0$$\n",
    "일 때 \n",
    "$$\n",
    "\\prod_{i}{x_i^{y_i}}\n",
    "$$\n",
    "값은?"
   ]
  },
  {
   "cell_type": "markdown",
   "metadata": {},
   "source": [
    "$$\n",
    "\\begin{aligned}\\\\\n",
    "&\\prod_{i}{x_i^{y_i}}\\\\\n",
    "&=x_1^{y_1}\\cdot x_2^{y_2}\\cdot x_3^{y_3}\\cdot x_4^{y_4}\\\\\n",
    "&=x_1^{0}\\cdot x_2^{1}\\cdot x_3^{0}\\cdot x_4^{0}\\\\\n",
    "&=1\\cdot x_2\\cdot1\\cdot1 = x_2\n",
    "\\end{aligned}\n",
    "$$"
   ]
  },
  {
   "cell_type": "markdown",
   "metadata": {},
   "source": [
    "### 연습문제 1.2.3\n",
    "$$\n",
    "\\begin{aligned}\\\\\n",
    "&(\\sum_{i=1}^{3}x_i)^2\\\\\n",
    "&=\\sum_{i=1}^{3}\\sum_{j=1}^{3}x_ix_j\\\\\n",
    "&=x_1x_1+x_1x_2+x_1x_3+x_2x_1+x_2x_2+x_2x_3+x_3x_1+x_3x_2+x_3x_3\n",
    "\\end{aligned}\n",
    "$$\n",
    "\n",
    "$$\n",
    "\\begin{aligned}\\\\\n",
    "&\\sum_{i=1}^{3}(x_i\\sum_{y=1}^3{y_{ij}})\\\\\n",
    "&= x_1(y_{11}+y_{12}+y{13}) + x_2(y_{21}+y_{22}+y_{23}) + x_3(y_{31}+y_{32}+y_{33})\\\\\n",
    "&= \\sum_{i=1}^{3}\\sum_{j=1}^{3}{x_iy_{ij}}\n",
    "\\end{aligned}\n",
    "$$"
   ]
  },
  {
   "cell_type": "markdown",
   "metadata": {},
   "source": [
    "### 집합의 합과 곱\n",
    "$$\n",
    "\\sum_{X}x = x_1+ x_2 + x_3\n",
    "$$\n",
    "\n",
    "\n",
    "$$\n",
    "\\prod_{X}x=x_1\\cdot x_2\\cdot x_3\n",
    "$$\n",
    "\n",
    "\n",
    "$$\n",
    "\\prod_{x\\in X, x \\not= 0}x\n",
    "$$"
   ]
  },
  {
   "cell_type": "markdown",
   "metadata": {},
   "source": [
    "### 연습 문제 1.2.4\n",
    "$$\n",
    "\\begin{aligned}\\\\\n",
    "X_1={x_{1},x_{2},x_{3}}, X_2={y_1,y_2,y_3}\\\\\n",
    "&\\prod_{i=1}^2\\sum_{X_i}x_i \\\\\n",
    "&= \\prod_{i=1}\\cdots\n",
    "\\end{aligned}\n",
    "$$"
   ]
  },
  {
   "cell_type": "markdown",
   "metadata": {},
   "source": [
    "### Numpy로 공부하는 선형대수\n"
   ]
  },
  {
   "cell_type": "markdown",
   "metadata": {},
   "source": [
    "  - 스칼라 : 하나의 숫자로 이루어짐\n",
    "  - 벡터 : 길이와 방향성을 가짐 or  특징을 가지고 모은 스칼라\n",
    "  - 행렬 : 벡터가 여럿인 집합\n",
    "  \n",
    "#### 가상환경에서, pip install scikit-learn 명령어로 scikit-learn 설치하기"
   ]
  },
  {
   "cell_type": "code",
   "execution_count": 2,
   "metadata": {},
   "outputs": [],
   "source": [
    "import numpy as np\n",
    "from sklearn.datasets import load_iris"
   ]
  },
  {
   "cell_type": "code",
   "execution_count": 7,
   "metadata": {},
   "outputs": [
    {
     "data": {
      "text/plain": [
       "array([5.1, 3.5, 1.4, 0.2])"
      ]
     },
     "execution_count": 7,
     "metadata": {},
     "output_type": "execute_result"
    }
   ],
   "source": [
    "# 붓꽃 150송이에 대해 꽃받침의 길이, 꽃받침의 폭, 꽃잎의 길이, 꽃잎의 폭을 각각 측정한 것 (iris)\n",
    "iris = load_iris() #데이터 로드\n",
    "iris.data[0, :] #첫 번째 꽃의 데이터"
   ]
  },
  {
   "cell_type": "code",
   "execution_count": 6,
   "metadata": {},
   "outputs": [
    {
     "data": {
      "text/plain": [
       "array([0, 0, 0, 0, 0, 0, 0, 0, 0, 0, 0, 0, 0, 0, 0, 0, 0, 0, 0, 0, 0, 0,\n",
       "       0, 0, 0, 0, 0, 0, 0, 0, 0, 0, 0, 0, 0, 0, 0, 0, 0, 0, 0, 0, 0, 0,\n",
       "       0, 0, 0, 0, 0, 0, 1, 1, 1, 1, 1, 1, 1, 1, 1, 1, 1, 1, 1, 1, 1, 1,\n",
       "       1, 1, 1, 1, 1, 1, 1, 1, 1, 1, 1, 1, 1, 1, 1, 1, 1, 1, 1, 1, 1, 1,\n",
       "       1, 1, 1, 1, 1, 1, 1, 1, 1, 1, 1, 1, 2, 2, 2, 2, 2, 2, 2, 2, 2, 2,\n",
       "       2, 2, 2, 2, 2, 2, 2, 2, 2, 2, 2, 2, 2, 2, 2, 2, 2, 2, 2, 2, 2, 2,\n",
       "       2, 2, 2, 2, 2, 2, 2, 2, 2, 2, 2, 2, 2, 2, 2, 2, 2, 2])"
      ]
     },
     "execution_count": 6,
     "metadata": {},
     "output_type": "execute_result"
    }
   ],
   "source": [
    "iris['target']"
   ]
  },
  {
   "cell_type": "markdown",
   "metadata": {},
   "source": [
    "## 벡터\n",
    "$$\n",
    "x=\n",
    "\\begin{bmatrix}\n",
    "x_1\\\\ x_2\\\\ x_3\\\\ x_4\n",
    "\\end{bmatrix}\n",
    "$$"
   ]
  },
  {
   "cell_type": "code",
   "execution_count": null,
   "metadata": {},
   "outputs": [],
   "source": [
    "array([5.1, 3.5, 1.4, 0.2])"
   ]
  },
  {
   "cell_type": "code",
   "execution_count": 10,
   "metadata": {},
   "outputs": [
    {
     "data": {
      "text/plain": [
       "array([[5.1],\n",
       "       [3.5],\n",
       "       [1.4],\n",
       "       [0.2]])"
      ]
     },
     "execution_count": 10,
     "metadata": {},
     "output_type": "execute_result"
    }
   ],
   "source": [
    "np.array([[5.1], [3.5], [1.4], [0.2]]) #numpy를 이용하려고 한다면, 원소에 []를 넣어 입력하라! "
   ]
  },
  {
   "cell_type": "code",
   "execution_count": 12,
   "metadata": {
    "collapsed": true,
    "jupyter": {
     "outputs_hidden": true
    }
   },
   "outputs": [
    {
     "name": "stdout",
     "output_type": "stream",
     "text": [
      ".. _digits_dataset:\n",
      "\n",
      "Optical recognition of handwritten digits dataset\n",
      "--------------------------------------------------\n",
      "\n",
      "**Data Set Characteristics:**\n",
      "\n",
      "    :Number of Instances: 1797\n",
      "    :Number of Attributes: 64\n",
      "    :Attribute Information: 8x8 image of integer pixels in the range 0..16.\n",
      "    :Missing Attribute Values: None\n",
      "    :Creator: E. Alpaydin (alpaydin '@' boun.edu.tr)\n",
      "    :Date: July; 1998\n",
      "\n",
      "This is a copy of the test set of the UCI ML hand-written digits datasets\n",
      "https://archive.ics.uci.edu/ml/datasets/Optical+Recognition+of+Handwritten+Digits\n",
      "\n",
      "The data set contains images of hand-written digits: 10 classes where\n",
      "each class refers to a digit.\n",
      "\n",
      "Preprocessing programs made available by NIST were used to extract\n",
      "normalized bitmaps of handwritten digits from a preprinted form. From a\n",
      "total of 43 people, 30 contributed to the training set and different 13\n",
      "to the test set. 32x32 bitmaps are divided into nonoverlapping blocks of\n",
      "4x4 and the number of on pixels are counted in each block. This generates\n",
      "an input matrix of 8x8 where each element is an integer in the range\n",
      "0..16. This reduces dimensionality and gives invariance to small\n",
      "distortions.\n",
      "\n",
      "For info on NIST preprocessing routines, see M. D. Garris, J. L. Blue, G.\n",
      "T. Candela, D. L. Dimmick, J. Geist, P. J. Grother, S. A. Janet, and C.\n",
      "L. Wilson, NIST Form-Based Handprint Recognition System, NISTIR 5469,\n",
      "1994.\n",
      "\n",
      ".. topic:: References\n",
      "\n",
      "  - C. Kaynak (1995) Methods of Combining Multiple Classifiers and Their\n",
      "    Applications to Handwritten Digit Recognition, MSc Thesis, Institute of\n",
      "    Graduate Studies in Science and Engineering, Bogazici University.\n",
      "  - E. Alpaydin, C. Kaynak (1998) Cascading Classifiers, Kybernetika.\n",
      "  - Ken Tang and Ponnuthurai N. Suganthan and Xi Yao and A. Kai Qin.\n",
      "    Linear dimensionalityreduction using relevance weighted LDA. School of\n",
      "    Electrical and Electronic Engineering Nanyang Technological University.\n",
      "    2005.\n",
      "  - Claudio Gentile. A New Approximate Maximal Margin Classification\n",
      "    Algorithm. NIPS. 2000.\n",
      "\n"
     ]
    }
   ],
   "source": [
    "from sklearn.datasets import load_digits #과거 펜 글씨로 적어둔 숫자를 넣어둔 데이터\n",
    "digits=load_digits()\n",
    "print(digits['DESCR'])"
   ]
  },
  {
   "cell_type": "code",
   "execution_count": 16,
   "metadata": {},
   "outputs": [
    {
     "data": {
      "text/plain": [
       "array([[[ 0.,  0.,  5., 13.,  9.,  1.,  0.,  0.],\n",
       "        [ 0.,  0., 13., 15., 10., 15.,  5.,  0.],\n",
       "        [ 0.,  3., 15.,  2.,  0., 11.,  8.,  0.],\n",
       "        [ 0.,  4., 12.,  0.,  0.,  8.,  8.,  0.],\n",
       "        [ 0.,  5.,  8.,  0.,  0.,  9.,  8.,  0.],\n",
       "        [ 0.,  4., 11.,  0.,  1., 12.,  7.,  0.],\n",
       "        [ 0.,  2., 14.,  5., 10., 12.,  0.,  0.],\n",
       "        [ 0.,  0.,  6., 13., 10.,  0.,  0.,  0.]],\n",
       "\n",
       "       [[ 0.,  0.,  1.,  9., 15., 11.,  0.,  0.],\n",
       "        [ 0.,  0., 11., 16.,  8., 14.,  6.,  0.],\n",
       "        [ 0.,  2., 16., 10.,  0.,  9.,  9.,  0.],\n",
       "        [ 0.,  1., 16.,  4.,  0.,  8.,  8.,  0.],\n",
       "        [ 0.,  4., 16.,  4.,  0.,  8.,  8.,  0.],\n",
       "        [ 0.,  1., 16.,  5.,  1., 11.,  3.,  0.],\n",
       "        [ 0.,  0., 12., 12., 10., 10.,  0.,  0.],\n",
       "        [ 0.,  0.,  1., 10., 13.,  3.,  0.,  0.]],\n",
       "\n",
       "       [[ 0.,  0.,  3., 13., 11.,  7.,  0.,  0.],\n",
       "        [ 0.,  0., 11., 16., 16., 16.,  2.,  0.],\n",
       "        [ 0.,  4., 16.,  9.,  1., 14.,  2.,  0.],\n",
       "        [ 0.,  4., 16.,  0.,  0., 16.,  2.,  0.],\n",
       "        [ 0.,  0., 16.,  1.,  0., 12.,  8.,  0.],\n",
       "        [ 0.,  0., 15.,  9.,  0., 13.,  6.,  0.],\n",
       "        [ 0.,  0.,  9., 14.,  9., 14.,  1.,  0.],\n",
       "        [ 0.,  0.,  2., 12., 13.,  4.,  0.,  0.]],\n",
       "\n",
       "       [[ 0.,  0., 10., 14., 11.,  3.,  0.,  0.],\n",
       "        [ 0.,  4., 16., 13.,  6., 14.,  1.,  0.],\n",
       "        [ 0.,  4., 16.,  2.,  0., 11.,  7.,  0.],\n",
       "        [ 0.,  8., 16.,  0.,  0., 10.,  5.,  0.],\n",
       "        [ 0.,  8., 16.,  0.,  0., 14.,  4.,  0.],\n",
       "        [ 0.,  8., 16.,  0.,  1., 16.,  1.,  0.],\n",
       "        [ 0.,  4., 16.,  1., 11., 15.,  0.,  0.],\n",
       "        [ 0.,  0., 11., 16., 12.,  3.,  0.,  0.]],\n",
       "\n",
       "       [[ 0.,  0.,  0., 12., 13.,  5.,  0.,  0.],\n",
       "        [ 0.,  0.,  0., 11., 16.,  9.,  0.,  0.],\n",
       "        [ 0.,  0.,  3., 15., 16.,  6.,  0.,  0.],\n",
       "        [ 0.,  7., 15., 16., 16.,  2.,  0.,  0.],\n",
       "        [ 0.,  0.,  1., 16., 16.,  3.,  0.,  0.],\n",
       "        [ 0.,  0.,  1., 16., 16.,  6.,  0.,  0.],\n",
       "        [ 0.,  0.,  1., 16., 16.,  6.,  0.,  0.],\n",
       "        [ 0.,  0.,  0., 11., 16., 10.,  0.,  0.]],\n",
       "\n",
       "       [[ 0.,  0.,  0.,  0., 14., 13.,  1.,  0.],\n",
       "        [ 0.,  0.,  0.,  5., 16., 16.,  2.,  0.],\n",
       "        [ 0.,  0.,  0., 14., 16., 12.,  0.,  0.],\n",
       "        [ 0.,  1., 10., 16., 16., 12.,  0.,  0.],\n",
       "        [ 0.,  3., 12., 14., 16.,  9.,  0.,  0.],\n",
       "        [ 0.,  0.,  0.,  5., 16., 15.,  0.,  0.],\n",
       "        [ 0.,  0.,  0.,  4., 16., 14.,  0.,  0.],\n",
       "        [ 0.,  0.,  0.,  1., 13., 16.,  1.,  0.]],\n",
       "\n",
       "       [[ 0.,  0.,  0.,  2., 16., 16.,  2.,  0.],\n",
       "        [ 0.,  0.,  0.,  4., 16., 16.,  2.,  0.],\n",
       "        [ 0.,  1.,  4., 12., 16., 12.,  0.,  0.],\n",
       "        [ 0.,  7., 16., 16., 16., 12.,  0.,  0.],\n",
       "        [ 0.,  0.,  3., 10., 16., 14.,  0.,  0.],\n",
       "        [ 0.,  0.,  0.,  8., 16., 12.,  0.,  0.],\n",
       "        [ 0.,  0.,  0.,  6., 16., 16.,  2.,  0.],\n",
       "        [ 0.,  0.,  0.,  2., 12., 15.,  4.,  0.]],\n",
       "\n",
       "       [[ 0.,  0.,  2., 13.,  8.,  0.,  0.,  0.],\n",
       "        [ 0.,  0.,  6., 16., 16.,  6.,  0.,  0.],\n",
       "        [ 0.,  0.,  5., 15., 13., 11.,  0.,  0.],\n",
       "        [ 0.,  0.,  0.,  7., 16., 15.,  0.,  0.],\n",
       "        [ 0.,  0.,  0.,  0.,  0., 14.,  3.,  0.],\n",
       "        [ 0.,  0.,  0.,  0.,  0.,  7., 11.,  0.],\n",
       "        [ 0.,  0.,  0.,  3.,  4.,  4., 16.,  2.],\n",
       "        [ 0.,  0.,  2., 15., 13., 14., 13.,  2.]]])"
      ]
     },
     "execution_count": 16,
     "metadata": {},
     "output_type": "execute_result"
    }
   ],
   "source": [
    "samples = [0, 10, 20, 30, 1, 11, 21, 31]\n",
    "digits.images[samples]"
   ]
  },
  {
   "cell_type": "code",
   "execution_count": 17,
   "metadata": {},
   "outputs": [
    {
     "data": {
      "text/plain": [
       "(8, 8, 8)"
      ]
     },
     "execution_count": 17,
     "metadata": {},
     "output_type": "execute_result"
    }
   ],
   "source": [
    "digits.images[samples].shape #3차원화 된다"
   ]
  },
  {
   "cell_type": "code",
   "execution_count": 20,
   "metadata": {},
   "outputs": [
    {
     "name": "stderr",
     "output_type": "stream",
     "text": [
      "C:\\Users\\thcho\\.conda\\envs\\python\\lib\\site-packages\\matplotlib\\backends\\backend_agg.py:238: RuntimeWarning: Glyph 49707 missing from current font.\n",
      "  font.set_text(s, 0.0, flags=flags)\n",
      "C:\\Users\\thcho\\.conda\\envs\\python\\lib\\site-packages\\matplotlib\\backends\\backend_agg.py:238: RuntimeWarning: Glyph 51088 missing from current font.\n",
      "  font.set_text(s, 0.0, flags=flags)\n",
      "C:\\Users\\thcho\\.conda\\envs\\python\\lib\\site-packages\\matplotlib\\backends\\backend_agg.py:238: RuntimeWarning: Glyph 44284 missing from current font.\n",
      "  font.set_text(s, 0.0, flags=flags)\n",
      "C:\\Users\\thcho\\.conda\\envs\\python\\lib\\site-packages\\matplotlib\\backends\\backend_agg.py:238: RuntimeWarning: Glyph 51060 missing from current font.\n",
      "  font.set_text(s, 0.0, flags=flags)\n",
      "C:\\Users\\thcho\\.conda\\envs\\python\\lib\\site-packages\\matplotlib\\backends\\backend_agg.py:238: RuntimeWarning: Glyph 48120 missing from current font.\n",
      "  font.set_text(s, 0.0, flags=flags)\n",
      "C:\\Users\\thcho\\.conda\\envs\\python\\lib\\site-packages\\matplotlib\\backends\\backend_agg.py:238: RuntimeWarning: Glyph 51648 missing from current font.\n",
      "  font.set_text(s, 0.0, flags=flags)\n",
      "C:\\Users\\thcho\\.conda\\envs\\python\\lib\\site-packages\\matplotlib\\backends\\backend_agg.py:201: RuntimeWarning: Glyph 49707 missing from current font.\n",
      "  font.set_text(s, 0, flags=flags)\n",
      "C:\\Users\\thcho\\.conda\\envs\\python\\lib\\site-packages\\matplotlib\\backends\\backend_agg.py:201: RuntimeWarning: Glyph 51088 missing from current font.\n",
      "  font.set_text(s, 0, flags=flags)\n",
      "C:\\Users\\thcho\\.conda\\envs\\python\\lib\\site-packages\\matplotlib\\backends\\backend_agg.py:201: RuntimeWarning: Glyph 44284 missing from current font.\n",
      "  font.set_text(s, 0, flags=flags)\n",
      "C:\\Users\\thcho\\.conda\\envs\\python\\lib\\site-packages\\matplotlib\\backends\\backend_agg.py:201: RuntimeWarning: Glyph 51060 missing from current font.\n",
      "  font.set_text(s, 0, flags=flags)\n",
      "C:\\Users\\thcho\\.conda\\envs\\python\\lib\\site-packages\\matplotlib\\backends\\backend_agg.py:201: RuntimeWarning: Glyph 48120 missing from current font.\n",
      "  font.set_text(s, 0, flags=flags)\n",
      "C:\\Users\\thcho\\.conda\\envs\\python\\lib\\site-packages\\matplotlib\\backends\\backend_agg.py:201: RuntimeWarning: Glyph 51648 missing from current font.\n",
      "  font.set_text(s, 0, flags=flags)\n"
     ]
    },
    {
     "data": {
      "image/png": "[encoded data removed]",
      "text/plain": [
       "<Figure size 576x144 with 8 Axes>"
      ]
     },
     "metadata": {},
     "output_type": "display_data"
    }
   ],
   "source": [
    "from sklearn.datasets import load_digits \n",
    "import matplotlib.pyplot as plt\n",
    "samples = [0, 10, 20, 30, 1, 11, 21, 31]  # 선택된 이미지 번호\n",
    "d = []\n",
    "for i in range(8):\n",
    "    d.append(digits.images[samples[i]])\n",
    "\n",
    "plt.figure(figsize=(8, 2))\n",
    "for i in range(8):\n",
    "    plt.subplot(1, 8, i + 1)\n",
    "    plt.imshow(d[i], interpolation='nearest', cmap=plt.cm.bone_r)\n",
    "    plt.grid(False); plt.xticks([]); plt.yticks([])\n",
    "    plt.title(\"image {}\".format(i + 1))\n",
    "plt.suptitle(\"숫자 0과 1 이미지\")\n",
    "plt.tight_layout()\n",
    "plt.show()"
   ]
  },
  {
   "cell_type": "markdown",
   "metadata": {},
   "source": []
  },
  {
   "cell_type": "markdown",
   "metadata": {},
   "source": [
    "\n",
    "$$\n",
    "x=\n",
    "\\begin{bmatrix}\n",
    "x_{1,1}&x_{1,2}&x_{1,3}&x_{1,4}\\\\\n",
    "x_{2,1}&x_{2,2}&x_{2,3}&x_{2,4}\\\\\n",
    "x_{3,1}&x_{3,2}&x_{3,3}&x_{3,4}\\\\\n",
    "x_{4,1}&x_{4,2}&x_{4,3}&x_{4,4}\n",
    "\\end{bmatrix}\n",
    "$$"
   ]
  },
  {
   "cell_type": "markdown",
   "metadata": {},
   "source": [
    "\n",
    "$$\n",
    "x=\n",
    "\\begin{pmatrix}\n",
    "x_{1,1}&x_{1,2}&x_{1,3}&x_{1,4}\\\\\n",
    "x_{2,1}&x_{2,2}&x_{2,3}&x_{2,4}\\\\\n",
    "x_{3,1}&x_{3,2}&x_{3,3}&x_{3,4}\\\\\n",
    "x_{4,1}&x_{4,2}&x_{4,3}&x_{4,4}\n",
    "\\end{pmatrix}\n",
    "$$"
   ]
  },
  {
   "cell_type": "markdown",
   "metadata": {},
   "source": [
    "\n",
    "$$\n",
    "x=\n",
    "\\begin{matrix}\n",
    "x_{1,1}&x_{1,2}&x_{1,3}&x_{1,4}\\\\\n",
    "x_{2,1}&x_{2,2}&x_{2,3}&x_{2,4}\\\\\n",
    "x_{3,1}&x_{3,2}&x_{3,3}&x_{3,4}\\\\\n",
    "x_{4,1}&x_{4,2}&x_{4,3}&x_{4,4}\n",
    "\\end{matrix}\n",
    "$$"
   ]
  },
  {
   "cell_type": "code",
   "execution_count": null,
   "metadata": {},
   "outputs": [],
   "source": []
  },
  {
   "cell_type": "code",
   "execution_count": null,
   "metadata": {},
   "outputs": [],
   "source": []
  },
  {
   "cell_type": "code",
   "execution_count": null,
   "metadata": {},
   "outputs": [],
   "source": []
  },
  {
   "cell_type": "code",
   "execution_count": null,
   "metadata": {},
   "outputs": [],
   "source": []
  }
 ],
 "metadata": {
  "kernelspec": {
   "display_name": "Python 3",
   "language": "python",
   "name": "python3"
  },
  "language_info": {
   "codemirror_mode": {
    "name": "ipython",
    "version": 3
   },
   "file_extension": ".py",
   "mimetype": "text/x-python",
   "name": "python",
   "nbconvert_exporter": "python",
   "pygments_lexer": "ipython3",
   "version": "3.7.9"
  }
 },
 "nbformat": 4,
 "nbformat_minor": 4
}
