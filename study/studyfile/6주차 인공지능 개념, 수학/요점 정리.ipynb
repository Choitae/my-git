{
 "cells": [
  {
   "cell_type": "markdown",
   "metadata": {},
   "source": [
    "## 4. 수학기호\n",
    "$$\n",
    "\\text {알파} \\quad\\rightarrow\\quad \\text {대문자 : } A \\qquad \\text {소문자 : } \\alpha\\\\ \n",
    "\\text {베타} \\quad\\rightarrow\\quad \\text {대문자 : } B \\qquad \\text {소문자 : } \\beta\\\\ \n",
    "\\text {감마} \\quad\\rightarrow\\quad \\text {대문자 : } \\Gamma \\qquad \\text {소문자 : } \\gamma\\\\ \n",
    "\\text {델타} \\quad\\rightarrow\\quad \\text {대문자 : } \\Delta \\qquad \\text {소문자 : } \\delta\\\\ \n",
    "\\text {제타} \\quad\\rightarrow\\quad \\text {대문자 : } Z \\qquad \\text {소문자 : } \\zeta\\\\ \n",
    "\\text {엡실론} \\quad\\rightarrow\\quad \\text {대문자 : } E \\qquad \\text {소문자 : } \\eta\\\\ \n",
    "\\text {세타} \\quad\\rightarrow\\quad \\text {대문자 : } \\Theta \\qquad \\text {소문자 : } \\theta\\\\ \n",
    "\\text {카파} \\quad\\rightarrow\\quad \\text {대문자 : } K \\qquad \\text {소문자 : } \\kappa\\\\ \n",
    "\\text {람다} \\quad\\rightarrow\\quad \\text {대문자 : } \\Lambda \\qquad \\text {소문자 : } \\lambda\\\\ \n",
    "\\text {에타} \\quad\\rightarrow\\quad \\text {대문자 : } H \\qquad  \\text {소문자 : } \\eta\\\\ \n",
    "\\text {뮤} \\quad\\rightarrow\\quad \\text {대문자 : } M \\qquad \\text {소문자 : } \\mu\\\\\n",
    "\\text {누} \\quad\\rightarrow\\quad \\text {대문자 : } N \\qquad \\text {소문자 : } \\nu \\\\ \n",
    "\\text {크싸이} \\quad\\rightarrow\\quad \\text {대문자 : } \\Xi \\qquad \\text {소문자 : } \\xi\\\\ \n",
    "\\text {파이} \\quad\\rightarrow\\quad \\text {대문자 : } \\Pi \\qquad \\text {소문자 : } \\pi\\\\ \n",
    "\\text {로} \\quad\\rightarrow\\quad \\text {대문자 : } P \\qquad \\text {소문자 : } \\rho\\\\ \n",
    "\\text {시그마} \\quad\\rightarrow\\quad \\text {대문자 : } \\Sigma \\qquad \\text {소문자 : } \\sigma\\\\ \n",
    "\\text {타우} \\quad\\rightarrow\\quad \\text {대문자 : } T \\qquad \\text {소문자 : } \\tau\\\\ \n",
    "\\text {파이/피} \\quad\\rightarrow\\quad \\text {대문자 : } \\Phi \\qquad \\text {소문자 : } \\phi\\\\ \n",
    "\\text {카이} \\quad\\rightarrow\\quad \\text {대문자 : } X \\qquad \\text {소문자 : } \\chi\\\\ \n",
    "\\text {프사이} \\quad\\rightarrow\\quad \\text {대문자 : } \\Psi \\qquad \\text {소문자 : } \\psi  \\\\ \n",
    "\\text {오메가}\\quad\\rightarrow\\quad \\text {대문자 : } \\Omega \\qquad \\text {소문자 : } \\omega\\\\ \n",
    "$$"
   ]
  },
  {
   "cell_type": "markdown",
   "metadata": {},
   "source": [
    "## 5. 수열과 집합의 합과 곱\n",
    " - 라텍스로 중첩 합,곱 작성하기.\n",
    "    - 수열의 합\n",
    "     $$\n",
    "     \\sum_{i=1}^N{x_i}=x_1+x_2+\\cdots+x_N\n",
    "     $$\n",
    "     \n",
    "    - 수열의 곱\n",
    "     $$\n",
    "     \\prod_{i=1}^N{x_i}=x_1\\cdot x_2\\cdot \\cdots \\cdot x_N\n",
    "     $$\n",
    "     \n",
    "    - 집합의 합\n",
    "    $$\n",
    "    \\sum_{X}x=x_1 + x_2 + x_3\n",
    "    $$\n",
    "    \n",
    "    - 집합의 곱\n",
    "    $$\n",
    "    \\prod_{X}x = x_1\\cdot x_2\\cdot x_3\n",
    "    $$\n",
    " - 머신러닝 모형에 등장할 수식 서포트 벡터 머신, 특잇값분해, 카테고리분포, 가우시안혼합모형 모습 외우기 \n",
    "    - 서포트 벡터 머신\n",
    "    $$\n",
    "    \\sum_{i=1}^3\\sum_{j=1}^3{a_ia_jy_iy_jx_ix_j}\n",
    "    $$\n",
    "    \n",
    "    - 특잇값분해\n",
    "    $$\n",
    "    \\sum_{k=1}^3\\sum_{i=1}^3{\\sigma_i^2(v_iw_k)^2}\n",
    "    $$\n",
    "    \n",
    "    - 카테고리분포\n",
    "    $$\n",
    "    \\prod_{i=1}^4\\prod_{k=1}^4{\\theta_k^{x_{i,k}}}\n",
    "    $$\n",
    "    \n",
    "    - 가우시안혼합모형\n",
    "    $$\n",
    "    \\prod_{i=1}^4\\sum_{k=1}^2{\\pi_kx_i\\mu_k}\n",
    "    $$"
   ]
  },
  {
   "cell_type": "markdown",
   "metadata": {},
   "source": [
    "## 6. 데이터와 행렬\n",
    " - 데이터의 유형은? : 스칼라,벡터, 텐서 ...\n",
    "   - 스칼라 : 숫자 하나로 이루어진 데이터. ex) 붓꽃 한 송이의 꽃잎 길이. $x\\in R$\n",
    "   - 벡터 : 여러 숫자로 이룽진 데이터 레코드. ex) 붓꽃 크기 4개의 데이터.\n",
    "   $$\n",
    "   x=\n",
    "   \\begin{bmatrix}\n",
    "   x_1\\\\\n",
    "   x_2\\\\\n",
    "   x_3\\\\\n",
    "   x_4\n",
    "   \\end{bmatrix}\n",
    "   $$\n",
    "   - 행렬 : 벡터, 즉 데이터 레코드가 여럿인 데이터 집. ex) 3송이에 대한 붓꽃 잎 길이, 폭, 꽃받침 길이, 폭 4개의 데이터를 모은 것\n",
    "   $$\n",
    "   \\begin{bmatrix}\n",
    "   x_{1,1}&x_{1,2}&x_{1,3}&x_{1,4}\\\\\n",
    "   x_{2,1}&x_{2,2}&x_{2,3}&x_{2,4}\\\\\n",
    "   x_{3,1}&x_{3,2}&x_{3,3}&x_{3,4}\\\\\n",
    "   \\end{bmatrix}\n",
    "   $$\n",
    "   - 텐서 : 같은 크기의 행렬이 어러개 있는 것. 다차원 배열로 표현되는 사상.\n"
   ]
  },
  {
   "cell_type": "markdown",
   "metadata": {},
   "source": [
    " - numpy로 배열의 차원 테스트"
   ]
  },
  {
   "cell_type": "code",
   "execution_count": 1,
   "metadata": {},
   "outputs": [
    {
     "data": {
      "text/plain": [
       "(3,)"
      ]
     },
     "execution_count": 1,
     "metadata": {},
     "output_type": "execute_result"
    }
   ],
   "source": [
    "import numpy as np\n",
    "x = np.array([1,2,3])\n",
    "x.shape"
   ]
  },
  {
   "cell_type": "code",
   "execution_count": 8,
   "metadata": {},
   "outputs": [
    {
     "data": {
      "text/plain": [
       "(2, 3)"
      ]
     },
     "execution_count": 8,
     "metadata": {},
     "output_type": "execute_result"
    }
   ],
   "source": [
    "x = np.array([[1,2,3],[1,2,3]]) #2차원\n",
    "x.shape"
   ]
  },
  {
   "cell_type": "code",
   "execution_count": 13,
   "metadata": {},
   "outputs": [
    {
     "data": {
      "text/plain": [
       "(2, 1, 3)"
      ]
     },
     "execution_count": 13,
     "metadata": {},
     "output_type": "execute_result"
    }
   ],
   "source": [
    "x = np.array([[[1,2,3]],[[1,2,3]]]) #3차원\n",
    "x.shape"
   ]
  },
  {
   "cell_type": "markdown",
   "metadata": {},
   "source": [
    " - 라텍스로 행렬 작성 & $x\\in R^{6\\times 4}$와 같은 행렬의 크기를 수식으로 표기하는 방법\n",
    "    - 3x4 행렬\n",
    "    $$\n",
    "    A=\n",
    "    \\begin {bmatrix}\n",
    "    1&2&3&4\\\\\n",
    "    2&3&4&5\\\\\n",
    "    3&4&5&6\n",
    "    \\end {bmatrix}\n",
    "    , \\qquad\n",
    "    A\\in R^{3\\times 4}\n",
    "    $$\n",
    "    "
   ]
  },
  {
   "cell_type": "markdown",
   "metadata": {},
   "source": [
    "  - 전치의 의미 & 전치 연산 (출제 범위 '텐서의 의미'가 중복되어 혹시나 하여 변경하였습니다.)\n",
    "    - 행과 열을 바꾸는 연산. $x$를 전치연산하면 $x^T$ 또는 $x^`$로 표기\n",
    "    - ex) $x\\in R^{6\\times 4}$ 라면, $x^T\\in R^{4\\times 6}$\n",
    "    - x가 (열)벡터라면, $x^T$는 행 벡터"
   ]
  },
  {
   "cell_type": "code",
   "execution_count": 20,
   "metadata": {},
   "outputs": [
    {
     "data": {
      "text/plain": [
       "(array([[11, 21],\n",
       "        [23, 42],\n",
       "        [36, 32]]),\n",
       " array([[11, 23, 36],\n",
       "        [21, 42, 32]]),\n",
       " array([[11, 21],\n",
       "        [23, 42],\n",
       "        [36, 32]]))"
      ]
     },
     "execution_count": 20,
     "metadata": {},
     "output_type": "execute_result"
    }
   ],
   "source": [
    "# 전치 연산\n",
    "A = np.array([[11,21],[23,42],[36,32]])\n",
    "A, A.T, A.T.T"
   ]
  },
  {
   "cell_type": "markdown",
   "metadata": {},
   "source": [
    "  - 특수행렬(대각, 정방 ,대칭 ...)\n",
    "    - 영행열 : 모든 원소가 0인 N차원 벡터. $0\\in R^{N\\times 1}$. 영벡터 명령어는 zeros()\n",
    "    - 일행렬 : 모든 원소가 1인 N차원 벡터. $1\\in R^{N\\times 1}$. 일벡터 명령어는 ones()\n",
    "    - 정방행렬 : 행의 개수와 열의 개수가 같은 행렬\n",
    "    - 대각행렬 : 행과 열이 같은 위치를 대각이라 하며, 대각이 아닌, 비대각에 있는 원소가 모두 0인 행렬이 대각행렬. 항상 정방행렬이 아니어도 된다. 대각행렬 명령어는 diag()\n",
    "    - 항등행렬 : 대각행렬이자 정방행렬이며, 대각 요소가 모두 1인 행렬. $I$로 표기한다. $I\\in R^{N\\times N}$. 항등행렬 명령어는 identity() 또는 eye()\n",
    "    - 대칭행렬 : 전치연산을 통해서 얻은 전치행렬과 원래의 행렬이 같으면 대칭행렬. 정방행렬만 대칭행렬이 될 수 있다. $S^T=S$, $\\quad S\\in R^{N\\times N}$"
   ]
  },
  {
   "cell_type": "code",
   "execution_count": 22,
   "metadata": {},
   "outputs": [
    {
     "data": {
      "text/plain": [
       "array([[0.],\n",
       "       [0.],\n",
       "       [0.]])"
      ]
     },
     "execution_count": 22,
     "metadata": {},
     "output_type": "execute_result"
    }
   ],
   "source": [
    "# 영행렬\n",
    "np.zeros([3,1])"
   ]
  },
  {
   "cell_type": "code",
   "execution_count": 23,
   "metadata": {},
   "outputs": [
    {
     "data": {
      "text/plain": [
       "array([[1.],\n",
       "       [1.],\n",
       "       [1.]])"
      ]
     },
     "execution_count": 23,
     "metadata": {},
     "output_type": "execute_result"
    }
   ],
   "source": [
    "# 일행렬\n",
    "np.ones([3,1])"
   ]
  },
  {
   "cell_type": "code",
   "execution_count": 25,
   "metadata": {},
   "outputs": [
    {
     "data": {
      "text/plain": [
       "array([[1, 1, 1],\n",
       "       [1, 1, 1],\n",
       "       [1, 1, 1]])"
      ]
     },
     "execution_count": 25,
     "metadata": {},
     "output_type": "execute_result"
    }
   ],
   "source": [
    "# 정방행렬\n",
    "a = np.array([[1,1,1],[1,1,1],[1,1,1]])\n",
    "a"
   ]
  },
  {
   "cell_type": "code",
   "execution_count": 26,
   "metadata": {},
   "outputs": [
    {
     "data": {
      "text/plain": [
       "array([[4, 0, 0],\n",
       "       [0, 5, 0],\n",
       "       [0, 0, 6]])"
      ]
     },
     "execution_count": 26,
     "metadata": {},
     "output_type": "execute_result"
    }
   ],
   "source": [
    "# 대각행렬\n",
    "np.diag([4,5,6])"
   ]
  },
  {
   "cell_type": "code",
   "execution_count": 2,
   "metadata": {},
   "outputs": [
    {
     "data": {
      "text/plain": [
       "(array([[1., 0., 0., 0.],\n",
       "        [0., 1., 0., 0.],\n",
       "        [0., 0., 1., 0.],\n",
       "        [0., 0., 0., 1.]]),\n",
       " array([[1., 0., 0.],\n",
       "        [0., 1., 0.],\n",
       "        [0., 0., 1.]]))"
      ]
     },
     "execution_count": 2,
     "metadata": {},
     "output_type": "execute_result"
    }
   ],
   "source": [
    "# 항등행렬\n",
    "np.identity(4), np.eye(3)"
   ]
  },
  {
   "cell_type": "markdown",
   "metadata": {},
   "source": [
    "## 7. 벡터/행렬의 연산"
   ]
  },
  {
   "cell_type": "code",
   "execution_count": 4,
   "metadata": {},
   "outputs": [
    {
     "data": {
      "text/plain": [
       "(array([[12],\n",
       "        [14],\n",
       "        [16]]),\n",
       " array([[8],\n",
       "        [8],\n",
       "        [8]]))"
      ]
     },
     "execution_count": 4,
     "metadata": {},
     "output_type": "execute_result"
    }
   ],
   "source": [
    "# 덧셈과 뺄셈 구하는 방법 / numpy로 계산 or 라텍스로 구현하기\n",
    "a = np.array([[10],[11],[12]])\n",
    "b = np.array([[2],[3],[4]])\n",
    "a+b, a-b"
   ]
  },
  {
   "cell_type": "markdown",
   "metadata": {},
   "source": [
    "  - 덧셈과 뺄셈 numpy 라텍스로 구현하기\n",
    "     - 덧셈과 뺄셈은 크기(차원)가 같은 두 벡터에 대해서만 가능하다\n",
    "  $$\n",
    "  a=\n",
    "  \\begin{bmatrix}\n",
    "  10\\\\\n",
    "  11\\\\\n",
    "  12\\\\\n",
    "  \\end{bmatrix}\n",
    "  , \\quad b=\n",
    "  \\begin{bmatrix}\n",
    "  2\\\\\n",
    "  3\\\\\n",
    "  4\n",
    "  \\end{bmatrix}\n",
    "  , \\quad a+b=\n",
    "  \\begin{bmatrix}\n",
    "  10+2\\\\\n",
    "  11+3\\\\\n",
    "  12+4\n",
    "  \\end{bmatrix}\n",
    "  =\n",
    "  \\begin{bmatrix}\n",
    "  12\\\\\n",
    "  14\\\\\n",
    "  16\n",
    "  \\end{bmatrix}, \\quad a - b=\n",
    "  \\begin{bmatrix}\n",
    "  10-2\\\\\n",
    "  11-3\\\\\n",
    "  12-4\n",
    "  \\end{bmatrix}\n",
    "  =\n",
    "  \\begin{bmatrix}\n",
    "  8\\\\\n",
    "  8\\\\\n",
    "  8\n",
    "  \\end{bmatrix}\n",
    "  $$"
   ]
  },
  {
   "cell_type": "markdown",
   "metadata": {},
   "source": [
    "  - 브로드캐스팅과 선형조합 \n",
    "    - 브로드캐스팅 : 벡터와 스칼라의 경우 관례적으로 1-벡터를 사용하여 스칼라를 벡터로 변환하여 연산을 실시하는데 이를 의미한다.\n",
    "  $$\n",
    "  a=\n",
    "  \\begin{bmatrix}\n",
    "  10\\\\\n",
    "  11\\\\\n",
    "  12\\\\\n",
    "  \\end{bmatrix},\\quad\n",
    "  a-10=\n",
    "  \\begin{bmatrix}\n",
    "  10\\\\\n",
    "  11\\\\\n",
    "  12\\\\\n",
    "  \\end{bmatrix}\n",
    "  - 10 = \n",
    "  \\begin{bmatrix}\n",
    "  10\\\\\n",
    "  11\\\\\n",
    "  12\\\\\n",
    "  \\end{bmatrix}\n",
    "  - 10\\cdot 1 = \n",
    "  \\begin{bmatrix}\n",
    "  10\\\\\n",
    "  11\\\\\n",
    "  12\\\\\n",
    "  \\end{bmatrix} -\n",
    "  \\begin{bmatrix}\n",
    "  10\\\\\n",
    "  10\\\\\n",
    "  10\n",
    "  \\end{bmatrix}\n",
    "  $$\n",
    "  \n",
    "    - 선형조합 : 벡터/행렬에 스칼라 값을 곱한 후 더하거나 뺀 것을 의미.\n",
    "    $$\n",
    "    c_1x_1+c_2x_2+c_3x_3+\\cdots+c_Lx_L=x\n",
    "    $$"
   ]
  },
  {
   "cell_type": "markdown",
   "metadata": {},
   "source": [
    "  - 벡터와 백터의 곱셈\n",
    "      - 벡터는 일반적으로 열 벡터이며, 내적을 하기 위해서는 전치를 통해 행 벡터로 바꾸어줘야한다.\n",
    "      - 내적의 표기는 다음처럼 dot로 표기하는 경우도 있다.\n",
    "    $$\n",
    "    x \\cdot y = \\left < x, y \\right > = x^Ty\n",
    "    $$\n",
    "      - 두 벡터를 내적하려면 다음과 같은 조건이 만족되어야 한다.  \n",
    "        1) 두 백터의 차원(길이)가 우선적으로 같아야 하며  \n",
    "        2) 앞의 벡터가 행 벡터이고 뒤의 벡터가 열 벡터이어야 한다\n",
    "    $$\n",
    "    x^Ty = \n",
    "    [x_1 x_2 \\cdots x_N]\n",
    "    \\begin{bmatrix}\n",
    "    y_1\\\\\n",
    "    y_2\\\\\n",
    "    \\vdots\\\\\n",
    "    y_N\n",
    "    \\end{bmatrix}\n",
    "    = x_1y_1+\\cdots + x_Ny_N\n",
    "    = \\sum_{i=1}^{N}x_iy_i\n",
    "    $$\n",
    "      - 벡터의 내적 기호는 $@$ 또는 $dot()$를 사용한다."
   ]
  },
  {
   "cell_type": "markdown",
   "metadata": {},
   "source": [
    " - numpy로 내적 계산하기. "
   ]
  },
  {
   "cell_type": "code",
   "execution_count": 15,
   "metadata": {},
   "outputs": [
    {
     "data": {
      "text/plain": [
       "(array([[13]]), 2.0)"
      ]
     },
     "execution_count": 15,
     "metadata": {},
     "output_type": "execute_result"
    }
   ],
   "source": [
    "import numpy as np\n",
    "a = np.array([[1,3,2]])\n",
    "b = np.array([[2],[3],[1]])\n",
    "a@b, a.mean()"
   ]
  },
  {
   "cell_type": "markdown",
   "metadata": {},
   "source": [
    " - 가중합 식 구현하기\n",
    "     $$\n",
    "     w_1x_1 + \\cdots + w_Nx_N = \\sum_{i=1}^N{w_ix_i}=\n",
    "     \\begin{bmatrix}\n",
    "     w_1&\\quad w_2 &\\quad \\cdots&\\quad w_N\n",
    "     \\end{bmatrix}\n",
    "     \\begin{bmatrix}\n",
    "     x_1\\\\\n",
    "     x_2\\\\\n",
    "     \\vdots\\\\\n",
    "     x_N\n",
    "     \\end{bmatrix}\n",
    "     =w^Tx=\n",
    "     \\begin{bmatrix}\n",
    "     x_1&\\quad x_2 &\\quad \\cdots&\\quad x_N\n",
    "     \\end{bmatrix}\n",
    "     \\begin{bmatrix}\n",
    "     w_1\\\\\n",
    "     w_2\\\\\n",
    "     \\vdots\\\\\n",
    "     w_N\n",
    "     \\end{bmatrix}\n",
    "     =x^Tw\n",
    "     $$"
   ]
  },
  {
   "cell_type": "markdown",
   "metadata": {},
   "source": [
    "### 가중평균\n",
    "  - 가중합의 가중치 값을 전체 가중치 값의 합으로 나누면 가중평균이 된다.\n",
    "  $$\n",
    "  \\text {가중평균} \\quad = \\quad  \\bar{x}\n",
    "  $$\n",
    "  - 예로, 주 1회 1시간 씩 하는 대학교 수업과 주 1회 3시간 씩 하는 대학교 수업의 성적이\n",
    "    각각 100점, 60점이 나왔을 때, 학점을 고려한 가중 평균은 다음과 같다"
   ]
  },
  {
   "cell_type": "markdown",
   "metadata": {},
   "source": [
    "$$\n",
    "\\frac {1}{1+3}\\times 100+\\frac {3}{1+3}\\times 60=70\n",
    "$$"
   ]
  },
  {
   "cell_type": "markdown",
   "metadata": {},
   "source": [
    "  - 벡터로 표현된 N개의 데이터의 단순 평균은 다음과 같다.\n",
    "$$\n",
    "\\bar{x}= \\frac{1}{N} \\sum_{i=1}^{N} x_i=\\frac{1}{N} 1_{N}^{T}x\n",
    "$$\n",
    "\n",
    "  - numpy의 평균은 mean()이라는 메소드를 사용한다."
   ]
  },
  {
   "cell_type": "code",
   "execution_count": 80,
   "metadata": {},
   "outputs": [
    {
     "data": {
      "text/plain": [
       "array([0, 1, 2, 3, 4, 5, 6, 7, 8, 9])"
      ]
     },
     "execution_count": 80,
     "metadata": {},
     "output_type": "execute_result"
    }
   ],
   "source": [
    "x = np.arange(10)\n",
    "x"
   ]
  },
  {
   "cell_type": "code",
   "execution_count": 81,
   "metadata": {},
   "outputs": [
    {
     "data": {
      "text/plain": [
       "4.5"
      ]
     },
     "execution_count": 81,
     "metadata": {},
     "output_type": "execute_result"
    }
   ],
   "source": [
    "x.mean()"
   ]
  },
  {
   "cell_type": "markdown",
   "metadata": {},
   "source": [
    " - 유사도 의미\n",
    "   - 두 벡터가 닮은 정도를 정량적으로 나타낸 값."
   ]
  },
  {
   "cell_type": "markdown",
   "metadata": {},
   "source": [
    " - 선형회귀 모습 구현\n",
    "   - 독립변수 x에서 종속변수 y를 예측하는 하나의 방법으로 독립변수 벡터 x와 가중치 벡터 w와의 가중합으로 y에 대한 예측값 $\\hat {y}$를 계산하는 수식\n",
    "$$\n",
    "\\hat {y} = w_1x_1+\\cdots+w_Nx_N\n",
    "=\n",
    "\\begin{bmatrix}\n",
    "w_1&\\quad w_2& \\quad \\cdots & \\quad w_N\n",
    "\\end{bmatrix}\n",
    "\\begin{bmatrix}\n",
    "x_1\\\\\n",
    "x_2\\\\\n",
    "\\vdots\\\\\n",
    "x_N\n",
    "\\end{bmatrix}=w^Tx\n",
    "$$\n",
    "   - 즉, 변수 값들이 모여있는 방법이 직선의 방정식과 비슷할 때, y=ax라는 형태의 방정식을 이용하여 다음 변수가 나왔을 때, 변수의 값을 예측하기 위한 모형"
   ]
  },
  {
   "cell_type": "markdown",
   "metadata": {},
   "source": [
    " - 제곱합의 식\n",
    "   - 데이터의 분산이나 표준 편차등을 구하는 경우, 각각의 데이터를 제곱한 뒤 이 값을 모두 더한 제곱 합을 이용한다.\n",
    "   $$\n",
    "   x^Tx=\n",
    "   \\begin{bmatrix}\n",
    "   x_1&\\quad x_2&\\quad \\cdots&\\quad x_N \n",
    "   \\end {bmatrix}\n",
    "   \\begin{bmatrix}\n",
    "   x_1\\\\\n",
    "   x_2\\\\\n",
    "   \\vdots\\\\\n",
    "   x_N\n",
    "   \\end {bmatrix}\n",
    "   =\\sum_{i=1}^N{x_i}^2\n",
    "   $$"
   ]
  },
  {
   "cell_type": "markdown",
   "metadata": {},
   "source": [
    " - 교환 법칙과 분배 법칙 & 곱셈의 연결(결합법칙)"
   ]
  },
  {
   "cell_type": "markdown",
   "metadata": {},
   "source": [
    "     - 교환 법칙과 분배 법칙\n",
    "$$\n",
    "AB\\not =BA\\\\\n",
    "A(B+C)=AB+AC\\\\\n",
    "(A+B)C=AC+BC\\\\\n",
    "(AB)C=A(BC)\n",
    "$$"
   ]
  },
  {
   "cell_type": "code",
   "execution_count": 3,
   "metadata": {},
   "outputs": [],
   "source": [
    "A = np.array([[1, 2], [3, 4]])\n",
    "B = np.array([[5, 6], [7, 8]])\n",
    "C = np.array([[9, 8], [7, 6]])"
   ]
  },
  {
   "cell_type": "code",
   "execution_count": 5,
   "metadata": {},
   "outputs": [
    {
     "data": {
      "text/plain": [
       "(array([[19, 22],\n",
       "        [43, 50]]),\n",
       " array([[23, 34],\n",
       "        [31, 46]]))"
      ]
     },
     "execution_count": 5,
     "metadata": {},
     "output_type": "execute_result"
    }
   ],
   "source": [
    "A@B, B@A"
   ]
  },
  {
   "cell_type": "code",
   "execution_count": 6,
   "metadata": {},
   "outputs": [
    {
     "data": {
      "text/plain": [
       "(array([[42, 42],\n",
       "        [98, 98]]),\n",
       " array([[42, 42],\n",
       "        [98, 98]]))"
      ]
     },
     "execution_count": 6,
     "metadata": {},
     "output_type": "execute_result"
    }
   ],
   "source": [
    "A@(B+C), A@B + A@C"
   ]
  },
  {
   "cell_type": "code",
   "execution_count": 8,
   "metadata": {},
   "outputs": [
    {
     "data": {
      "text/plain": [
       "(array([[110,  96],\n",
       "        [174, 152]]),\n",
       " array([[110,  96],\n",
       "        [174, 152]]))"
      ]
     },
     "execution_count": 8,
     "metadata": {},
     "output_type": "execute_result"
    }
   ],
   "source": [
    "(A+B)@C, A@C + B@C"
   ]
  },
  {
   "cell_type": "code",
   "execution_count": 9,
   "metadata": {},
   "outputs": [
    {
     "data": {
      "text/plain": [
       "(array([[325, 284],\n",
       "        [737, 644]]),\n",
       " array([[325, 284],\n",
       "        [737, 644]]))"
      ]
     },
     "execution_count": 9,
     "metadata": {},
     "output_type": "execute_result"
    }
   ],
   "source": [
    "A@B@C, A@(B@C)"
   ]
  },
  {
   "cell_type": "markdown",
   "metadata": {},
   "source": [
    " - 항등행렬의 곱셈"
   ]
  },
  {
   "cell_type": "markdown",
   "metadata": {},
   "source": [
    "$$\n",
    "AI=IA=A\n",
    "$$"
   ]
  },
  {
   "cell_type": "code",
   "execution_count": 10,
   "metadata": {},
   "outputs": [],
   "source": [
    "A = np.array([[1, 2], [3, 4]])\n",
    "I = np.eye(2)"
   ]
  },
  {
   "cell_type": "code",
   "execution_count": 11,
   "metadata": {},
   "outputs": [
    {
     "data": {
      "text/plain": [
       "array([[1., 2.],\n",
       "       [3., 4.]])"
      ]
     },
     "execution_count": 11,
     "metadata": {},
     "output_type": "execute_result"
    }
   ],
   "source": [
    "A @ I"
   ]
  },
  {
   "cell_type": "code",
   "execution_count": 12,
   "metadata": {},
   "outputs": [
    {
     "data": {
      "text/plain": [
       "array([[1., 2.],\n",
       "       [3., 4.]])"
      ]
     },
     "execution_count": 12,
     "metadata": {},
     "output_type": "execute_result"
    }
   ],
   "source": [
    "I @ A"
   ]
  },
  {
   "cell_type": "markdown",
   "metadata": {},
   "source": [
    "  - 잔차의 의미, 식 &  잔차의 제곱합, 의미 , 식"
   ]
  },
  {
   "cell_type": "markdown",
   "metadata": {},
   "source": [
    "    -  잔차\n",
    "  - 선형 회귀분석을 한 결과는 가중치 벡터 $w$라는 형태로 나타나고,독립변수 데이터와 함께 벡터 $x_i$의 가중합인 $w^Tx_i$이 된다\n",
    "  - 예측치와 실제값(target) $y_i$의 차이를 오차(error) 또는 잔차$e_i$라고 한다."
   ]
  },
  {
   "cell_type": "markdown",
   "metadata": {},
   "source": [
    "  - 모든 독립 변수 벡터에 대한 잔차값을 구하면 잔차 벡터 e가 된다.\n",
    "  $$\n",
    "e_i=y_i-\\hat y_i = y_i - w^Tx_i\n",
    "$$"
   ]
  },
  {
   "cell_type": "markdown",
   "metadata": {},
   "source": [
    "$$\n",
    "e=\n",
    "\\begin{bmatrix}\n",
    "e_1\\\\\n",
    "e_2\\\\\n",
    "\\vdots\\\\\n",
    "e_M\n",
    "\\end{bmatrix}\n",
    "=\\begin{bmatrix}\n",
    "y_1\\\\\n",
    "y_2\\\\\n",
    "\\vdots\\\\\n",
    "y_M\n",
    "\\end{bmatrix}\n",
    "-\\begin{bmatrix}\n",
    "x_1^Tw\\\\\n",
    "x_2^Tw\\\\\n",
    "\\vdots\\\\\n",
    "x_n^Tw\n",
    "\\end{bmatrix}\n",
    "$$"
   ]
  },
  {
   "cell_type": "markdown",
   "metadata": {},
   "source": [
    "   - 잔차 제곱합\n",
    "  - 잔차의크기는 잔차 베거의 각 원소를 곱한 후 더한 잔차 제곱합(RSS)를 이용하여 구한다.\n",
    "$$\n",
    "\\sum_{i=1}^Ne_i^2=\\sum_{i=1}^N(y_i-w^Tx_i)^2=\\sum_{i=1}^N{(e_i*e_i)}=e^Te=(y-Xw)^T(y-Xw)\n",
    "$$\n"
   ]
  },
  {
   "cell_type": "markdown",
   "metadata": {},
   "source": [
    "$$\n",
    "(y-Xw)^T(y-Xw)=y^Ty-w^TX^Ty-y^TXw+w^TX^TXw\n",
    "$$"
   ]
  },
  {
   "cell_type": "markdown",
   "metadata": {},
   "source": [
    "$$\n",
    "(y-Xw)^T=y^T-w^TX^T\\text{이므로}\\\\\n",
    "(y-Xw)^T(y-Xw)=(y^T-w^TX^T)(y-Xw)=y^Ty-w^TX^Ty-y^TXw+w^TX^TXw\n",
    "$$"
   ]
  },
  {
   "cell_type": "markdown",
   "metadata": {},
   "source": [
    " - 이차형식 의미 \n",
    "   - 전차 제곱합의 마지막 항은 $w^TX^TXw$로 $X^TX$는 정방행렬이 된다. 이를 A라고 하면 마지막 항은 $w^TAw$와 같은 형태가 된다. 이는 행 벡터 * 정방행렬 * 열 백터  형식이다.\n"
   ]
  },
  {
   "cell_type": "markdown",
   "metadata": {},
   "source": [
    "## 8. 행렬의 성질"
   ]
  },
  {
   "cell_type": "markdown",
   "metadata": {},
   "source": [
    " - 정부호와 준정부호\n",
    "      - 행렬의 성질 - 정부호와 준정부호\n",
    "      - 연립 방정식의 해가 행렬일 때, 그 행렬이 양인지, 음수인지, 크기는 어떻게 되는지 알고자 하여 알고자 하는 성질\n",
    "      - 영 벡터가 아닌 모든 백터 $x$에 대하여 다음을 성립하면 행렬 A는 $\\text {양의 정부호}$ 라고 한다\n",
    "      - 행렬의 양인지, 음인지 판단하는 것\n",
    "$$\n",
    "x^TAx>0\n",
    "$$\n",
    "      - 만약 식이 등호를 포함한다면, $\\text {양의 준정부호}$ 라고 한다\n",
    "\n",
    "$$\n",
    "x^TAx\\geqq 0\n",
    "$$"
   ]
  },
  {
   "cell_type": "markdown",
   "metadata": {},
   "source": []
  },
  {
   "cell_type": "code",
   "execution_count": 65,
   "metadata": {},
   "outputs": [
    {
     "data": {
      "text/plain": [
       "(3, 3)"
      ]
     },
     "execution_count": 65,
     "metadata": {},
     "output_type": "execute_result"
    }
   ],
   "source": [
    "import numpy as np\n",
    "A = np.array([[2,-1,0],[-1,2,-1],[0,-1,2]])\n",
    "A.shape"
   ]
  },
  {
   "cell_type": "code",
   "execution_count": 66,
   "metadata": {},
   "outputs": [
    {
     "data": {
      "text/plain": [
       "array([[ True, False, False],\n",
       "       [False,  True, False],\n",
       "       [False, False,  True]])"
      ]
     },
     "execution_count": 66,
     "metadata": {},
     "output_type": "execute_result"
    }
   ],
   "source": [
    "A > 0"
   ]
  },
  {
   "cell_type": "code",
   "execution_count": 67,
   "metadata": {},
   "outputs": [],
   "source": [
    "def is_pos_def(x): #정부호, 준정부호를 확인하는 함수 np.linalg.eigvals(x)\n",
    "    return np.all(np.linalg.eigvals(x)>0) #numpy.all 배열의 모든 데이터가 조건과 일치하면 True, 1개라도 다르면 False"
   ]
  },
  {
   "cell_type": "code",
   "execution_count": 68,
   "metadata": {},
   "outputs": [
    {
     "data": {
      "text/plain": [
       "True"
      ]
     },
     "execution_count": 68,
     "metadata": {},
     "output_type": "execute_result"
    }
   ],
   "source": [
    "is_pos_def(A)"
   ]
  },
  {
   "cell_type": "code",
   "execution_count": 71,
   "metadata": {},
   "outputs": [
    {
     "data": {
      "text/plain": [
       "array([3.41421356, 2.        , 0.58578644])"
      ]
     },
     "execution_count": 71,
     "metadata": {},
     "output_type": "execute_result"
    }
   ],
   "source": [
    "np.linalg.eigvals(A)"
   ]
  },
  {
   "cell_type": "code",
   "execution_count": 70,
   "metadata": {},
   "outputs": [
    {
     "data": {
      "text/plain": [
       "True"
      ]
     },
     "execution_count": 70,
     "metadata": {},
     "output_type": "execute_result"
    }
   ],
   "source": [
    "np.all(np.linalg.eigvals(A) >0)"
   ]
  },
  {
   "cell_type": "markdown",
   "metadata": {},
   "source": [
    " - 행렬 놈 \n",
    "      - 행렬 놈\n",
    "      - 행렬의 크기를 인지하기 위해 사용하는 용법이며 $\\Vert A \\Vert _p$로 표기하며  이 식 $a_{ij}$는 행렬 A의 i번쨰 행, j번째 열의 원소다. 행렬 놈에도 여러가지 정의가 있으며 여기에서는 $\\text {요소별 행렬 놈}$의 정의를 따름\n",
    "      - 보통 $p$ 는 1, 2 또는 무한대가 사용되며 p=2인 경우가 대부분이다. 이를 프로베니우스 놈이라고 하며 $\\Vert A \\Vert_F$ 라고 표기하기도 한다 \n",
    "    $$\n",
    "    \\begin{align}\n",
    "    \\Vert A \\Vert _p = \\Vert A \\Vert _2 = \\Vert A \\Vert _F = \\sqrt{\\sum_{i=1}^N\\sum_{j=1}^M{a_{ij}^2}}\n",
    "    \\end{align}\n",
    "    $$\n",
    "\n",
    "      - 행렬의 놈은 numpy에서 linalg의 norm() 명령으로 계산할 수 있다."
   ]
  },
  {
   "cell_type": "markdown",
   "metadata": {},
   "source": [
    "  - 정확한 놈의 정의는 다음 4가지 성질이 성립하는 행렬 연산을 말한다. 이러한 연산이 여러개 존재하기 때문에 놈의 정의도 다양하다.\n",
    "     - 놈의 값은 0 이상이다. 영행렬일 때만 놈의 값이 0이 된다.\n",
    "     $$\n",
    "     \\Vert A \\Vert \\ge 0\n",
    "     $$\n",
    "     \n",
    "     - 행렬에 스칼라를 곱하면 놈의 값도 그 스칼라의 절댓값을 곱한 것과 같다.\n",
    "     $$\n",
    "     \\Vert \\alpha A \\Vert = \\vert \\alpha \\vert \\Vert A \\Vert\n",
    "     $$\n",
    "     \n",
    "     - 행렬의 합의 놈은 각 행렬의 놈의 합보다 작거나 같다.\n",
    "     $$\n",
    "     \\Vert A + B \\Vert \\le \\Vert A \\Vert + \\Vert B \\Vert\n",
    "     $$\n",
    "     \n",
    "     - 정방행렬의 곱의 놈은 각 정방행렬의 놈의 곱보다 작거나 같다.\n",
    "     $$\n",
    "     \\Vert AB \\Vert \\le \\Vert A \\Vert \\Vert B \\Vert\n",
    "     $$"
   ]
  },
  {
   "cell_type": "markdown",
   "metadata": {},
   "source": [
    " - 대각행렬의 합\n",
    "   - 대각합(trace)은정방행렬에서만 정의 되며 대각원소의 합으로 계산된다. 이를 $tr()$로 표기한다\n",
    "  $$\n",
    "  tr(A) = a_{11} + a_{22} + \\cdots + a_{NN} = \\sum_{i=1}^{N}a_{ii}\n",
    "  $$\n",
    "  \n",
    "  - N차원의 항등행렬의 대각합은 N이다\n",
    "  $$\n",
    "  tr(I_N)=N\n",
    "  $$\n",
    "  \n",
    "  - 대각합의 값은 놈과 달리 음수가 될 수도 있다. 5가지의 성질이 있다.\n",
    "    - 스칼라를 곱하면 대각합은 스칼라와 원소의 대각합의 곱이다.\n",
    "    $$\n",
    "    tr(cA)=c\\cdot tr(A)\n",
    "    $$\n",
    "    \n",
    "    - 전치 연산을 해도 대각합이 달라지지 않는다.\n",
    "    $$\n",
    "    tr(A^T) = tr(A)\n",
    "    $$\n",
    "    \n",
    "    - 두 행렬의 합의 대각합은 두 행렬의 대각합의 합이다.\n",
    "    $$\n",
    "    tr(A+B) = tr(A)+tr(B)\n",
    "    $$\n",
    "    \n",
    "    - 두 행렬의 곱의 대각합은 행렬의 순서를 바꾸어도 달라지지 않는다.\n",
    "    $$\n",
    "    tr(AB) = tr(BA)\n",
    "    $$\n",
    "    \n",
    "    - 세 행렬의 곱의 대각합은 다음과 같이 순서를 순환시켜도 달라지지 않는다.\n",
    "    $$\n",
    "    tr(ABC) = tr(BCA) = tr(CAB)\n",
    "    $$\n",
    "  - numpy에서는 trace()명령어로 대각합을 계산할 수 있다.\n",
    "  - np.trace(np.eye(3))"
   ]
  },
  {
   "cell_type": "markdown",
   "metadata": {},
   "source": [
    " - 행렬식의 의미, 기호, 행렬식의 성질\n",
    " \n",
    "      - 행렬(주로 정방행렬)을 하나의 수 로서 대응시킴.\n",
    "      - 행렬식은?\n",
    "         - 작은 규모의 연립 방정식의 해를 구하거나\n",
    "         - 가역행렬이기 위한 필요충분조건 $det(A) \\not = 0$\n",
    "         - 연립방정식 해의 존재성을 살피려고 할 때 등에 쓰여짐\n",
    "\n",
    "      - 표기\n",
    "      $$\n",
    "      det([a]) = a\n",
    "      $$\n",
    "\n",
    "      - numpy안의 linalg의 det() 명령으로 행렬식을 계산할 수 있다.\n",
    "      - 즉 고유의 해를 가지는 다음 같은 선형방정식에서 \n",
    "      $$\n",
    "      a_1x+a_2y+a_3z = 0\\\\\n",
    "      b_1x+b_2y+b_3z = 0\\\\\n",
    "      c_1x+c_2y+c_3z = 0\n",
    "      $$\n",
    "      에서 x, y, z의 값을 제거하면 다믕과 같이 표현이 된다.\n",
    "      $$\n",
    "      a_{11}a_{22}a_{33}-a_{11}a_{23}a_{32}+a_{12}a_{23}a_{31}-a_{12}a_{21}a_{33}+a_{13}a_{21}a_{32}-a_{13}a_{22}a_{31} = 0\n",
    "      $$\n",
    "\n",
    "      - 이것을 이 방정식의 $행렬식$이라고 하고 행렬식은 항상 정방행렬이다. 행렬의 행렬식이 0이면 그 행렬은 singular이라고 하고 행렬식이 1인 행렬을 unimodular라고 한다."
   ]
  },
  {
   "cell_type": "markdown",
   "metadata": {},
   "source": [
    "  - 행렬식의 성질\n",
    "      - 전치 행렬의 행렬식은 원래의 행렬식과 같다.\n",
    "      $$\n",
    "      det(A^T)=det(A)\n",
    "      $$\n",
    "      \n",
    "      - 항등 행렬의 행렬식은 1이다.\n",
    "      $$\n",
    "      det(I) = 1\n",
    "      $$\n",
    "      \n",
    "      - 두 행렬의 곱의 행렬식은 각 행렬의 행렬식의 곱과 같다.\n",
    "      $$\n",
    "      det(AB)=det(A)det(B)\n",
    "      $$\n",
    "      \n",
    "      - $역행렬 A^{-1}$은 원래의 행렬 A와 다음 관계를 만족하는 정방행렬을 말한다. $I$는 항등 행렬이다.\n",
    "      $$\n",
    "      A^{-1}A=AA^{-1}=I\n",
    "      $$\n",
    "      \n",
    "      - 역행렬의 행렬식은 원래의 행렬의 행렬식의 역수와 같다.\n",
    "      $$\n",
    "      det(A^{-1})=\\frac {1}{det(A)}\n",
    "      $$"
   ]
  },
  {
   "cell_type": "markdown",
   "metadata": {},
   "source": [
    "## 9. 선형 연립방정식과 역행렬\n",
    " - 역행렬\n",
    "      - 행렬 A, B가 있을 때 아래의 식을 성립한다면 B는 $A^{-1}$이며 이를 'B는 A의 역행렬이다' 라고 한다.\n",
    "\n",
    "\n",
    "  $$\n",
    "  AA^{-1}=A^{-1}A=I\\\\\n",
    "  AB=BA =I\\text { 일 때 } B = A^{-1}\n",
    "  $$\n",
    "\n",
    "\n",
    "\n",
    "  $$\n",
    "  A=\n",
    "  \\begin{pmatrix}\n",
    "  a_{11} & a_{12}\\\\\n",
    "  a_{21} & a_{22}\n",
    "  \\end{pmatrix}\n",
    "  \\text { 일 때 }\n",
    "  $$\n",
    "\n",
    "\n",
    "\n",
    "  $$\n",
    "  A^{-1} = \\frac {1}{a_{11}a_{22}-a_{12}a_{21}}\n",
    "  \\begin{pmatrix}\n",
    "  a_{22} & -a_{12}\\\\\n",
    "  -a_{21} & a_{11}\n",
    "  \\end{pmatrix}\n",
    "  $$\n",
    "- 역행렬을 구할 때에는 우선 ${a_{11}a_{22}-a_{12}a_{21}} \\not = 0$ 인지를 확인해야 한다. 즉 $det(A)\\not=0 $이어야 역행렬이 존재한다.\n",
    "- numpy에서 linalg.inv()를 사용한다."
   ]
  },
  {
   "cell_type": "markdown",
   "metadata": {},
   "source": [
    "### 10 추가 문제\n",
    " - 다차원 행렬을 벡터로 변환하는 코드\n",
    "$$\n",
    "d4 = digits.images[11]\\\\\n",
    "v1 = d1.reshape(64, 1)\n",
    "$$\n",
    "  - 와 같이 8x8 행열을 64x1행렬로 변경."
   ]
  },
  {
   "cell_type": "markdown",
   "metadata": {},
   "source": [
    "### numpy 명령어 정리하기 \n",
    "   - 행렬 : np.array([]) # 1차원 / np.array([[]]) # 2차원 / np.array([[[]]]) #3차원\n",
    "   - 영행렬 : np.zeros([a,b]) # aXb 행렬 \n",
    "   - 일행렬 : np.ones([a,b])  # aXb 행렬\n",
    "   - 대각행렬 : np.diag([a]) #a에는 대각선 요소에 들어갈 원소\n",
    "   - 항등행렬 : np.identitiy() or np.eye()\n",
    "   - 내적 : @ or dot()\n",
    "   - 가중평균 $\\bar x$ : x.mean() #x는 행렬\n",
    "   - 선형회귀 : $\\hat y = w^Tx$ #$\\hat y$은 예측값\n",
    "   - 잔차 :  $e_i = y_i - \\hat y = y_i - w^Tx_i$ #$y_i$는 실제값(target)\n",
    "   - 잔차 제곱 값 : $y^Ty-w^TX^Ty-y^TXw+w^TX^TXw$\n",
    "   - 이차형식 : 행 벡터 * 정방행렬 * 열 벡터 $w^TX^TXw$\n",
    "   - 정부호 : $x^TAx\\ge 0$\n",
    "   - 준정부호 : $x^TAx\\geqq 0$\n",
    "   - 정부호, 준정부호 확인하기 : np.linalg.eigvals()>0(정부호)  or ()>=0(준정부호)\n",
    "   - 행렬 놈 $\\Vert A \\Vert _p = \\Vert A \\Vert _2 = \\Vert A \\Vert _F = \\sqrt{\\sum_{i=1}^N\\sum_{j=1}^M{a_{ij}^2}}$ : np.linalg.norm()\n",
    "   - 대각행렬의 합 $tr(A)$ : np.trace()\n",
    "   - 행렬식 $det([a])= a$ : np.linalg.det(). 수학식에서 역행렬 존재 유무의 ad-bc를 맡던 그 친구를 연상.\n",
    "   - 역행렬 $A^{-1}$ : np.linalg.inv()"
   ]
  }
 ],
 "metadata": {
  "kernelspec": {
   "display_name": "Python 3",
   "language": "python",
   "name": "python3"
  },
  "language_info": {
   "codemirror_mode": {
    "name": "ipython",
    "version": 3
   },
   "file_extension": ".py",
   "mimetype": "text/x-python",
   "name": "python",
   "nbconvert_exporter": "python",
   "pygments_lexer": "ipython3",
   "version": "3.6.12"
  }
 },
 "nbformat": 4,
 "nbformat_minor": 4
}
