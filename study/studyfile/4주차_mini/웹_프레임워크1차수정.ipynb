{
 "cells": [
  {
   "cell_type": "markdown",
   "metadata": {},
   "source": [
    "# 웹_프레임워크"
   ]
  },
  {
   "cell_type": "markdown",
   "metadata": {},
   "source": [
    "### [정의]\n",
    "  - 웹 프레임 워크 : 동적인 엡 페이지나 웹 애플리케이션, 웹 서비스 개발 보조용으로 만들어지는 웹 용 애플리케이션 프레임워크. - 위키백과\n",
    "  - 애플리케이션 프레임 워크 : 소프트웨어 개발자가 프로그래밍에서 특정 운영체제를 위한 응용프로그램 표준 구조를 구현하는 클래스와 라이브러리 모임. - 위키백과"
   ]
  },
  {
   "cell_type": "markdown",
   "metadata": {},
   "source": [
    "### [구성] : Model, URLconf, View, Template\n",
    "  - Model : 블로그의 내용을 데이터베이스로 가져오거나 저장, 수정하는 역할\n",
    "  - URLconf : 요청에 들어있는 URL이 urls.py파일에 정의된 패턴과 매칭되는지 분석.\n",
    "  - View : 버튼을 눌렀을 때 어떤 함수를 호출하며 데이터를 어떻게 가공할 것인지 결정하는 역할. 계산 처리등의 로직 작업\n",
    "  - Template : 화면 출력을 위해 디자인과 테마를 적용, 보여지는 페이지를 담당해주는 역할. 보이는 부분."
   ]
  },
  {
   "cell_type": "markdown",
   "metadata": {},
   "source": [
    "## Model\n",
    "  - ORM 기법을 사용, SQL 언어 사용없이 애플리케이션에 사용할 데이터베이스를 클래스로 매핑하여 코딩할 수 있음.\n",
    "  - models.CharField(): 글자 수가 제한된 텍스트에 사용\n",
    "  - models.TextField(): 글자 수 제한이 없는 긴 텍스트를 위한 속성\n",
    "  - models.DateTimeField(): 날짜와 시간을 위한 필드를 위한 속성\n",
    "  - models.ForeignKey(): 다른 모델에 대한 관계를 형성하기 위한 필드속성\n",
    "  - \n",
    "  - [추가 필드 타입 참고 Page]\n",
    "  - https://brunch.co.kr/@ddangdol/4\n",
    "  - https://blog.naver.com/burnnine3/221734730420\n",
    "  - https://blog.naver.com/shino1025/221319031389\n",
    "  - [모델 id와 장바구니 기능 발현 시 참고 Page]\n",
    "  - https://blog.naver.com/jackyoung96/221976645717"
   ]
  },
  {
   "cell_type": "markdown",
   "metadata": {},
   "source": [
    "### Question 1 : model DB를 admin 외 다른 사이트를 이용하려면, 어떻게 해야 django와 연결이 될까?\n",
    "  - 대부분의 '내가 본' 모든 자료에서는 Model 값을 admin에 참고하며 model의 하위 Class를 Post라 할 때 항상 'admin.py'에 \n",
    "    from .models import Post와 admin.site.register(Post)를 참조한다.\n",
    "  - 내가 궁금한 건, model 자체는 데이터베이스를 이용하기 위함이며, 자료들에서 사용하는 이유는 홈페이지.admin 에서 사용하기 위함인 \n",
    "    것으로 추측이 되는데, 다른 app에서 지정한 html 사이트에서 운용하려고 한다면, 어떤 파이썬 파일에 입력해야 될까????"
   ]
  },
  {
   "cell_type": "markdown",
   "metadata": {},
   "source": [
    "### Question 2 : model 사용없이 사이트를 이용할 수 있는가? 그리고 form은 대체 뭘까?\n",
    "  - 일반적으로 model 입력을 필수적으로 사용하는데, 이는 데이터 저장을 위한 것으로 판단된다. 그렇다면, model을 사용하지 않는 경우,\n",
    "    이를 입력하지 않고, url을 불러오거나, 검색의 용도로 사용할 수 있지 않을까???\n",
    "      - 이에 대한 참조 주소 : https://sundrystore.tistory.com/26 (django를 이용한 lol(리그 오브 레전드) 전적사이트 만들기 3부)\n",
    "      - model을 사용하지 않고 검색 할 수 있는 홈페이지를 만들었다. 검색창을 응용하려는데, form이라는 도구를 사용함을 볼 수 있었다.\n",
    "        form은 대체 뭘까?"
   ]
  },
  {
   "cell_type": "markdown",
   "metadata": {},
   "source": [
    "## Form \n",
    "  - 사용자로부터 입력을 받기 위해 사용하는 부분. form을 이용해 텍스트를 입력하고, 항목을 선택할 수 있다. 폼에 입력된 데이터는 서버로 보내짐.\n",
    "  - 텍스트 입력이나 체크박스 등과 같은 간단한 폼은 기본 위젯을 사용하나, 복잡한 엘리먼트들은 자바스크립트나 CSS를 사용함.\n",
    "  - .action : 폼 데이터를 어디로 보낼 것인가\n",
    "  - .method : 어떤 HTTP 메소드로 보낼 것인가\n",
    "  - HTTP 프로토콜\n",
    "     - 'get' vs 'post'\n",
    "     - post : 데이터베이스의 내용을 변경하는 등 시스템의 상태 변경 요청에 사용.\n",
    "     - get : 시스템의 상태를 바꾸지 않는 요청 \n",
    "     - '패스워드 폼'에서는 Post를 대체로 사용--> get을 사용 시 패스워드가 URL이나 브라우저, 히스토리, 서버 로그에 텍스트로\n",
    "       출력이 되는 경우가 발생. 다량의 데이터나 이미지 같은 2진데이터 전송에 부적합, 보안에 취약\n",
    "     - '검색 폼'에서는 get 방식의 데이터가 URL을 포함하므로 이를 쉽게 공유하거나 재전송할 수 있기에 좋아 get을 사용.\n",
    "  - 장고의 폼 기능 \n",
    "     - 장고는 폼 기능들을 단순화, 자동화하여 개발자가 직접 코딩하는 것보다 쉽고, 안전하게 처리해주며 아래와 같은 기능을 가짐.\n",
    "       - 폼 생성에 필요한 데이터를 폼 클래스로 구조화\n",
    "       - 폼 클래스의 데이터를 렌더링하여 HTML 폼 만들기\n",
    "       - 사용자로부터 제출된 폼과 데이터를 수신하고 처리하기\n",
    "     - 모델 클레스가 데이터베이스 테이블의 모습을 기술하듯, 폼 클래스는 폼을 기술하고 폼이 어떻게 작동하고, 어떻게 보이는 지를 결정한다.\n",
    "     - 장고에서 객체를 렌더링 할 시 \n",
    "       - 렌더링 할 객체를 뷰로 가져오기(예로, 데이터베이스로부터 객체를 추출)\n",
    "       - 그 객체를 템플릿 시스템으로 넘겨주기\n",
    "       - 템플릿 문법을 처리하여 HTML 마크업 언어로 변환하기\n",
    "       - ※폼 렌더링 작업은 위와 비슷하며 추가적으로 객체에 데이터가 없을 수도 있다.\n",
    "          \n",
    "          -> 폼 객체는 렌더링 이후, 사용자가 데이터를 채우는 것이 일반적이기 때문에 객체가 비어있을 수 있음\n",
    "           \n",
    "           -> 폼 객체는 view 함수에서 생성되며, 이 때 데이터의 여부를 결정. 데이터 추가시에는 모델 객체로부터 채욱나 직전에 제출된 HTML 폼으로 채울수 있음.\n",
    "  - is_valid() : 폼 클래스는 모든 필드에 대해 유효성 검사 루틴을 실행시키는 이 메소드를 가지고 있으며 유효성 검사를 함.\n",
    "    모든 필드가 유효하다면,\n",
    "    - True 값을 반환한다.\n",
    "    - 폼 데이터를 cleaned_data 속성에 넣는다"
   ]
  },
  {
   "cell_type": "markdown",
   "metadata": {},
   "source": [
    "### form 만들어보기.\n",
    "  - 파일의 진행 순서는 start.html -> urls.py -> views.py -> hello.py 가 된다.\n",
    "  \n",
    "#### (html홈페이지와 좀 다르게 표현된다. markdown이라서 그런듯)\n",
    "#start.html\n",
    "<form action-\"/your-name/\" method=\"POST\">\n",
    "    <label for =\"your_name\">your name</label>\n",
    "    <input id=\"your_name\" type=\"text\" name=\"other_name\" value=\"{{current_name}}\"> <!-- {{current_name}}은 초기값이다.-->\n",
    "    <input type=\"submit\" value=\"OK\"> <!-- submit으로 재출 -->\n",
    "\n",
    "</form>\n",
    "\n",
    "<!-- input을 이용해 입력창을 만들 수 있으며 type에 따라 원하는 창을 변경할 수 있다.\n",
    "  type=\"text\"의 경우 입력하고자 하는 창이 나오게 되며, tpye=\"submit\"은 확인 버튼이 나옴 -->"
   ]
  },
  {
   "cell_type": "markdown",
   "metadata": {},
   "source": [
    "### Question 3 위의 예시에서 입력한 값은 어디로 저장되어, 이동될까?\n",
    "  - w3school에서 공부해본 결과 name에 저장된다는 것을 추측할 수 있었다. 그러면 입력값을 이용하려면 어떻게 하면 될까?\n",
    "  - 우선, 입력이 실시되면 action에서 요청하는 url로 이동한다.(위의 경우, /your_name/)\n",
    "  - 그러면 urls.py에 설정한 방법으로 넘어가는데, 나는 path('your-name/', movie_current.views.get_name) 와 같이 설정하였다.\n",
    "  - path에 의해서 movie_current.views.get_name로 넘어가는데, views.get_name은 다음과 같다.\n",
    " "
   ]
  },
  {
   "cell_type": "code",
   "execution_count": 1,
   "metadata": {},
   "outputs": [],
   "source": [
    "#view.py\n",
    "def get_name(request):\n",
    "    # POST 방식이면 내용이 담겼다고 간주\n",
    "    if request.method == \"POST\": # (1)\n",
    "        # request 에 담긴 데ㅣ터로 클래스 폼 생성\n",
    "        form = NameForm(request.POST) #(2)\n",
    "        # 유효성 확인\n",
    "        if form.is_valid(): #(3)\n",
    "            # 유효하면 데이터는 cleaned_data 에 저장되어서 호출 가능\n",
    "            new_name = form.cleaned_data['your_name'] # (4) 검색창에서 입력한 값을 form.cleaned_data로 받아서 new_data라는 변수에 넣어준다\n",
    "            # 처리\n",
    "\n",
    "            # URL 안내\n",
    "            return render(request, 'movie_current/hello.html', {'name' : new_name} ) # (5)\n",
    "\n",
    "    # POST가 아니면 빈 폼을 보여줌\n",
    "    else:\n",
    "        form = NameForm()\n",
    "\n",
    "    return render(request, 'name.html', {'form':form}) "
   ]
  },
  {
   "cell_type": "markdown",
   "metadata": {},
   "source": [
    "  - (1) method 방식이 post인지, get인지 확인하고, post방식이면 (2)을 실행한다.\n",
    "  - (2) request에 담긴 데이터, 즉 요청에 포함된 로 클래스 폼 생성하며 이를 바운드 폼이라고 부른다.\n",
    "  - (3) 위에서 설명한 것 처럼, 유효성 여부를 확인한다.\n",
    "  - (4) 사용하다고 판된되면, form.cleaned_data라는 함수를 통해 id에 입력된 'your_name'이 대입이 되고, 이와 같이 name에 입력한 값인 'other_name'값이 \n",
    "    new_name에 입력된다.\n",
    "  - ※ name 값을 id 값과 달리 설정하니 request.method == \"POST\" 부분이 else가 되어 else문으로 넘어간다. id와 name의 변수값은 동일하게 하자.\n",
    "  - (5)-1 설정되어 있던 hello.html로 연동되는데 이는 간단하게 생성한 hello.html을 같이 보면서 설명하겠다."
   ]
  },
  {
   "cell_type": "code",
   "execution_count": 2,
   "metadata": {},
   "outputs": [
    {
     "ename": "SyntaxError",
     "evalue": "invalid syntax (<ipython-input-2-889569fffca7>, line 2)",
     "output_type": "error",
     "traceback": [
      "\u001b[1;36m  File \u001b[1;32m\"<ipython-input-2-889569fffca7>\"\u001b[1;36m, line \u001b[1;32m2\u001b[0m\n\u001b[1;33m    <form action=\"/your-name/\" method=\"post\">\u001b[0m\n\u001b[1;37m    ^\u001b[0m\n\u001b[1;31mSyntaxError\u001b[0m\u001b[1;31m:\u001b[0m invalid syntax\n"
     ]
    }
   ],
   "source": [
    "#hello.py\n",
    "<form action=\"/your-name/\" method=\"post\">\n",
    "    {% csrf_token %}\n",
    "    {{ name }}\n",
    "    <input type=\"submit\" value=\"Submit\">\n",
    "</form>"
   ]
  },
  {
   "cell_type": "markdown",
   "metadata": {},
   "source": [
    "  - (5)-2 new_name에 담긴 변수를 'name'라는 변수에 대입이 되며, hello.html에 있는 변수 name을 {{ name }}으로 표현하고, 이에 입력해서 진행이 된다.\n",
    "  - ※ 하루 넘게 고생한게 선생님께 여쭤보니 이렇게 쉽게 풀리다니...."
   ]
  },
  {
   "cell_type": "markdown",
   "metadata": {},
   "source": [
    "### 폼 클래스의 템플릿으로의 변환 내용 추가\n",
    "\n",
    "  -  {{form}} 은 HTML 의 <label> <input>의 쌍으로 바꾸어 주며 추가로 3가지 옵션이 있습니다.\n",
    "\n",
    "  -  {{form.as_table}} : <tr> 태그로 감싸서 테이블 셀로 렌더링 해줍니다 \n",
    "\n",
    "  -  {{form.as_p} : <p> 테그로 감싸도록 렌더링 해줍니다.\n",
    "\n",
    "  -  {{form.as_ul}} : <li> 태그로 감싸도록 렌더링 해줍니다.\n",
    "\n",
    "  -  참조 : Django Form - 폼 처리하기"
   ]
  },
  {
   "cell_type": "markdown",
   "metadata": {},
   "source": [
    "### Form문 여러개 운용하기\n",
    "  - 사이트 구성할 때에 form문이 여러가지 필요하다는 것을 알게 되었다. 목록 선택, 검색을 혼용하는 방법이 그 중 한 가지인데, 이를 어떻게 운용해야 할까\n",
    "  \n",
    "  1) form문을 여러개 운용하기\n",
    "    - form문을 이용할 때 사용하는 form문 마다 id 값을 달리하여 운용하면 된다.\n",
    "       - 나는 select로 옵션을 만들어 쓰는 기능, text를 입력해서 만들어 쓰는 기능을 주로 사용할 것 같은데,\n",
    "         아래와 같은 경우 selcect와 text form에 각각의 id를 주어 구분을 하였으며, form 클래스를 2개 작성하였고, view에도 각각 나누어 처리를 하였다.\n",
    "        <!-- ~.html-->\n",
    "        <form action=\"/pandas/\" method=\"POST\">\n",
    "            {% csrf_token %}\n",
    "\n",
    "            <h2>보고싶은 페이지 선택 : </h2>\n",
    "\n",
    "            <label for=\"search_ranking\">목록 선택</label>\n",
    "            <select id= \"search_ranking\" name=\"search_ranking\" >\n",
    "        \n",
    "            <option value=\"순위\">순위</option>\n",
    "        \n",
    "            <option value=\"영화\">영화</option>\n",
    "            <label for =\"search_movie\">Movie name</label>\n",
    "            <input id=\"search_movie\" type=\"text\" name=\"search_movie\" value=\"{{current_movie}}\">\n",
    "\n",
    "            <input type=\"submit\" value=\"OK\">\n",
    "         </form>\n",
    "        <!-- forms.py-->\n",
    "       class search_movie(forms.Form):\n",
    "            search_movie = forms.CharField(label='Movie name', max_length=100,widget=forms.Textarea)\n",
    "       class search_ranking(forms.Form):\n",
    "            search_ranking = forms.CharField(max_length=100)\n",
    "\n",
    "    \n",
    "       <!-- views.py-->\n",
    "        def get_movie(request): #movie_list : id, title, link\n",
    "            if request.method == \"POST\":\n",
    "                movie = search_movie(request.POST)\n",
    "                ranking = search_ranking(request.POST)\n",
    "                if movie.is_valid() and ranking.is_valid(): #\n",
    "                    # 유효하면 데이터는 cleaned_data 에 저장되어서 호출 가능\n",
    "                    new_ranking=ranking.cleaned_data['search_ranking']\n",
    "                    new_movie= movie.cleaned_data['search_movie'] \n",
    "                    if new_ranking == '순위':\n",
    "                        want_movie = []\n",
    "                        for i in movie_list:\n",
    "                            if i[0] == int(new_movie):\n",
    "                                  want_movie += i\n",
    "                        return render(request, 'movie_current/Hello.html', {'movie' : want_movie} )     \n",
    "                    else :\n",
    "                        want_movie = []\n",
    "                        for i in movie_list:\n",
    "                            if i[1] == new_movie:\n",
    "                                  want_movie += i    \n",
    "                        return render(request, 'movie_current/Hello.html', {'movie' : want_movie} )"
   ]
  },
  {
   "cell_type": "markdown",
   "metadata": {},
   "source": [
    "  2) formset 이용하기\n",
    "     1)과 같은 경우에는 form이 추가 될수록 class와 view에 사용되는 form문도 함께 증가하기 때문에 정리에 어려움이 있다.\n",
    "     그러면 묶어서 사용하면 어떨까?\n",
    "     fomset이란 폼의 집합이다. 일반 폼을 열개 묶어서 하나의 폼으로 취급하기 위한 것이며 BaseFormSet클래스를 상속할 수 있으나 보통은\n",
    "     formset_factory 함수를 이용한다.\n",
    "       - 1] fomset_factory \n",
    "          - 하나의 class 안에 여러개의 form을 구성하고, formset_factory를 이용해 하나의 객체로 묶는다.\n",
    "          \n",
    "          - 일반적인 구성은 다음과 같다. [참조 : 파이썬 웹 프로그래밍, 실전편(개정판)]\n",
    "          \n",
    "            formset_factory(form, formset=BascFormSet, extra=1, can_order=False, can_delete=False, max_num= None,\n",
    "                            validate_max=False, min_num=None, validate_min=False)\n",
    "            form : 폼셋을 만들 때 베이스가 되는 폼을 지정합니다\n",
    "            formset : 폼셋을 만들 때 상속받기 위한 부모 클래스를 짖ㅇ. 보통은 BascFormSet 클래스 변경없이 사용하나\n",
    "                      변경이 필요하면 BascFormSet클래스를 오버라이딩해 기능을 변경하여 사용할 수 있다.\n",
    "            extra : 폼셋을 보여줄 때 빈 폼을 몇개 포함할지 지정합니다. 디폴트는 한 개입니다.\n",
    "            can_order : 폼셋을 포함된 폼들의 순서를 변경할 수 있는 지 여부를 불린으로 지정합니다.\n",
    "            can_delete : 폼셋에 포함된 폼들의 일부를 삭제할 수 있는지 여부를 불린으로 지정합니다.\n",
    "            max_num : 폼셋을 보여줄 때 포함될 폼의 최대 개수를 지정합니다. 디포트는 None 으로 지정되는데 1,000개를 의미합니다.\n",
    "            validate_max : True면 폼셋에 대한 유효성 검사를 수행할 때 max_num에 대한 검사도 실시합니다. 즉 삭제 표시가 된 폼을 제외한\n",
    "                           폼의 개수가 max_num보다 작거나 같아야 유효성 검사를 통과합니다.\n",
    "            min_num : 폼셋을 보여줄 때 포함될 폼의 최소 개수를 지정합니다.\n",
    "            validate_min : True면 폼셋에 대한 유효성 검사를 수행할 때 min_num에 대한 검사도 실시합니다. 즉 삭제 표시가 된 폼을 제외한\n",
    "                           폼의 개수가 min_num보다 크거나 같아야 유효성 검사를 통과합니다.\n",
    "            ※ 폼셋과 폼 모두 initial 파라미터를 사용해 폼셋에 초기 데이터를 지정할 수 있다. 그리고 폼셋에는 관리폼(management_form)이\n",
    "               추가로 들어 있어서 관리폼을 통해 폼의 개수 등을 관리합니다. 관리폼에서 관리하는 항목은 다음과 같습니다.\n",
    "               \n",
    "                  - form-TOTAL_FORMS : 폼의 총 개수를 지정합니다.\n",
    "                  \n",
    "                  - form-INITIAL_FORMS : 폼의 초기 데이터가 들어 있는 폼의 개수를 지정합니다.\n",
    "                  \n",
    "                  - form-MAX_NUM_FORMS : 폼셋의 max_num 값을 지정합니다.\n",
    "                  \n",
    "                  - form-MIN_NUM_FORMS : 폼셋의 min_num 값을 지정합니다.\n",
    "          - 예시)\n",
    "             - from django.forms import formset_factory\n",
    "             \n",
    "             - class PostSearchForm(forms.Form):\n",
    "             \n",
    "                    search_word = form.CharField(label='Search Word')\n",
    "                    \n",
    "             - PostSearchFormSet = formset_factory(PostSearchForm, extra=3) # 빈 폼 3개를 포함하는 폼셋\n",
    "             - fs = PostSearchFormSet(initial=[{'serch_word': 'django'}, {'search_word':'python'}]) #초기 데이터 2개를 지정해 폼셋 객체 fs 생성\n",
    "             "
   ]
  },
  {
   "cell_type": "code",
   "execution_count": null,
   "metadata": {},
   "outputs": [],
   "source": [
    "        "
   ]
  },
  {
   "cell_type": "code",
   "execution_count": null,
   "metadata": {},
   "outputs": [],
   "source": []
  },
  {
   "cell_type": "code",
   "execution_count": null,
   "metadata": {},
   "outputs": [],
   "source": []
  },
  {
   "cell_type": "code",
   "execution_count": null,
   "metadata": {},
   "outputs": [],
   "source": []
  },
  {
   "cell_type": "markdown",
   "metadata": {},
   "source": [
    "### Question 3 : 엘리먼트인 Label은 뭘까?\n",
    "  - label 엘리먼트의 텍스트를 클릭하면 컨트롤을 토글(변환) 할 수 있게 해준다.\n",
    "    - for : 다른 엘리먼트의 레이블과 연결시켜 주는 역할을 한다. 관련된 id 속성의 값과 같은 값\n",
    "      - 일반적으로 라벨에 쓰여진 글자를 클릭한다고 하더라도 버튼이 클릭되거나 하지 않지만, for라는 속성으로 인해 글자만 클릭하더라도 버튼 클릭이 가능\n",
    "      - 참조 : https://blog.naver.com/kkh2004/120140752135"
   ]
  },
  {
   "cell_type": "markdown",
   "metadata": {},
   "source": [
    "## URLS\n",
    "\n",
    "  - Path Converter ( 꺽쇠 '< >')\n",
    "    -  str : /를 제외한 모든 문자열과 매치. 타입 지정안될 시 default로 str타입 \n",
    "    -  int : 0 또는 양의 정수와 매치\n",
    "    -  slug : slug형식의 문자열(ASCII, 하이픈, 밑줄, 숫자로만 구성)\n",
    "    -  uuid : uuid 형식의 문자열과 매치\n",
    "    -  path : /포함한 모든 문자열고 매치, URL 패턴 일부가 아닌 전체 추출할 때 사용\n",
    "    -  ※ 정규표현식을 사용하여 좀더 세밀하거나 복잡한 URL을 표현가능\n",
    "  - path() 함수는 route, view 2개의 필수 인자와 kwargs, name  2개의 선택인자를 받는다\n",
    "    - route : URL 패턴을 표현하는 문자열. URL 스트링이라고도 불림\n",
    "    - view :  URL 스트링이 매칭되면 호출되는 뷰함수. URL 스트링에서 추출된 항목이 뷰함수의 인자로 전달.\n",
    "    - kwargs : URL 스트링엣 추출된 항목 외에 추가적인 인자를 뷰 함수에 전달할 때, 파이썬 사전 타입으로 인자를 정의.\n",
    "    - name : 각 URL 패턴의 이름을 붙여줌."
   ]
  },
  {
   "cell_type": "markdown",
   "metadata": {},
   "source": [
    "###  - project.urls.py 예시\n",
    "\n",
    "from django.contrib import admin\n",
    "\n",
    "from django.urls import path\n",
    "\n",
    "from django.views.generic import RedirectView\n",
    "\n",
    "from django.conf.urls import include\n",
    "\n",
    "from django.conf import settings\n",
    "\n",
    "from django.conf.urls.static import static\n",
    "\n",
    "urlpatterens = [\n",
    "    path(\"main_auction/\", include(\"main_auction.urls\")), # \"main_auction/\"로 왔을 시 main app이 실행할 수 있게 하라 . main_auction의 url을 포함하라.\n",
    "    path(\"\", RedirectView.as_view(url=\"/main_auction/\", permanent=True)), #기본 주소로 왔을 시 \"/main/\"으로 되돌리는 방법.\n",
    "] + static(settings.STATIC_URL, document_root=settings.STATIC_ROOT) #사진같은 정적파일을 처리하게 해주는 세팅. "
   ]
  },
  {
   "cell_type": "markdown",
   "metadata": {},
   "source": [
    "### app.urls.py 예시\n",
    "from django.urls import path\n",
    "\n",
    "from main_auction import views\n",
    "\n",
    "urlpatterns = [\n",
    " \n",
    "    path(\"\", views.index, name=\"index\"), #예시. 아무것도 없을 시 view의 index라는 규칙을 실행하며, name은 index라고 정의\n",
    " ]\n",
    " "
   ]
  },
  {
   "cell_type": "markdown",
   "metadata": {},
   "source": [
    "## View\n",
    "\n",
    "  - 데이터베이스 접속 등 해당 애플리케이션의 로직에 맞는 처리를 실시\n",
    "   \n",
    "   ->결과 데이터를 HTML로 변환하기 위한 탬플릿 처리 실시\n",
    "   ->최종 HTML로 된 응답 데이터를 웹 클라이언트로 반환.\n",
    "  - 함수 또는 클래스의 메소드로 작성, 웹 요청을 받고 응답 반환     "
   ]
  },
  {
   "cell_type": "markdown",
   "metadata": {},
   "source": [
    "### app.views.py 예시\n",
    "from django.shortcuts import render\n",
    "\n",
    "def index(req):\n",
    "    context = {\n",
    "\n",
    "    }\n",
    "    return render(req, \"index.html\", context=context) #index 처리 요형이 들어오면 \"index.html\" 에서 처리하여 넘겨주겠다.\n",
    "# Create your views here.\n"
   ]
  },
  {
   "cell_type": "markdown",
   "metadata": {},
   "source": [
    "## Templats\n",
    "  - 개발자가 작성하는 *.html 파일을 템플릿이라 부르며 여기에 화면 UI모습을 템플릿 문법에 맞춰 작성\n",
    "  - 템플릿 파일은 적절한 디렉토리에 위치시켜야 한다."
   ]
  },
  {
   "cell_type": "markdown",
   "metadata": {},
   "source": [
    "# 애플리케이션 설계\n",
    "  - 프로젝트를 개발 대상인 전체 프로그램이라 이야기 하며 이를 여러개의 기능 그룹으로 나눈 것이 어플리케이션이다."
   ]
  },
  {
   "cell_type": "markdown",
   "metadata": {},
   "source": [
    "## static 사용하기\n",
    "{% load static %} # HTML에 쓸 때 이것 이후 static 사용\n",
    "\n",
    "setting에 \n",
    "STATICFILES_DIRS = [\n",
    "    os.path.join(BASE_DIR, \"static\"), #정적파일을 불러올 위치 정하기.\n",
    "]"
   ]
  },
  {
   "cell_type": "code",
   "execution_count": null,
   "metadata": {},
   "outputs": [],
   "source": []
  },
  {
   "cell_type": "code",
   "execution_count": 1,
   "metadata": {},
   "outputs": [
    {
     "name": "stdout",
     "output_type": "stream",
     "text": [
      "Requirement already satisfied: django==3.1 in c:\\users\\thcho\\.conda\\envs\\python\\lib\\site-packages (3.1)\n",
      "Requirement already satisfied: asgiref~=3.2.10 in c:\\users\\thcho\\.conda\\envs\\python\\lib\\site-packages (from django==3.1) (3.2.10)\n",
      "Requirement already satisfied: sqlparse>=0.2.2 in c:\\users\\thcho\\.conda\\envs\\python\\lib\\site-packages (from django==3.1) (0.4.1)\n",
      "Requirement already satisfied: pytz in c:\\users\\thcho\\.conda\\envs\\python\\lib\\site-packages (from django==3.1) (2020.4)\n",
      "Note: you may need to restart the kernel to use updated packages.\n"
     ]
    }
   ],
   "source": [
    "pip install django==3.1\n"
   ]
  },
  {
   "cell_type": "code",
   "execution_count": 8,
   "metadata": {
    "collapsed": true,
    "jupyter": {
     "outputs_hidden": true
    }
   },
   "outputs": [
    {
     "ename": "ImproperlyConfigured",
     "evalue": "Requested setting USE_I18N, but settings are not configured. You must either define the environment variable DJANGO_SETTINGS_MODULE or call settings.configure() before accessing settings.",
     "output_type": "error",
     "traceback": [
      "\u001b[1;31m---------------------------------------------------------------------------\u001b[0m",
      "\u001b[1;31mImproperlyConfigured\u001b[0m                      Traceback (most recent call last)",
      "\u001b[1;32m<ipython-input-8-f56e3e8d6a07>\u001b[0m in \u001b[0;36m<module>\u001b[1;34m\u001b[0m\n\u001b[0;32m      8\u001b[0m \u001b[0mSearch_FormSet\u001b[0m \u001b[1;33m=\u001b[0m \u001b[0mformset_factory\u001b[0m\u001b[1;33m(\u001b[0m\u001b[0msearch_Form\u001b[0m\u001b[1;33m)\u001b[0m\u001b[1;33m\u001b[0m\u001b[1;33m\u001b[0m\u001b[0m\n\u001b[0;32m      9\u001b[0m \u001b[0mformset\u001b[0m \u001b[1;33m=\u001b[0m \u001b[0mSearch_FormSet\u001b[0m\u001b[1;33m(\u001b[0m\u001b[0minitial\u001b[0m\u001b[1;33m=\u001b[0m\u001b[1;33m[\u001b[0m\u001b[1;33m{\u001b[0m \u001b[1;34m'search_movie'\u001b[0m \u001b[1;33m:\u001b[0m \u001b[1;34m'search_movie'\u001b[0m\u001b[1;33m,\u001b[0m\u001b[1;34m'search_ranking'\u001b[0m \u001b[1;33m:\u001b[0m \u001b[1;34m'search_ranking'\u001b[0m \u001b[1;33m}\u001b[0m\u001b[1;33m]\u001b[0m\u001b[1;33m)\u001b[0m\u001b[1;33m\u001b[0m\u001b[1;33m\u001b[0m\u001b[0m\n\u001b[1;32m---> 10\u001b[1;33m \u001b[0mprint\u001b[0m\u001b[1;33m(\u001b[0m\u001b[0mformset\u001b[0m\u001b[1;33m.\u001b[0m\u001b[0mas_table\u001b[0m\u001b[1;33m(\u001b[0m\u001b[1;33m)\u001b[0m\u001b[1;33m)\u001b[0m\u001b[1;33m\u001b[0m\u001b[1;33m\u001b[0m\u001b[0m\n\u001b[0m\u001b[0;32m     11\u001b[0m \u001b[0mprint\u001b[0m\u001b[1;33m(\u001b[0m\u001b[0mSearch_FormSet\u001b[0m\u001b[1;33m.\u001b[0m\u001b[0mmanagement_form\u001b[0m\u001b[1;33m)\u001b[0m\u001b[1;33m\u001b[0m\u001b[1;33m\u001b[0m\u001b[0m\n\u001b[0;32m     12\u001b[0m \u001b[0mprint\u001b[0m\u001b[1;33m(\u001b[0m\u001b[1;33m(\u001b[0m\u001b[0mSearch_FormSet\u001b[0m\u001b[1;33m.\u001b[0m\u001b[0mforms\u001b[0m\u001b[1;33m)\u001b[0m\u001b[1;33m)\u001b[0m\u001b[1;33m\u001b[0m\u001b[1;33m\u001b[0m\u001b[0m\n",
      "\u001b[1;32m~\\.conda\\envs\\python\\lib\\site-packages\\django\\forms\\formsets.py\u001b[0m in \u001b[0;36mas_table\u001b[1;34m(self)\u001b[0m\n\u001b[0;32m    418\u001b[0m         \u001b[1;31m# probably should be. It might make sense to render each form as a\u001b[0m\u001b[1;33m\u001b[0m\u001b[1;33m\u001b[0m\u001b[1;33m\u001b[0m\u001b[0m\n\u001b[0;32m    419\u001b[0m         \u001b[1;31m# table row with each field as a td.\u001b[0m\u001b[1;33m\u001b[0m\u001b[1;33m\u001b[0m\u001b[1;33m\u001b[0m\u001b[0m\n\u001b[1;32m--> 420\u001b[1;33m         \u001b[0mforms\u001b[0m \u001b[1;33m=\u001b[0m \u001b[1;34m' '\u001b[0m\u001b[1;33m.\u001b[0m\u001b[0mjoin\u001b[0m\u001b[1;33m(\u001b[0m\u001b[0mform\u001b[0m\u001b[1;33m.\u001b[0m\u001b[0mas_table\u001b[0m\u001b[1;33m(\u001b[0m\u001b[1;33m)\u001b[0m \u001b[1;32mfor\u001b[0m \u001b[0mform\u001b[0m \u001b[1;32min\u001b[0m \u001b[0mself\u001b[0m\u001b[1;33m)\u001b[0m\u001b[1;33m\u001b[0m\u001b[1;33m\u001b[0m\u001b[0m\n\u001b[0m\u001b[0;32m    421\u001b[0m         \u001b[1;32mreturn\u001b[0m \u001b[0mmark_safe\u001b[0m\u001b[1;33m(\u001b[0m\u001b[0mstr\u001b[0m\u001b[1;33m(\u001b[0m\u001b[0mself\u001b[0m\u001b[1;33m.\u001b[0m\u001b[0mmanagement_form\u001b[0m\u001b[1;33m)\u001b[0m \u001b[1;33m+\u001b[0m \u001b[1;34m'\\n'\u001b[0m \u001b[1;33m+\u001b[0m \u001b[0mforms\u001b[0m\u001b[1;33m)\u001b[0m\u001b[1;33m\u001b[0m\u001b[1;33m\u001b[0m\u001b[0m\n\u001b[0;32m    422\u001b[0m \u001b[1;33m\u001b[0m\u001b[0m\n",
      "\u001b[1;32m~\\.conda\\envs\\python\\lib\\site-packages\\django\\forms\\formsets.py\u001b[0m in \u001b[0;36m__iter__\u001b[1;34m(self)\u001b[0m\n\u001b[0;32m     68\u001b[0m     \u001b[1;32mdef\u001b[0m \u001b[0m__iter__\u001b[0m\u001b[1;33m(\u001b[0m\u001b[0mself\u001b[0m\u001b[1;33m)\u001b[0m\u001b[1;33m:\u001b[0m\u001b[1;33m\u001b[0m\u001b[1;33m\u001b[0m\u001b[0m\n\u001b[0;32m     69\u001b[0m         \u001b[1;34m\"\"\"Yield the forms in the order they should be rendered.\"\"\"\u001b[0m\u001b[1;33m\u001b[0m\u001b[1;33m\u001b[0m\u001b[0m\n\u001b[1;32m---> 70\u001b[1;33m         \u001b[1;32mreturn\u001b[0m \u001b[0miter\u001b[0m\u001b[1;33m(\u001b[0m\u001b[0mself\u001b[0m\u001b[1;33m.\u001b[0m\u001b[0mforms\u001b[0m\u001b[1;33m)\u001b[0m\u001b[1;33m\u001b[0m\u001b[1;33m\u001b[0m\u001b[0m\n\u001b[0m\u001b[0;32m     71\u001b[0m \u001b[1;33m\u001b[0m\u001b[0m\n\u001b[0;32m     72\u001b[0m     \u001b[1;32mdef\u001b[0m \u001b[0m__getitem__\u001b[0m\u001b[1;33m(\u001b[0m\u001b[0mself\u001b[0m\u001b[1;33m,\u001b[0m \u001b[0mindex\u001b[0m\u001b[1;33m)\u001b[0m\u001b[1;33m:\u001b[0m\u001b[1;33m\u001b[0m\u001b[1;33m\u001b[0m\u001b[0m\n",
      "\u001b[1;32m~\\.conda\\envs\\python\\lib\\site-packages\\django\\utils\\functional.py\u001b[0m in \u001b[0;36m__get__\u001b[1;34m(self, instance, cls)\u001b[0m\n\u001b[0;32m     46\u001b[0m         \u001b[1;32mif\u001b[0m \u001b[0minstance\u001b[0m \u001b[1;32mis\u001b[0m \u001b[1;32mNone\u001b[0m\u001b[1;33m:\u001b[0m\u001b[1;33m\u001b[0m\u001b[1;33m\u001b[0m\u001b[0m\n\u001b[0;32m     47\u001b[0m             \u001b[1;32mreturn\u001b[0m \u001b[0mself\u001b[0m\u001b[1;33m\u001b[0m\u001b[1;33m\u001b[0m\u001b[0m\n\u001b[1;32m---> 48\u001b[1;33m         \u001b[0mres\u001b[0m \u001b[1;33m=\u001b[0m \u001b[0minstance\u001b[0m\u001b[1;33m.\u001b[0m\u001b[0m__dict__\u001b[0m\u001b[1;33m[\u001b[0m\u001b[0mself\u001b[0m\u001b[1;33m.\u001b[0m\u001b[0mname\u001b[0m\u001b[1;33m]\u001b[0m \u001b[1;33m=\u001b[0m \u001b[0mself\u001b[0m\u001b[1;33m.\u001b[0m\u001b[0mfunc\u001b[0m\u001b[1;33m(\u001b[0m\u001b[0minstance\u001b[0m\u001b[1;33m)\u001b[0m\u001b[1;33m\u001b[0m\u001b[1;33m\u001b[0m\u001b[0m\n\u001b[0m\u001b[0;32m     49\u001b[0m         \u001b[1;32mreturn\u001b[0m \u001b[0mres\u001b[0m\u001b[1;33m\u001b[0m\u001b[1;33m\u001b[0m\u001b[0m\n\u001b[0;32m     50\u001b[0m \u001b[1;33m\u001b[0m\u001b[0m\n",
      "\u001b[1;32m~\\.conda\\envs\\python\\lib\\site-packages\\django\\forms\\formsets.py\u001b[0m in \u001b[0;36mforms\u001b[1;34m(self)\u001b[0m\n\u001b[0;32m    137\u001b[0m         return [\n\u001b[0;32m    138\u001b[0m             \u001b[0mself\u001b[0m\u001b[1;33m.\u001b[0m\u001b[0m_construct_form\u001b[0m\u001b[1;33m(\u001b[0m\u001b[0mi\u001b[0m\u001b[1;33m,\u001b[0m \u001b[1;33m**\u001b[0m\u001b[0mself\u001b[0m\u001b[1;33m.\u001b[0m\u001b[0mget_form_kwargs\u001b[0m\u001b[1;33m(\u001b[0m\u001b[0mi\u001b[0m\u001b[1;33m)\u001b[0m\u001b[1;33m)\u001b[0m\u001b[1;33m\u001b[0m\u001b[1;33m\u001b[0m\u001b[0m\n\u001b[1;32m--> 139\u001b[1;33m             \u001b[1;32mfor\u001b[0m \u001b[0mi\u001b[0m \u001b[1;32min\u001b[0m \u001b[0mrange\u001b[0m\u001b[1;33m(\u001b[0m\u001b[0mself\u001b[0m\u001b[1;33m.\u001b[0m\u001b[0mtotal_form_count\u001b[0m\u001b[1;33m(\u001b[0m\u001b[1;33m)\u001b[0m\u001b[1;33m)\u001b[0m\u001b[1;33m\u001b[0m\u001b[1;33m\u001b[0m\u001b[0m\n\u001b[0m\u001b[0;32m    140\u001b[0m         ]\n\u001b[0;32m    141\u001b[0m \u001b[1;33m\u001b[0m\u001b[0m\n",
      "\u001b[1;32m~\\.conda\\envs\\python\\lib\\site-packages\\django\\forms\\formsets.py\u001b[0m in \u001b[0;36m<listcomp>\u001b[1;34m(.0)\u001b[0m\n\u001b[0;32m    137\u001b[0m         return [\n\u001b[0;32m    138\u001b[0m             \u001b[0mself\u001b[0m\u001b[1;33m.\u001b[0m\u001b[0m_construct_form\u001b[0m\u001b[1;33m(\u001b[0m\u001b[0mi\u001b[0m\u001b[1;33m,\u001b[0m \u001b[1;33m**\u001b[0m\u001b[0mself\u001b[0m\u001b[1;33m.\u001b[0m\u001b[0mget_form_kwargs\u001b[0m\u001b[1;33m(\u001b[0m\u001b[0mi\u001b[0m\u001b[1;33m)\u001b[0m\u001b[1;33m)\u001b[0m\u001b[1;33m\u001b[0m\u001b[1;33m\u001b[0m\u001b[0m\n\u001b[1;32m--> 139\u001b[1;33m             \u001b[1;32mfor\u001b[0m \u001b[0mi\u001b[0m \u001b[1;32min\u001b[0m \u001b[0mrange\u001b[0m\u001b[1;33m(\u001b[0m\u001b[0mself\u001b[0m\u001b[1;33m.\u001b[0m\u001b[0mtotal_form_count\u001b[0m\u001b[1;33m(\u001b[0m\u001b[1;33m)\u001b[0m\u001b[1;33m)\u001b[0m\u001b[1;33m\u001b[0m\u001b[1;33m\u001b[0m\u001b[0m\n\u001b[0m\u001b[0;32m    140\u001b[0m         ]\n\u001b[0;32m    141\u001b[0m \u001b[1;33m\u001b[0m\u001b[0m\n",
      "\u001b[1;32m~\\.conda\\envs\\python\\lib\\site-packages\\django\\forms\\formsets.py\u001b[0m in \u001b[0;36m_construct_form\u001b[1;34m(self, i, **kwargs)\u001b[0m\n\u001b[0;32m    173\u001b[0m             \u001b[0mdefaults\u001b[0m\u001b[1;33m[\u001b[0m\u001b[1;34m'empty_permitted'\u001b[0m\u001b[1;33m]\u001b[0m \u001b[1;33m=\u001b[0m \u001b[1;32mTrue\u001b[0m\u001b[1;33m\u001b[0m\u001b[1;33m\u001b[0m\u001b[0m\n\u001b[0;32m    174\u001b[0m         \u001b[0mdefaults\u001b[0m\u001b[1;33m.\u001b[0m\u001b[0mupdate\u001b[0m\u001b[1;33m(\u001b[0m\u001b[0mkwargs\u001b[0m\u001b[1;33m)\u001b[0m\u001b[1;33m\u001b[0m\u001b[1;33m\u001b[0m\u001b[0m\n\u001b[1;32m--> 175\u001b[1;33m         \u001b[0mform\u001b[0m \u001b[1;33m=\u001b[0m \u001b[0mself\u001b[0m\u001b[1;33m.\u001b[0m\u001b[0mform\u001b[0m\u001b[1;33m(\u001b[0m\u001b[1;33m**\u001b[0m\u001b[0mdefaults\u001b[0m\u001b[1;33m)\u001b[0m\u001b[1;33m\u001b[0m\u001b[1;33m\u001b[0m\u001b[0m\n\u001b[0m\u001b[0;32m    176\u001b[0m         \u001b[0mself\u001b[0m\u001b[1;33m.\u001b[0m\u001b[0madd_fields\u001b[0m\u001b[1;33m(\u001b[0m\u001b[0mform\u001b[0m\u001b[1;33m,\u001b[0m \u001b[0mi\u001b[0m\u001b[1;33m)\u001b[0m\u001b[1;33m\u001b[0m\u001b[1;33m\u001b[0m\u001b[0m\n\u001b[0;32m    177\u001b[0m         \u001b[1;32mreturn\u001b[0m \u001b[0mform\u001b[0m\u001b[1;33m\u001b[0m\u001b[1;33m\u001b[0m\u001b[0m\n",
      "\u001b[1;32m~\\.conda\\envs\\python\\lib\\site-packages\\django\\forms\\forms.py\u001b[0m in \u001b[0;36m__init__\u001b[1;34m(self, data, files, auto_id, prefix, initial, error_class, label_suffix, empty_permitted, field_order, use_required_attribute, renderer)\u001b[0m\n\u001b[0;32m     76\u001b[0m         \u001b[0mself\u001b[0m\u001b[1;33m.\u001b[0m\u001b[0merror_class\u001b[0m \u001b[1;33m=\u001b[0m \u001b[0merror_class\u001b[0m\u001b[1;33m\u001b[0m\u001b[1;33m\u001b[0m\u001b[0m\n\u001b[0;32m     77\u001b[0m         \u001b[1;31m# Translators: This is the default suffix added to form field labels\u001b[0m\u001b[1;33m\u001b[0m\u001b[1;33m\u001b[0m\u001b[1;33m\u001b[0m\u001b[0m\n\u001b[1;32m---> 78\u001b[1;33m         \u001b[0mself\u001b[0m\u001b[1;33m.\u001b[0m\u001b[0mlabel_suffix\u001b[0m \u001b[1;33m=\u001b[0m \u001b[0mlabel_suffix\u001b[0m \u001b[1;32mif\u001b[0m \u001b[0mlabel_suffix\u001b[0m \u001b[1;32mis\u001b[0m \u001b[1;32mnot\u001b[0m \u001b[1;32mNone\u001b[0m \u001b[1;32melse\u001b[0m \u001b[0m_\u001b[0m\u001b[1;33m(\u001b[0m\u001b[1;34m':'\u001b[0m\u001b[1;33m)\u001b[0m\u001b[1;33m\u001b[0m\u001b[1;33m\u001b[0m\u001b[0m\n\u001b[0m\u001b[0;32m     79\u001b[0m         \u001b[0mself\u001b[0m\u001b[1;33m.\u001b[0m\u001b[0mempty_permitted\u001b[0m \u001b[1;33m=\u001b[0m \u001b[0mempty_permitted\u001b[0m\u001b[1;33m\u001b[0m\u001b[1;33m\u001b[0m\u001b[0m\n\u001b[0;32m     80\u001b[0m         \u001b[0mself\u001b[0m\u001b[1;33m.\u001b[0m\u001b[0m_errors\u001b[0m \u001b[1;33m=\u001b[0m \u001b[1;32mNone\u001b[0m  \u001b[1;31m# Stores the errors after clean() has been called.\u001b[0m\u001b[1;33m\u001b[0m\u001b[1;33m\u001b[0m\u001b[0m\n",
      "\u001b[1;32m~\\.conda\\envs\\python\\lib\\site-packages\\django\\utils\\translation\\__init__.py\u001b[0m in \u001b[0;36mgettext\u001b[1;34m(message)\u001b[0m\n\u001b[0;32m     90\u001b[0m \u001b[1;33m\u001b[0m\u001b[0m\n\u001b[0;32m     91\u001b[0m \u001b[1;32mdef\u001b[0m \u001b[0mgettext\u001b[0m\u001b[1;33m(\u001b[0m\u001b[0mmessage\u001b[0m\u001b[1;33m)\u001b[0m\u001b[1;33m:\u001b[0m\u001b[1;33m\u001b[0m\u001b[1;33m\u001b[0m\u001b[0m\n\u001b[1;32m---> 92\u001b[1;33m     \u001b[1;32mreturn\u001b[0m \u001b[0m_trans\u001b[0m\u001b[1;33m.\u001b[0m\u001b[0mgettext\u001b[0m\u001b[1;33m(\u001b[0m\u001b[0mmessage\u001b[0m\u001b[1;33m)\u001b[0m\u001b[1;33m\u001b[0m\u001b[1;33m\u001b[0m\u001b[0m\n\u001b[0m\u001b[0;32m     93\u001b[0m \u001b[1;33m\u001b[0m\u001b[0m\n\u001b[0;32m     94\u001b[0m \u001b[1;33m\u001b[0m\u001b[0m\n",
      "\u001b[1;32m~\\.conda\\envs\\python\\lib\\site-packages\\django\\utils\\translation\\__init__.py\u001b[0m in \u001b[0;36m__getattr__\u001b[1;34m(self, real_name)\u001b[0m\n\u001b[0;32m     55\u001b[0m     \u001b[1;32mdef\u001b[0m \u001b[0m__getattr__\u001b[0m\u001b[1;33m(\u001b[0m\u001b[0mself\u001b[0m\u001b[1;33m,\u001b[0m \u001b[0mreal_name\u001b[0m\u001b[1;33m)\u001b[0m\u001b[1;33m:\u001b[0m\u001b[1;33m\u001b[0m\u001b[1;33m\u001b[0m\u001b[0m\n\u001b[0;32m     56\u001b[0m         \u001b[1;32mfrom\u001b[0m \u001b[0mdjango\u001b[0m\u001b[1;33m.\u001b[0m\u001b[0mconf\u001b[0m \u001b[1;32mimport\u001b[0m \u001b[0msettings\u001b[0m\u001b[1;33m\u001b[0m\u001b[1;33m\u001b[0m\u001b[0m\n\u001b[1;32m---> 57\u001b[1;33m         \u001b[1;32mif\u001b[0m \u001b[0msettings\u001b[0m\u001b[1;33m.\u001b[0m\u001b[0mUSE_I18N\u001b[0m\u001b[1;33m:\u001b[0m\u001b[1;33m\u001b[0m\u001b[1;33m\u001b[0m\u001b[0m\n\u001b[0m\u001b[0;32m     58\u001b[0m             \u001b[1;32mfrom\u001b[0m \u001b[0mdjango\u001b[0m\u001b[1;33m.\u001b[0m\u001b[0mutils\u001b[0m\u001b[1;33m.\u001b[0m\u001b[0mtranslation\u001b[0m \u001b[1;32mimport\u001b[0m \u001b[0mtrans_real\u001b[0m \u001b[1;32mas\u001b[0m \u001b[0mtrans\u001b[0m\u001b[1;33m\u001b[0m\u001b[1;33m\u001b[0m\u001b[0m\n\u001b[0;32m     59\u001b[0m             \u001b[1;32mfrom\u001b[0m \u001b[0mdjango\u001b[0m\u001b[1;33m.\u001b[0m\u001b[0mutils\u001b[0m\u001b[1;33m.\u001b[0m\u001b[0mtranslation\u001b[0m\u001b[1;33m.\u001b[0m\u001b[0mreloader\u001b[0m \u001b[1;32mimport\u001b[0m \u001b[0mwatch_for_translation_changes\u001b[0m\u001b[1;33m,\u001b[0m \u001b[0mtranslation_file_changed\u001b[0m\u001b[1;33m\u001b[0m\u001b[1;33m\u001b[0m\u001b[0m\n",
      "\u001b[1;32m~\\.conda\\envs\\python\\lib\\site-packages\\django\\conf\\__init__.py\u001b[0m in \u001b[0;36m__getattr__\u001b[1;34m(self, name)\u001b[0m\n\u001b[0;32m     81\u001b[0m         \u001b[1;34m\"\"\"Return the value of a setting and cache it in self.__dict__.\"\"\"\u001b[0m\u001b[1;33m\u001b[0m\u001b[1;33m\u001b[0m\u001b[0m\n\u001b[0;32m     82\u001b[0m         \u001b[1;32mif\u001b[0m \u001b[0mself\u001b[0m\u001b[1;33m.\u001b[0m\u001b[0m_wrapped\u001b[0m \u001b[1;32mis\u001b[0m \u001b[0mempty\u001b[0m\u001b[1;33m:\u001b[0m\u001b[1;33m\u001b[0m\u001b[1;33m\u001b[0m\u001b[0m\n\u001b[1;32m---> 83\u001b[1;33m             \u001b[0mself\u001b[0m\u001b[1;33m.\u001b[0m\u001b[0m_setup\u001b[0m\u001b[1;33m(\u001b[0m\u001b[0mname\u001b[0m\u001b[1;33m)\u001b[0m\u001b[1;33m\u001b[0m\u001b[1;33m\u001b[0m\u001b[0m\n\u001b[0m\u001b[0;32m     84\u001b[0m         \u001b[0mval\u001b[0m \u001b[1;33m=\u001b[0m \u001b[0mgetattr\u001b[0m\u001b[1;33m(\u001b[0m\u001b[0mself\u001b[0m\u001b[1;33m.\u001b[0m\u001b[0m_wrapped\u001b[0m\u001b[1;33m,\u001b[0m \u001b[0mname\u001b[0m\u001b[1;33m)\u001b[0m\u001b[1;33m\u001b[0m\u001b[1;33m\u001b[0m\u001b[0m\n\u001b[0;32m     85\u001b[0m         \u001b[0mself\u001b[0m\u001b[1;33m.\u001b[0m\u001b[0m__dict__\u001b[0m\u001b[1;33m[\u001b[0m\u001b[0mname\u001b[0m\u001b[1;33m]\u001b[0m \u001b[1;33m=\u001b[0m \u001b[0mval\u001b[0m\u001b[1;33m\u001b[0m\u001b[1;33m\u001b[0m\u001b[0m\n",
      "\u001b[1;32m~\\.conda\\envs\\python\\lib\\site-packages\\django\\conf\\__init__.py\u001b[0m in \u001b[0;36m_setup\u001b[1;34m(self, name)\u001b[0m\n\u001b[0;32m     66\u001b[0m                 \u001b[1;34m\"You must either define the environment variable %s \"\u001b[0m\u001b[1;33m\u001b[0m\u001b[1;33m\u001b[0m\u001b[0m\n\u001b[0;32m     67\u001b[0m                 \u001b[1;34m\"or call settings.configure() before accessing settings.\"\u001b[0m\u001b[1;33m\u001b[0m\u001b[1;33m\u001b[0m\u001b[0m\n\u001b[1;32m---> 68\u001b[1;33m                 % (desc, ENVIRONMENT_VARIABLE))\n\u001b[0m\u001b[0;32m     69\u001b[0m \u001b[1;33m\u001b[0m\u001b[0m\n\u001b[0;32m     70\u001b[0m         \u001b[0mself\u001b[0m\u001b[1;33m.\u001b[0m\u001b[0m_wrapped\u001b[0m \u001b[1;33m=\u001b[0m \u001b[0mSettings\u001b[0m\u001b[1;33m(\u001b[0m\u001b[0msettings_module\u001b[0m\u001b[1;33m)\u001b[0m\u001b[1;33m\u001b[0m\u001b[1;33m\u001b[0m\u001b[0m\n",
      "\u001b[1;31mImproperlyConfigured\u001b[0m: Requested setting USE_I18N, but settings are not configured. You must either define the environment variable DJANGO_SETTINGS_MODULE or call settings.configure() before accessing settings."
     ]
    }
   ],
   "source": [
    "from django import forms\n",
    "from django.forms import formset_factory\n",
    "import requests \n",
    "class search_Form(forms.Form):\n",
    "        search_movie = forms.CharField(label='Movie name', max_length=100,widget=forms.Textarea)\n",
    "        search_ranking = forms.CharField(max_length=100)\n",
    "data={'a' : 'alpha', 'b' : 'beta'}\n",
    "Search_FormSet = formset_factory(search_Form)\n",
    "formset = Search_FormSet(initial=[{ 'search_movie' : 'search_movie','search_ranking' : 'search_ranking' }])\n",
    "print(formset.as_table())\n",
    "print(Search_FormSet.management_form)\n",
    "print((Search_FormSet.forms))"
   ]
  },
  {
   "cell_type": "code",
   "execution_count": 9,
   "metadata": {},
   "outputs": [],
   "source": [
    "from django import forms\n",
    "from django.forms import formset_factory\n",
    "import requests \n",
    "class search_Form(forms.Form):\n",
    "        search_movie = forms.CharField(label='Movie name', max_length=100,widget=forms.Textarea)\n",
    "        search_ranking = forms.CharField(max_length=100)\n",
    "data={'a' : 'alpha', 'b' : 'beta'}\n",
    "Search_FormSet = formset_factory(search_Form)\n",
    "formset = Search_FormSet(initial=[{ 'search_movie' : 'search_movie','search_ranking' : 'search_ranking' }])"
   ]
  },
  {
   "cell_type": "code",
   "execution_count": 28,
   "metadata": {},
   "outputs": [
    {
     "name": "stdout",
     "output_type": "stream",
     "text": [
      "Using pip 20.3 from C:\\Users\\thcho\\.conda\\envs\\python\\lib\\site-packages\\pip (python 3.6)\n",
      "Non-user install because site-packages writeable\n",
      "Created temporary directory: C:\\Users\\thcho\\AppData\\Local\\Temp\\pip-ephem-wheel-cache-rjv432cl\n",
      "Created temporary directory: C:\\Users\\thcho\\AppData\\Local\\Temp\\pip-req-tracker-34c_qsnr\n",
      "Initialized build tracking at C:\\Users\\thcho\\AppData\\Local\\Temp\\pip-req-tracker-34c_qsnr\n",
      "Created build tracker: C:\\Users\\thcho\\AppData\\Local\\Temp\\pip-req-tracker-34c_qsnr\n",
      "Entered build tracker: C:\\Users\\thcho\\AppData\\Local\\Temp\\pip-req-tracker-34c_qsnr\n",
      "Created temporary directory: C:\\Users\\thcho\\AppData\\Local\\Temp\\pip-install-2rfaktix\n",
      "Exception information:\n",
      "Traceback (most recent call last):\n",
      "  File \"C:\\Users\\thcho\\.conda\\envs\\python\\lib\\site-packages\\pip\\_internal\\cli\\base_command.py\", line 210, in _main\n",
      "    status = self.run(options, args)\n",
      "  File \"C:\\Users\\thcho\\.conda\\envs\\python\\lib\\site-packages\\pip\\_internal\\cli\\req_command.py\", line 180, in wrapper\n",
      "    return func(self, options, args)\n",
      "  File \"C:\\Users\\thcho\\.conda\\envs\\python\\lib\\site-packages\\pip\\_internal\\commands\\install.py\", line 289, in run\n",
      "    reqs = self.get_requirements(args, options, finder, session)\n",
      "  File \"C:\\Users\\thcho\\.conda\\envs\\python\\lib\\site-packages\\pip\\_internal\\cli\\req_command.py\", line 362, in get_requirements\n",
      "    use_pep517=options.use_pep517,\n",
      "  File \"C:\\Users\\thcho\\.conda\\envs\\python\\lib\\site-packages\\pip\\_internal\\req\\constructors.py\", line 219, in install_req_from_editable\n",
      "    parts = parse_req_from_editable(editable_req)\n",
      "  File \"C:\\Users\\thcho\\.conda\\envs\\python\\lib\\site-packages\\pip\\_internal\\req\\constructors.py\", line 190, in parse_req_from_editable\n",
      "    name, url, extras_override = parse_editable(editable_req)\n",
      "  File \"C:\\Users\\thcho\\.conda\\envs\\python\\lib\\site-packages\\pip\\_internal\\req\\constructors.py\", line 122, in parse_editable\n",
      "    '(beginning with svn+, git+, hg+, or bzr+).'.format(editable_req)\n",
      "pip._internal.exceptions.InstallationError: rsion is not a valid editable requirement. It should either be a path to a local project or a VCS URL (beginning with svn+, git+, hg+, or bzr+).\n",
      "Removed build tracker: 'C:\\\\Users\\\\thcho\\\\AppData\\\\Local\\\\Temp\\\\pip-req-tracker-34c_qsnr'\n",
      "Note: you may need to restart the kernel to use updated packages.\n"
     ]
    },
    {
     "name": "stderr",
     "output_type": "stream",
     "text": [
      "ERROR: rsion is not a valid editable requirement. It should either be a path to a local project or a VCS URL (beginning with svn+, git+, hg+, or bzr+).\n"
     ]
    }
   ],
   "source": [
    "\n",
    "pip install i18next -version 10.0.0"
   ]
  },
  {
   "cell_type": "code",
   "execution_count": 7,
   "metadata": {},
   "outputs": [
    {
     "ename": "ImproperlyConfigured",
     "evalue": "Requested setting USE_I18N, but settings are not configured. You must either define the environment variable DJANGO_SETTINGS_MODULE or call settings.configure() before accessing settings.",
     "output_type": "error",
     "traceback": [
      "\u001b[1;31m---------------------------------------------------------------------------\u001b[0m",
      "\u001b[1;31mImproperlyConfigured\u001b[0m                      Traceback (most recent call last)",
      "\u001b[1;32m<ipython-input-7-49ce7180fd6e>\u001b[0m in \u001b[0;36m<module>\u001b[1;34m\u001b[0m\n\u001b[0;32m     17\u001b[0m \u001b[0mtreasure_formset\u001b[0m \u001b[1;33m=\u001b[0m \u001b[0mTreasureFormSet\u001b[0m\u001b[1;33m(\u001b[0m\u001b[0mtreasure_formset_data\u001b[0m\u001b[1;33m)\u001b[0m\u001b[1;33m\u001b[0m\u001b[1;33m\u001b[0m\u001b[0m\n\u001b[0;32m     18\u001b[0m \u001b[0mtreasure_formset\u001b[0m\u001b[1;33m.\u001b[0m\u001b[0mis_bound\u001b[0m\u001b[1;33m\u001b[0m\u001b[1;33m\u001b[0m\u001b[0m\n\u001b[1;32m---> 19\u001b[1;33m \u001b[0mtreasure_formset\u001b[0m\u001b[1;33m.\u001b[0m\u001b[0mis_valid\u001b[0m\u001b[1;33m(\u001b[0m\u001b[1;33m)\u001b[0m\u001b[1;33m\u001b[0m\u001b[1;33m\u001b[0m\u001b[0m\n\u001b[0m",
      "\u001b[1;32m~\\.conda\\envs\\python\\lib\\site-packages\\django\\forms\\formsets.py\u001b[0m in \u001b[0;36mis_valid\u001b[1;34m(self)\u001b[0m\n\u001b[0;32m    306\u001b[0m         \u001b[0mforms_valid\u001b[0m \u001b[1;33m=\u001b[0m \u001b[1;32mTrue\u001b[0m\u001b[1;33m\u001b[0m\u001b[1;33m\u001b[0m\u001b[0m\n\u001b[0;32m    307\u001b[0m         \u001b[1;31m# This triggers a full clean.\u001b[0m\u001b[1;33m\u001b[0m\u001b[1;33m\u001b[0m\u001b[1;33m\u001b[0m\u001b[0m\n\u001b[1;32m--> 308\u001b[1;33m         \u001b[0mself\u001b[0m\u001b[1;33m.\u001b[0m\u001b[0merrors\u001b[0m\u001b[1;33m\u001b[0m\u001b[1;33m\u001b[0m\u001b[0m\n\u001b[0m\u001b[0;32m    309\u001b[0m         \u001b[1;32mfor\u001b[0m \u001b[0mi\u001b[0m \u001b[1;32min\u001b[0m \u001b[0mrange\u001b[0m\u001b[1;33m(\u001b[0m\u001b[1;36m0\u001b[0m\u001b[1;33m,\u001b[0m \u001b[0mself\u001b[0m\u001b[1;33m.\u001b[0m\u001b[0mtotal_form_count\u001b[0m\u001b[1;33m(\u001b[0m\u001b[1;33m)\u001b[0m\u001b[1;33m)\u001b[0m\u001b[1;33m:\u001b[0m\u001b[1;33m\u001b[0m\u001b[1;33m\u001b[0m\u001b[0m\n\u001b[0;32m    310\u001b[0m             \u001b[0mform\u001b[0m \u001b[1;33m=\u001b[0m \u001b[0mself\u001b[0m\u001b[1;33m.\u001b[0m\u001b[0mforms\u001b[0m\u001b[1;33m[\u001b[0m\u001b[0mi\u001b[0m\u001b[1;33m]\u001b[0m\u001b[1;33m\u001b[0m\u001b[1;33m\u001b[0m\u001b[0m\n",
      "\u001b[1;32m~\\.conda\\envs\\python\\lib\\site-packages\\django\\forms\\formsets.py\u001b[0m in \u001b[0;36merrors\u001b[1;34m(self)\u001b[0m\n\u001b[0;32m    286\u001b[0m         \u001b[1;34m\"\"\"Return a list of form.errors for every form in self.forms.\"\"\"\u001b[0m\u001b[1;33m\u001b[0m\u001b[1;33m\u001b[0m\u001b[0m\n\u001b[0;32m    287\u001b[0m         \u001b[1;32mif\u001b[0m \u001b[0mself\u001b[0m\u001b[1;33m.\u001b[0m\u001b[0m_errors\u001b[0m \u001b[1;32mis\u001b[0m \u001b[1;32mNone\u001b[0m\u001b[1;33m:\u001b[0m\u001b[1;33m\u001b[0m\u001b[1;33m\u001b[0m\u001b[0m\n\u001b[1;32m--> 288\u001b[1;33m             \u001b[0mself\u001b[0m\u001b[1;33m.\u001b[0m\u001b[0mfull_clean\u001b[0m\u001b[1;33m(\u001b[0m\u001b[1;33m)\u001b[0m\u001b[1;33m\u001b[0m\u001b[1;33m\u001b[0m\u001b[0m\n\u001b[0m\u001b[0;32m    289\u001b[0m         \u001b[1;32mreturn\u001b[0m \u001b[0mself\u001b[0m\u001b[1;33m.\u001b[0m\u001b[0m_errors\u001b[0m\u001b[1;33m\u001b[0m\u001b[1;33m\u001b[0m\u001b[0m\n\u001b[0;32m    290\u001b[0m \u001b[1;33m\u001b[0m\u001b[0m\n",
      "\u001b[1;32m~\\.conda\\envs\\python\\lib\\site-packages\\django\\forms\\formsets.py\u001b[0m in \u001b[0;36mfull_clean\u001b[1;34m(self)\u001b[0m\n\u001b[0;32m    327\u001b[0m         \u001b[1;32mif\u001b[0m \u001b[1;32mnot\u001b[0m \u001b[0mself\u001b[0m\u001b[1;33m.\u001b[0m\u001b[0mis_bound\u001b[0m\u001b[1;33m:\u001b[0m  \u001b[1;31m# Stop further processing.\u001b[0m\u001b[1;33m\u001b[0m\u001b[1;33m\u001b[0m\u001b[0m\n\u001b[0;32m    328\u001b[0m             \u001b[1;32mreturn\u001b[0m\u001b[1;33m\u001b[0m\u001b[1;33m\u001b[0m\u001b[0m\n\u001b[1;32m--> 329\u001b[1;33m         \u001b[1;32mfor\u001b[0m \u001b[0mi\u001b[0m \u001b[1;32min\u001b[0m \u001b[0mrange\u001b[0m\u001b[1;33m(\u001b[0m\u001b[1;36m0\u001b[0m\u001b[1;33m,\u001b[0m \u001b[0mself\u001b[0m\u001b[1;33m.\u001b[0m\u001b[0mtotal_form_count\u001b[0m\u001b[1;33m(\u001b[0m\u001b[1;33m)\u001b[0m\u001b[1;33m)\u001b[0m\u001b[1;33m:\u001b[0m\u001b[1;33m\u001b[0m\u001b[1;33m\u001b[0m\u001b[0m\n\u001b[0m\u001b[0;32m    330\u001b[0m             \u001b[0mform\u001b[0m \u001b[1;33m=\u001b[0m \u001b[0mself\u001b[0m\u001b[1;33m.\u001b[0m\u001b[0mforms\u001b[0m\u001b[1;33m[\u001b[0m\u001b[0mi\u001b[0m\u001b[1;33m]\u001b[0m\u001b[1;33m\u001b[0m\u001b[1;33m\u001b[0m\u001b[0m\n\u001b[0;32m    331\u001b[0m             \u001b[1;31m# Empty forms are unchanged forms beyond those with initial data.\u001b[0m\u001b[1;33m\u001b[0m\u001b[1;33m\u001b[0m\u001b[1;33m\u001b[0m\u001b[0m\n",
      "\u001b[1;32m~\\.conda\\envs\\python\\lib\\site-packages\\django\\forms\\formsets.py\u001b[0m in \u001b[0;36mtotal_form_count\u001b[1;34m(self)\u001b[0m\n\u001b[0;32m    110\u001b[0m             \u001b[1;31m# from forcing the server to instantiate arbitrary numbers of\u001b[0m\u001b[1;33m\u001b[0m\u001b[1;33m\u001b[0m\u001b[1;33m\u001b[0m\u001b[0m\n\u001b[0;32m    111\u001b[0m             \u001b[1;31m# forms\u001b[0m\u001b[1;33m\u001b[0m\u001b[1;33m\u001b[0m\u001b[1;33m\u001b[0m\u001b[0m\n\u001b[1;32m--> 112\u001b[1;33m             \u001b[1;32mreturn\u001b[0m \u001b[0mmin\u001b[0m\u001b[1;33m(\u001b[0m\u001b[0mself\u001b[0m\u001b[1;33m.\u001b[0m\u001b[0mmanagement_form\u001b[0m\u001b[1;33m.\u001b[0m\u001b[0mcleaned_data\u001b[0m\u001b[1;33m[\u001b[0m\u001b[0mTOTAL_FORM_COUNT\u001b[0m\u001b[1;33m]\u001b[0m\u001b[1;33m,\u001b[0m \u001b[0mself\u001b[0m\u001b[1;33m.\u001b[0m\u001b[0mabsolute_max\u001b[0m\u001b[1;33m)\u001b[0m\u001b[1;33m\u001b[0m\u001b[1;33m\u001b[0m\u001b[0m\n\u001b[0m\u001b[0;32m    113\u001b[0m         \u001b[1;32melse\u001b[0m\u001b[1;33m:\u001b[0m\u001b[1;33m\u001b[0m\u001b[1;33m\u001b[0m\u001b[0m\n\u001b[0;32m    114\u001b[0m             \u001b[0minitial_forms\u001b[0m \u001b[1;33m=\u001b[0m \u001b[0mself\u001b[0m\u001b[1;33m.\u001b[0m\u001b[0minitial_form_count\u001b[0m\u001b[1;33m(\u001b[0m\u001b[1;33m)\u001b[0m\u001b[1;33m\u001b[0m\u001b[1;33m\u001b[0m\u001b[0m\n",
      "\u001b[1;32m~\\.conda\\envs\\python\\lib\\site-packages\\django\\utils\\functional.py\u001b[0m in \u001b[0;36m__get__\u001b[1;34m(self, instance, cls)\u001b[0m\n\u001b[0;32m     46\u001b[0m         \u001b[1;32mif\u001b[0m \u001b[0minstance\u001b[0m \u001b[1;32mis\u001b[0m \u001b[1;32mNone\u001b[0m\u001b[1;33m:\u001b[0m\u001b[1;33m\u001b[0m\u001b[1;33m\u001b[0m\u001b[0m\n\u001b[0;32m     47\u001b[0m             \u001b[1;32mreturn\u001b[0m \u001b[0mself\u001b[0m\u001b[1;33m\u001b[0m\u001b[1;33m\u001b[0m\u001b[0m\n\u001b[1;32m---> 48\u001b[1;33m         \u001b[0mres\u001b[0m \u001b[1;33m=\u001b[0m \u001b[0minstance\u001b[0m\u001b[1;33m.\u001b[0m\u001b[0m__dict__\u001b[0m\u001b[1;33m[\u001b[0m\u001b[0mself\u001b[0m\u001b[1;33m.\u001b[0m\u001b[0mname\u001b[0m\u001b[1;33m]\u001b[0m \u001b[1;33m=\u001b[0m \u001b[0mself\u001b[0m\u001b[1;33m.\u001b[0m\u001b[0mfunc\u001b[0m\u001b[1;33m(\u001b[0m\u001b[0minstance\u001b[0m\u001b[1;33m)\u001b[0m\u001b[1;33m\u001b[0m\u001b[1;33m\u001b[0m\u001b[0m\n\u001b[0m\u001b[0;32m     49\u001b[0m         \u001b[1;32mreturn\u001b[0m \u001b[0mres\u001b[0m\u001b[1;33m\u001b[0m\u001b[1;33m\u001b[0m\u001b[0m\n\u001b[0;32m     50\u001b[0m \u001b[1;33m\u001b[0m\u001b[0m\n",
      "\u001b[1;32m~\\.conda\\envs\\python\\lib\\site-packages\\django\\forms\\formsets.py\u001b[0m in \u001b[0;36mmanagement_form\u001b[1;34m(self)\u001b[0m\n\u001b[0;32m     88\u001b[0m         \u001b[1;34m\"\"\"Return the ManagementForm instance for this FormSet.\"\"\"\u001b[0m\u001b[1;33m\u001b[0m\u001b[1;33m\u001b[0m\u001b[0m\n\u001b[0;32m     89\u001b[0m         \u001b[1;32mif\u001b[0m \u001b[0mself\u001b[0m\u001b[1;33m.\u001b[0m\u001b[0mis_bound\u001b[0m\u001b[1;33m:\u001b[0m\u001b[1;33m\u001b[0m\u001b[1;33m\u001b[0m\u001b[0m\n\u001b[1;32m---> 90\u001b[1;33m             \u001b[0mform\u001b[0m \u001b[1;33m=\u001b[0m \u001b[0mManagementForm\u001b[0m\u001b[1;33m(\u001b[0m\u001b[0mself\u001b[0m\u001b[1;33m.\u001b[0m\u001b[0mdata\u001b[0m\u001b[1;33m,\u001b[0m \u001b[0mauto_id\u001b[0m\u001b[1;33m=\u001b[0m\u001b[0mself\u001b[0m\u001b[1;33m.\u001b[0m\u001b[0mauto_id\u001b[0m\u001b[1;33m,\u001b[0m \u001b[0mprefix\u001b[0m\u001b[1;33m=\u001b[0m\u001b[0mself\u001b[0m\u001b[1;33m.\u001b[0m\u001b[0mprefix\u001b[0m\u001b[1;33m)\u001b[0m\u001b[1;33m\u001b[0m\u001b[1;33m\u001b[0m\u001b[0m\n\u001b[0m\u001b[0;32m     91\u001b[0m             \u001b[1;32mif\u001b[0m \u001b[1;32mnot\u001b[0m \u001b[0mform\u001b[0m\u001b[1;33m.\u001b[0m\u001b[0mis_valid\u001b[0m\u001b[1;33m(\u001b[0m\u001b[1;33m)\u001b[0m\u001b[1;33m:\u001b[0m\u001b[1;33m\u001b[0m\u001b[1;33m\u001b[0m\u001b[0m\n\u001b[0;32m     92\u001b[0m                 raise ValidationError(\n",
      "\u001b[1;32m~\\.conda\\envs\\python\\lib\\site-packages\\django\\forms\\formsets.py\u001b[0m in \u001b[0;36m__init__\u001b[1;34m(self, *args, **kwargs)\u001b[0m\n\u001b[0;32m     40\u001b[0m         \u001b[0mself\u001b[0m\u001b[1;33m.\u001b[0m\u001b[0mbase_fields\u001b[0m\u001b[1;33m[\u001b[0m\u001b[0mMIN_NUM_FORM_COUNT\u001b[0m\u001b[1;33m]\u001b[0m \u001b[1;33m=\u001b[0m \u001b[0mIntegerField\u001b[0m\u001b[1;33m(\u001b[0m\u001b[0mrequired\u001b[0m\u001b[1;33m=\u001b[0m\u001b[1;32mFalse\u001b[0m\u001b[1;33m,\u001b[0m \u001b[0mwidget\u001b[0m\u001b[1;33m=\u001b[0m\u001b[0mHiddenInput\u001b[0m\u001b[1;33m)\u001b[0m\u001b[1;33m\u001b[0m\u001b[1;33m\u001b[0m\u001b[0m\n\u001b[0;32m     41\u001b[0m         \u001b[0mself\u001b[0m\u001b[1;33m.\u001b[0m\u001b[0mbase_fields\u001b[0m\u001b[1;33m[\u001b[0m\u001b[0mMAX_NUM_FORM_COUNT\u001b[0m\u001b[1;33m]\u001b[0m \u001b[1;33m=\u001b[0m \u001b[0mIntegerField\u001b[0m\u001b[1;33m(\u001b[0m\u001b[0mrequired\u001b[0m\u001b[1;33m=\u001b[0m\u001b[1;32mFalse\u001b[0m\u001b[1;33m,\u001b[0m \u001b[0mwidget\u001b[0m\u001b[1;33m=\u001b[0m\u001b[0mHiddenInput\u001b[0m\u001b[1;33m)\u001b[0m\u001b[1;33m\u001b[0m\u001b[1;33m\u001b[0m\u001b[0m\n\u001b[1;32m---> 42\u001b[1;33m         \u001b[0msuper\u001b[0m\u001b[1;33m(\u001b[0m\u001b[1;33m)\u001b[0m\u001b[1;33m.\u001b[0m\u001b[0m__init__\u001b[0m\u001b[1;33m(\u001b[0m\u001b[1;33m*\u001b[0m\u001b[0margs\u001b[0m\u001b[1;33m,\u001b[0m \u001b[1;33m**\u001b[0m\u001b[0mkwargs\u001b[0m\u001b[1;33m)\u001b[0m\u001b[1;33m\u001b[0m\u001b[1;33m\u001b[0m\u001b[0m\n\u001b[0m\u001b[0;32m     43\u001b[0m \u001b[1;33m\u001b[0m\u001b[0m\n\u001b[0;32m     44\u001b[0m \u001b[1;33m\u001b[0m\u001b[0m\n",
      "\u001b[1;32m~\\.conda\\envs\\python\\lib\\site-packages\\django\\forms\\forms.py\u001b[0m in \u001b[0;36m__init__\u001b[1;34m(self, data, files, auto_id, prefix, initial, error_class, label_suffix, empty_permitted, field_order, use_required_attribute, renderer)\u001b[0m\n\u001b[0;32m     76\u001b[0m         \u001b[0mself\u001b[0m\u001b[1;33m.\u001b[0m\u001b[0merror_class\u001b[0m \u001b[1;33m=\u001b[0m \u001b[0merror_class\u001b[0m\u001b[1;33m\u001b[0m\u001b[1;33m\u001b[0m\u001b[0m\n\u001b[0;32m     77\u001b[0m         \u001b[1;31m# Translators: This is the default suffix added to form field labels\u001b[0m\u001b[1;33m\u001b[0m\u001b[1;33m\u001b[0m\u001b[1;33m\u001b[0m\u001b[0m\n\u001b[1;32m---> 78\u001b[1;33m         \u001b[0mself\u001b[0m\u001b[1;33m.\u001b[0m\u001b[0mlabel_suffix\u001b[0m \u001b[1;33m=\u001b[0m \u001b[0mlabel_suffix\u001b[0m \u001b[1;32mif\u001b[0m \u001b[0mlabel_suffix\u001b[0m \u001b[1;32mis\u001b[0m \u001b[1;32mnot\u001b[0m \u001b[1;32mNone\u001b[0m \u001b[1;32melse\u001b[0m \u001b[0m_\u001b[0m\u001b[1;33m(\u001b[0m\u001b[1;34m':'\u001b[0m\u001b[1;33m)\u001b[0m\u001b[1;33m\u001b[0m\u001b[1;33m\u001b[0m\u001b[0m\n\u001b[0m\u001b[0;32m     79\u001b[0m         \u001b[0mself\u001b[0m\u001b[1;33m.\u001b[0m\u001b[0mempty_permitted\u001b[0m \u001b[1;33m=\u001b[0m \u001b[0mempty_permitted\u001b[0m\u001b[1;33m\u001b[0m\u001b[1;33m\u001b[0m\u001b[0m\n\u001b[0;32m     80\u001b[0m         \u001b[0mself\u001b[0m\u001b[1;33m.\u001b[0m\u001b[0m_errors\u001b[0m \u001b[1;33m=\u001b[0m \u001b[1;32mNone\u001b[0m  \u001b[1;31m# Stores the errors after clean() has been called.\u001b[0m\u001b[1;33m\u001b[0m\u001b[1;33m\u001b[0m\u001b[0m\n",
      "\u001b[1;32m~\\.conda\\envs\\python\\lib\\site-packages\\django\\utils\\translation\\__init__.py\u001b[0m in \u001b[0;36mgettext\u001b[1;34m(message)\u001b[0m\n\u001b[0;32m     90\u001b[0m \u001b[1;33m\u001b[0m\u001b[0m\n\u001b[0;32m     91\u001b[0m \u001b[1;32mdef\u001b[0m \u001b[0mgettext\u001b[0m\u001b[1;33m(\u001b[0m\u001b[0mmessage\u001b[0m\u001b[1;33m)\u001b[0m\u001b[1;33m:\u001b[0m\u001b[1;33m\u001b[0m\u001b[1;33m\u001b[0m\u001b[0m\n\u001b[1;32m---> 92\u001b[1;33m     \u001b[1;32mreturn\u001b[0m \u001b[0m_trans\u001b[0m\u001b[1;33m.\u001b[0m\u001b[0mgettext\u001b[0m\u001b[1;33m(\u001b[0m\u001b[0mmessage\u001b[0m\u001b[1;33m)\u001b[0m\u001b[1;33m\u001b[0m\u001b[1;33m\u001b[0m\u001b[0m\n\u001b[0m\u001b[0;32m     93\u001b[0m \u001b[1;33m\u001b[0m\u001b[0m\n\u001b[0;32m     94\u001b[0m \u001b[1;33m\u001b[0m\u001b[0m\n",
      "\u001b[1;32m~\\.conda\\envs\\python\\lib\\site-packages\\django\\utils\\translation\\__init__.py\u001b[0m in \u001b[0;36m__getattr__\u001b[1;34m(self, real_name)\u001b[0m\n\u001b[0;32m     55\u001b[0m     \u001b[1;32mdef\u001b[0m \u001b[0m__getattr__\u001b[0m\u001b[1;33m(\u001b[0m\u001b[0mself\u001b[0m\u001b[1;33m,\u001b[0m \u001b[0mreal_name\u001b[0m\u001b[1;33m)\u001b[0m\u001b[1;33m:\u001b[0m\u001b[1;33m\u001b[0m\u001b[1;33m\u001b[0m\u001b[0m\n\u001b[0;32m     56\u001b[0m         \u001b[1;32mfrom\u001b[0m \u001b[0mdjango\u001b[0m\u001b[1;33m.\u001b[0m\u001b[0mconf\u001b[0m \u001b[1;32mimport\u001b[0m \u001b[0msettings\u001b[0m\u001b[1;33m\u001b[0m\u001b[1;33m\u001b[0m\u001b[0m\n\u001b[1;32m---> 57\u001b[1;33m         \u001b[1;32mif\u001b[0m \u001b[0msettings\u001b[0m\u001b[1;33m.\u001b[0m\u001b[0mUSE_I18N\u001b[0m\u001b[1;33m:\u001b[0m\u001b[1;33m\u001b[0m\u001b[1;33m\u001b[0m\u001b[0m\n\u001b[0m\u001b[0;32m     58\u001b[0m             \u001b[1;32mfrom\u001b[0m \u001b[0mdjango\u001b[0m\u001b[1;33m.\u001b[0m\u001b[0mutils\u001b[0m\u001b[1;33m.\u001b[0m\u001b[0mtranslation\u001b[0m \u001b[1;32mimport\u001b[0m \u001b[0mtrans_real\u001b[0m \u001b[1;32mas\u001b[0m \u001b[0mtrans\u001b[0m\u001b[1;33m\u001b[0m\u001b[1;33m\u001b[0m\u001b[0m\n\u001b[0;32m     59\u001b[0m             \u001b[1;32mfrom\u001b[0m \u001b[0mdjango\u001b[0m\u001b[1;33m.\u001b[0m\u001b[0mutils\u001b[0m\u001b[1;33m.\u001b[0m\u001b[0mtranslation\u001b[0m\u001b[1;33m.\u001b[0m\u001b[0mreloader\u001b[0m \u001b[1;32mimport\u001b[0m \u001b[0mwatch_for_translation_changes\u001b[0m\u001b[1;33m,\u001b[0m \u001b[0mtranslation_file_changed\u001b[0m\u001b[1;33m\u001b[0m\u001b[1;33m\u001b[0m\u001b[0m\n",
      "\u001b[1;32m~\\.conda\\envs\\python\\lib\\site-packages\\django\\conf\\__init__.py\u001b[0m in \u001b[0;36m__getattr__\u001b[1;34m(self, name)\u001b[0m\n\u001b[0;32m     81\u001b[0m         \u001b[1;34m\"\"\"Return the value of a setting and cache it in self.__dict__.\"\"\"\u001b[0m\u001b[1;33m\u001b[0m\u001b[1;33m\u001b[0m\u001b[0m\n\u001b[0;32m     82\u001b[0m         \u001b[1;32mif\u001b[0m \u001b[0mself\u001b[0m\u001b[1;33m.\u001b[0m\u001b[0m_wrapped\u001b[0m \u001b[1;32mis\u001b[0m \u001b[0mempty\u001b[0m\u001b[1;33m:\u001b[0m\u001b[1;33m\u001b[0m\u001b[1;33m\u001b[0m\u001b[0m\n\u001b[1;32m---> 83\u001b[1;33m             \u001b[0mself\u001b[0m\u001b[1;33m.\u001b[0m\u001b[0m_setup\u001b[0m\u001b[1;33m(\u001b[0m\u001b[0mname\u001b[0m\u001b[1;33m)\u001b[0m\u001b[1;33m\u001b[0m\u001b[1;33m\u001b[0m\u001b[0m\n\u001b[0m\u001b[0;32m     84\u001b[0m         \u001b[0mval\u001b[0m \u001b[1;33m=\u001b[0m \u001b[0mgetattr\u001b[0m\u001b[1;33m(\u001b[0m\u001b[0mself\u001b[0m\u001b[1;33m.\u001b[0m\u001b[0m_wrapped\u001b[0m\u001b[1;33m,\u001b[0m \u001b[0mname\u001b[0m\u001b[1;33m)\u001b[0m\u001b[1;33m\u001b[0m\u001b[1;33m\u001b[0m\u001b[0m\n\u001b[0;32m     85\u001b[0m         \u001b[0mself\u001b[0m\u001b[1;33m.\u001b[0m\u001b[0m__dict__\u001b[0m\u001b[1;33m[\u001b[0m\u001b[0mname\u001b[0m\u001b[1;33m]\u001b[0m \u001b[1;33m=\u001b[0m \u001b[0mval\u001b[0m\u001b[1;33m\u001b[0m\u001b[1;33m\u001b[0m\u001b[0m\n",
      "\u001b[1;32m~\\.conda\\envs\\python\\lib\\site-packages\\django\\conf\\__init__.py\u001b[0m in \u001b[0;36m_setup\u001b[1;34m(self, name)\u001b[0m\n\u001b[0;32m     66\u001b[0m                 \u001b[1;34m\"You must either define the environment variable %s \"\u001b[0m\u001b[1;33m\u001b[0m\u001b[1;33m\u001b[0m\u001b[0m\n\u001b[0;32m     67\u001b[0m                 \u001b[1;34m\"or call settings.configure() before accessing settings.\"\u001b[0m\u001b[1;33m\u001b[0m\u001b[1;33m\u001b[0m\u001b[0m\n\u001b[1;32m---> 68\u001b[1;33m                 % (desc, ENVIRONMENT_VARIABLE))\n\u001b[0m\u001b[0;32m     69\u001b[0m \u001b[1;33m\u001b[0m\u001b[0m\n\u001b[0;32m     70\u001b[0m         \u001b[0mself\u001b[0m\u001b[1;33m.\u001b[0m\u001b[0m_wrapped\u001b[0m \u001b[1;33m=\u001b[0m \u001b[0mSettings\u001b[0m\u001b[1;33m(\u001b[0m\u001b[0msettings_module\u001b[0m\u001b[1;33m)\u001b[0m\u001b[1;33m\u001b[0m\u001b[1;33m\u001b[0m\u001b[0m\n",
      "\u001b[1;31mImproperlyConfigured\u001b[0m: Requested setting USE_I18N, but settings are not configured. You must either define the environment variable DJANGO_SETTINGS_MODULE or call settings.configure() before accessing settings."
     ]
    }
   ],
   "source": [
    "from django import forms\n",
    "from django.forms import formset_factory\n",
    "import requests \n",
    "class TreasureForm(forms.Form):\n",
    "    name = forms.CharField(max_length=100)\n",
    "    estimated_price = forms.IntegerField()\n",
    "TreasureFormSet = formset_factory(TreasureForm) # step 2\n",
    " # step 3\n",
    "treasure_formset_data = {\n",
    "    'form-TOTAL_FORMS': '1',\n",
    "    'form-INITIAL_FORMS': '0',\n",
    "    'form-MIN_NUM_FORMS': '0',\n",
    "    'form-MAX_NUM_FORMS': '1000',\n",
    "    'form-0-name': 'An Irish shoebox',\n",
    "    'form-0-estimated_price': '0',\n",
    "}\n",
    "treasure_formset = TreasureFormSet(treasure_formset_data)\n",
    "treasure_formset.is_bound\n",
    "treasure_formset.is_valid()"
   ]
  },
  {
   "cell_type": "code",
   "execution_count": 12,
   "metadata": {},
   "outputs": [
    {
     "ename": "ImproperlyConfigured",
     "evalue": "Requested setting USE_I18N, but settings are not configured. You must either define the environment variable DJANGO_SETTINGS_MODULE or call settings.configure() before accessing settings.",
     "output_type": "error",
     "traceback": [
      "\u001b[1;31m---------------------------------------------------------------------------\u001b[0m",
      "\u001b[1;31mImproperlyConfigured\u001b[0m                      Traceback (most recent call last)",
      "\u001b[1;32m<ipython-input-12-37e09b15ee51>\u001b[0m in \u001b[0;36m<module>\u001b[1;34m\u001b[0m\n\u001b[0;32m     15\u001b[0m \u001b[0mPostSearchFormSet\u001b[0m \u001b[1;33m=\u001b[0m \u001b[0mformset_factory\u001b[0m\u001b[1;33m(\u001b[0m\u001b[0mPostSearchForm\u001b[0m\u001b[1;33m,\u001b[0m \u001b[0mextra\u001b[0m\u001b[1;33m=\u001b[0m\u001b[1;36m3\u001b[0m\u001b[1;33m)\u001b[0m \u001b[1;31m# 빈 폼 3개를 포함하는 폼셋\u001b[0m\u001b[1;33m\u001b[0m\u001b[1;33m\u001b[0m\u001b[0m\n\u001b[0;32m     16\u001b[0m \u001b[0mfs\u001b[0m \u001b[1;33m=\u001b[0m \u001b[0mPostSearchFormSet\u001b[0m\u001b[1;33m(\u001b[0m\u001b[0minitial\u001b[0m\u001b[1;33m=\u001b[0m\u001b[1;33m[\u001b[0m\u001b[1;33m{\u001b[0m\u001b[1;34m'serch_word'\u001b[0m\u001b[1;33m:\u001b[0m \u001b[1;34m'django'\u001b[0m\u001b[1;33m}\u001b[0m\u001b[1;33m,\u001b[0m \u001b[1;33m{\u001b[0m\u001b[1;34m'search_word'\u001b[0m\u001b[1;33m:\u001b[0m\u001b[1;34m'python'\u001b[0m\u001b[1;33m}\u001b[0m\u001b[1;33m]\u001b[0m\u001b[1;33m)\u001b[0m \u001b[1;31m#초기 데이터\u001b[0m\u001b[1;33m\u001b[0m\u001b[1;33m\u001b[0m\u001b[0m\n\u001b[1;32m---> 17\u001b[1;33m \u001b[0mprint\u001b[0m\u001b[1;33m(\u001b[0m\u001b[0mfs\u001b[0m\u001b[1;33m)\u001b[0m\u001b[1;33m\u001b[0m\u001b[1;33m\u001b[0m\u001b[0m\n\u001b[0m",
      "\u001b[1;32m~\\.conda\\envs\\python\\lib\\site-packages\\django\\utils\\html.py\u001b[0m in \u001b[0;36m<lambda>\u001b[1;34m(self)\u001b[0m\n\u001b[0;32m    374\u001b[0m         )\n\u001b[0;32m    375\u001b[0m     \u001b[0mklass_str\u001b[0m \u001b[1;33m=\u001b[0m \u001b[0mklass\u001b[0m\u001b[1;33m.\u001b[0m\u001b[0m__str__\u001b[0m\u001b[1;33m\u001b[0m\u001b[1;33m\u001b[0m\u001b[0m\n\u001b[1;32m--> 376\u001b[1;33m     \u001b[0mklass\u001b[0m\u001b[1;33m.\u001b[0m\u001b[0m__str__\u001b[0m \u001b[1;33m=\u001b[0m \u001b[1;32mlambda\u001b[0m \u001b[0mself\u001b[0m\u001b[1;33m:\u001b[0m \u001b[0mmark_safe\u001b[0m\u001b[1;33m(\u001b[0m\u001b[0mklass_str\u001b[0m\u001b[1;33m(\u001b[0m\u001b[0mself\u001b[0m\u001b[1;33m)\u001b[0m\u001b[1;33m)\u001b[0m\u001b[1;33m\u001b[0m\u001b[1;33m\u001b[0m\u001b[0m\n\u001b[0m\u001b[0;32m    377\u001b[0m     \u001b[0mklass\u001b[0m\u001b[1;33m.\u001b[0m\u001b[0m__html__\u001b[0m \u001b[1;33m=\u001b[0m \u001b[1;32mlambda\u001b[0m \u001b[0mself\u001b[0m\u001b[1;33m:\u001b[0m \u001b[0mstr\u001b[0m\u001b[1;33m(\u001b[0m\u001b[0mself\u001b[0m\u001b[1;33m)\u001b[0m\u001b[1;33m\u001b[0m\u001b[1;33m\u001b[0m\u001b[0m\n\u001b[0;32m    378\u001b[0m     \u001b[1;32mreturn\u001b[0m \u001b[0mklass\u001b[0m\u001b[1;33m\u001b[0m\u001b[1;33m\u001b[0m\u001b[0m\n",
      "\u001b[1;32m~\\.conda\\envs\\python\\lib\\site-packages\\django\\forms\\formsets.py\u001b[0m in \u001b[0;36m__str__\u001b[1;34m(self)\u001b[0m\n\u001b[0;32m     64\u001b[0m \u001b[1;33m\u001b[0m\u001b[0m\n\u001b[0;32m     65\u001b[0m     \u001b[1;32mdef\u001b[0m \u001b[0m__str__\u001b[0m\u001b[1;33m(\u001b[0m\u001b[0mself\u001b[0m\u001b[1;33m)\u001b[0m\u001b[1;33m:\u001b[0m\u001b[1;33m\u001b[0m\u001b[1;33m\u001b[0m\u001b[0m\n\u001b[1;32m---> 66\u001b[1;33m         \u001b[1;32mreturn\u001b[0m \u001b[0mself\u001b[0m\u001b[1;33m.\u001b[0m\u001b[0mas_table\u001b[0m\u001b[1;33m(\u001b[0m\u001b[1;33m)\u001b[0m\u001b[1;33m\u001b[0m\u001b[1;33m\u001b[0m\u001b[0m\n\u001b[0m\u001b[0;32m     67\u001b[0m \u001b[1;33m\u001b[0m\u001b[0m\n\u001b[0;32m     68\u001b[0m     \u001b[1;32mdef\u001b[0m \u001b[0m__iter__\u001b[0m\u001b[1;33m(\u001b[0m\u001b[0mself\u001b[0m\u001b[1;33m)\u001b[0m\u001b[1;33m:\u001b[0m\u001b[1;33m\u001b[0m\u001b[1;33m\u001b[0m\u001b[0m\n",
      "\u001b[1;32m~\\.conda\\envs\\python\\lib\\site-packages\\django\\forms\\formsets.py\u001b[0m in \u001b[0;36mas_table\u001b[1;34m(self)\u001b[0m\n\u001b[0;32m    418\u001b[0m         \u001b[1;31m# probably should be. It might make sense to render each form as a\u001b[0m\u001b[1;33m\u001b[0m\u001b[1;33m\u001b[0m\u001b[1;33m\u001b[0m\u001b[0m\n\u001b[0;32m    419\u001b[0m         \u001b[1;31m# table row with each field as a td.\u001b[0m\u001b[1;33m\u001b[0m\u001b[1;33m\u001b[0m\u001b[1;33m\u001b[0m\u001b[0m\n\u001b[1;32m--> 420\u001b[1;33m         \u001b[0mforms\u001b[0m \u001b[1;33m=\u001b[0m \u001b[1;34m' '\u001b[0m\u001b[1;33m.\u001b[0m\u001b[0mjoin\u001b[0m\u001b[1;33m(\u001b[0m\u001b[0mform\u001b[0m\u001b[1;33m.\u001b[0m\u001b[0mas_table\u001b[0m\u001b[1;33m(\u001b[0m\u001b[1;33m)\u001b[0m \u001b[1;32mfor\u001b[0m \u001b[0mform\u001b[0m \u001b[1;32min\u001b[0m \u001b[0mself\u001b[0m\u001b[1;33m)\u001b[0m\u001b[1;33m\u001b[0m\u001b[1;33m\u001b[0m\u001b[0m\n\u001b[0m\u001b[0;32m    421\u001b[0m         \u001b[1;32mreturn\u001b[0m \u001b[0mmark_safe\u001b[0m\u001b[1;33m(\u001b[0m\u001b[0mstr\u001b[0m\u001b[1;33m(\u001b[0m\u001b[0mself\u001b[0m\u001b[1;33m.\u001b[0m\u001b[0mmanagement_form\u001b[0m\u001b[1;33m)\u001b[0m \u001b[1;33m+\u001b[0m \u001b[1;34m'\\n'\u001b[0m \u001b[1;33m+\u001b[0m \u001b[0mforms\u001b[0m\u001b[1;33m)\u001b[0m\u001b[1;33m\u001b[0m\u001b[1;33m\u001b[0m\u001b[0m\n\u001b[0;32m    422\u001b[0m \u001b[1;33m\u001b[0m\u001b[0m\n",
      "\u001b[1;32m~\\.conda\\envs\\python\\lib\\site-packages\\django\\forms\\formsets.py\u001b[0m in \u001b[0;36m__iter__\u001b[1;34m(self)\u001b[0m\n\u001b[0;32m     68\u001b[0m     \u001b[1;32mdef\u001b[0m \u001b[0m__iter__\u001b[0m\u001b[1;33m(\u001b[0m\u001b[0mself\u001b[0m\u001b[1;33m)\u001b[0m\u001b[1;33m:\u001b[0m\u001b[1;33m\u001b[0m\u001b[1;33m\u001b[0m\u001b[0m\n\u001b[0;32m     69\u001b[0m         \u001b[1;34m\"\"\"Yield the forms in the order they should be rendered.\"\"\"\u001b[0m\u001b[1;33m\u001b[0m\u001b[1;33m\u001b[0m\u001b[0m\n\u001b[1;32m---> 70\u001b[1;33m         \u001b[1;32mreturn\u001b[0m \u001b[0miter\u001b[0m\u001b[1;33m(\u001b[0m\u001b[0mself\u001b[0m\u001b[1;33m.\u001b[0m\u001b[0mforms\u001b[0m\u001b[1;33m)\u001b[0m\u001b[1;33m\u001b[0m\u001b[1;33m\u001b[0m\u001b[0m\n\u001b[0m\u001b[0;32m     71\u001b[0m \u001b[1;33m\u001b[0m\u001b[0m\n\u001b[0;32m     72\u001b[0m     \u001b[1;32mdef\u001b[0m \u001b[0m__getitem__\u001b[0m\u001b[1;33m(\u001b[0m\u001b[0mself\u001b[0m\u001b[1;33m,\u001b[0m \u001b[0mindex\u001b[0m\u001b[1;33m)\u001b[0m\u001b[1;33m:\u001b[0m\u001b[1;33m\u001b[0m\u001b[1;33m\u001b[0m\u001b[0m\n",
      "\u001b[1;32m~\\.conda\\envs\\python\\lib\\site-packages\\django\\utils\\functional.py\u001b[0m in \u001b[0;36m__get__\u001b[1;34m(self, instance, cls)\u001b[0m\n\u001b[0;32m     46\u001b[0m         \u001b[1;32mif\u001b[0m \u001b[0minstance\u001b[0m \u001b[1;32mis\u001b[0m \u001b[1;32mNone\u001b[0m\u001b[1;33m:\u001b[0m\u001b[1;33m\u001b[0m\u001b[1;33m\u001b[0m\u001b[0m\n\u001b[0;32m     47\u001b[0m             \u001b[1;32mreturn\u001b[0m \u001b[0mself\u001b[0m\u001b[1;33m\u001b[0m\u001b[1;33m\u001b[0m\u001b[0m\n\u001b[1;32m---> 48\u001b[1;33m         \u001b[0mres\u001b[0m \u001b[1;33m=\u001b[0m \u001b[0minstance\u001b[0m\u001b[1;33m.\u001b[0m\u001b[0m__dict__\u001b[0m\u001b[1;33m[\u001b[0m\u001b[0mself\u001b[0m\u001b[1;33m.\u001b[0m\u001b[0mname\u001b[0m\u001b[1;33m]\u001b[0m \u001b[1;33m=\u001b[0m \u001b[0mself\u001b[0m\u001b[1;33m.\u001b[0m\u001b[0mfunc\u001b[0m\u001b[1;33m(\u001b[0m\u001b[0minstance\u001b[0m\u001b[1;33m)\u001b[0m\u001b[1;33m\u001b[0m\u001b[1;33m\u001b[0m\u001b[0m\n\u001b[0m\u001b[0;32m     49\u001b[0m         \u001b[1;32mreturn\u001b[0m \u001b[0mres\u001b[0m\u001b[1;33m\u001b[0m\u001b[1;33m\u001b[0m\u001b[0m\n\u001b[0;32m     50\u001b[0m \u001b[1;33m\u001b[0m\u001b[0m\n",
      "\u001b[1;32m~\\.conda\\envs\\python\\lib\\site-packages\\django\\forms\\formsets.py\u001b[0m in \u001b[0;36mforms\u001b[1;34m(self)\u001b[0m\n\u001b[0;32m    137\u001b[0m         return [\n\u001b[0;32m    138\u001b[0m             \u001b[0mself\u001b[0m\u001b[1;33m.\u001b[0m\u001b[0m_construct_form\u001b[0m\u001b[1;33m(\u001b[0m\u001b[0mi\u001b[0m\u001b[1;33m,\u001b[0m \u001b[1;33m**\u001b[0m\u001b[0mself\u001b[0m\u001b[1;33m.\u001b[0m\u001b[0mget_form_kwargs\u001b[0m\u001b[1;33m(\u001b[0m\u001b[0mi\u001b[0m\u001b[1;33m)\u001b[0m\u001b[1;33m)\u001b[0m\u001b[1;33m\u001b[0m\u001b[1;33m\u001b[0m\u001b[0m\n\u001b[1;32m--> 139\u001b[1;33m             \u001b[1;32mfor\u001b[0m \u001b[0mi\u001b[0m \u001b[1;32min\u001b[0m \u001b[0mrange\u001b[0m\u001b[1;33m(\u001b[0m\u001b[0mself\u001b[0m\u001b[1;33m.\u001b[0m\u001b[0mtotal_form_count\u001b[0m\u001b[1;33m(\u001b[0m\u001b[1;33m)\u001b[0m\u001b[1;33m)\u001b[0m\u001b[1;33m\u001b[0m\u001b[1;33m\u001b[0m\u001b[0m\n\u001b[0m\u001b[0;32m    140\u001b[0m         ]\n\u001b[0;32m    141\u001b[0m \u001b[1;33m\u001b[0m\u001b[0m\n",
      "\u001b[1;32m~\\.conda\\envs\\python\\lib\\site-packages\\django\\forms\\formsets.py\u001b[0m in \u001b[0;36m<listcomp>\u001b[1;34m(.0)\u001b[0m\n\u001b[0;32m    137\u001b[0m         return [\n\u001b[0;32m    138\u001b[0m             \u001b[0mself\u001b[0m\u001b[1;33m.\u001b[0m\u001b[0m_construct_form\u001b[0m\u001b[1;33m(\u001b[0m\u001b[0mi\u001b[0m\u001b[1;33m,\u001b[0m \u001b[1;33m**\u001b[0m\u001b[0mself\u001b[0m\u001b[1;33m.\u001b[0m\u001b[0mget_form_kwargs\u001b[0m\u001b[1;33m(\u001b[0m\u001b[0mi\u001b[0m\u001b[1;33m)\u001b[0m\u001b[1;33m)\u001b[0m\u001b[1;33m\u001b[0m\u001b[1;33m\u001b[0m\u001b[0m\n\u001b[1;32m--> 139\u001b[1;33m             \u001b[1;32mfor\u001b[0m \u001b[0mi\u001b[0m \u001b[1;32min\u001b[0m \u001b[0mrange\u001b[0m\u001b[1;33m(\u001b[0m\u001b[0mself\u001b[0m\u001b[1;33m.\u001b[0m\u001b[0mtotal_form_count\u001b[0m\u001b[1;33m(\u001b[0m\u001b[1;33m)\u001b[0m\u001b[1;33m)\u001b[0m\u001b[1;33m\u001b[0m\u001b[1;33m\u001b[0m\u001b[0m\n\u001b[0m\u001b[0;32m    140\u001b[0m         ]\n\u001b[0;32m    141\u001b[0m \u001b[1;33m\u001b[0m\u001b[0m\n",
      "\u001b[1;32m~\\.conda\\envs\\python\\lib\\site-packages\\django\\forms\\formsets.py\u001b[0m in \u001b[0;36m_construct_form\u001b[1;34m(self, i, **kwargs)\u001b[0m\n\u001b[0;32m    173\u001b[0m             \u001b[0mdefaults\u001b[0m\u001b[1;33m[\u001b[0m\u001b[1;34m'empty_permitted'\u001b[0m\u001b[1;33m]\u001b[0m \u001b[1;33m=\u001b[0m \u001b[1;32mTrue\u001b[0m\u001b[1;33m\u001b[0m\u001b[1;33m\u001b[0m\u001b[0m\n\u001b[0;32m    174\u001b[0m         \u001b[0mdefaults\u001b[0m\u001b[1;33m.\u001b[0m\u001b[0mupdate\u001b[0m\u001b[1;33m(\u001b[0m\u001b[0mkwargs\u001b[0m\u001b[1;33m)\u001b[0m\u001b[1;33m\u001b[0m\u001b[1;33m\u001b[0m\u001b[0m\n\u001b[1;32m--> 175\u001b[1;33m         \u001b[0mform\u001b[0m \u001b[1;33m=\u001b[0m \u001b[0mself\u001b[0m\u001b[1;33m.\u001b[0m\u001b[0mform\u001b[0m\u001b[1;33m(\u001b[0m\u001b[1;33m**\u001b[0m\u001b[0mdefaults\u001b[0m\u001b[1;33m)\u001b[0m\u001b[1;33m\u001b[0m\u001b[1;33m\u001b[0m\u001b[0m\n\u001b[0m\u001b[0;32m    176\u001b[0m         \u001b[0mself\u001b[0m\u001b[1;33m.\u001b[0m\u001b[0madd_fields\u001b[0m\u001b[1;33m(\u001b[0m\u001b[0mform\u001b[0m\u001b[1;33m,\u001b[0m \u001b[0mi\u001b[0m\u001b[1;33m)\u001b[0m\u001b[1;33m\u001b[0m\u001b[1;33m\u001b[0m\u001b[0m\n\u001b[0;32m    177\u001b[0m         \u001b[1;32mreturn\u001b[0m \u001b[0mform\u001b[0m\u001b[1;33m\u001b[0m\u001b[1;33m\u001b[0m\u001b[0m\n",
      "\u001b[1;32m~\\.conda\\envs\\python\\lib\\site-packages\\django\\forms\\forms.py\u001b[0m in \u001b[0;36m__init__\u001b[1;34m(self, data, files, auto_id, prefix, initial, error_class, label_suffix, empty_permitted, field_order, use_required_attribute, renderer)\u001b[0m\n\u001b[0;32m     76\u001b[0m         \u001b[0mself\u001b[0m\u001b[1;33m.\u001b[0m\u001b[0merror_class\u001b[0m \u001b[1;33m=\u001b[0m \u001b[0merror_class\u001b[0m\u001b[1;33m\u001b[0m\u001b[1;33m\u001b[0m\u001b[0m\n\u001b[0;32m     77\u001b[0m         \u001b[1;31m# Translators: This is the default suffix added to form field labels\u001b[0m\u001b[1;33m\u001b[0m\u001b[1;33m\u001b[0m\u001b[1;33m\u001b[0m\u001b[0m\n\u001b[1;32m---> 78\u001b[1;33m         \u001b[0mself\u001b[0m\u001b[1;33m.\u001b[0m\u001b[0mlabel_suffix\u001b[0m \u001b[1;33m=\u001b[0m \u001b[0mlabel_suffix\u001b[0m \u001b[1;32mif\u001b[0m \u001b[0mlabel_suffix\u001b[0m \u001b[1;32mis\u001b[0m \u001b[1;32mnot\u001b[0m \u001b[1;32mNone\u001b[0m \u001b[1;32melse\u001b[0m \u001b[0m_\u001b[0m\u001b[1;33m(\u001b[0m\u001b[1;34m':'\u001b[0m\u001b[1;33m)\u001b[0m\u001b[1;33m\u001b[0m\u001b[1;33m\u001b[0m\u001b[0m\n\u001b[0m\u001b[0;32m     79\u001b[0m         \u001b[0mself\u001b[0m\u001b[1;33m.\u001b[0m\u001b[0mempty_permitted\u001b[0m \u001b[1;33m=\u001b[0m \u001b[0mempty_permitted\u001b[0m\u001b[1;33m\u001b[0m\u001b[1;33m\u001b[0m\u001b[0m\n\u001b[0;32m     80\u001b[0m         \u001b[0mself\u001b[0m\u001b[1;33m.\u001b[0m\u001b[0m_errors\u001b[0m \u001b[1;33m=\u001b[0m \u001b[1;32mNone\u001b[0m  \u001b[1;31m# Stores the errors after clean() has been called.\u001b[0m\u001b[1;33m\u001b[0m\u001b[1;33m\u001b[0m\u001b[0m\n",
      "\u001b[1;32m~\\.conda\\envs\\python\\lib\\site-packages\\django\\utils\\translation\\__init__.py\u001b[0m in \u001b[0;36mgettext\u001b[1;34m(message)\u001b[0m\n\u001b[0;32m     90\u001b[0m \u001b[1;33m\u001b[0m\u001b[0m\n\u001b[0;32m     91\u001b[0m \u001b[1;32mdef\u001b[0m \u001b[0mgettext\u001b[0m\u001b[1;33m(\u001b[0m\u001b[0mmessage\u001b[0m\u001b[1;33m)\u001b[0m\u001b[1;33m:\u001b[0m\u001b[1;33m\u001b[0m\u001b[1;33m\u001b[0m\u001b[0m\n\u001b[1;32m---> 92\u001b[1;33m     \u001b[1;32mreturn\u001b[0m \u001b[0m_trans\u001b[0m\u001b[1;33m.\u001b[0m\u001b[0mgettext\u001b[0m\u001b[1;33m(\u001b[0m\u001b[0mmessage\u001b[0m\u001b[1;33m)\u001b[0m\u001b[1;33m\u001b[0m\u001b[1;33m\u001b[0m\u001b[0m\n\u001b[0m\u001b[0;32m     93\u001b[0m \u001b[1;33m\u001b[0m\u001b[0m\n\u001b[0;32m     94\u001b[0m \u001b[1;33m\u001b[0m\u001b[0m\n",
      "\u001b[1;32m~\\.conda\\envs\\python\\lib\\site-packages\\django\\utils\\translation\\__init__.py\u001b[0m in \u001b[0;36m__getattr__\u001b[1;34m(self, real_name)\u001b[0m\n\u001b[0;32m     55\u001b[0m     \u001b[1;32mdef\u001b[0m \u001b[0m__getattr__\u001b[0m\u001b[1;33m(\u001b[0m\u001b[0mself\u001b[0m\u001b[1;33m,\u001b[0m \u001b[0mreal_name\u001b[0m\u001b[1;33m)\u001b[0m\u001b[1;33m:\u001b[0m\u001b[1;33m\u001b[0m\u001b[1;33m\u001b[0m\u001b[0m\n\u001b[0;32m     56\u001b[0m         \u001b[1;32mfrom\u001b[0m \u001b[0mdjango\u001b[0m\u001b[1;33m.\u001b[0m\u001b[0mconf\u001b[0m \u001b[1;32mimport\u001b[0m \u001b[0msettings\u001b[0m\u001b[1;33m\u001b[0m\u001b[1;33m\u001b[0m\u001b[0m\n\u001b[1;32m---> 57\u001b[1;33m         \u001b[1;32mif\u001b[0m \u001b[0msettings\u001b[0m\u001b[1;33m.\u001b[0m\u001b[0mUSE_I18N\u001b[0m\u001b[1;33m:\u001b[0m\u001b[1;33m\u001b[0m\u001b[1;33m\u001b[0m\u001b[0m\n\u001b[0m\u001b[0;32m     58\u001b[0m             \u001b[1;32mfrom\u001b[0m \u001b[0mdjango\u001b[0m\u001b[1;33m.\u001b[0m\u001b[0mutils\u001b[0m\u001b[1;33m.\u001b[0m\u001b[0mtranslation\u001b[0m \u001b[1;32mimport\u001b[0m \u001b[0mtrans_real\u001b[0m \u001b[1;32mas\u001b[0m \u001b[0mtrans\u001b[0m\u001b[1;33m\u001b[0m\u001b[1;33m\u001b[0m\u001b[0m\n\u001b[0;32m     59\u001b[0m             \u001b[1;32mfrom\u001b[0m \u001b[0mdjango\u001b[0m\u001b[1;33m.\u001b[0m\u001b[0mutils\u001b[0m\u001b[1;33m.\u001b[0m\u001b[0mtranslation\u001b[0m\u001b[1;33m.\u001b[0m\u001b[0mreloader\u001b[0m \u001b[1;32mimport\u001b[0m \u001b[0mwatch_for_translation_changes\u001b[0m\u001b[1;33m,\u001b[0m \u001b[0mtranslation_file_changed\u001b[0m\u001b[1;33m\u001b[0m\u001b[1;33m\u001b[0m\u001b[0m\n",
      "\u001b[1;32m~\\.conda\\envs\\python\\lib\\site-packages\\django\\conf\\__init__.py\u001b[0m in \u001b[0;36m__getattr__\u001b[1;34m(self, name)\u001b[0m\n\u001b[0;32m     81\u001b[0m         \u001b[1;34m\"\"\"Return the value of a setting and cache it in self.__dict__.\"\"\"\u001b[0m\u001b[1;33m\u001b[0m\u001b[1;33m\u001b[0m\u001b[0m\n\u001b[0;32m     82\u001b[0m         \u001b[1;32mif\u001b[0m \u001b[0mself\u001b[0m\u001b[1;33m.\u001b[0m\u001b[0m_wrapped\u001b[0m \u001b[1;32mis\u001b[0m \u001b[0mempty\u001b[0m\u001b[1;33m:\u001b[0m\u001b[1;33m\u001b[0m\u001b[1;33m\u001b[0m\u001b[0m\n\u001b[1;32m---> 83\u001b[1;33m             \u001b[0mself\u001b[0m\u001b[1;33m.\u001b[0m\u001b[0m_setup\u001b[0m\u001b[1;33m(\u001b[0m\u001b[0mname\u001b[0m\u001b[1;33m)\u001b[0m\u001b[1;33m\u001b[0m\u001b[1;33m\u001b[0m\u001b[0m\n\u001b[0m\u001b[0;32m     84\u001b[0m         \u001b[0mval\u001b[0m \u001b[1;33m=\u001b[0m \u001b[0mgetattr\u001b[0m\u001b[1;33m(\u001b[0m\u001b[0mself\u001b[0m\u001b[1;33m.\u001b[0m\u001b[0m_wrapped\u001b[0m\u001b[1;33m,\u001b[0m \u001b[0mname\u001b[0m\u001b[1;33m)\u001b[0m\u001b[1;33m\u001b[0m\u001b[1;33m\u001b[0m\u001b[0m\n\u001b[0;32m     85\u001b[0m         \u001b[0mself\u001b[0m\u001b[1;33m.\u001b[0m\u001b[0m__dict__\u001b[0m\u001b[1;33m[\u001b[0m\u001b[0mname\u001b[0m\u001b[1;33m]\u001b[0m \u001b[1;33m=\u001b[0m \u001b[0mval\u001b[0m\u001b[1;33m\u001b[0m\u001b[1;33m\u001b[0m\u001b[0m\n",
      "\u001b[1;32m~\\.conda\\envs\\python\\lib\\site-packages\\django\\conf\\__init__.py\u001b[0m in \u001b[0;36m_setup\u001b[1;34m(self, name)\u001b[0m\n\u001b[0;32m     66\u001b[0m                 \u001b[1;34m\"You must either define the environment variable %s \"\u001b[0m\u001b[1;33m\u001b[0m\u001b[1;33m\u001b[0m\u001b[0m\n\u001b[0;32m     67\u001b[0m                 \u001b[1;34m\"or call settings.configure() before accessing settings.\"\u001b[0m\u001b[1;33m\u001b[0m\u001b[1;33m\u001b[0m\u001b[0m\n\u001b[1;32m---> 68\u001b[1;33m                 % (desc, ENVIRONMENT_VARIABLE))\n\u001b[0m\u001b[0;32m     69\u001b[0m \u001b[1;33m\u001b[0m\u001b[0m\n\u001b[0;32m     70\u001b[0m         \u001b[0mself\u001b[0m\u001b[1;33m.\u001b[0m\u001b[0m_wrapped\u001b[0m \u001b[1;33m=\u001b[0m \u001b[0mSettings\u001b[0m\u001b[1;33m(\u001b[0m\u001b[0msettings_module\u001b[0m\u001b[1;33m)\u001b[0m\u001b[1;33m\u001b[0m\u001b[1;33m\u001b[0m\u001b[0m\n",
      "\u001b[1;31mImproperlyConfigured\u001b[0m: Requested setting USE_I18N, but settings are not configured. You must either define the environment variable DJANGO_SETTINGS_MODULE or call settings.configure() before accessing settings."
     ]
    }
   ],
   "source": [
    "from django import forms\n",
    "from django.forms import formset_factory\n",
    "\n",
    "from django import forms\n",
    "from django.forms import formset_factory\n",
    "import requests \n",
    "class search_Form(forms.Form):\n",
    "        search_movie = forms.CharField(label='Movie name', max_length=100,widget=forms.Textarea)\n",
    "        search_ranking = forms.CharField(max_length=100)\n",
    "data={'a' : 'alpha', 'b' : 'beta'}\n",
    "Search_FormSet = formset_factory(search_Form)\n",
    "formset = Search_FormSet(initial=[{ 'search_movie' : 'search_movie','search_ranking' : 'search_ranking' }])\n",
    "class PostSearchForm(forms.Form):\n",
    "        search_word = forms.CharField(label='Search Word',max_length=100)\n",
    "PostSearchFormSet = formset_factory(PostSearchForm, extra=3) # 빈 폼 3개를 포함하는 폼셋\n",
    "fs = PostSearchFormSet(initial=[{'serch_word': 'django'}, {'search_word':'python'}]) #초기 데이터\n",
    "print(fs)"
   ]
  },
  {
   "cell_type": "code",
   "execution_count": 48,
   "metadata": {},
   "outputs": [
    {
     "name": "stdout",
     "output_type": "stream",
     "text": [
      " 서울중앙지방법원 2018타경8713 \n",
      " 서울특별시 중구 장충단로 263, 지하2층127호 (을지로6가,밀리오레) [집합건물 철골.철근콘크리트조 3.84㎡] 서울특별시 중구 장충단로 263, 지하2층185호 (을지로6가,밀리오레) [집합건물 철골.철근콘크리트조 3.84㎡] \n",
      " 서울중앙지방법원 2018타경8812 \n",
      " 서울특별시 관악구 신림동 산28-4 [토지 임야 11035㎡ 갑구 2번 강재식 지분 23084분의 8731.52 전부] \n"
     ]
    }
   ],
   "source": [
    "import re\n",
    "a = [' 서울중앙지방법원 2018타경8713 ', '1 상가', ' 서울특별시 중구 장충단로 263, 지하2층127호 (을지로6가,밀리오레) [집합건물 철골.철근콘크리트조 3.84㎡] 서울특별시 중구 장충단로 263, 지하2층185호 (을지로6가,밀리오레) [집합건물 철골.철근콘크리트조 3.84㎡] ', ' 일괄매각 ', ' 138,000,000 7,586,000 (5%) ', ' 경매21계 2021.02.16 유찰 13회 ', ' 서울중앙지방법원 2018타경8812 ', '1 임야', ' 서울특별시 관악구 신림동 산28-4 [토지 임야 11035㎡ 갑구 2번 강재식 지분 23084분의 8731.52 전부] ', ' 지분 매각 ', ' 801,405,565 262,604,000 (32%) ', ' 경매3계 2021.01.26 유찰 5회 ']\n",
    "for i in range(len(a)):\n",
    "    if (re.search(r'서울',a[i])) != None :\n",
    "        print(a[i])"
   ]
  },
  {
   "cell_type": "code",
   "execution_count": 27,
   "metadata": {},
   "outputs": [
    {
     "name": "stdout",
     "output_type": "stream",
     "text": [
      "바이\n"
     ]
    }
   ],
   "source": [
    "import re\n",
    "a = [1, ' 서울중앙지방법원 2018타경8713 ', '1 상가', ' 서울특별시 중구 장충단로 263, 지하2층127호 (을지로6가,밀리오레) [집합건물 철골.철근콘크리트조 3.84㎡] 서울특별시 중구 장충단로 263, 지하2층185호 (을지로6가,밀리오레) [집합건물 철골.철근콘크리트조 3.84㎡] ', ' 일괄매각 ', ' 138,000,000 7,586,000 (5%) ', ' 경매21계 2021.02.16 유찰 13회 ',2, ' 서울중앙지방법원 2018타경8812 ', '1 임야', ' 서울특별시 관악구 신림동 산28-4 [토지 임야 11035㎡ 갑구 2번 강재식 지분 23084분의 8731.52 전부] ', ' 지분 매각 ', ' 801,405,565 262,604,000 (32%) ', ' 경매3계 2021.01.26 유찰 5회 ']\n",
    "if re.search(r'서울', '지방') == True:\n",
    "    print('안녕')\n",
    "else :\n",
    "    print('바이')"
   ]
  },
  {
   "cell_type": "code",
   "execution_count": 65,
   "metadata": {},
   "outputs": [
    {
     "name": "stdout",
     "output_type": "stream",
     "text": [
      "['fkg', 'h', 'j']\n"
     ]
    }
   ],
   "source": [
    "a = [['a','b','c'], ['fkg','h','j']]\n",
    "n = 'f'\n",
    "k = []\n",
    "for i in range(len(a)):\n",
    "    if re.search(n, a[i][0]) != None:\n",
    "        k += a[i]\n",
    "print(k)"
   ]
  },
  {
   "cell_type": "code",
   "execution_count": 88,
   "metadata": {},
   "outputs": [
    {
     "name": "stdout",
     "output_type": "stream",
     "text": [
      "a\n",
      "b\n",
      "c\n",
      "d\n"
     ]
    }
   ],
   "source": [
    "a = [{1 : 'a'}, {2:'b'}, {3:'c'}, {4:'d'}]\n",
    "for i in range(len(a)) :\n",
    "    print(a[i][i+1])"
   ]
  },
  {
   "cell_type": "markdown",
   "metadata": {},
   "source": [
    "<form action=\"/your-name/\" method=\"post\">\n",
    "    {% csrf_token %}\n",
    "    {{ form }}\n",
    "</form>    <input type=\"submit\" value=\"Submit\">\n",
    "\n"
   ]
  }
 ],
 "metadata": {
  "kernelspec": {
   "display_name": "Python 3",
   "language": "python",
   "name": "python3"
  },
  "language_info": {
   "codemirror_mode": {
    "name": "ipython",
    "version": 3
   },
   "file_extension": ".py",
   "mimetype": "text/x-python",
   "name": "python",
   "nbconvert_exporter": "python",
   "pygments_lexer": "ipython3",
   "version": "3.6.12"
  }
 },
 "nbformat": 4,
 "nbformat_minor": 4
}
