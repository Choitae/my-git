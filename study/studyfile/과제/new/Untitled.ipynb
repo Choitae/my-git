{
 "cells": [
  {
   "cell_type": "code",
   "execution_count": 8,
   "metadata": {},
   "outputs": [
    {
     "ename": "SyntaxError",
     "evalue": "invalid character in identifier (<ipython-input-8-3778be16d634>, line 3)",
     "output_type": "error",
     "traceback": [
      "\u001b[1;36m  File \u001b[1;32m\"<ipython-input-8-3778be16d634>\"\u001b[1;36m, line \u001b[1;32m3\u001b[0m\n\u001b[1;33m    with open('db.txt.' , 'r', encoding='utf8') as dbf:\u001b[0m\n\u001b[1;37m    ^\u001b[0m\n\u001b[1;31mSyntaxError\u001b[0m\u001b[1;31m:\u001b[0m invalid character in identifier\n"
     ]
    }
   ],
   "source": [
    "\n"
   ]
  },
  {
   "cell_type": "code",
   "execution_count": 2,
   "metadata": {},
   "outputs": [
    {
     "ename": "TypeError",
     "evalue": "write_inf() missing 1 required positional argument: 'self'",
     "output_type": "error",
     "traceback": [
      "\u001b[1;31m---------------------------------------------------------------------------\u001b[0m",
      "\u001b[1;31mTypeError\u001b[0m                                 Traceback (most recent call last)",
      "\u001b[1;32m<ipython-input-2-f7fe27f7ddde>\u001b[0m in \u001b[0;36m<module>\u001b[1;34m\u001b[0m\n\u001b[0;32m     64\u001b[0m         \u001b[0msys\u001b[0m\u001b[1;33m.\u001b[0m\u001b[0mexit\u001b[0m\u001b[1;33m(\u001b[0m\u001b[1;33m)\u001b[0m\u001b[1;33m\u001b[0m\u001b[1;33m\u001b[0m\u001b[0m\n\u001b[0;32m     65\u001b[0m \u001b[0mdic_p\u001b[0m \u001b[1;33m=\u001b[0m \u001b[1;33m{\u001b[0m\u001b[1;33m}\u001b[0m\u001b[1;33m\u001b[0m\u001b[1;33m\u001b[0m\u001b[0m\n\u001b[1;32m---> 66\u001b[1;33m \u001b[0mmenu_1\u001b[0m \u001b[1;33m=\u001b[0m \u001b[1;33m{\u001b[0m \u001b[1;36m1\u001b[0m \u001b[1;33m:\u001b[0m \u001b[0mstudent\u001b[0m\u001b[1;33m.\u001b[0m\u001b[0mwrite_inf\u001b[0m\u001b[1;33m(\u001b[0m\u001b[1;33m)\u001b[0m\u001b[1;33m,\u001b[0m \u001b[1;36m2\u001b[0m \u001b[1;33m:\u001b[0m \u001b[0mstudent\u001b[0m\u001b[1;33m.\u001b[0m\u001b[0msearch_inf\u001b[0m\u001b[1;33m,\u001b[0m \u001b[1;36m3\u001b[0m \u001b[1;33m:\u001b[0m \u001b[0mfile_sr\u001b[0m\u001b[1;33m.\u001b[0m\u001b[0mread_f\u001b[0m\u001b[1;33m,\u001b[0m \u001b[1;36m4\u001b[0m \u001b[1;33m:\u001b[0m \u001b[0mfile_sr\u001b[0m\u001b[1;33m.\u001b[0m\u001b[0msave_f\u001b[0m\u001b[1;33m,\u001b[0m \u001b[1;36m5\u001b[0m \u001b[1;33m:\u001b[0m \u001b[0mout_file\u001b[0m\u001b[1;33m.\u001b[0m\u001b[0mout_file\u001b[0m\u001b[1;33m}\u001b[0m\u001b[1;33m\u001b[0m\u001b[1;33m\u001b[0m\u001b[0m\n\u001b[0m\u001b[0;32m     67\u001b[0m \u001b[0mmenu_s\u001b[0m \u001b[1;33m=\u001b[0m  \u001b[1;33m{\u001b[0m\u001b[1;36m1\u001b[0m \u001b[1;33m:\u001b[0m \u001b[0mstudent\u001b[0m\u001b[1;33m.\u001b[0m\u001b[0msearch_number\u001b[0m\u001b[1;33m,\u001b[0m \u001b[1;36m2\u001b[0m \u001b[1;33m:\u001b[0m \u001b[0mstudent\u001b[0m\u001b[1;33m.\u001b[0m\u001b[0msearch_name\u001b[0m\u001b[1;33m,\u001b[0m \u001b[1;36m3\u001b[0m \u001b[1;33m:\u001b[0m \u001b[0mstudent\u001b[0m\u001b[1;33m.\u001b[0m\u001b[0mchange_f\u001b[0m\u001b[1;33m}\u001b[0m\u001b[1;33m\u001b[0m\u001b[1;33m\u001b[0m\u001b[0m\n\u001b[0;32m     68\u001b[0m \u001b[1;32mwhile\u001b[0m \u001b[1;33m(\u001b[0m\u001b[1;32mTrue\u001b[0m\u001b[1;33m)\u001b[0m\u001b[1;33m:\u001b[0m\u001b[1;33m\u001b[0m\u001b[1;33m\u001b[0m\u001b[0m\n",
      "\u001b[1;31mTypeError\u001b[0m: write_inf() missing 1 required positional argument: 'self'"
     ]
    }
   ],
   "source": [
    "import re\n",
    "import sys\n",
    "\n",
    "class student :\n",
    "    def __init__(self) : \n",
    "        global dic_p\n",
    "        self.ans = True\n",
    "        \n",
    "    def search_inf(self) :\n",
    "        while (ans) : \n",
    "            \n",
    "            choise = int(input(\"1. 검색 선택 (1 번호, 2 이름, 3 이전): ______\"))\n",
    "            menu[choise]\n",
    "        \n",
    "    def change_f(self):\n",
    "        self.ans = False\n",
    "        return self.ans\n",
    "        \n",
    "    def search_name(self) :\n",
    "        name = input(\"이름\")\n",
    "        for i in dic_p:\n",
    "            for j in dic_p[i]:\n",
    "                if j == name:\n",
    "                    print(f'{i} : {dic_p[i][0]},{dic_p[i][1]}세,{dic_p[i][2]} ')\n",
    "                    \n",
    "    def search_number(self):\n",
    "        num = int(input(\"번호 : \"))\n",
    "        print(f'{num} : {dic_p[num][0]},{dic_p[num][1]}세,{dic_p[num][2]} ')\n",
    "    \n",
    "    \n",
    "    \n",
    "    def write_inf(self):\n",
    "        name = input(\"이름\")\n",
    "        m_list = []\n",
    "        length = len(dic_p)+1\n",
    "        age = int(input(\"2. 나이 :\"))\n",
    "        sub = input(\"3. 전공 : \")\n",
    "        ph = int(input(\"4. 전화번호 : \"))\n",
    "        h = input(\"5. 주소 : \")\n",
    "        m_list = [name, age, sub, ph, h]\n",
    "        dic_p.update({length : m_list})\n",
    "        print(f'{name}이 입력되었습니다.')\n",
    "        return dic_p\n",
    "    \n",
    "\n",
    "\n",
    "    \n",
    "class file_sr :\n",
    "    def __init__(self, f):\n",
    "        self.file = f\n",
    "    \n",
    "    def save_f(self, memo) :\n",
    "        with open(self.file, 'a', encoding='utf8') as f:\n",
    "            pickle.dump(memo, f)\n",
    "            f.close()\n",
    "       \n",
    "    def read_f(self, a):\n",
    "        with open(self.file, 'r', encoding = 'utf8') as r:\n",
    "            file_r = r.read()\n",
    "            people = len(file_r)\n",
    "            print(f'db.txt에서 학생 {people}명을 불러왔습니다')\n",
    "                   \n",
    "class out_file :\n",
    "    def out_file(self):\n",
    "        sys.exit()\n",
    "        \n",
    "dic_p = {}\n",
    "menu_1 = { 1 : student.write_inf(), 2 : student.search_inf, 3 : file_sr.read_f, 4 : file_sr.save_f, 5 : out_file.out_file}\n",
    "menu_s =  {1 : student.search_number, 2 : student.search_name, 3 : student.change_f}\n",
    "while (True):\n",
    "    print(\"학생정보 관리.\")\n",
    "    print(f'{len(dic_p)}명의 학생 정보가 있습니다.')\n",
    "    print(\"-\"*30)\n",
    "    print(\"1. 학생정보 입력\\n 2. 학생정보 검색\\n 3. 학생정보 출력\\n 4. 학생정보 저장\\n 5. 종료\")\n",
    "    print(\"-\"*30)\n",
    "    choise = int(input(\"메뉴를 선택하시오:_____\"))\n",
    "    menu_1[choise]\n",
    "    "
   ]
  },
  {
   "cell_type": "code",
   "execution_count": null,
   "metadata": {},
   "outputs": [],
   "source": []
  },
  {
   "cell_type": "code",
   "execution_count": null,
   "metadata": {},
   "outputs": [],
   "source": []
  }
 ],
 "metadata": {
  "kernelspec": {
   "display_name": "Python 3",
   "language": "python",
   "name": "python3"
  },
  "language_info": {
   "codemirror_mode": {
    "name": "ipython",
    "version": 3
   },
   "file_extension": ".py",
   "mimetype": "text/x-python",
   "name": "python",
   "nbconvert_exporter": "python",
   "pygments_lexer": "ipython3",
   "version": "3.6.12"
  }
 },
 "nbformat": 4,
 "nbformat_minor": 4
}
