{
 "cells": [
  {
   "cell_type": "markdown",
   "metadata": {},
   "source": [
    "정규표현식 사용\n",
    "단어별 빈도수를 화면에 출력\n",
    "단어별 빈도수를 파일 result.txt 에 저장."
   ]
  },
  {
   "cell_type": "code",
   "execution_count": 32,
   "metadata": {
    "collapsed": true,
    "jupyter": {
     "outputs_hidden": true
    }
   },
   "outputs": [
    {
     "name": "stdout",
     "output_type": "stream",
     "text": [
      "{'Python': 10, 'conceived': 1, 'the': 13, '1980s': 1, 'by': 2, 'van': 2, 'at': 2, 'Wiskunde': 1, 'CWI': 1, 'Netherlands': 1, 'a': 7, 'to': 6, 'programming': 1, 'which': 2, 'inspired': 1, '35': 1, 'of': 6, 'handling': 1, 'interfacing': 1, 'Amoeba': 1, 'system': 1, 'Its': 1, 'began': 1, 'December': 2, '36': 1, 'Rossum': 4, 'responsibility': 1, 'project': 3, 'lead': 2, 'until': 1, 'July': 1, 'when': 1, 'announced': 1, 'permanent': 1, 'from': 1, 'responsibilities': 1, 's': 2, 'Dictator': 1, 'Life': 1, 'community': 1, 'upon': 1, 'reflect': 1, 'long': 1, 'commitment': 1, 'chief': 1, 'maker': 1, 'He': 1, 'shares': 1, 'leadership': 1, 'member': 2, 'person': 1, 'council': 2, '39': 1, 'In': 1, '2019': 1, 'core': 1, 'elected': 1, 'Cannon': 1, 'Coghlan': 1, 'Warsaw': 1, 'Willing': 1, 'Van': 2, 'Council': 1, 'Guido': 2, 'then': 1, 'his': 5, '2': 4, 'was': 5, 'October': 1, 'with': 2, 'new': 1, 'including': 1, 'detecting': 1, 'collector': 1, 'support': 1, 'Unicode': 1, '3': 4, 'released': 2, 'It': 1, 'revision': 1, 'that': 1, 'not': 1, 'backward': 1, '44': 1, 'its': 1, 'features': 2, '6': 1, '45': 1, '7': 1, 'version': 1, 'Releases': 1, '2to3': 1, 'automates': 1, 'partially': 1, 'code': 1}\n"
     ]
    }
   ],
   "source": [
    "with open('sentence.txt','r',encoding='utf8') as r:\n",
    "    book = r.read()\n",
    "import re\n",
    "\n",
    "w_d = {}\n",
    "word = re.findall(r\"\\w+\", book)\n",
    "\n",
    "for i in word :\n",
    "    cnt = 0\n",
    "    for j in word:\n",
    "        if i == j:\n",
    "            cnt += 1\n",
    "            word.remove(j)\n",
    "    w_d.update({i : cnt})\n",
    "            "
   ]
  },
  {
   "cell_type": "code",
   "execution_count": null,
   "metadata": {},
   "outputs": [],
   "source": []
  }
 ],
 "metadata": {
  "kernelspec": {
   "display_name": "Python 3",
   "language": "python",
   "name": "python3"
  },
  "language_info": {
   "codemirror_mode": {
    "name": "ipython",
    "version": 3
   },
   "file_extension": ".py",
   "mimetype": "text/x-python",
   "name": "python",
   "nbconvert_exporter": "python",
   "pygments_lexer": "ipython3",
   "version": "3.6.12"
  }
 },
 "nbformat": 4,
 "nbformat_minor": 4
}
