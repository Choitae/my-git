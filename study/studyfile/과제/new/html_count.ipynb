{
 "cells": [
  {
   "cell_type": "markdown",
   "metadata": {},
   "source": [
    "#### 실습: html 파일을 받아 문자 개수를 출력하는 프로그램을 작성하자. \n",
    "\n",
    "html 파일에서 순수한 텍스트의 글자수를 출력하도록 작성한다.\n",
    "\n",
    "- 프로그램명: html_count.py\n",
    "- 입력파일: 1개 이상의 html 파일\n",
    "    - naver.com 의 news, sports\n",
    "- html tag 제거,\n",
    "- 결과를 텍스트 result.txt에 저장하고 화면에도 출력.\n",
    "    - 결과를 result.txt 에 아래 같이 저장\n",
    "    \n",
    "        ```\n",
    "        news.html html = 211319, text = 76413, nospace = 4609\n",
    "        test.html html = 2124, text = 67, nospace = 123\n",
    "        ```\n",
    "\n",
    "예)\n",
    "\n",
    "```terminal\n",
    "$ python html_count.py news.html it.html\n",
    "```"
   ]
  },
  {
   "cell_type": "markdown",
   "metadata": {},
   "source": [
    "### 파일 준비하기"
   ]
  },
  {
   "cell_type": "code",
   "execution_count": 72,
   "metadata": {},
   "outputs": [
    {
     "name": "stdin",
     "output_type": "stream",
     "text": [
      "1. 파일입력, 그외. 종료 :  1\n",
      "파일명을 입력 :  naversport.html\n",
      "1. 파일입력, 그외. 종료 :  2\n"
     ]
    }
   ],
   "source": [
    "import sys\n",
    "\n",
    "if len(sys.argv) <2:\n",
    "    return\n",
    "f1_name = argv[1] #file 1 #띄어쓰기가 공백\n",
    "f2_name = argv[2] #file 2\n",
    "if option == '-w' : #x는 파일 자체를 새로 만드는 것, w는 파일 내용을 지우고 만드는 것 #a는 추가하기.\n",
    "    memo = sys.argv[2] ## 입력하기\n",
    "    f = open('memo.txt', 'w') \n",
    "    f.write(memo)\n",
    "    f.write('\\n')\n",
    "    f.close()\n",
    "    \n",
    "elif option == '-v':\n",
    "    f = open('memo.txt')\n",
    "    memo = f.read()\n",
    "    f.close()\n",
    "    print(memo)\n",
    "\n",
    "\n",
    "\n",
    "\n",
    "while (True) : \n",
    "    num = int(input(\"1. 파일입력, 그외. 종료 : \"))\n",
    "    if num == 1 :\n",
    "        import re\n",
    "        file = open('result.txt', 'a', encoding='utf8')\n",
    "        checkFile = input(\"파일명을 입력 : \")\n",
    "        with open(checkFile, encoding='utf8') as f:\n",
    "            html = f.read()\n",
    "        l_h = len(html)\n",
    "        text = re.sub('<.+?>', '', html, 0, re.I|re.S)\n",
    "        l_t = len(text)\n",
    "        nospace = re.sub('&nbsp;| |\\t|\\r|\\n', '', text)\n",
    "        l_n = len(nospace)\n",
    "        file.write(f'new.html html = {l_h}, text = {l_t}, nospace = {l_n}')\n",
    "        file.close()\n",
    "    else : \n",
    "        break"
   ]
  },
  {
   "cell_type": "code",
   "execution_count": 60,
   "metadata": {},
   "outputs": [],
   "source": [
    "import sys\n",
    "\n",
    "if len(argv) <2:\n",
    "    return\n",
    "f1_name = argv[1] #file 1\n",
    "f2_name = argv[2] #file 2"
   ]
  },
  {
   "cell_type": "code",
   "execution_count": 61,
   "metadata": {},
   "outputs": [],
   "source": []
  },
  {
   "cell_type": "code",
   "execution_count": 62,
   "metadata": {},
   "outputs": [],
   "source": []
  },
  {
   "cell_type": "code",
   "execution_count": 63,
   "metadata": {},
   "outputs": [],
   "source": []
  },
  {
   "cell_type": "code",
   "execution_count": 65,
   "metadata": {},
   "outputs": [],
   "source": []
  },
  {
   "cell_type": "code",
   "execution_count": null,
   "metadata": {},
   "outputs": [],
   "source": []
  },
  {
   "cell_type": "code",
   "execution_count": null,
   "metadata": {},
   "outputs": [],
   "source": []
  },
  {
   "cell_type": "code",
   "execution_count": null,
   "metadata": {},
   "outputs": [],
   "source": []
  },
  {
   "cell_type": "code",
   "execution_count": null,
   "metadata": {},
   "outputs": [],
   "source": []
  },
  {
   "cell_type": "code",
   "execution_count": null,
   "metadata": {},
   "outputs": [],
   "source": []
  },
  {
   "cell_type": "code",
   "execution_count": null,
   "metadata": {},
   "outputs": [],
   "source": []
  },
  {
   "cell_type": "code",
   "execution_count": null,
   "metadata": {},
   "outputs": [],
   "source": []
  },
  {
   "cell_type": "code",
   "execution_count": null,
   "metadata": {},
   "outputs": [],
   "source": []
  },
  {
   "cell_type": "code",
   "execution_count": null,
   "metadata": {},
   "outputs": [],
   "source": []
  },
  {
   "cell_type": "code",
   "execution_count": null,
   "metadata": {},
   "outputs": [],
   "source": []
  },
  {
   "cell_type": "code",
   "execution_count": 39,
   "metadata": {},
   "outputs": [],
   "source": [
    "file.close()"
   ]
  },
  {
   "cell_type": "code",
   "execution_count": null,
   "metadata": {},
   "outputs": [],
   "source": []
  },
  {
   "cell_type": "code",
   "execution_count": null,
   "metadata": {},
   "outputs": [],
   "source": []
  }
 ],
 "metadata": {
  "kernelspec": {
   "display_name": "Python 3",
   "language": "python",
   "name": "python3"
  },
  "language_info": {
   "codemirror_mode": {
    "name": "ipython",
    "version": 3
   },
   "file_extension": ".py",
   "mimetype": "text/x-python",
   "name": "python",
   "nbconvert_exporter": "python",
   "pygments_lexer": "ipython3",
   "version": "3.6.12"
  }
 },
 "nbformat": 4,
 "nbformat_minor": 4
}
