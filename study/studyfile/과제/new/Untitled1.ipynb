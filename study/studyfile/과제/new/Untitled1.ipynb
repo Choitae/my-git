{
 "cells": [
  {
   "cell_type": "code",
   "execution_count": null,
   "metadata": {},
   "outputs": [],
   "source": [
    "import re\n",
    "import pickle\n",
    "\n",
    "'''\n",
    "학생 정보를 입력받아 저장하는 프로그램을 작성한다.\n",
    "\n",
    "이름, 나이, 전화번호\n",
    "주소\n",
    "전공\n",
    "\n",
    "\n",
    "번호, 이름, 나이, 전공, 전화번호, 주소\n",
    "-----------------------------------\n",
    "1, 홍길동, 20, 컴퓨터공학, 010-223-4444, 서울시 강동구 풍납동\n",
    "2, 홍, 20, 컴퓨터공학, 010-223-4444, 서울시 강동구 풍납동\n",
    "\n",
    "\n",
    "메모리: Dict 형태로 List로 운영\n",
    "(update({:}))\n",
    "'''\n",
    "\n",
    "\n",
    "\n",
    "\n",
    "\n",
    "'''\n",
    "[main]\n",
    "학생정보 관리. 메뉴를 선택하시오:________\n",
    " [ 0명이 학생 정보가 있습니다]\n",
    "------------------------------\n",
    "1. 학생정보 입력\n",
    "2. 학생정보 검색\n",
    "3. 학생정보 출력\n",
    "4. 학생정보 저장\n",
    "5. 종료\n",
    "'''\n",
    "\n",
    "\n",
    "\n",
    "\n",
    "\n",
    "'''\n",
    "[학생정보 입력 화면]\n",
    "\n",
    "학생정보 관리. 메뉴를 선택하시오: 1\n",
    " [ 0명이 학생 정보가 있습니다]\n",
    "------------------------------\n",
    "1. 학생정보 입력\n",
    "2. 학생정보 검색\n",
    "3. 학생정보 출력\n",
    "4. 학생정보 저장\n",
    "5. 종료\n",
    "'''\n",
    "\n",
    "\n",
    "\n",
    "\n",
    "'''\n",
    "메뉴1번을 선택해 입력한다. 학생번호를 자동으로 입력된다.\n",
    "\n",
    "학생정보 관리. 메뉴를 선택하시오: 1\n",
    "------------------------------\n",
    "1. 이름: 홍길동\n",
    "2. 나이:\n",
    "3. 전공:\n",
    "4. 전화번호:            ('-'를 붙여서)\n",
    "5. 주소: 서울시 성동구 \n",
    "------------------------------\n",
    "'홍길동' 입력되었습니다.\n",
    "'''\n",
    "\n",
    "def write_inf(n, num, sub, ph, h):\n",
    "       m_list = []\n",
    "       n = input(\"1.이름 : \")\n",
    "       num = int(input(\"2. 번호 : \")\n",
    "       sub = input(\"3. 전공 : \")\n",
    "       ph = input(\"4. 전화번호 : \")\n",
    "       h = input(\"5. 주소 : \")\n",
    "       dic_p = { }       \n",
    "       m_list = [num, sub, ph, h]\n",
    "       dic_p.update({n : m_list})\n",
    "       print(f'{n}이  입력되었습니다.')\n",
    "       return dic_p\n",
    "\n",
    "\n",
    "\n",
    "\n",
    "'''\n",
    "\n",
    "입력후 메인 화면으로 돌아오면 학생목록에서 학생 명수를 출력한다.\n",
    "\n",
    "[검색]\n",
    "검색 메뉴를 선택하시오:  \n",
    "------------------------------\n",
    "1. 검색 선택 (1 번호, 2 이름, 3 이전): ______\n",
    "\n",
    "------------------------------\n",
    "\n",
    "[번호 검색]\n",
    "학생번호를 입력하시오: 20\n",
    "20: 홍이순 23세 컴퓨터공학 \n",
    "------------------------------\n",
    ">>> 검색 선택 (1 번호, 2 이름, 3 이전): 3\n",
    "\n",
    "[저장]\n",
    "\n",
    "파일 작업 메뉴를 선택하시오:  \n",
    "------------------------------\n",
    "1. 파일 작업 선택 (1 저장, 2 불러오기, 3 이전): 1\n",
    " [10명이 학생 정보를 파일 db.txt 에 저장했습니다.]\n",
    " '''\n",
    "def save_f(*args) :\n",
    "       with open('db.txt.' , 'a', encoding='utf8') as f:\n",
    "                pickle.dump(dic_p, f)\n",
    "                f.close()\n",
    "\n",
    "\n",
    "\n",
    "\n",
    "\n",
    "\n",
    "\n",
    "\n",
    "'''\n",
    "\n",
    "\n",
    "[읽기]\n",
    "파일 작업 메뉴를 선택하시오:  \n",
    "------------------------------\n",
    "1. 파일 작업 선택 (1 저장, 2 불러오기, 3 이전): 2\n",
    " [db.txt 에서 학생 10명을 불러 왔습니다.]\n",
    "------------------------------\n",
    "'''\n",
    "def read_f(*args) :\n",
    "       with open('db.txt.' , 'r', encoding='utf8') as r:\n",
    "             file_r = r.read()\n",
    "             people = len(file_r)\n",
    "             print(f'db.txt에서 학생 {people}명을 불러왔습니다')\n",
    "             f.close()\n",
    "\n",
    "\n",
    "                 \n",
    "                 "
   ]
  },
  {
   "cell_type": "code",
   "execution_count": 16,
   "metadata": {},
   "outputs": [],
   "source": [
    "def read_f(f):\n",
    "    with open(f, 'r', encoding = 'utf8') as r:\n",
    "        file_r = r.read()\n",
    "        people = len(file_r)\n",
    "        print(f'db.txt에서 학생 {people}명을 불러왔습니다')\n",
    "    "
   ]
  },
  {
   "cell_type": "code",
   "execution_count": 19,
   "metadata": {},
   "outputs": [
    {
     "ename": "SyntaxError",
     "evalue": "invalid character in identifier (<ipython-input-19-bd8213c4f2c3>, line 2)",
     "output_type": "error",
     "traceback": [
      "\u001b[1;36m  File \u001b[1;32m\"<ipython-input-19-bd8213c4f2c3>\"\u001b[1;36m, line \u001b[1;32m2\u001b[0m\n\u001b[1;33m    with open('db.txt.' , 'a', encoding='utf8') as f:\u001b[0m\n\u001b[1;37m    ^\u001b[0m\n\u001b[1;31mSyntaxError\u001b[0m\u001b[1;31m:\u001b[0m invalid character in identifier\n"
     ]
    }
   ],
   "source": [
    "def save_f(*args):\n",
    "    with open('db.txt.' , 'a', encoding='utf8') as f:\n",
    "                pickle.dump(dic_p, f)\n",
    "                f.close()\n"
   ]
  },
  {
   "cell_type": "code",
   "execution_count": 20,
   "metadata": {},
   "outputs": [],
   "source": [
    "def sav_f(f) :\n",
    "    with open(f, 'a', encoding='utf8') as f:\n",
    "        pickle.dump(dic_p, f)\n",
    "        f.close()\n",
    "    "
   ]
  },
  {
   "cell_type": "code",
   "execution_count": null,
   "metadata": {},
   "outputs": [],
   "source": [
    "num = \"\"\n",
    "num = int(input(\"2. 번호 : \"))\n",
    "print(num)\n",
    "type(num)"
   ]
  },
  {
   "cell_type": "code",
   "execution_count": 7,
   "metadata": {},
   "outputs": [
    {
     "name": "stdin",
     "output_type": "stream",
     "text": [
      "1.이름 :  태현\n",
      "3. 전공 :  전공\n",
      "4. 전화번호 :  234\n",
      "5. 주소 :  서울\n"
     ]
    },
    {
     "name": "stdout",
     "output_type": "stream",
     "text": [
      "태현이  입력되었습니다.\n",
      "{1: ['태현', '전공', '234', '서울']}\n"
     ]
    }
   ],
   "source": [
    "m_list = []\n",
    "dic_p = {}\n",
    "length = len(dic_p) + 1\n",
    "n = input(\"1.이름 : \")\n",
    "sub = input(\"3. 전공 : \")\n",
    "ph = input(\"4. 전화번호 : \")\n",
    "h = input(\"5. 주소 : \")\n",
    "m_list = [n, sub, ph, h]\n",
    "dic_p.update({length : m_list})\n",
    "print(f'{n}이  입력되었습니다.')\n",
    "print(dic_p)"
   ]
  },
  {
   "cell_type": "code",
   "execution_count": 9,
   "metadata": {},
   "outputs": [
    {
     "name": "stdin",
     "output_type": "stream",
     "text": [
      "1.이름 :  민호\n",
      "3. 전공 :  탱ㅋ\n",
      "4. 전화번호 :  766\n",
      "5. 주소 :  강원도\n"
     ]
    },
    {
     "name": "stdout",
     "output_type": "stream",
     "text": [
      "민호이  입력되었습니다.\n",
      "{1: ['민호', '탱ㅋ', '766', '강원도']}\n"
     ]
    }
   ],
   "source": [
    "\n",
    "m_list = []\n",
    "length = len(dic_p) + 1\n",
    "n = input(\"1.이름 : \")\n",
    "sub = input(\"3. 전공 : \")\n",
    "ph = input(\"4. 전화번호 : \")\n",
    "h = input(\"5. 주소 : \")\n",
    "m_list = [n, sub, ph, h]\n",
    "dic_p.update({length : m_list})\n",
    "print(f'{n}이  입력되었습니다.')\n",
    "print(dic_p)"
   ]
  },
  {
   "cell_type": "code",
   "execution_count": 10,
   "metadata": {},
   "outputs": [
    {
     "name": "stdin",
     "output_type": "stream",
     "text": [
      "1.이름 :  현우\n",
      "3. 전공 :  공중\n",
      "4. 전화번호 :  644\n",
      "5. 주소 :  공중\n"
     ]
    },
    {
     "name": "stdout",
     "output_type": "stream",
     "text": [
      "현우이  입력되었습니다.\n",
      "{1: ['민호', '탱ㅋ', '766', '강원도'], 2: ['현우', '공중', '644', '공중']}\n"
     ]
    }
   ],
   "source": [
    "m_list = []\n",
    "length = len(dic_p) + 1\n",
    "n = input(\"1.이름 : \")\n",
    "sub = input(\"3. 전공 : \")\n",
    "ph = input(\"4. 전화번호 : \")\n",
    "h = input(\"5. 주소 : \")\n",
    "m_list = [n, sub, ph, h]\n",
    "dic_p.update({length : m_list})\n",
    "print(f'{n}이  입력되었습니다.')\n",
    "print(dic_p)"
   ]
  },
  {
   "cell_type": "code",
   "execution_count": 21,
   "metadata": {},
   "outputs": [
    {
     "name": "stdin",
     "output_type": "stream",
     "text": [
      "이름 민호\n"
     ]
    },
    {
     "name": "stdout",
     "output_type": "stream",
     "text": [
      "1 : ['민호', '탱ㅋ', '766', '강원도']\n"
     ]
    }
   ],
   "source": [
    "name = input(\"이름\")\n",
    "for i in dic_p:\n",
    "    for j in dic_p[i]:\n",
    "        if j == name:\n",
    "            print(f'{i} : {dic_p[i]}')"
   ]
  },
  {
   "cell_type": "code",
   "execution_count": 25,
   "metadata": {},
   "outputs": [
    {
     "data": {
      "text/plain": [
       "'탱ㅋ'"
      ]
     },
     "execution_count": 25,
     "metadata": {},
     "output_type": "execute_result"
    }
   ],
   "source": [
    "dic_p[1][1]"
   ]
  },
  {
   "cell_type": "code",
   "execution_count": 27,
   "metadata": {},
   "outputs": [
    {
     "data": {
      "text/plain": [
       "['민호', '탱ㅋ', '766', '강원도']"
      ]
     },
     "execution_count": 27,
     "metadata": {},
     "output_type": "execute_result"
    }
   ],
   "source": [
    "dic_p[1]"
   ]
  },
  {
   "cell_type": "code",
   "execution_count": 48,
   "metadata": {},
   "outputs": [
    {
     "name": "stdin",
     "output_type": "stream",
     "text": [
      "1. 검색 선택 (1 번호, 2 이름, 3 이전): ______ 3\n"
     ]
    },
    {
     "name": "stdout",
     "output_type": "stream",
     "text": [
      "3\n"
     ]
    },
    {
     "data": {
      "text/plain": [
       "False"
      ]
     },
     "execution_count": 48,
     "metadata": {},
     "output_type": "execute_result"
    }
   ],
   "source": [
    "def chan (a):\n",
    "    a = False\n",
    "    return a\n",
    "\n",
    "ans = True\n",
    "menu_s = { 1 : 'a', '2' : 'b', 3 : chan(ans)}\n",
    "choise = int(input(\"1. 검색 선택 (1 번호, 2 이름, 3 이전): ______\"))\n",
    "print(choise)\n",
    "menu_s[choise]\n",
    "             \n"
   ]
  },
  {
   "cell_type": "code",
   "execution_count": 9,
   "metadata": {},
   "outputs": [
    {
     "name": "stdout",
     "output_type": "stream",
     "text": [
      "********************\n"
     ]
    }
   ],
   "source": [
    "print('*'*20)"
   ]
  },
  {
   "cell_type": "code",
   "execution_count": 8,
   "metadata": {},
   "outputs": [
    {
     "name": "stdout",
     "output_type": "stream",
     "text": [
      "메뉴\n",
      "********************\n",
      "1\n"
     ]
    }
   ],
   "source": [
    "print(f'메뉴\\n{\"*\"*20}\\n1')"
   ]
  },
  {
   "cell_type": "code",
   "execution_count": 11,
   "metadata": {},
   "outputs": [
    {
     "name": "stdout",
     "output_type": "stream",
     "text": [
      "[링크](https://www.naver.com/) and [링크](https://windorsky.tistory.com/entry/Python-%EC%A0%95%EA%B7%9C-%ED%91%9C%ED%98%84%EC%8B%9D)\n"
     ]
    }
   ],
   "source": [
    "import re\n",
    "print(re.sub('https?://\\S+', '[링크](\\g<0>)', 'https://www.naver.com/ and https://windorsky.tistory.com/entry/Python-%EC%A0%95%EA%B7%9C-%ED%91%9C%ED%98%84%EC%8B%9D'))\n"
   ]
  },
  {
   "cell_type": "code",
   "execution_count": null,
   "metadata": {},
   "outputs": [],
   "source": []
  }
 ],
 "metadata": {
  "kernelspec": {
   "display_name": "Python 3",
   "language": "python",
   "name": "python3"
  },
  "language_info": {
   "codemirror_mode": {
    "name": "ipython",
    "version": 3
   },
   "file_extension": ".py",
   "mimetype": "text/x-python",
   "name": "python",
   "nbconvert_exporter": "python",
   "pygments_lexer": "ipython3",
   "version": "3.6.12"
  }
 },
 "nbformat": 4,
 "nbformat_minor": 4
}
