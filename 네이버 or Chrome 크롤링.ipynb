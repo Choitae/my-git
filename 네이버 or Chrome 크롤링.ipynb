{
 "cells": [
  {
   "cell_type": "markdown",
   "id": "every-fellow",
   "metadata": {},
   "source": [
    "## 크롤링 참조 사이트 --> https://blog.naver.com/fkdldjs60/222161730266\n",
    "\n",
    "\n",
    "\n",
    "\n",
    "\n"
   ]
  },
  {
   "cell_type": "code",
   "execution_count": null,
   "id": "completed-costa",
   "metadata": {},
   "outputs": [],
   "source": []
  },
  {
   "cell_type": "code",
   "execution_count": null,
   "id": "instructional-satellite",
   "metadata": {},
   "outputs": [],
   "source": []
  },
  {
   "cell_type": "markdown",
   "id": "remarkable-elephant",
   "metadata": {},
   "source": [
    "# GPU로 돌리기 ( GPU 돌리기 설정 마치고 사용)"
   ]
  },
  {
   "cell_type": "code",
   "execution_count": null,
   "id": "lonely-inspector",
   "metadata": {},
   "outputs": [],
   "source": [
    "import tensorflow as tf\n",
    "\n",
    "gpus = tf.config.experimental.list_physical_devices('GPU')\n",
    "if gpus:\n",
    "    try:\n",
    "# Currently, memory growth needs to be the same across GPUs\n",
    "        for gpu in gpus:\n",
    "            tf.config.experimental.set_memory_growth(gpu, True)\n",
    "        logical_gpus = tf.config.experimental.list_logical_devices('GPU')\n",
    "        print(len(gpus), \"Physical GPUs,\", len(logical_gpus), \"Logical GPUs\")\n",
    "    except RuntimeError as e:\n",
    "# Memory growth must be set before GPUs have been initialized\n",
    "        print(e)"
   ]
  },
  {
   "cell_type": "markdown",
   "id": "hearing-today",
   "metadata": {},
   "source": [
    "# 네이버"
   ]
  },
  {
   "cell_type": "code",
   "execution_count": null,
   "id": "liquid-niger",
   "metadata": {},
   "outputs": [],
   "source": [
    "#naver \n",
    "\n",
    "from urllib.request import urlopen\n",
    "from urllib.request import urlretrieve\n",
    "from urllib.parse import quote_plus\n",
    "from bs4 import BeautifulSoup\n",
    "from selenium import webdriver\n",
    "import time\n",
    "import os\n",
    "import urllib\n",
    "search = input(\"\")\n",
    "#search 폴더 생성하기\n",
    "os.mkdir(search)\n",
    "#폴더 위치 경로 생성하기\n",
    "place = \"./\" + search + \"/\"\n",
    "url  = f'https://search.naver.com/search.naver?where=image&sm=tab_jum&query={quote_plus(search)}'\n",
    "# webdriver로 url 이용하여 Chrome 오픈하기\n",
    "driver = webdriver.Chrome()\n",
    "driver.get(url)\n",
    "# 결과 더 보기 버튼 누르기\n",
    "#스크롤 : 더 많은 사진 얻기위함\n",
    "\n",
    "#브라우저의 높이를 Javascript로 찾아서 last_height으로 설정해준다\n",
    "last_height = driver.execute_script(\"return document.body.scrollHeight\")\n",
    "while True :\n",
    "    #화면 가장 아래로 스크롤 내리기\n",
    "    driver.execute_script(\"window.scrollTo(0, document.body.scrollHeight);\")\n",
    "    time.sleep(1)\n",
    "    new_height = driver.execute_script(\"return document.body.scrollHeight\")\n",
    "\n",
    "    if new_height == last_height :\n",
    "        try : \n",
    "            driver.find_element_by_css_selector(\".mye4qd\").click()\n",
    "        except : \n",
    "            break\n",
    "    last_height = new_height\n",
    "    \n",
    "\n",
    "# webdriver의 source 받아 image source 찾기\n",
    "html = driver.page_source\n",
    "soup = BeautifulSoup(html)\n",
    "print(type(soup))\n",
    "img = soup.find_all(\"img\", class_=\"_image _listImage\")\n",
    "k = 1\n",
    "driver.close()\n",
    "for im in img :\n",
    "    down_img_url = im.attrs[\"src\"]\n",
    "    if down_img_url == \"data:image/gif;base64,R0lGODlhAQABAIAAAAAAAP///yH5BAEAAAAALAAAAAABAAEAAAIBRAA7\":\n",
    "        down_img_url = im.attrs[\"data-lazy-src\"]\n",
    "    urllib.request.urlretrieve(down_img_url, place + \"{}.jpg\".format(k))\n",
    "    k +=1"
   ]
  },
  {
   "cell_type": "markdown",
   "id": "amber-decade",
   "metadata": {},
   "source": [
    "# 크롬"
   ]
  },
  {
   "cell_type": "code",
   "execution_count": null,
   "id": "union-berlin",
   "metadata": {},
   "outputs": [],
   "source": [
    "# Chrome \n",
    "from urllib.request import urlopen\n",
    "from urllib.request import urlretrieve\n",
    "from urllib.parse import quote_plus\n",
    "from bs4 import BeautifulSoup\n",
    "from selenium import webdriver\n",
    "import time\n",
    "import os\n",
    "import urllib\n",
    "search = input(\"\")\n",
    "#search 폴더 생성하기\n",
    "os.mkdir(search)\n",
    "#폴더 위치 경로 생성하기\n",
    "place = \"./\" + search + \"/\"\n",
    "url  = f'https://www.google.com/search?q={quote_plus(search)}&sxsrf=ALeKk035ItLMK8j4bCZLqnPs9yQM7G__JA:1614325124007&source=lnms&tbm=isch&sa=X&ved=2ahUKEwiS2cXchYfvAhXTP3AKHd3VC-0Q_AUoAXoECBAQAw&biw=2053&bih=1024'\n",
    "# webdriver로 url 이용하여 Chrome 오픈하기\n",
    "driver = webdriver.Chrome()\n",
    "driver.get(url)\n",
    "# 결과 더 보기 버튼 누르기\n",
    "#스크롤 : 더 많은 사진 얻기위함\n",
    "\n",
    "#브라우저의 높이를 Javascript로 찾아서 last_height으로 설정해준다\n",
    "last_height = driver.execute_script(\"return document.body.scrollHeight\")\n",
    "while True :\n",
    "    #화면 가장 아래로 스크롤 내리기\n",
    "    driver.execute_script(\"window.scrollTo(0, document.body.scrollHeight);\")\n",
    "    time.sleep(1)\n",
    "    new_height = driver.execute_script(\"return document.body.scrollHeight\")\n",
    "\n",
    "    if new_height == last_height :\n",
    "        try : \n",
    "            driver.find_element_by_css_selector(\".mye4qd\").click()\n",
    "        except : \n",
    "            break\n",
    "    last_height = new_height\n",
    "\n",
    "\n",
    "# webdriver의 source 받아 image source 찾기\n",
    "html = driver.page_source\n",
    "soup = BeautifulSoup(html)\n",
    "img = soup.select(\".rg_i.Q4LuWd\")\n",
    "driver.close()\n",
    "k = 1\n",
    "for im in img : \n",
    "    try : \n",
    "        down_img_url = im.attrs[\"src\"]\n",
    "        urllib.request.urlretrieve(down_img_url, place + \"{}.jpg\".format(k))\n",
    "        k +=1\n",
    "        \n",
    "    except : \n",
    "        down_img_url = im.attrs[\"data-src\"]\n",
    "        urllib.request.urlretrieve(down_img_url, place + \"{}.jpg\".format(k))\n",
    "        k +=1"
   ]
  },
  {
   "cell_type": "code",
   "execution_count": null,
   "id": "exempt-daughter",
   "metadata": {},
   "outputs": [],
   "source": []
  },
  {
   "cell_type": "code",
   "execution_count": null,
   "id": "sitting-lease",
   "metadata": {},
   "outputs": [],
   "source": []
  }
 ],
 "metadata": {
  "kernelspec": {
   "display_name": "Python 3",
   "language": "python",
   "name": "python3"
  },
  "language_info": {
   "codemirror_mode": {
    "name": "ipython",
    "version": 3
   },
   "file_extension": ".py",
   "mimetype": "text/x-python",
   "name": "python",
   "nbconvert_exporter": "python",
   "pygments_lexer": "ipython3",
   "version": "3.6.12"
  }
 },
 "nbformat": 4,
 "nbformat_minor": 5
}